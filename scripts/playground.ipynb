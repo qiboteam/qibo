{
 "cells": [
  {
   "cell_type": "code",
   "id": "ed697cdf",
   "metadata": {
    "ExecuteTime": {
     "end_time": "2025-06-30T14:16:42.504441Z",
     "start_time": "2025-06-30T14:16:41.539299Z"
    }
   },
   "source": [
    "from qibo import set_backend, get_backend\n",
    "from qibo.backends import Modality\n",
    "from qibo.gates import PS, BS, H\n",
    "from qibo.models import Circuit\n",
    "import numpy as np"
   ],
   "outputs": [],
   "execution_count": 1
  },
  {
   "cell_type": "code",
   "id": "107e6780",
   "metadata": {
    "ExecuteTime": {
     "end_time": "2025-06-30T14:16:43.042382Z",
     "start_time": "2025-06-30T14:16:42.510792Z"
    }
   },
   "source": "set_backend(\"loqc\")",
   "outputs": [
    {
     "name": "stderr",
     "output_type": "stream",
     "text": [
      "[Qibo 0.2.19|INFO|2025-06-30 16:16:43]: Using LOQC strong simulation backend on /CPU:0\n"
     ]
    }
   ],
   "execution_count": 2
  },
  {
   "cell_type": "code",
   "id": "3f931e08",
   "metadata": {
    "ExecuteTime": {
     "end_time": "2025-06-30T14:16:43.455276Z",
     "start_time": "2025-06-30T14:16:43.450564Z"
    }
   },
   "source": [
    "backend = get_backend()\n",
    "print(backend.versions, backend.modality)"
   ],
   "outputs": [
    {
     "name": "stdout",
     "output_type": "stream",
     "text": [
      "{'qibo': '0.2.19', 'perceval': '0.13.0'} Modality.PHOTONIC_CV\n"
     ]
    }
   ],
   "execution_count": 3
  },
  {
   "cell_type": "code",
   "id": "7342e8df",
   "metadata": {
    "ExecuteTime": {
     "end_time": "2025-06-30T14:16:43.470232Z",
     "start_time": "2025-06-30T14:16:43.463435Z"
    }
   },
   "source": [
    "# Retrieve matrix for parametrized gates\n",
    "bs1 = BS(0, 1, np.pi/2)\n",
    "print(\"theta=pi/2\", bs1.matrix())\n",
    "print(bs1.photonic_component.compute_unitary())\n",
    "\n",
    "bs1.parameters = [0.4]\n",
    "print(\"theta=0.4\", bs1.matrix())\n",
    "print(bs1.photonic_component.compute_unitary())\n",
    "\n",
    "# Through the backend too\n",
    "print(\"Phase shifter, phi=0.3\", backend.matrix(PS(0, 0.3)))"
   ],
   "outputs": [
    {
     "name": "stdout",
     "output_type": "stream",
     "text": [
      "theta=pi/2 [[0.70710678+0.j         0.        -0.70710678j]\n",
      " [0.        -0.70710678j 0.70710678+0.j        ]]\n",
      "[[0.70710678+0.j         0.        +0.70710678j]\n",
      " [0.        +0.70710678j 0.70710678+0.j        ]]\n",
      "theta=0.4 [[0.98006658+0.j         0.        -0.19866933j]\n",
      " [0.        -0.19866933j 0.98006658+0.j        ]]\n",
      "[[0.98006658+0.j         0.        +0.19866933j]\n",
      " [0.        +0.19866933j 0.98006658+0.j        ]]\n",
      "Phase shifter, phi=0.3 [-0.41614684+0.90929743j]\n"
     ]
    }
   ],
   "execution_count": 4
  },
  {
   "cell_type": "code",
   "id": "28dfa5c1",
   "metadata": {
    "ExecuteTime": {
     "end_time": "2025-06-30T14:16:43.483826Z",
     "start_time": "2025-06-30T14:16:43.479508Z"
    }
   },
   "source": [
    "# Create a photonic circuit\n",
    "\n",
    "pc = Circuit(3, modality=Modality.PHOTONIC)\n",
    "pc.add(H(0))\n",
    "pc.add(PS(0, 0.3, trainable=True))\n",
    "pc.add(BS(0, 2))\n",
    "pc.add(BS(1, 2))\n",
    "pc.add(PS(2, 0.8, trainable=False))\n",
    "pc.add(BS(1, 2))\n"
   ],
   "outputs": [],
   "execution_count": 5
  },
  {
   "cell_type": "code",
   "id": "45900543",
   "metadata": {
    "ExecuteTime": {
     "end_time": "2025-06-30T14:16:43.508948Z",
     "start_time": "2025-06-30T14:16:43.503128Z"
    }
   },
   "source": [
    "print(pc.summary())\n",
    "print()\n",
    "print(pc.diagram())"
   ],
   "outputs": [
    {
     "name": "stdout",
     "output_type": "stream",
     "text": [
      "Circuit depth = 6\n",
      "Total number of gates = 6\n",
      "Number of modes = 3\n",
      "Most common gates:\n",
      "Beam splitter: 3\n",
      "Phase shifter: 2\n",
      "h: 1\n",
      "\n",
      "0: ─H─PS─X────────\n",
      "1: ──────|─X────X─\n",
      "2: ──────X─X─PS─X─\n"
     ]
    }
   ],
   "execution_count": 6
  },
  {
   "cell_type": "code",
   "id": "69e98485",
   "metadata": {
    "ExecuteTime": {
     "end_time": "2025-06-30T14:16:43.611185Z",
     "start_time": "2025-06-30T14:16:43.590177Z"
    }
   },
   "source": [
    "print(pc.to_pcvl())"
   ],
   "outputs": [
    {
     "name": "stdout",
     "output_type": "stream",
     "text": [
      "pcvl.Experiment(3)\\\n",
      "    .add((0, 1), BS.H())\\\n",
      "    .add((0,), PS(0.3))\\\n",
      "    .add((0, 2), BS(1.5707963267948966))\\\n",
      "    .add((1, 2), BS(1.5707963267948966))\\\n",
      "    .add((2,), PS(0.8))\\\n",
      "    .add((1, 2), BS(1.5707963267948966))\n"
     ]
    }
   ],
   "execution_count": 7
  },
  {
   "cell_type": "code",
   "id": "d9207ff4",
   "metadata": {
    "ExecuteTime": {
     "end_time": "2025-06-30T14:16:43.637014Z",
     "start_time": "2025-06-30T14:16:43.621759Z"
    }
   },
   "source": [
    "# circuit simulation\n",
    "params = [0.]\n",
    "res = pc(initial_state=(1, 0, 1), nshots=100)\n",
    "print(res)"
   ],
   "outputs": [
    {
     "name": "stdout",
     "output_type": "stream",
     "text": [
      "MeasurementResult(qubits=3, nshots=100)\n"
     ]
    }
   ],
   "execution_count": 8
  },
  {
   "cell_type": "code",
   "id": "d92b37c4",
   "metadata": {
    "ExecuteTime": {
     "end_time": "2025-06-30T14:16:43.679822Z",
     "start_time": "2025-06-30T14:16:43.669093Z"
    }
   },
   "source": [
    "res.samples()"
   ],
   "outputs": [
    {
     "data": {
      "text/plain": [
       "[[0, 1, 1],\n",
       " [2, 0, 0],\n",
       " [1, 0, 1],\n",
       " [0, 0, 2],\n",
       " [1, 1, 0],\n",
       " [1, 1, 0],\n",
       " [2, 0, 0],\n",
       " [2, 0, 0],\n",
       " [0, 1, 1],\n",
       " [2, 0, 0],\n",
       " [0, 2, 0],\n",
       " [0, 0, 2],\n",
       " [0, 1, 1],\n",
       " [2, 0, 0],\n",
       " [1, 1, 0],\n",
       " [0, 2, 0],\n",
       " [2, 0, 0],\n",
       " [1, 1, 0],\n",
       " [0, 2, 0],\n",
       " [0, 0, 2],\n",
       " [0, 0, 2],\n",
       " [2, 0, 0],\n",
       " [1, 1, 0],\n",
       " [0, 1, 1],\n",
       " [0, 1, 1],\n",
       " [0, 1, 1],\n",
       " [0, 0, 2],\n",
       " [1, 1, 0],\n",
       " [1, 1, 0],\n",
       " [1, 1, 0],\n",
       " [2, 0, 0],\n",
       " [1, 1, 0],\n",
       " [0, 0, 2],\n",
       " [2, 0, 0],\n",
       " [1, 1, 0],\n",
       " [2, 0, 0],\n",
       " [2, 0, 0],\n",
       " [2, 0, 0],\n",
       " [1, 0, 1],\n",
       " [1, 1, 0],\n",
       " [0, 1, 1],\n",
       " [1, 1, 0],\n",
       " [0, 0, 2],\n",
       " [0, 1, 1],\n",
       " [0, 0, 2],\n",
       " [1, 0, 1],\n",
       " [0, 0, 2],\n",
       " [0, 2, 0],\n",
       " [0, 1, 1],\n",
       " [0, 1, 1],\n",
       " [1, 1, 0],\n",
       " [0, 0, 2],\n",
       " [0, 2, 0],\n",
       " [2, 0, 0],\n",
       " [0, 1, 1],\n",
       " [0, 1, 1],\n",
       " [0, 0, 2],\n",
       " [0, 0, 2],\n",
       " [1, 1, 0],\n",
       " [1, 1, 0],\n",
       " [0, 0, 2],\n",
       " [1, 1, 0],\n",
       " [1, 1, 0],\n",
       " [1, 1, 0],\n",
       " [0, 0, 2],\n",
       " [2, 0, 0],\n",
       " [2, 0, 0],\n",
       " [1, 1, 0],\n",
       " [0, 1, 1],\n",
       " [0, 1, 1],\n",
       " [2, 0, 0],\n",
       " [1, 1, 0],\n",
       " [0, 0, 2],\n",
       " [0, 1, 1],\n",
       " [0, 1, 1],\n",
       " [0, 2, 0],\n",
       " [0, 0, 2],\n",
       " [0, 0, 2],\n",
       " [0, 0, 2],\n",
       " [0, 1, 1],\n",
       " [0, 1, 1],\n",
       " [2, 0, 0],\n",
       " [0, 1, 1],\n",
       " [0, 1, 1],\n",
       " [0, 1, 1],\n",
       " [0, 2, 0],\n",
       " [0, 1, 1],\n",
       " [0, 1, 1],\n",
       " [2, 0, 0],\n",
       " [1, 1, 0],\n",
       " [1, 1, 0],\n",
       " [0, 1, 1],\n",
       " [0, 1, 1],\n",
       " [2, 0, 0],\n",
       " [2, 0, 0],\n",
       " [1, 0, 1],\n",
       " [0, 2, 0],\n",
       " [2, 0, 0],\n",
       " [0, 1, 1],\n",
       " [1, 1, 0]]"
      ]
     },
     "execution_count": 9,
     "metadata": {},
     "output_type": "execute_result"
    }
   ],
   "execution_count": 9
  },
  {
   "cell_type": "code",
   "id": "74846079",
   "metadata": {
    "ExecuteTime": {
     "end_time": "2025-06-30T14:16:53.725634Z",
     "start_time": "2025-06-30T14:16:43.700522Z"
    }
   },
   "source": [
    "# Now with a Cloud back-end\n",
    "set_backend(\"quandela\", platform=\"qpu:ascella\", token=\"YOUR TOKEN\")  # Requires a valid Quandela Cloud token\n",
    "res = pc(initial_state=(1, 0, 1), nshots=100)\n",
    "res.samples()  # qpu:ascella is a noisy platform (it's an actual QPU), hence the photon loss observed in the results (nearly all output states have only 1 detection)"
   ],
   "outputs": [
    {
     "name": "stderr",
     "output_type": "stream",
     "text": [
      "[Qibo 0.2.19|INFO|2025-06-30 16:16:43]: Using Quandela Cloud backend on /CPU:0\n"
     ]
    },
    {
     "data": {
      "text/plain": [
       "[[1, 0, 0],\n",
       " [1, 0, 0],\n",
       " [0, 1, 0],\n",
       " [0, 1, 0],\n",
       " [1, 0, 0],\n",
       " [0, 0, 1],\n",
       " [0, 0, 1],\n",
       " [1, 0, 0],\n",
       " [0, 1, 0],\n",
       " [0, 1, 0],\n",
       " [1, 1, 0],\n",
       " [0, 0, 1],\n",
       " [1, 0, 0],\n",
       " [0, 0, 1],\n",
       " [0, 1, 0],\n",
       " [0, 1, 0],\n",
       " [1, 0, 0],\n",
       " [0, 0, 1],\n",
       " [0, 1, 0],\n",
       " [1, 0, 0],\n",
       " [0, 1, 0],\n",
       " [0, 1, 0],\n",
       " [0, 1, 0],\n",
       " [1, 1, 0],\n",
       " [1, 0, 0],\n",
       " [1, 0, 0],\n",
       " [1, 1, 0],\n",
       " [1, 0, 0],\n",
       " [0, 1, 0],\n",
       " [0, 0, 1],\n",
       " [0, 1, 0],\n",
       " [1, 0, 0],\n",
       " [1, 0, 0],\n",
       " [0, 1, 0],\n",
       " [1, 0, 0],\n",
       " [1, 0, 0],\n",
       " [0, 0, 1],\n",
       " [0, 0, 1],\n",
       " [0, 0, 1],\n",
       " [0, 1, 0],\n",
       " [0, 0, 1],\n",
       " [0, 0, 1],\n",
       " [1, 0, 0],\n",
       " [1, 0, 0],\n",
       " [1, 0, 0],\n",
       " [1, 0, 0],\n",
       " [1, 0, 0],\n",
       " [0, 1, 0],\n",
       " [1, 0, 0],\n",
       " [0, 0, 1],\n",
       " [1, 0, 0],\n",
       " [0, 0, 1],\n",
       " [0, 0, 1],\n",
       " [0, 1, 0],\n",
       " [0, 1, 0],\n",
       " [0, 1, 0],\n",
       " [0, 0, 1],\n",
       " [0, 1, 0],\n",
       " [0, 0, 1],\n",
       " [1, 0, 0],\n",
       " [0, 0, 1],\n",
       " [0, 1, 0],\n",
       " [1, 0, 0],\n",
       " [0, 1, 0],\n",
       " [0, 1, 0],\n",
       " [0, 0, 1],\n",
       " [0, 1, 0],\n",
       " [1, 0, 0],\n",
       " [1, 0, 0],\n",
       " [1, 0, 0],\n",
       " [1, 0, 0],\n",
       " [0, 1, 0],\n",
       " [1, 0, 0],\n",
       " [1, 0, 0],\n",
       " [1, 0, 0],\n",
       " [0, 1, 0],\n",
       " [0, 1, 0],\n",
       " [0, 1, 0],\n",
       " [0, 1, 0],\n",
       " [0, 0, 1],\n",
       " [0, 0, 1],\n",
       " [0, 0, 1],\n",
       " [0, 0, 1],\n",
       " [1, 0, 0],\n",
       " [1, 1, 0],\n",
       " [0, 0, 1],\n",
       " [1, 0, 0],\n",
       " [0, 0, 1],\n",
       " [1, 0, 0],\n",
       " [0, 1, 0],\n",
       " [0, 0, 1],\n",
       " [0, 0, 1],\n",
       " [1, 0, 0],\n",
       " [1, 0, 0],\n",
       " [0, 1, 1],\n",
       " [0, 0, 1],\n",
       " [0, 0, 1],\n",
       " [0, 1, 0],\n",
       " [0, 0, 1],\n",
       " [0, 1, 0]]"
      ]
     },
     "execution_count": 10,
     "metadata": {},
     "output_type": "execute_result"
    }
   ],
   "execution_count": 10
  }
 ],
 "metadata": {
  "kernelspec": {
   "display_name": "venv",
   "language": "python",
   "name": "python3"
  },
  "language_info": {
   "codemirror_mode": {
    "name": "ipython",
    "version": 3
   },
   "file_extension": ".py",
   "mimetype": "text/x-python",
   "name": "python",
   "nbconvert_exporter": "python",
   "pygments_lexer": "ipython3",
   "version": "3.13.3"
  }
 },
 "nbformat": 4,
 "nbformat_minor": 5
}
