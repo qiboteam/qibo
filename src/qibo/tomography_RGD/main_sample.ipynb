{
 "cells": [
  {
   "cell_type": "markdown",
   "id": "6fccc5ce",
   "metadata": {},
   "source": [
    "# The sample codes for running RGD tomography\n",
    "\n",
    "## define the functions"
   ]
  },
  {
   "cell_type": "code",
   "execution_count": 1,
   "id": "6deb5a68",
   "metadata": {},
   "outputs": [],
   "source": [
    "import numpy as np\n",
    "import RGD\n",
    "from BasicTools import Plt_Err_Time\n",
    "\n",
    "from qibo.models.encodings import ghz_state\n",
    "\n",
    "\n",
    "def qibo_Pauli_symbols(labels):\n",
    "    \"\"\"convert string representation of Pauli operator list\n",
    "        to list of symbolic representation\n",
    "\n",
    "    Args:\n",
    "        labels (list): list of Pauli operator labels,\n",
    "            (eg) list of Pauli terms  [\"YXY\", \"IXX\", \"ZYI\", \"XXX\", \"YZZ\"]\n",
    "    Returns:\n",
    "        list (Proj_list): list of symbolic Pauli operators\n",
    "    \"\"\"\n",
    "    from functools import reduce\n",
    "\n",
    "    from qibo.hamiltonians import SymbolicHamiltonian\n",
    "    from qibo.symbols import I, X, Y, Z\n",
    "\n",
    "    symbol_map = {\n",
    "        \"X\": X,\n",
    "        \"Y\": Y,\n",
    "        \"Z\": Z,\n",
    "        \"I\": I,\n",
    "    }\n",
    "\n",
    "    Proj_list = []\n",
    "    for label in labels:\n",
    "        qubitPauli = [symbol_map[Ps](i) for i, Ps in enumerate(label)]\n",
    "        symbolPauli = SymbolicHamiltonian(reduce(lambda x, y: x * y, qubitPauli))\n",
    "        Proj_list.append(symbolPauli)\n",
    "\n",
    "    return Proj_list\n",
    "\n",
    "\n",
    "def qibochem_measure_expectation(circuit, labels, num_shots):\n",
    "    \"\"\"Use qibochem.measurement package to get the expecation values\n",
    "        of given list of Pauli terms for a particular given circuit\n",
    "\n",
    "    Args:\n",
    "        circuit (circuit): the circuit generating the state\n",
    "        labels (list): list of Pauli operator labels,\n",
    "            (eg) list of Pauli terms  [\"YXY\", \"IXX\", \"ZYI\", \"XXX\", \"YZZ\"]\n",
    "        num_shots (int): number of shot measurements\n",
    "\n",
    "    Returns:\n",
    "        list (coef_Pauli_exact): list of exact expectation value of Pauli Terms\n",
    "        list (coef_Pauli_shots): list of Pauli expectation from shot measurements\n",
    "    \"\"\"\n",
    "    from functools import reduce\n",
    "\n",
    "    from qibochem.measurement import expectation, expectation_from_samples\n",
    "\n",
    "    from qibo.hamiltonians import SymbolicHamiltonian\n",
    "    from qibo.symbols import I, X, Y, Z\n",
    "\n",
    "    symbol_map = {\n",
    "        \"X\": X,\n",
    "        \"Y\": Y,\n",
    "        \"Z\": Z,\n",
    "        \"I\": I,\n",
    "    }\n",
    "\n",
    "    _circuit = circuit.copy()\n",
    "    coef_Pauli_exact = []  # list of exact expectation value of Pauli Terms\n",
    "    coef_Pauli_shots = []  # list of Pauli expectation from shot measurements\n",
    "    for label in labels:\n",
    "        print(f\"label = {label}\")\n",
    "\n",
    "        qubitPauli = [symbol_map[Ps](i) for i, Ps in enumerate(label)]\n",
    "        symbolPauli = SymbolicHamiltonian(reduce(lambda x, y: x * y, qubitPauli))\n",
    "\n",
    "        coef_Pauli_exact.append(expectation(_circuit, symbolPauli))\n",
    "        coef_Pauli_shots.append(\n",
    "            expectation_from_samples(_circuit, symbolPauli, n_shots=num_shots)\n",
    "        )\n",
    "\n",
    "    return coef_Pauli_exact, coef_Pauli_shots\n",
    "\n",
    "\n",
    "def generate_random_label(n, symbols=[\"I\", \"X\", \"Y\", \"Z\"]):\n",
    "    num_symbols = len(symbols)\n",
    "    label = \"\".join([symbols[i] for i in np.random.randint(0, num_symbols, size=n)])\n",
    "    return label"
   ]
  },
  {
   "cell_type": "markdown",
   "id": "36a048f7",
   "metadata": {},
   "source": [
    "## choose the Pauli string (operator) for doing tomography"
   ]
  },
  {
   "cell_type": "code",
   "execution_count": 2,
   "id": "7b2befca",
   "metadata": {},
   "outputs": [
    {
     "name": "stderr",
     "output_type": "stream",
     "text": [
      "[Qibo 0.2.17|INFO|2025-06-20 09:25:54]: Using qibojit (numba) backend on /CPU:0\n"
     ]
    }
   ],
   "source": [
    "num_labels = 5      #  number of Pauli labels\n",
    "n = 3               #  number of qubits\n",
    "# labels = [generate_random_label(n) for i in range(num_labels)]\n",
    "\n",
    "labels = [\"YXY\", \"IXX\", \"ZYI\", \"XXX\", \"YZZ\", \"ZYY\", \"IXX\", \"XYY\", \"XZI\"]\n",
    "# labels = ['YZY', 'YYZ', 'XIY', 'IZY', 'YYY','XZI','IXZ','IIY','XXY','YZZ']\n",
    "# labels = ['XXYY', 'YXZY', 'XZIZ', 'ZYYZ', 'YXYX', 'ZXXZ', 'ZIYZ', 'YXYY', 'YXYY', 'ZYYY']\n",
    "# labels = ['ZIYZ', 'YXZX', 'ZIXX', 'YXYX', 'ZYXX']\n",
    "# labels = ['IZZ', 'IIZ','ZIZ']    # NotImplementedError: Observable is not a Z Pauli string.\n",
    "\n",
    "symProj_list = qibo_Pauli_symbols(labels)\n"
   ]
  },
  {
   "cell_type": "markdown",
   "id": "1a350d88",
   "metadata": {},
   "source": [
    "## generate circuit & shot measurements"
   ]
  },
  {
   "cell_type": "code",
   "execution_count": 3,
   "id": "b68f34e9",
   "metadata": {},
   "outputs": [
    {
     "name": "stdout",
     "output_type": "stream",
     "text": [
      "label = YXY\n",
      "label = IXX\n",
      "label = ZYI\n",
      "label = XXX\n",
      "label = YZZ\n",
      "label = ZYY\n",
      "label = IXX\n",
      "label = XYY\n",
      "label = XZI\n",
      "[np.float64(-0.9999999999999998), np.float64(0.0), np.float64(0.0), np.float64(0.9999999999999998), np.float64(0.0), np.float64(0.0), np.float64(0.0), np.float64(-0.9999999999999998), np.float64(0.0)]\n",
      "[np.float64(-1.0), np.float64(-0.04000000000000001), np.float64(0.11000000000000004), np.float64(1.0), np.float64(-0.03), np.float64(1.3877787807814457e-17), np.float64(0.0), np.float64(-1.0), np.float64(-0.14)]\n"
     ]
    }
   ],
   "source": [
    "Nr = 1                                          #  rank of the target density matrix\n",
    "\n",
    "stateGHZ = ghz_state(n)                         # generate GHZ state circuit\n",
    "target_state_GHZ = stateGHZ.execute().state()   # get the state vector of the circuit\n",
    "target_density_matrix = np.outer(target_state_GHZ, target_state_GHZ.conj())\n",
    "\n",
    "num_shots = 200                                 # number of shot measurements\n",
    "\n",
    "coef_Pauli_exact, measurement_list = qibochem_measure_expectation(\n",
    "    stateGHZ, labels, num_shots\n",
    ")                    # get the expectation values of Pauli terms (exact and from shots)\n",
    "print(coef_Pauli_exact)\n",
    "print(measurement_list)"
   ]
  },
  {
   "cell_type": "markdown",
   "id": "4fad7418",
   "metadata": {},
   "source": [
    "## system parameters as the input to the RGD worker"
   ]
  },
  {
   "cell_type": "code",
   "execution_count": 4,
   "id": "cd20c28a",
   "metadata": {},
   "outputs": [],
   "source": [
    "params_dict = {\n",
    "    \"Nr\": Nr,\n",
    "    \"target_DM\": target_density_matrix,\n",
    "    \"labels\": labels,\n",
    "    \"measurement_list\": measurement_list,\n",
    "    \"symProj_list\": symProj_list,\n",
    "    \"num_iterations\": 150,\n",
    "    \"convergence_check_period\": 1,\n",
    "}\n",
    "\n",
    "Ch_svd = -1  #   choice for initial SVD  (0: LA.svd, 1: svds, -1: rSVD)\n",
    "InitX_RGD = 1  #   method of choosing initial X0"
   ]
  },
  {
   "cell_type": "markdown",
   "id": "8ee4e9af",
   "metadata": {},
   "source": [
    "## running the RGD once collecting the input information"
   ]
  },
  {
   "cell_type": "code",
   "execution_count": 5,
   "id": "259cea35",
   "metadata": {},
   "outputs": [
    {
     "name": "stderr",
     "output_type": "stream",
     "text": [
      "[Qibo 0.2.17|WARNING|2025-06-20 09:39:03]: Calculating the dense form of a symbolic Hamiltonian. This operation is memory inefficient.\n",
      "[Qibo 0.2.17|WARNING|2025-06-20 09:39:03]: Calculating the dense form of a symbolic Hamiltonian. This operation is memory inefficient.\n",
      "[Qibo 0.2.17|WARNING|2025-06-20 09:39:03]: Calculating the dense form of a symbolic Hamiltonian. This operation is memory inefficient.\n",
      "[Qibo 0.2.17|WARNING|2025-06-20 09:39:03]: Calculating the dense form of a symbolic Hamiltonian. This operation is memory inefficient.\n",
      "[Qibo 0.2.17|WARNING|2025-06-20 09:39:03]: Calculating the dense form of a symbolic Hamiltonian. This operation is memory inefficient.\n",
      "[Qibo 0.2.17|WARNING|2025-06-20 09:39:03]: Calculating the dense form of a symbolic Hamiltonian. This operation is memory inefficient.\n",
      "[Qibo 0.2.17|WARNING|2025-06-20 09:39:03]: Calculating the dense form of a symbolic Hamiltonian. This operation is memory inefficient.\n",
      "[Qibo 0.2.17|WARNING|2025-06-20 09:39:03]: Calculating the dense form of a symbolic Hamiltonian. This operation is memory inefficient.\n",
      "[Qibo 0.2.17|WARNING|2025-06-20 09:39:03]: Calculating the dense form of a symbolic Hamiltonian. This operation is memory inefficient.\n"
     ]
    },
    {
     "name": "stdout",
     "output_type": "stream",
     "text": [
      "  self.coef = 0.9428090415820634\n",
      "  InitX     = 1\n",
      " *********   using randomized-SVD  to construct  X0 = uk @ sDiag @ vkh  **************************\n",
      "  ***   0-th (A A*) done:   Time --> ATQ: 4.38690185546875e-05,  AG: 3.1948089599609375e-05   ***\n",
      "  ***   1-th (A A*) done:   Time --> ATQ: 3.600120544433594e-05,  AG: 3.0040740966796875e-05   ***\n",
      "  ***   2-th (A A*) done:   Time --> ATQ: 2.9087066650390625e-05,  AG: 2.7179718017578125e-05   ***\n",
      "  ***   3-th (A A*) done:   Time --> ATQ: 3.886222839355469e-05,  AG: 2.8848648071289062e-05   ***\n",
      "  ***   4-th (A A*) done:   Time --> ATQ: 2.9087066650390625e-05,  AG: 2.5987625122070312e-05   ***\n",
      "  ***   5-th (A A*) done:   Time --> ATQ: 2.6226043701171875e-05,  AG: 2.6702880859375e-05   ***\n",
      "  ***   6-th (A A*) done:   Time --> ATQ: 2.7179718017578125e-05,  AG: 2.5987625122070312e-05   ***\n",
      "  ***   7-th (A A*) done:   Time --> ATQ: 2.6941299438476562e-05,  AG: 2.7179718017578125e-05   ***\n",
      "  ***   8-th (A A*) done:   Time --> ATQ: 2.7179718017578125e-05,  AG: 2.47955322265625e-05   ***\n",
      "  ***   9-th (A A*) done:   Time --> ATQ: 2.6226043701171875e-05,  AG: 2.47955322265625e-05   ***\n",
      "  ***   10-th (A A*) done:   Time --> ATQ: 2.5987625122070312e-05,  AG: 2.47955322265625e-05   ***\n",
      "  ***   11-th (A A*) done:   Time --> ATQ: 2.5987625122070312e-05,  AG: 2.47955322265625e-05   ***\n",
      "  ***   12-th (A A*) done:   Time --> ATQ: 2.5987625122070312e-05,  AG: 2.5033950805664062e-05   ***\n",
      "  ***   13-th (A A*) done:   Time --> ATQ: 2.9802322387695312e-05,  AG: 2.7894973754882812e-05   ***\n",
      "  ***   14-th (A A*) done:   Time --> ATQ: 2.5987625122070312e-05,  AG: 2.5987625122070312e-05   ***\n",
      "   self.rSVD           -->   time = 0.005318880081176758\n",
      " --------  X0  --> (-1)-th iteration  [ SVD choice = -1 ] \n",
      "\n",
      "      X0 step (RGD)        -->  time = 0.005457878112792969\n",
      "\n",
      "      X0                   -->  Tr(X0)     = (-2.6773230692788035-1.949525176360814e-17j)\n",
      "\n",
      "      X0                   -->  Target Err = 2.85798166915324\n",
      "\n",
      "    RGD max num_iterations = 150\n",
      "\n",
      " --------  0-th iteration \n",
      "\n",
      " 0-th step -> self.Remain_Hermitian = 1, self.EigV_positive = 0\n",
      " np.allclose( Col_flip_sign(Gu), Col_flip_sign(Gv) ) = True\n",
      "    Hr_tangentWk  -->  Remain_Hermitian = 1, EigV_positve = 0\n",
      "          D2s - D2s.T.conj() = 0.10596446597437537\n",
      "          np.allclose(D2s, D2s.T.conj()) = False\n",
      "\n",
      "   ****  0-th iteratation\n",
      "\n",
      "            min(uk +/- uk_old)   = 0.0371720744705011\n",
      "\n",
      "         relative_errU = 0.037172074470501096,  relative_errX = 0.6245567141094789\n",
      "         Target_Error = 1.419475170849676\n",
      "\n",
      "     convergence check   -->  time = 7.82012939453125e-05\n",
      "\n",
      "      stepRGD            -->  time = 0.0013871192932128906\n",
      "\n",
      " --------  1-th iteration \n",
      "\n",
      " 1-th step -> self.Remain_Hermitian = 1, self.EigV_positive = 0\n",
      " np.allclose( Col_flip_sign(Gu), Col_flip_sign(Gv) ) = True\n",
      "    Hr_tangentWk  -->  Remain_Hermitian = 1, EigV_positve = 0\n",
      "          D2s - D2s.T.conj() = 0.07199506804724967\n",
      "          np.allclose(D2s, D2s.T.conj()) = False\n",
      "\n",
      "            min(uk +/- uk_old)   = 0.025328201976048022\n",
      "\n",
      "         relative_errU = 0.025328201976047977,  relative_errX = 0.03585418910638315\n",
      "         Target_Error = 1.4176752024372798\n",
      "\n",
      "     convergence check   -->  time = 3.910064697265625e-05\n",
      "\n",
      "      stepRGD            -->  time = 0.0006849765777587891\n",
      "\n",
      " --------  2-th iteration \n",
      "\n",
      " 2-th step -> self.Remain_Hermitian = 1, self.EigV_positive = 0\n",
      " np.allclose( Col_flip_sign(Gu), Col_flip_sign(Gv) ) = True\n",
      "    Hr_tangentWk  -->  Remain_Hermitian = 1, EigV_positve = 0\n",
      "          D2s - D2s.T.conj() = 0.008538243248735915\n",
      "          np.allclose(D2s, D2s.T.conj()) = False\n",
      "\n",
      "            min(uk +/- uk_old)   = 0.003010930979117625\n",
      "\n",
      "         relative_errU = 0.0030109309791176183,  relative_errX = 0.00442830919618008\n",
      "         Target_Error = 1.4167949554685628\n",
      "\n",
      "     convergence check   -->  time = 3.1948089599609375e-05\n",
      "\n",
      "      stepRGD            -->  time = 0.000640869140625\n",
      "\n",
      " --------  3-th iteration \n",
      "\n",
      " 3-th step -> self.Remain_Hermitian = 1, self.EigV_positive = 0\n",
      " np.allclose( Col_flip_sign(Gu), Col_flip_sign(Gv) ) = True\n",
      "    Hr_tangentWk  -->  Remain_Hermitian = 1, EigV_positve = 0\n",
      "          D2s - D2s.T.conj() = 0.0029639708104851185\n",
      "          np.allclose(D2s, D2s.T.conj()) = False\n",
      "\n",
      "            min(uk +/- uk_old)   = 0.0010435521543478055\n",
      "\n",
      "         relative_errU = 0.001043552154347803,  relative_errX = 0.0016183335388809878\n",
      "         Target_Error = 1.4172709588799033\n",
      "\n",
      "     convergence check   -->  time = 4.291534423828125e-05\n",
      "\n",
      "      stepRGD            -->  time = 0.0007181167602539062\n",
      "\n",
      " --------  4-th iteration \n",
      "\n",
      " 4-th step -> self.Remain_Hermitian = 1, self.EigV_positive = 0\n",
      " np.allclose( Col_flip_sign(Gu), Col_flip_sign(Gv) ) = True\n",
      "    Hr_tangentWk  -->  Remain_Hermitian = 1, EigV_positve = 0\n",
      "          D2s - D2s.T.conj() = 0.003027468839356972\n",
      "          np.allclose(D2s, D2s.T.conj()) = False\n",
      "\n",
      "            min(uk +/- uk_old)   = 0.0010662801173276194\n",
      "\n",
      "         relative_errU = 0.0010662801173276172,  relative_errX = 0.0015731558420343714\n",
      "         Target_Error = 1.4169563644613996\n",
      "\n",
      "     convergence check   -->  time = 4.601478576660156e-05\n",
      "\n",
      "      stepRGD            -->  time = 0.0007269382476806641\n",
      "\n",
      " --------  5-th iteration \n",
      "\n",
      " 5-th step -> self.Remain_Hermitian = 1, self.EigV_positive = 0\n",
      " np.allclose( Col_flip_sign(Gu), Col_flip_sign(Gv) ) = True\n",
      "    Hr_tangentWk  -->  Remain_Hermitian = 1, EigV_positve = 0\n",
      "          D2s - D2s.T.conj() = 0.0026687059202637605\n",
      "          np.allclose(D2s, D2s.T.conj()) = False\n",
      "\n",
      "            min(uk +/- uk_old)   = 0.0009399114712415539\n",
      "\n",
      " *********  XkErrRatio = 0.001351984571436362 < StpTol   ******\n",
      "         relative_errU = 0.0009399114712415518,  relative_errX = 0.001351984571436362\n",
      "         Target_Error = 1.4171370722667258\n",
      "\n",
      "     convergence check   -->  time = 0.00015020370483398438\n",
      "\n",
      "      stepRGD            -->  time = 0.0007319450378417969\n",
      "\n"
     ]
    }
   ],
   "source": [
    "worker = RGD.BasicWorkerRGD(params_dict)\n",
    "worker.computeRGD(InitX_RGD, Ch_svd)\n"
   ]
  },
  {
   "cell_type": "markdown",
   "id": "aacd934b",
   "metadata": {},
   "source": [
    "## plot the error and time evolution of the RGD algorithm"
   ]
  },
  {
   "cell_type": "code",
   "execution_count": 6,
   "id": "b8de7e36",
   "metadata": {},
   "outputs": [
    {
     "data": {
      "image/png": "[encoded data removed]",
      "text/plain": [
       "<Figure size 800x600 with 1 Axes>"
      ]
     },
     "metadata": {},
     "output_type": "display_data"
    }
   ],
   "source": [
    "Plt_Err_Time(worker)    # plot the error and time evolution of the RGD algorithm\n"
   ]
  },
  {
   "cell_type": "code",
   "execution_count": null,
   "id": "14023014",
   "metadata": {},
   "outputs": [],
   "source": []
  }
 ],
 "metadata": {
  "kernelspec": {
   "display_name": "qiskit10",
   "language": "python",
   "name": "python3"
  },
  "language_info": {
   "codemirror_mode": {
    "name": "ipython",
    "version": 3
   },
   "file_extension": ".py",
   "mimetype": "text/x-python",
   "name": "python",
   "nbconvert_exporter": "python",
   "pygments_lexer": "ipython3",
   "version": "3.11.9"
  }
 },
 "nbformat": 4,
 "nbformat_minor": 5
}
