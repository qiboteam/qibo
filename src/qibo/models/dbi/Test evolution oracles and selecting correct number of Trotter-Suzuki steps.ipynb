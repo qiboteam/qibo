{
 "cells": [
  {
   "cell_type": "code",
   "execution_count": 1,
   "id": "c4be28eb",
   "metadata": {},
   "outputs": [
    {
     "name": "stderr",
     "output_type": "stream",
     "text": [
      "[Qibo 0.2.5|INFO|2024-02-08 04:16:31]: Using qibojit (numba) backend on /CPU:0\n",
      "[Qibo 0.2.5|WARNING|2024-02-08 04:16:31]: Calculating the dense form of a symbolic Hamiltonian. This operation is memory inefficient.\n"
     ]
    },
    {
     "name": "stdout",
     "output_type": "stream",
     "text": [
      "ZX0.1\n",
      "3 0.5264075362294286\n",
      "6 0.12267264894892986\n",
      "12 0.03018952498939946\n",
      "<class 'qibo.models.circuit.Circuit'>\n",
      "q0:     ───U─U─────U─U─────U─U─────U─U─────U─U─────U─U─────U─U─────U─U─────U─U ...\n",
      "q1:     ─U─U─U─U─U─U─U─U─U─U─U─U─U─U─U─U─U─U─U─U─U─U─U─U─U─U─U─U─U─U─U─U─U─U─U ...\n",
      "q2:     ─U─────U─U─────U─U─────U─U─────U─U─────U─U─────U─U─────U─U─────U─U──── ...\n",
      "\n",
      "q0: ... ─────U─U─────U─U─────U─U───\n",
      "q1: ... ─U─U─U─U─U─U─U─U─U─U─U─U─U─\n",
      "q2: ... ─U─U─────U─U─────U─U─────U─\n",
      "3.651778047740365\n",
      "3.651778047740365\n"
     ]
    }
   ],
   "source": [
    "run -i 'test_dbi_evolution_oracles.py'"
   ]
  },
  {
   "cell_type": "code",
   "execution_count": 39,
   "id": "4ed280d7",
   "metadata": {},
   "outputs": [
    {
     "name": "stderr",
     "output_type": "stream",
     "text": [
      "[Qibo 0.2.5|WARNING|2024-02-08 04:26:52]: Calculating the dense form of a symbolic Hamiltonian. This operation is memory inefficient.\n"
     ]
    },
    {
     "name": "stdout",
     "output_type": "stream",
     "text": [
      "ZX0.1\n",
      "3 0.43947054352187015\n",
      "6 0.10267893936993515\n",
      "12 0.025341696660493532\n",
      "0.02534169666049345\n"
     ]
    }
   ],
   "source": [
    "from qibo.hamiltonians import SymbolicHamiltonian\n",
    "from qibo import symbols\n",
    "from double_bracket_evolution_oracles import *\n",
    "from group_commutator_iteration_transpiler import *\n",
    "\n",
    "\"\"\"Test create evolution oracle\"\"\"\n",
    "\n",
    "h_input = SymbolicHamiltonian( symbols.Z(0)+symbols.X(0) + symbols.Z(0) * symbols.X(1) + symbols.Y(2) + symbols.Y(1) * symbols.Y(2), nqubits = 3 )\n",
    "\n",
    "## Test initialization of evolution oracles\n",
    "#By default EvolutionOracle initializes with text_strings oracle type\n",
    "input_hamiltonian_evolution_oracle_text_strings = EvolutionOracle(h_input, \"ZX\", mode_evolution_oracle = EvolutionOracleType.text_strings)\n",
    "\n",
    "c1 = input_hamiltonian_evolution_oracle_text_strings.circuit(0.1)\n",
    "if input_hamiltonian_evolution_oracle_text_strings.mode_evolution_oracle is EvolutionOracleType.text_strings:\n",
    "    assert isinstance( c1, str), \"Should be a string here\"\n",
    "print( c1 )\n",
    "\n",
    "# Initialize with EvolutionOracleType hamiltonian_simulation\n",
    "input_hamiltonian_evolution_oracle_hamiltonian_simulation = EvolutionOracle(h_input, \"ZX\",\n",
    "                                 mode_evolution_oracle = EvolutionOracleType.hamiltonian_simulation)\n",
    "input_hamiltonian_evolution_oracle_hamiltonian_simulation.please_be_verbose = True\n",
    "c2 = input_hamiltonian_evolution_oracle_hamiltonian_simulation.circuit(2)\n",
    "assert np.linalg.norm( c2.unitary() - input_hamiltonian_evolution_oracle_hamiltonian_simulation.h.exp(2) ) < 1\n",
    "\n",
    "##For some reason running this makes the norm check below blow up to large value\n",
    "# if input_hamiltonian_evolution_oracle_hamiltonian_simulation.mode_evolution_oracle is EvolutionOracleType.hamiltonian_simulation:\n",
    "#     print(type(c2))\n",
    "#     assert isinstance( c2, type(h_input.circuit(0.1)) ), \"Should be a qibo.Circuit here\"\n",
    "# print(c2.draw())\n",
    "\n",
    "\n",
    "# Initialize with EvolutionOracleType numerical\n",
    "input_hamiltonian_evolution_oracle_numerical = EvolutionOracle(h_input, \"ZX\",\n",
    "                                                                mode_evolution_oracle = EvolutionOracleType.numerical )\n",
    "\n",
    "c3 = input_hamiltonian_evolution_oracle_numerical.circuit(2)\n",
    "if input_hamiltonian_evolution_oracle_numerical.mode_evolution_oracle is EvolutionOracleType.numerical:\n",
    "    assert isinstance( c3, type(h_input.exp(0.1)) ), \"Should be a np.array here\"\n",
    "print(np.linalg.norm( c2.unitary() - c3 ))\n"
   ]
  },
  {
   "cell_type": "code",
   "execution_count": 62,
   "id": "8a03c568",
   "metadata": {},
   "outputs": [],
   "source": [
    "from double_bracket import *\n",
    "\n",
    "dbi = DoubleBracketIteration(deepcopy(h_input.dense))\n",
    "dbi.mode = DoubleBracketGeneratorType.group_commutator"
   ]
  },
  {
   "cell_type": "code",
   "execution_count": 63,
   "id": "e31a8298",
   "metadata": {},
   "outputs": [
    {
     "data": {
      "text/plain": [
       "32.0"
      ]
     },
     "execution_count": 63,
     "metadata": {},
     "output_type": "execute_result"
    }
   ],
   "source": [
    "dbi.off_diagonal_norm"
   ]
  },
  {
   "cell_type": "code",
   "execution_count": 64,
   "id": "fe1e3816",
   "metadata": {},
   "outputs": [],
   "source": [
    "d_0 = SymbolicHamiltonian(symbols.Z(0) * symbols.Z(1) + symbols.Z(2)+symbols.Z(0), nqubits = 3 )"
   ]
  },
  {
   "cell_type": "code",
   "execution_count": 65,
   "id": "61699387",
   "metadata": {},
   "outputs": [
    {
     "name": "stderr",
     "output_type": "stream",
     "text": [
      "[Qibo 0.2.5|WARNING|2024-02-08 04:32:15]: Calculating the dense form of a symbolic Hamiltonian. This operation is memory inefficient.\n"
     ]
    },
    {
     "ename": "TypeError",
     "evalue": "Hamiltonian.exp() missing 1 required positional argument: 'a'",
     "output_type": "error",
     "traceback": [
      "\u001b[0;31m---------------------------------------------------------------------------\u001b[0m",
      "\u001b[0;31mTypeError\u001b[0m                                 Traceback (most recent call last)",
      "\u001b[0;32m~/Projects_git/DBI_qibo/src/qibo/models/dbi/test_dbi_evolution_oracles.py\u001b[0m in \u001b[0;36m<module>\u001b[0;34m\u001b[0m\n\u001b[0;32m----> 1\u001b[0;31m \u001b[0mdbi\u001b[0m\u001b[0;34m(\u001b[0m\u001b[0;36m0.51\u001b[0m\u001b[0;34m,\u001b[0m \u001b[0md\u001b[0m \u001b[0;34m=\u001b[0m \u001b[0md_0\u001b[0m\u001b[0;34m.\u001b[0m\u001b[0mdense\u001b[0m\u001b[0;34m)\u001b[0m\u001b[0;34m\u001b[0m\u001b[0;34m\u001b[0m\u001b[0m\n\u001b[0m\u001b[1;32m      2\u001b[0m \u001b[0mdbi\u001b[0m\u001b[0;34m.\u001b[0m\u001b[0moff_diagonal_norm\u001b[0m\u001b[0;34m\u001b[0m\u001b[0;34m\u001b[0m\u001b[0m\n",
      "\u001b[0;32m~/Projects_git/DBI_qibo/src/qibo/models/dbi/double_bracket.py\u001b[0m in \u001b[0;36m__call__\u001b[0;34m(self, step, mode, d)\u001b[0m\n\u001b[1;32m     79\u001b[0m             operator = (\n\u001b[1;32m     80\u001b[0m                 \u001b[0mself\u001b[0m\u001b[0;34m.\u001b[0m\u001b[0mh\u001b[0m\u001b[0;34m.\u001b[0m\u001b[0mexp\u001b[0m\u001b[0;34m(\u001b[0m\u001b[0;34m-\u001b[0m\u001b[0mstep\u001b[0m\u001b[0;34m)\u001b[0m\u001b[0;34m\u001b[0m\u001b[0;34m\u001b[0m\u001b[0m\n\u001b[0;32m---> 81\u001b[0;31m                 \u001b[0;34m@\u001b[0m \u001b[0mself\u001b[0m\u001b[0;34m.\u001b[0m\u001b[0mbackend\u001b[0m\u001b[0;34m.\u001b[0m\u001b[0mcalculate_matrix_exp\u001b[0m\u001b[0;34m(\u001b[0m\u001b[0;34m-\u001b[0m\u001b[0mstep\u001b[0m\u001b[0;34m,\u001b[0m \u001b[0md\u001b[0m\u001b[0;34m)\u001b[0m\u001b[0;34m\u001b[0m\u001b[0;34m\u001b[0m\u001b[0m\n\u001b[0m\u001b[1;32m     82\u001b[0m                 \u001b[0;34m@\u001b[0m \u001b[0mself\u001b[0m\u001b[0;34m.\u001b[0m\u001b[0mh\u001b[0m\u001b[0;34m.\u001b[0m\u001b[0mexp\u001b[0m\u001b[0;34m(\u001b[0m\u001b[0mstep\u001b[0m\u001b[0;34m)\u001b[0m\u001b[0;34m\u001b[0m\u001b[0;34m\u001b[0m\u001b[0m\n\u001b[1;32m     83\u001b[0m                 \u001b[0;34m@\u001b[0m \u001b[0mself\u001b[0m\u001b[0;34m.\u001b[0m\u001b[0mbackend\u001b[0m\u001b[0;34m.\u001b[0m\u001b[0mcalculate_matrix_exp\u001b[0m\u001b[0;34m(\u001b[0m\u001b[0mstep\u001b[0m\u001b[0;34m,\u001b[0m \u001b[0md\u001b[0m\u001b[0;34m)\u001b[0m\u001b[0;34m\u001b[0m\u001b[0;34m\u001b[0m\u001b[0m\n",
      "\u001b[0;32m~/.local/lib/python3.10/site-packages/qibo/backends/numpy.py\u001b[0m in \u001b[0;36mcalculate_matrix_exp\u001b[0;34m(self, a, matrix, eigenvectors, eigenvalues)\u001b[0m\n\u001b[1;32m    737\u001b[0m             \u001b[0;32melse\u001b[0m\u001b[0;34m:\u001b[0m\u001b[0;34m\u001b[0m\u001b[0;34m\u001b[0m\u001b[0m\n\u001b[1;32m    738\u001b[0m                 \u001b[0;32mfrom\u001b[0m \u001b[0mscipy\u001b[0m\u001b[0;34m.\u001b[0m\u001b[0mlinalg\u001b[0m \u001b[0;32mimport\u001b[0m \u001b[0mexpm\u001b[0m\u001b[0;34m\u001b[0m\u001b[0;34m\u001b[0m\u001b[0m\n\u001b[0;32m--> 739\u001b[0;31m             \u001b[0;32mreturn\u001b[0m \u001b[0mexpm\u001b[0m\u001b[0;34m(\u001b[0m\u001b[0;34m-\u001b[0m\u001b[0;36m1j\u001b[0m \u001b[0;34m*\u001b[0m \u001b[0ma\u001b[0m \u001b[0;34m*\u001b[0m \u001b[0mmatrix\u001b[0m\u001b[0;34m)\u001b[0m\u001b[0;34m\u001b[0m\u001b[0;34m\u001b[0m\u001b[0m\n\u001b[0m\u001b[1;32m    740\u001b[0m         \u001b[0;32melse\u001b[0m\u001b[0;34m:\u001b[0m\u001b[0;34m\u001b[0m\u001b[0;34m\u001b[0m\u001b[0m\n\u001b[1;32m    741\u001b[0m             \u001b[0mexpd\u001b[0m \u001b[0;34m=\u001b[0m \u001b[0mself\u001b[0m\u001b[0;34m.\u001b[0m\u001b[0mnp\u001b[0m\u001b[0;34m.\u001b[0m\u001b[0mdiag\u001b[0m\u001b[0;34m(\u001b[0m\u001b[0mself\u001b[0m\u001b[0;34m.\u001b[0m\u001b[0mnp\u001b[0m\u001b[0;34m.\u001b[0m\u001b[0mexp\u001b[0m\u001b[0;34m(\u001b[0m\u001b[0;34m-\u001b[0m\u001b[0;36m1j\u001b[0m \u001b[0;34m*\u001b[0m \u001b[0ma\u001b[0m \u001b[0;34m*\u001b[0m \u001b[0meigenvalues\u001b[0m\u001b[0;34m)\u001b[0m\u001b[0;34m)\u001b[0m\u001b[0;34m\u001b[0m\u001b[0;34m\u001b[0m\u001b[0m\n",
      "\u001b[0;32m~/.local/lib/python3.10/site-packages/scipy/linalg/_matfuncs.py\u001b[0m in \u001b[0;36mexpm\u001b[0;34m(A)\u001b[0m\n\u001b[1;32m    281\u001b[0m     \u001b[0ma\u001b[0m \u001b[0;34m=\u001b[0m \u001b[0mnp\u001b[0m\u001b[0;34m.\u001b[0m\u001b[0masarray\u001b[0m\u001b[0;34m(\u001b[0m\u001b[0mA\u001b[0m\u001b[0;34m)\u001b[0m\u001b[0;34m\u001b[0m\u001b[0;34m\u001b[0m\u001b[0m\n\u001b[1;32m    282\u001b[0m     \u001b[0;32mif\u001b[0m \u001b[0ma\u001b[0m\u001b[0;34m.\u001b[0m\u001b[0msize\u001b[0m \u001b[0;34m==\u001b[0m \u001b[0;36m1\u001b[0m \u001b[0;32mand\u001b[0m \u001b[0ma\u001b[0m\u001b[0;34m.\u001b[0m\u001b[0mndim\u001b[0m \u001b[0;34m<\u001b[0m \u001b[0;36m2\u001b[0m\u001b[0;34m:\u001b[0m\u001b[0;34m\u001b[0m\u001b[0;34m\u001b[0m\u001b[0m\n\u001b[0;32m--> 283\u001b[0;31m         \u001b[0;32mreturn\u001b[0m \u001b[0mnp\u001b[0m\u001b[0;34m.\u001b[0m\u001b[0marray\u001b[0m\u001b[0;34m(\u001b[0m\u001b[0;34m[\u001b[0m\u001b[0;34m[\u001b[0m\u001b[0mnp\u001b[0m\u001b[0;34m.\u001b[0m\u001b[0mexp\u001b[0m\u001b[0;34m(\u001b[0m\u001b[0ma\u001b[0m\u001b[0;34m.\u001b[0m\u001b[0mitem\u001b[0m\u001b[0;34m(\u001b[0m\u001b[0;34m)\u001b[0m\u001b[0;34m)\u001b[0m\u001b[0;34m]\u001b[0m\u001b[0;34m]\u001b[0m\u001b[0;34m)\u001b[0m\u001b[0;34m\u001b[0m\u001b[0;34m\u001b[0m\u001b[0m\n\u001b[0m\u001b[1;32m    284\u001b[0m \u001b[0;34m\u001b[0m\u001b[0m\n\u001b[1;32m    285\u001b[0m     \u001b[0;32mif\u001b[0m \u001b[0ma\u001b[0m\u001b[0;34m.\u001b[0m\u001b[0mndim\u001b[0m \u001b[0;34m<\u001b[0m \u001b[0;36m2\u001b[0m\u001b[0;34m:\u001b[0m\u001b[0;34m\u001b[0m\u001b[0;34m\u001b[0m\u001b[0m\n",
      "\u001b[0;31mTypeError\u001b[0m: Hamiltonian.exp() missing 1 required positional argument: 'a'"
     ]
    }
   ],
   "source": [
    "dbi(0.51, d = d_0.dense)\n",
    "dbi.off_diagonal_norm"
   ]
  },
  {
   "cell_type": "code",
   "execution_count": 56,
   "id": "d648a983",
   "metadata": {},
   "outputs": [],
   "source": [
    "## Test more fancy functionalities\n",
    "input_hamiltonian_evolution_oracle_hamiltonian_simulation.please_be_verbose = False\n",
    "gci = GroupCommutatorIterationWithEvolutionOracles( deepcopy(input_hamiltonian_evolution_oracle_hamiltonian_simulation ))\n",
    "\n",
    "\n",
    "query_list = gci.group_commutator_query_list( 0.2, d_0, input_hamiltonian_evolution_oracle_hamiltonian_simulation )\n",
    "gci(0.51, d_0)\n",
    "u_dagger = gci.iterated_hamiltonian_evolution_oracle.before_circuit.unitary()\n",
    "\n",
    "dbi_from_gci  = u_dagger @ h_input.matrix @ u_dagger.T.conj()"
   ]
  },
  {
   "cell_type": "code",
   "execution_count": 59,
   "id": "84427469",
   "metadata": {},
   "outputs": [
    {
     "data": {
      "text/plain": [
       "matrix([[ 0.37873495-7.23646444e-17j, -0.61455831+6.61914883e-01j,\n",
       "          1.65379471-4.82329292e-01j, -1.96431484+8.48346097e-01j,\n",
       "         -0.66648988-6.34914954e-01j,  0.72872705+1.92520016e-01j,\n",
       "          0.46450583-3.48735459e-01j, -0.34937171+7.29602858e-01j],\n",
       "        [-0.61455831-6.61914883e-01j,  1.3880865 +1.65819142e-16j,\n",
       "          1.7100767 -2.63880526e-01j,  1.22172438-4.00032815e-01j,\n",
       "         -1.71509717-2.99995268e-01j,  0.06517562-7.21879491e-02j,\n",
       "          0.05236784-8.00791699e-01j,  0.37782571+6.27793798e-02j],\n",
       "        [ 1.65379471+4.82329292e-01j,  1.7100767 +2.63880526e-01j,\n",
       "          0.9379625 -9.61058031e-17j, -0.31832345+1.01913826e+00j,\n",
       "          0.50572804-3.07643806e-01j, -0.60181522-3.91004322e-02j,\n",
       "          0.33658616+6.18667086e-01j, -0.44629897+6.13539951e-02j],\n",
       "        [-1.96431484-8.48346097e-01j,  1.22172438+4.00032815e-01j,\n",
       "         -0.31832345-1.01913826e+00j,  3.00438693-1.10863074e-16j,\n",
       "         -0.45113968-1.38908374e+00j,  0.32741828+2.43527104e-02j,\n",
       "          0.67878057+8.08157792e-01j,  0.9625186 -2.19948229e-01j],\n",
       "        [-0.66648988+6.34914954e-01j, -1.71509717+2.99995268e-01j,\n",
       "          0.50572804+3.07643806e-01j, -0.45113968+1.38908374e+00j,\n",
       "         -1.8665001 -8.51001034e-17j, -0.22381594+7.50684558e-01j,\n",
       "         -1.63817676-3.86048532e-01j, -1.70605432-4.35426293e-01j],\n",
       "        [ 0.72872705-1.92520016e-01j,  0.06517562+7.21879491e-02j,\n",
       "         -0.60181522+3.91004322e-02j,  0.32741828-2.43527104e-02j,\n",
       "         -0.22381594-7.50684558e-01j,  0.05587245-2.20303099e-17j,\n",
       "          1.90215343+7.12211017e-01j, -1.21518609-4.71886551e-01j],\n",
       "        [ 0.46450583+3.48735459e-01j,  0.05236784+8.00791699e-01j,\n",
       "          0.33658616-6.18667086e-01j,  0.67878057-8.08157792e-01j,\n",
       "         -1.63817676+3.86048532e-01j,  1.90215343-7.12211017e-01j,\n",
       "         -2.46589296+6.93276168e-17j, -0.39503053+4.25721571e-01j],\n",
       "        [-0.34937171-7.29602858e-01j,  0.37782571-6.27793798e-02j,\n",
       "         -0.44629897-6.13539951e-02j,  0.9625186 +2.19948229e-01j,\n",
       "         -1.70605432+4.35426293e-01j, -1.21518609+4.71886551e-01j,\n",
       "         -0.39503053-4.25721571e-01j, -1.43265026+2.31760624e-17j]])"
      ]
     },
     "execution_count": 59,
     "metadata": {},
     "output_type": "execute_result"
    }
   ],
   "source": [
    "dbi_from_gci - dbi.h.matrix"
   ]
  },
  {
   "cell_type": "code",
   "execution_count": 43,
   "id": "776341ed",
   "metadata": {},
   "outputs": [
    {
     "name": "stderr",
     "output_type": "stream",
     "text": [
      "[Qibo 0.2.5|WARNING|2024-02-08 04:27:03]: Calculating the dense form of a symbolic Hamiltonian. This operation is memory inefficient.\n"
     ]
    },
    {
     "data": {
      "text/plain": [
       "3.626108312062859"
      ]
     },
     "execution_count": 43,
     "metadata": {},
     "output_type": "execute_result"
    }
   ],
   "source": [
    "dbi(0.2, d = d_0.dense)\n",
    "np.linalg.norm(dbi.h.matrix - h_input.dense.matrix)"
   ]
  },
  {
   "cell_type": "code",
   "execution_count": 22,
   "id": "90a8b161",
   "metadata": {},
   "outputs": [
    {
     "name": "stdout",
     "output_type": "stream",
     "text": [
      "q0: ─U─────U───U─U─────U─U─────U─U───U─────U───U─U─────U─U─────U─U───\n",
      "q1: ─U─────U─U─U─U─U─U─U─U─U─U─U─U─U─U─────U─U─U─U─U─U─U─U─U─U─U─U─U─\n",
      "q2: ───U─U───U─────U─U─────U─U─────U───U─U───U─────U─U─────U─U─────U─\n",
      "q0: ───U─U─────U─U─────U─U───U─────U───U─U─────U─U─────U─U───U─────U─\n",
      "q1: ─U─U─U─U─U─U─U─U─U─U─U─U─U─────U─U─U─U─U─U─U─U─U─U─U─U─U─U─────U─\n",
      "q2: ─U─────U─U─────U─U─────U───U─U───U─────U─U─────U─U─────U───U─U───\n",
      "9.519346834291838\n",
      "4.144980851654998\n"
     ]
    }
   ],
   "source": [
    "from functools import reduce\n",
    "before_circuit = reduce(Circuit.__add__,  query_list['backwards'])\n",
    "after_circuit = reduce(Circuit.__add__,  query_list['forwards'])\n",
    "print( before_circuit.draw() )\n",
    "print( after_circuit.draw() )\n",
    "\n",
    "u_before = before_circuit.unitary()\n",
    "u_after = after_circuit.unitary()\n",
    "\n",
    "print( np.linalg.norm( u_before @ input_hamiltonian_evolution_oracle_hamiltonian_simulation.h.matrix@ u_after -gci.h.matrix ))\n",
    "frame_shifted_input_hamiltonian_evolution_oracle = FrameShiftedEvolutionOracle( \n",
    "        input_hamiltonian_evolution_oracle_hamiltonian_simulation, 'Step 1', before_circuit, after_circuit)\n",
    "\n",
    "print( np.linalg.norm( gci.h.exp(0.3) - frame_shifted_input_hamiltonian_evolution_oracle.circuit(0.3).unitary()))"
   ]
  },
  {
   "cell_type": "code",
   "execution_count": null,
   "id": "024e0a4a",
   "metadata": {},
   "outputs": [],
   "source": []
  }
 ],
 "metadata": {
  "kernelspec": {
   "display_name": "Python 3 (ipykernel)",
   "language": "python",
   "name": "python3"
  },
  "language_info": {
   "codemirror_mode": {
    "name": "ipython",
    "version": 3
   },
   "file_extension": ".py",
   "mimetype": "text/x-python",
   "name": "python",
   "nbconvert_exporter": "python",
   "pygments_lexer": "ipython3",
   "version": "3.10.12"
  }
 },
 "nbformat": 4,
 "nbformat_minor": 5
}
