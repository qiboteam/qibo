{
 "cells": [
  {
   "cell_type": "markdown",
   "id": "238be0ba",
   "metadata": {},
   "source": [
    "## This compares to DoubleBracketIteration whenever possible"
   ]
  },
  {
   "cell_type": "code",
   "execution_count": 1,
   "id": "4ed280d7",
   "metadata": {},
   "outputs": [
    {
     "name": "stderr",
     "output_type": "stream",
     "text": [
      "[Qibo 0.2.5|INFO|2024-02-28 09:05:06]: Using qibojit (numba) backend on /CPU:0\n"
     ]
    }
   ],
   "source": [
    "from qibo.hamiltonians import SymbolicHamiltonian\n",
    "from qibo import symbols\n",
    "from double_bracket_evolution_oracles import *\n",
    "from group_commutator_iteration_transpiler import *\n",
    "from numpy.linalg import norm\n",
    "\"\"\"Test create evolution oracle\"\"\"\n",
    "\n",
    "h_x = SymbolicHamiltonian( symbols.X(0) + symbols.Z(0) * symbols.X(1) + symbols.Y(2) \n",
    "                              + symbols.Y(1) * symbols.Y(2), nqubits = 3 )\n",
    "d_0 = SymbolicHamiltonian(symbols.Z(0), nqubits = 3 )\n",
    "# Initialize with EvolutionOracleType hamiltonian_simulation so that d_0 is Delta\n",
    "h_input = h_x + d_0\n",
    "\n"
   ]
  },
  {
   "cell_type": "code",
   "execution_count": 2,
   "id": "adb26c5e",
   "metadata": {},
   "outputs": [],
   "source": [
    "t_step = 0.0051#0.98#dbi.hyperopt_step()"
   ]
  },
  {
   "cell_type": "markdown",
   "id": "1fda11ae",
   "metadata": {},
   "source": [
    "#### 1. DoubleBracketIteration and group commutator"
   ]
  },
  {
   "cell_type": "code",
   "execution_count": 3,
   "id": "8a03c568",
   "metadata": {},
   "outputs": [
    {
     "name": "stderr",
     "output_type": "stream",
     "text": [
      "[Qibo 0.2.5|WARNING|2024-02-28 09:05:06]: Calculating the dense form of a symbolic Hamiltonian. This operation is memory inefficient.\n"
     ]
    }
   ],
   "source": [
    "from double_bracket import *\n",
    "\n",
    "dbi = DoubleBracketIteration(deepcopy(h_input.dense))\n",
    "dbi.mode = DoubleBracketGeneratorType.group_commutator"
   ]
  },
  {
   "cell_type": "markdown",
   "id": "9b120dcf",
   "metadata": {},
   "source": [
    "DoubleBracketIteration only rotates the hamiltonian h, and currently doesn't give access to the unitary"
   ]
  },
  {
   "cell_type": "markdown",
   "id": "fe8d0ee3",
   "metadata": {},
   "source": [
    "Instead, we can wrap around the code executed in __call__"
   ]
  },
  {
   "cell_type": "code",
   "execution_count": 4,
   "id": "2b85bdfa",
   "metadata": {},
   "outputs": [
    {
     "name": "stderr",
     "output_type": "stream",
     "text": [
      "[Qibo 0.2.5|WARNING|2024-02-28 09:05:06]: Calculating the dense form of a symbolic Hamiltonian. This operation is memory inefficient.\n"
     ]
    }
   ],
   "source": [
    "def wrapper_gc(self,step, d):\n",
    "    return (\n",
    "                self.h.exp(-step)\n",
    "                @ self.backend.calculate_matrix_exp(-step, d)\n",
    "                @ self.h.exp(step)\n",
    "                @ self.backend.calculate_matrix_exp(step, d)\n",
    "            )\n",
    "unitary_gc_existing = wrapper_gc(dbi, np.sqrt(t_step),d_0.dense.matrix)"
   ]
  },
  {
   "cell_type": "code",
   "execution_count": 5,
   "id": "61699387",
   "metadata": {},
   "outputs": [],
   "source": [
    "dbi(t_step, d = d_0.dense.matrix)\n"
   ]
  },
  {
   "cell_type": "markdown",
   "id": "b3b2d4bd",
   "metadata": {},
   "source": [
    "#### 2. Evolution oracle hamiltonian simulation\n"
   ]
  },
  {
   "cell_type": "code",
   "execution_count": 6,
   "id": "c9a9b4ef",
   "metadata": {},
   "outputs": [],
   "source": [
    "evolution_oracle_hamiltonian_simulation = EvolutionOracle(deepcopy(h_input), \"ZX\",\n",
    "                               mode_evolution_oracle = EvolutionOracleType.hamiltonian_simulation)\n",
    "\n",
    "gci = GroupCommutatorIterationWithEvolutionOracles( deepcopy(evolution_oracle_hamiltonian_simulation ))"
   ]
  },
  {
   "cell_type": "code",
   "execution_count": 7,
   "id": "76844c6d",
   "metadata": {},
   "outputs": [],
   "source": [
    "evolution_oracle_diagonal_target =  EvolutionOracle(d_0, \"D0\",\n",
    "               mode_evolution_oracle=EvolutionOracleType.hamiltonian_simulation)\n",
    "\n"
   ]
  },
  {
   "cell_type": "code",
   "execution_count": 8,
   "id": "edc1fc41",
   "metadata": {},
   "outputs": [],
   "source": [
    "assert evolution_oracle_diagonal_target.mode_evolution_oracle.value is gci.iterated_hamiltonian_evolution_oracle.mode_evolution_oracle.value\n",
    "\n",
    "\n"
   ]
  },
  {
   "cell_type": "code",
   "execution_count": 9,
   "id": "72bdc7a7",
   "metadata": {},
   "outputs": [],
   "source": [
    "unitary_gc_from_oracles = gci.group_commutator( np.sqrt(t_step),\n",
    "           diagonal_association_evolution_oracle = evolution_oracle_diagonal_target )"
   ]
  },
  {
   "cell_type": "code",
   "execution_count": 10,
   "id": "4dc00e21",
   "metadata": {},
   "outputs": [
    {
     "data": {
      "text/plain": [
       "0.007068588046085704"
      ]
     },
     "execution_count": 10,
     "metadata": {},
     "output_type": "execute_result"
    }
   ],
   "source": [
    "norm(unitary_gc_from_oracles['forwards'].unitary() - unitary_gc_existing)"
   ]
  },
  {
   "cell_type": "code",
   "execution_count": 11,
   "id": "46c4b173",
   "metadata": {},
   "outputs": [
    {
     "data": {
      "text/plain": [
       "0.05706730540522153"
      ]
     },
     "execution_count": 11,
     "metadata": {},
     "output_type": "execute_result"
    }
   ],
   "source": [
    "norm(unitary_gc_from_oracles['backwards'].unitary() - unitary_gc_existing)"
   ]
  },
  {
   "cell_type": "markdown",
   "id": "e6bc1b3d",
   "metadata": {},
   "source": [
    "We may improve the discrepancy by setting smaller eps"
   ]
  },
  {
   "cell_type": "code",
   "execution_count": 12,
   "id": "c65c042b",
   "metadata": {},
   "outputs": [
    {
     "name": "stdout",
     "output_type": "stream",
     "text": [
      "Calling circuit in Hamiltonian simulation mode for time t=-0.07141428428542851 and next running discretization adjustment to reach precision eps = 1e-07\n",
      "3 5.703698185439878e-05\n",
      "6 1.425710829003397e-05\n",
      "12 3.5641435459211722e-06\n",
      "24 8.910275418042565e-07\n",
      "48 2.2275636394665562e-07\n",
      "96 5.568905837658941e-08\n",
      "Calling circuit in Hamiltonian simulation mode for time t=0.07141428428542851 and next running discretization adjustment to reach precision eps = 1e-07\n",
      "3 5.703698185442657e-05\n",
      "6 1.4257108290027298e-05\n",
      "12 3.5641435458984836e-06\n",
      "24 8.910275417724017e-07\n",
      "48 2.2275636393673975e-07\n",
      "96 5.568905839345736e-08\n",
      "Calling circuit in Hamiltonian simulation mode for time t=-0.07141428428542851 and next running discretization adjustment to reach precision eps = 1e-07\n",
      "3 5.703698185439878e-05\n",
      "6 1.425710829003397e-05\n",
      "12 3.5641435459211722e-06\n",
      "24 8.910275418042565e-07\n",
      "48 2.2275636394665562e-07\n",
      "96 5.568905837658941e-08\n",
      "Calling circuit in Hamiltonian simulation mode for time t=0.07141428428542851 and next running discretization adjustment to reach precision eps = 1e-07\n",
      "3 5.703698185442657e-05\n",
      "6 1.4257108290027298e-05\n",
      "12 3.5641435458984836e-06\n",
      "24 8.910275417724017e-07\n",
      "48 2.2275636393673975e-07\n",
      "96 5.568905839345736e-08\n"
     ]
    },
    {
     "data": {
      "text/plain": [
       "0.00706869515351788"
      ]
     },
     "execution_count": 12,
     "metadata": {},
     "output_type": "execute_result"
    }
   ],
   "source": [
    "gci.iterated_hamiltonian_evolution_oracle.eps_trottersuzuki = 0.0000001\n",
    "evolution_oracle_diagonal_target.eps_trottersuzuki = 0.00000001\n",
    "gci.iterated_hamiltonian_evolution_oracle.please_be_verbose = True\n",
    "evolution_oracle_diagonal_target.please_be_verbose = False\n",
    "\n",
    "gci.mode_double_bracket_rotation = DoubleBracketRotationType.group_commutator\n",
    "unitary_gc_from_oracles = gci.group_commutator( np.sqrt(t_step),\n",
    "           diagonal_association_evolution_oracle = evolution_oracle_diagonal_target )\n",
    "norm(unitary_gc_from_oracles['forwards'].unitary() - unitary_gc_existing)"
   ]
  },
  {
   "cell_type": "code",
   "execution_count": 13,
   "id": "067d7288",
   "metadata": {},
   "outputs": [
    {
     "name": "stdout",
     "output_type": "stream",
     "text": [
      "Calling circuit in Hamiltonian simulation mode for time t=-0.07141428428542851 and next running discretization adjustment to reach precision eps = 1e-07\n",
      "3 5.703698185439878e-05\n",
      "6 1.425710829003397e-05\n",
      "12 3.5641435459211722e-06\n",
      "24 8.910275418042565e-07\n",
      "48 2.2275636394665562e-07\n",
      "96 5.568905837658941e-08\n",
      "Calling circuit in Hamiltonian simulation mode for time t=0.07141428428542851 and next running discretization adjustment to reach precision eps = 1e-07\n",
      "3 5.703698185442657e-05\n",
      "6 1.4257108290027298e-05\n",
      "12 3.5641435458984836e-06\n",
      "24 8.910275417724017e-07\n",
      "48 2.2275636393673975e-07\n",
      "96 5.568905839345736e-08\n",
      "Calling circuit in Hamiltonian simulation mode for time t=-0.07141428428542851 and next running discretization adjustment to reach precision eps = 1e-07\n",
      "3 5.703698185439878e-05\n",
      "6 1.425710829003397e-05\n",
      "12 3.5641435459211722e-06\n",
      "24 8.910275418042565e-07\n",
      "48 2.2275636394665562e-07\n",
      "96 5.568905837658941e-08\n",
      "Calling circuit in Hamiltonian simulation mode for time t=0.07141428428542851 and next running discretization adjustment to reach precision eps = 1e-07\n",
      "3 5.703698185442657e-05\n",
      "6 1.4257108290027298e-05\n",
      "12 3.5641435458984836e-06\n",
      "24 8.910275417724017e-07\n",
      "48 2.2275636393673975e-07\n",
      "96 5.568905839345736e-08\n"
     ]
    },
    {
     "data": {
      "text/plain": [
       "0.009965571871141131"
      ]
     },
     "execution_count": 13,
     "metadata": {},
     "output_type": "execute_result"
    }
   ],
   "source": [
    "\n",
    "gci.mode_double_bracket_rotation = DoubleBracketRotationType.group_commutator_other_sorting\n",
    "unitary_gc_from_oracles = gci.group_commutator( np.sqrt(t_step),\n",
    "           diagonal_association_evolution_oracle = evolution_oracle_diagonal_target )\n",
    "norm(unitary_gc_from_oracles['backwards'].unitary() - unitary_gc_existing)"
   ]
  },
  {
   "cell_type": "markdown",
   "id": "fe089127",
   "metadata": {},
   "source": [
    "#### 3. Evolution oracle numpy\n"
   ]
  },
  {
   "cell_type": "code",
   "execution_count": 14,
   "id": "5d92342a",
   "metadata": {},
   "outputs": [],
   "source": [
    "evolution_oracle_numerical = EvolutionOracle(deepcopy(h_input), \"ZX\",\n",
    "                               mode_evolution_oracle = EvolutionOracleType.numerical)\n",
    "\n",
    "gci = GroupCommutatorIterationWithEvolutionOracles( deepcopy(evolution_oracle_numerical ))"
   ]
  },
  {
   "cell_type": "code",
   "execution_count": 15,
   "id": "c7dfce82",
   "metadata": {},
   "outputs": [],
   "source": [
    "evolution_oracle_diagonal_target =  EvolutionOracle(d_0, \"D0\",\n",
    "               mode_evolution_oracle=EvolutionOracleType.numerical)\n"
   ]
  },
  {
   "cell_type": "code",
   "execution_count": 16,
   "id": "1c7abdf1",
   "metadata": {},
   "outputs": [],
   "source": [
    "unitary_gc_from_oracles = gci.group_commutator( np.sqrt(t_step),\n",
    "           diagonal_association_evolution_oracle = evolution_oracle_diagonal_target )"
   ]
  },
  {
   "cell_type": "markdown",
   "id": "994704b9",
   "metadata": {},
   "source": [
    "Compared to the group commutator using Hamiltonian simulation there will be small deviations that arise from Trotter-Suzuki decomposition"
   ]
  },
  {
   "cell_type": "code",
   "execution_count": 17,
   "id": "7a289f6b",
   "metadata": {
    "scrolled": true
   },
   "outputs": [
    {
     "data": {
      "text/plain": [
       "0.0040927048339044324"
      ]
     },
     "execution_count": 17,
     "metadata": {},
     "output_type": "execute_result"
    }
   ],
   "source": [
    "norm(unitary_gc_from_oracles['backwards'] - unitary_gc_existing)"
   ]
  },
  {
   "cell_type": "code",
   "execution_count": 18,
   "id": "b51b35e0",
   "metadata": {},
   "outputs": [
    {
     "data": {
      "text/plain": [
       "0.057357576681930346"
      ]
     },
     "execution_count": 18,
     "metadata": {},
     "output_type": "execute_result"
    }
   ],
   "source": [
    "norm(unitary_gc_from_oracles['forwards'] - unitary_gc_existing)"
   ]
  },
  {
   "cell_type": "markdown",
   "id": "254a2d48",
   "metadata": {},
   "source": [
    "We may check by switching the group commutator flag that the difference comes from ordering and inversions"
   ]
  },
  {
   "cell_type": "code",
   "execution_count": 19,
   "id": "c95fe6a2",
   "metadata": {},
   "outputs": [
    {
     "data": {
      "text/plain": [
       "0.0"
      ]
     },
     "execution_count": 19,
     "metadata": {},
     "output_type": "execute_result"
    }
   ],
   "source": [
    "gci.mode_double_bracket_rotation = DoubleBracketRotationType.group_commutator_other_sorting\n",
    "\n",
    "unitary_gc_from_oracles = gci.group_commutator( np.sqrt(t_step),\n",
    "           diagonal_association_evolution_oracle = evolution_oracle_diagonal_target )\n",
    "norm(unitary_gc_from_oracles['forwards'] - unitary_gc_existing)"
   ]
  },
  {
   "cell_type": "markdown",
   "id": "32ae7052",
   "metadata": {},
   "source": [
    "#### 4. Check gci rotation"
   ]
  },
  {
   "cell_type": "code",
   "execution_count": 20,
   "id": "11b5bcd2",
   "metadata": {},
   "outputs": [],
   "source": [
    "evolution_oracle_hamiltonian_simulation = EvolutionOracle(deepcopy(h_input), \"ZX\",\n",
    "                               mode_evolution_oracle = EvolutionOracleType.hamiltonian_simulation)\n",
    "evolution_oracle_diagonal_target =  EvolutionOracle(d_0, \"D0\",\n",
    "               mode_evolution_oracle=EvolutionOracleType.hamiltonian_simulation)\n",
    "gci = GroupCommutatorIterationWithEvolutionOracles( deepcopy(evolution_oracle_hamiltonian_simulation ))"
   ]
  },
  {
   "cell_type": "code",
   "execution_count": 21,
   "id": "cc65f36b",
   "metadata": {},
   "outputs": [
    {
     "data": {
      "text/plain": [
       "qibo.models.dbi.double_bracket_evolution_oracles.EvolutionOracle"
      ]
     },
     "execution_count": 21,
     "metadata": {},
     "output_type": "execute_result"
    }
   ],
   "source": [
    "type(gci.iterated_hamiltonian_evolution_oracle)"
   ]
  },
  {
   "cell_type": "code",
   "execution_count": 22,
   "id": "ed9fc128",
   "metadata": {},
   "outputs": [],
   "source": [
    "gci(t_step, diagonal_association=evolution_oracle_diagonal_target)"
   ]
  },
  {
   "cell_type": "code",
   "execution_count": 23,
   "id": "d096b97f",
   "metadata": {},
   "outputs": [
    {
     "data": {
      "text/plain": [
       "qibo.models.dbi.double_bracket_evolution_oracles.FrameShiftedEvolutionOracle"
      ]
     },
     "execution_count": 23,
     "metadata": {},
     "output_type": "execute_result"
    }
   ],
   "source": [
    "type(gci.iterated_hamiltonian_evolution_oracle)"
   ]
  },
  {
   "cell_type": "code",
   "execution_count": 24,
   "id": "24d7c169",
   "metadata": {},
   "outputs": [
    {
     "data": {
      "text/plain": [
       "<EvolutionOracleType.hamiltonian_simulation: 3>"
      ]
     },
     "execution_count": 24,
     "metadata": {},
     "output_type": "execute_result"
    }
   ],
   "source": [
    "gci.iterated_hamiltonian_evolution_oracle.mode_evolution_oracle"
   ]
  },
  {
   "cell_type": "code",
   "execution_count": 25,
   "id": "2977472f",
   "metadata": {},
   "outputs": [],
   "source": [
    "u_frame_shifted = gci.iterated_hamiltonian_evolution_oracle.circuit(t_step).unitary()"
   ]
  },
  {
   "cell_type": "code",
   "execution_count": 26,
   "id": "ee01d03d",
   "metadata": {},
   "outputs": [
    {
     "data": {
      "text/plain": [
       "2.599372836877071e-06"
      ]
     },
     "execution_count": 26,
     "metadata": {},
     "output_type": "execute_result"
    }
   ],
   "source": [
    "norm( dbi.h.exp(t_step) - u_frame_shifted)"
   ]
  },
  {
   "cell_type": "code",
   "execution_count": 27,
   "id": "eb70162a",
   "metadata": {},
   "outputs": [
    {
     "data": {
      "text/plain": [
       "<EvolutionOracleType.hamiltonian_simulation: 3>"
      ]
     },
     "execution_count": 27,
     "metadata": {},
     "output_type": "execute_result"
    }
   ],
   "source": [
    "gci.iterated_hamiltonian_evolution_oracle.mode_evolution_oracle\n"
   ]
  },
  {
   "cell_type": "code",
   "execution_count": 28,
   "id": "a3a57fbe",
   "metadata": {},
   "outputs": [],
   "source": [
    "gci(t_step, diagonal_association=evolution_oracle_diagonal_target)"
   ]
  },
  {
   "cell_type": "code",
   "execution_count": 29,
   "id": "1dba0755",
   "metadata": {},
   "outputs": [],
   "source": [
    "dbi(t_step, d = evolution_oracle_diagonal_target.h.dense.matrix)"
   ]
  },
  {
   "cell_type": "code",
   "execution_count": 30,
   "id": "a22a77e0",
   "metadata": {},
   "outputs": [],
   "source": [
    "u_frame_shifted = gci.iterated_hamiltonian_evolution_oracle.circuit(t_step).unitary()\n"
   ]
  },
  {
   "cell_type": "code",
   "execution_count": 32,
   "id": "6d8b5fe7",
   "metadata": {},
   "outputs": [
    {
     "data": {
      "text/plain": [
       "2.6001822532601247e-06"
      ]
     },
     "execution_count": 32,
     "metadata": {},
     "output_type": "execute_result"
    }
   ],
   "source": [
    "norm( dbi.h.exp(t_step) - u_frame_shifted)"
   ]
  },
  {
   "cell_type": "code",
   "execution_count": null,
   "id": "56b3e69c",
   "metadata": {},
   "outputs": [],
   "source": []
  },
  {
   "cell_type": "code",
   "execution_count": 33,
   "id": "a1e61678",
   "metadata": {},
   "outputs": [
    {
     "ename": "AssertionError",
     "evalue": "",
     "output_type": "error",
     "traceback": [
      "\u001b[0;31m---------------------------------------------------------------------------\u001b[0m",
      "\u001b[0;31mAssertionError\u001b[0m                            Traceback (most recent call last)",
      "\u001b[0;32m/tmp/ipykernel_207231/3626348486.py\u001b[0m in \u001b[0;36m<module>\u001b[0;34m\u001b[0m\n\u001b[1;32m      1\u001b[0m \u001b[0;32mfor\u001b[0m \u001b[0mk\u001b[0m \u001b[0;32min\u001b[0m \u001b[0mrange\u001b[0m\u001b[0;34m(\u001b[0m\u001b[0;36m3\u001b[0m\u001b[0;34m)\u001b[0m\u001b[0;34m:\u001b[0m\u001b[0;34m\u001b[0m\u001b[0;34m\u001b[0m\u001b[0m\n\u001b[0;32m----> 2\u001b[0;31m     \u001b[0mgci\u001b[0m\u001b[0;34m(\u001b[0m\u001b[0mt_step\u001b[0m\u001b[0;34m,\u001b[0m \u001b[0mdiagonal_association\u001b[0m\u001b[0;34m=\u001b[0m\u001b[0mevolution_oracle_diagonal_target\u001b[0m\u001b[0;34m)\u001b[0m\u001b[0;34m\u001b[0m\u001b[0;34m\u001b[0m\u001b[0m\n\u001b[0m\u001b[1;32m      3\u001b[0m     \u001b[0mdbi\u001b[0m\u001b[0;34m(\u001b[0m\u001b[0mt_step\u001b[0m\u001b[0;34m,\u001b[0m \u001b[0md\u001b[0m \u001b[0;34m=\u001b[0m \u001b[0mevolution_oracle_diagonal_target\u001b[0m\u001b[0;34m.\u001b[0m\u001b[0mh\u001b[0m\u001b[0;34m.\u001b[0m\u001b[0mdense\u001b[0m\u001b[0;34m.\u001b[0m\u001b[0mmatrix\u001b[0m\u001b[0;34m)\u001b[0m\u001b[0;34m\u001b[0m\u001b[0;34m\u001b[0m\u001b[0m\n\u001b[1;32m      4\u001b[0m     \u001b[0mnorm\u001b[0m\u001b[0;34m(\u001b[0m \u001b[0mdbi\u001b[0m\u001b[0;34m.\u001b[0m\u001b[0mh\u001b[0m\u001b[0;34m.\u001b[0m\u001b[0mexp\u001b[0m\u001b[0;34m(\u001b[0m\u001b[0mt_step\u001b[0m\u001b[0;34m)\u001b[0m \u001b[0;34m-\u001b[0m \u001b[0mu_frame_shifted\u001b[0m\u001b[0;34m)\u001b[0m\u001b[0;34m\u001b[0m\u001b[0;34m\u001b[0m\u001b[0m\n",
      "\u001b[0;32m~/Projects_git/DBI_qibo/src/qibo/models/dbi/group_commutator_iteration_transpiler.py\u001b[0m in \u001b[0;36m__call__\u001b[0;34m(self, step_duration, diagonal_association, mode_double_bracket_rotation)\u001b[0m\n\u001b[1;32m    128\u001b[0m         \u001b[0;32melse\u001b[0m\u001b[0;34m:\u001b[0m\u001b[0;34m\u001b[0m\u001b[0;34m\u001b[0m\u001b[0m\n\u001b[1;32m    129\u001b[0m             \u001b[0;31m# This will run the appropriate group commutator step\u001b[0m\u001b[0;34m\u001b[0m\u001b[0;34m\u001b[0m\u001b[0m\n\u001b[0;32m--> 130\u001b[0;31m             double_bracket_rotation_step = self.group_commutator(\n\u001b[0m\u001b[1;32m    131\u001b[0m                 \u001b[0mstep_duration\u001b[0m\u001b[0;34m,\u001b[0m \u001b[0mdiagonal_association\u001b[0m\u001b[0;34m\u001b[0m\u001b[0;34m\u001b[0m\u001b[0m\n\u001b[1;32m    132\u001b[0m             )\n",
      "\u001b[0;32m~/Projects_git/DBI_qibo/src/qibo/models/dbi/group_commutator_iteration_transpiler.py\u001b[0m in \u001b[0;36mgroup_commutator\u001b[0;34m(self, s_step, diagonal_association_evolution_oracle, iterated_hamiltonian_evolution_oracle)\u001b[0m\n\u001b[1;32m    161\u001b[0m \u001b[0;34m\u001b[0m\u001b[0m\n\u001b[1;32m    162\u001b[0m         \u001b[0;32mif\u001b[0m \u001b[0mself\u001b[0m\u001b[0;34m.\u001b[0m\u001b[0mmode_double_bracket_rotation\u001b[0m \u001b[0;32mis\u001b[0m \u001b[0mDoubleBracketRotationType\u001b[0m\u001b[0;34m.\u001b[0m\u001b[0mgroup_commutator\u001b[0m\u001b[0;34m:\u001b[0m\u001b[0;34m\u001b[0m\u001b[0;34m\u001b[0m\u001b[0m\n\u001b[0;32m--> 163\u001b[0;31m             \u001b[0;32massert\u001b[0m \u001b[0mdiagonal_association_evolution_oracle\u001b[0m\u001b[0;34m.\u001b[0m\u001b[0mmode_evolution_oracle\u001b[0m\u001b[0;34m.\u001b[0m\u001b[0mvalue\u001b[0m \u001b[0;32mis\u001b[0m \u001b[0mself\u001b[0m\u001b[0;34m.\u001b[0m\u001b[0miterated_hamiltonian_evolution_oracle\u001b[0m\u001b[0;34m.\u001b[0m\u001b[0mmode_evolution_oracle\u001b[0m\u001b[0;34m.\u001b[0m\u001b[0mvalue\u001b[0m\u001b[0;34m\u001b[0m\u001b[0;34m\u001b[0m\u001b[0m\n\u001b[0m\u001b[1;32m    164\u001b[0m \u001b[0;34m\u001b[0m\u001b[0m\n\u001b[1;32m    165\u001b[0m             if (diagonal_association_evolution_oracle.mode_evolution_oracle is EvolutionOracleType.text_strings or\n",
      "\u001b[0;31mAssertionError\u001b[0m: "
     ]
    }
   ],
   "source": [
    "for k in range(3):\n",
    "    gci(t_step, diagonal_association=evolution_oracle_diagonal_target)\n",
    "    dbi(t_step, d = evolution_oracle_diagonal_target.h.dense.matrix)\n",
    "    norm( dbi.h.exp(t_step) - u_frame_shifted)"
   ]
  },
  {
   "cell_type": "code",
   "execution_count": null,
   "id": "4ca65c6d",
   "metadata": {},
   "outputs": [],
   "source": []
  },
  {
   "cell_type": "code",
   "execution_count": null,
   "id": "c20a4c48",
   "metadata": {},
   "outputs": [],
   "source": []
  },
  {
   "cell_type": "code",
   "execution_count": null,
   "id": "9d722192",
   "metadata": {},
   "outputs": [],
   "source": []
  },
  {
   "cell_type": "code",
   "execution_count": 31,
   "id": "389d7bbe",
   "metadata": {},
   "outputs": [
    {
     "ename": "ValueError",
     "evalue": "matmul: Input operand 0 does not have enough dimensions (has 0, gufunc core with signature (n?,k),(k,m?)->(n?,m?) requires 1)",
     "output_type": "error",
     "traceback": [
      "\u001b[0;31m---------------------------------------------------------------------------\u001b[0m",
      "\u001b[0;31mValueError\u001b[0m                                Traceback (most recent call last)",
      "\u001b[0;32m/tmp/ipykernel_207231/916023419.py\u001b[0m in \u001b[0;36m<module>\u001b[0;34m\u001b[0m\n\u001b[1;32m      1\u001b[0m \u001b[0mgci\u001b[0m\u001b[0;34m.\u001b[0m\u001b[0miterated_hamiltonian_evolution_oracle\u001b[0m\u001b[0;34m.\u001b[0m\u001b[0mmode_evolution_oracle\u001b[0m \u001b[0;34m=\u001b[0m \u001b[0mEvolutionOracleType\u001b[0m\u001b[0;34m.\u001b[0m\u001b[0mnumerical\u001b[0m\u001b[0;34m\u001b[0m\u001b[0;34m\u001b[0m\u001b[0m\n\u001b[0;32m----> 2\u001b[0;31m gc_numpy = gci.group_commutator( np.sqrt(t_step),\n\u001b[0m\u001b[1;32m      3\u001b[0m                                              diagonal_association_evolution_oracle= EvolutionOracle(d_0, \"D0\",mode_evolution_oracle=EvolutionOracleType.numerical))\n",
      "\u001b[0;32m~/Projects_git/DBI_qibo/src/qibo/models/dbi/group_commutator_iteration_transpiler.py\u001b[0m in \u001b[0;36mgroup_commutator\u001b[0;34m(self, s_step, diagonal_association_evolution_oracle, iterated_hamiltonian_evolution_oracle)\u001b[0m\n\u001b[1;32m    178\u001b[0m                     ) }\n\u001b[1;32m    179\u001b[0m             \u001b[0;32melif\u001b[0m \u001b[0mdiagonal_association_evolution_oracle\u001b[0m\u001b[0;34m.\u001b[0m\u001b[0mmode_evolution_oracle\u001b[0m \u001b[0;32mis\u001b[0m \u001b[0mEvolutionOracleType\u001b[0m\u001b[0;34m.\u001b[0m\u001b[0mnumerical\u001b[0m\u001b[0;34m:\u001b[0m\u001b[0;34m\u001b[0m\u001b[0;34m\u001b[0m\u001b[0m\n\u001b[0;32m--> 180\u001b[0;31m                 return {'forwards':  ( iterated_hamiltonian_evolution_oracle.circuit(-s_step)@\n\u001b[0m\u001b[1;32m    181\u001b[0m                     \u001b[0mdiagonal_association_evolution_oracle\u001b[0m\u001b[0;34m.\u001b[0m\u001b[0mcircuit\u001b[0m\u001b[0;34m(\u001b[0m\u001b[0ms_step\u001b[0m\u001b[0;34m)\u001b[0m\u001b[0;34m@\u001b[0m\u001b[0;34m\u001b[0m\u001b[0;34m\u001b[0m\u001b[0m\n\u001b[1;32m    182\u001b[0m                     \u001b[0miterated_hamiltonian_evolution_oracle\u001b[0m\u001b[0;34m.\u001b[0m\u001b[0mcircuit\u001b[0m\u001b[0;34m(\u001b[0m\u001b[0ms_step\u001b[0m\u001b[0;34m)\u001b[0m\u001b[0;34m@\u001b[0m\u001b[0;34m\u001b[0m\u001b[0;34m\u001b[0m\u001b[0m\n",
      "\u001b[0;32m~/.local/lib/python3.10/site-packages/qibo/models/dbi/double_bracket_evolution_oracles.py\u001b[0m in \u001b[0;36mcircuit\u001b[0;34m(self, t_duration)\u001b[0m\n\u001b[1;32m    117\u001b[0m             \u001b[0;32mreturn\u001b[0m \u001b[0mself\u001b[0m\u001b[0;34m.\u001b[0m\u001b[0mname\u001b[0m \u001b[0;34m+\u001b[0m \u001b[0;34m\"(\"\u001b[0m \u001b[0;34m+\u001b[0m \u001b[0mstr\u001b[0m\u001b[0;34m(\u001b[0m\u001b[0mt_duration\u001b[0m\u001b[0;34m)\u001b[0m \u001b[0;34m+\u001b[0m \u001b[0;34m\")\"\u001b[0m\u001b[0;34m\u001b[0m\u001b[0;34m\u001b[0m\u001b[0m\n\u001b[1;32m    118\u001b[0m         \u001b[0;32melif\u001b[0m \u001b[0mself\u001b[0m\u001b[0;34m.\u001b[0m\u001b[0mmode_evolution_oracle\u001b[0m \u001b[0;32mis\u001b[0m \u001b[0mEvolutionOracleType\u001b[0m\u001b[0;34m.\u001b[0m\u001b[0mnumerical\u001b[0m\u001b[0;34m:\u001b[0m\u001b[0;34m\u001b[0m\u001b[0;34m\u001b[0m\u001b[0m\n\u001b[0;32m--> 119\u001b[0;31m             \u001b[0;32mreturn\u001b[0m \u001b[0mself\u001b[0m\u001b[0;34m.\u001b[0m\u001b[0mbefore_circuit\u001b[0m \u001b[0;34m@\u001b[0m \u001b[0mself\u001b[0m\u001b[0;34m.\u001b[0m\u001b[0mh\u001b[0m\u001b[0;34m.\u001b[0m\u001b[0mexp\u001b[0m\u001b[0;34m(\u001b[0m\u001b[0mt_duration\u001b[0m\u001b[0;34m)\u001b[0m \u001b[0;34m@\u001b[0m \u001b[0mself\u001b[0m\u001b[0;34m.\u001b[0m\u001b[0mafter_circuit\u001b[0m\u001b[0;34m\u001b[0m\u001b[0;34m\u001b[0m\u001b[0m\n\u001b[0m\u001b[1;32m    120\u001b[0m         \u001b[0;32melif\u001b[0m \u001b[0mself\u001b[0m\u001b[0;34m.\u001b[0m\u001b[0mmode_evolution_oracle\u001b[0m \u001b[0;32mis\u001b[0m \u001b[0mEvolutionOracleType\u001b[0m\u001b[0;34m.\u001b[0m\u001b[0mhamiltonian_simulation\u001b[0m\u001b[0;34m:\u001b[0m\u001b[0;34m\u001b[0m\u001b[0;34m\u001b[0m\u001b[0m\n\u001b[1;32m    121\u001b[0m             \u001b[0;32mreturn\u001b[0m \u001b[0mself\u001b[0m\u001b[0;34m.\u001b[0m\u001b[0mbefore_circuit\u001b[0m \u001b[0;34m+\u001b[0m  \u001b[0mself\u001b[0m\u001b[0;34m.\u001b[0m\u001b[0mbase_evolution_oracle\u001b[0m\u001b[0;34m.\u001b[0m\u001b[0mcircuit\u001b[0m\u001b[0;34m(\u001b[0m\u001b[0mt_duration\u001b[0m\u001b[0;34m)\u001b[0m \u001b[0;34m+\u001b[0m \u001b[0mself\u001b[0m\u001b[0;34m.\u001b[0m\u001b[0mafter_circuit\u001b[0m\u001b[0;34m\u001b[0m\u001b[0;34m\u001b[0m\u001b[0m\n",
      "\u001b[0;31mValueError\u001b[0m: matmul: Input operand 0 does not have enough dimensions (has 0, gufunc core with signature (n?,k),(k,m?)->(n?,m?) requires 1)"
     ]
    }
   ],
   "source": [
    "gci.iterated_hamiltonian_evolution_oracle.mode_evolution_oracle = EvolutionOracleType.numerical\n",
    "gc_numpy = gci.group_commutator( np.sqrt(t_step),\n",
    "                                             diagonal_association_evolution_oracle= EvolutionOracle(d_0, \"D0\",mode_evolution_oracle=EvolutionOracleType.numerical))"
   ]
  },
  {
   "cell_type": "code",
   "execution_count": null,
   "id": "d4f78e3a",
   "metadata": {},
   "outputs": [],
   "source": []
  },
  {
   "cell_type": "code",
   "execution_count": null,
   "id": "e4d23962",
   "metadata": {},
   "outputs": [],
   "source": [
    "## Test more fancy functionalities\n",
    "input_hamiltonian_evolution_oracle_hamiltonian_simulation.please_be_verbose = False\n",
    "gci = GroupCommutatorIterationWithEvolutionOracles( deepcopy(input_hamiltonian_evolution_oracle_hamiltonian_simulation ))\n",
    "d_ev =  EvolutionOracle(d_0, \"D0\",mode_evolution_oracle=EvolutionOracleType.hamiltonian_simulation)\n",
    "\n",
    "gci.iterated_hamiltonian_evolution_oracle.mode_evolution_oracle = EvolutionOracleType.hamiltonian_simulation\n",
    "query_list = gci.group_commutator( np.sqrt(t_step),\n",
    "                                             diagonal_association_evolution_oracle= d_ev )\n",
    "\n",
    "norm(query_list['forwards'].unitary() -query_list['backwards'].unitary().conj().T)\n",
    "\n",
    "\n"
   ]
  },
  {
   "cell_type": "code",
   "execution_count": null,
   "id": "2e69dc0b",
   "metadata": {},
   "outputs": [],
   "source": [
    "norm(query_list['forwards'] -query_list['backwards'].T.conj())"
   ]
  },
  {
   "cell_type": "code",
   "execution_count": null,
   "id": "bfee7994",
   "metadata": {},
   "outputs": [],
   "source": [
    "#Test file entry\n",
    "u = gci.iterated_hamiltonian_evolution_oracle.circuit( np.sqrt(t_step)).unitary()\n",
    "u2 = gci.iterated_hamiltonian_evolution_oracle.circuit( -np.sqrt(t_step)).unitary()\n",
    "norm(u-u2.T.conj())"
   ]
  },
  {
   "cell_type": "code",
   "execution_count": null,
   "id": "527bb789",
   "metadata": {},
   "outputs": [],
   "source": [
    "d_0.mode_evolution_oracle = EvolutionOracleType.text_strings\n",
    "gci.iterated_hamiltonian_evolution_oracle.mode_evolution_oracle = EvolutionOracleType.text_strings\n",
    "query_list = gci.group_commutator( np.sqrt(t_step*2),\n",
    "             diagonal_association_evolution_oracle= EvolutionOracle(d_0, \"D0\"))\n",
    "\n",
    "\n",
    "query_list['forwards']"
   ]
  }
 ],
 "metadata": {
  "kernelspec": {
   "display_name": "Python 3 (ipykernel)",
   "language": "python",
   "name": "python3"
  },
  "language_info": {
   "codemirror_mode": {
    "name": "ipython",
    "version": 3
   },
   "file_extension": ".py",
   "mimetype": "text/x-python",
   "name": "python",
   "nbconvert_exporter": "python",
   "pygments_lexer": "ipython3",
   "version": "3.10.12"
  }
 },
 "nbformat": 4,
 "nbformat_minor": 5
}
