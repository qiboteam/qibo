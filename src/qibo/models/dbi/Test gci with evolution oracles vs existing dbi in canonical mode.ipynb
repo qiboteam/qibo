{
 "cells": [
  {
   "cell_type": "code",
   "execution_count": 13,
   "id": "4ed280d7",
   "metadata": {},
   "outputs": [],
   "source": [
    "from qibo.hamiltonians import SymbolicHamiltonian\n",
    "from qibo import symbols\n",
    "from double_bracket_evolution_oracles import *\n",
    "from group_commutator_iteration_transpiler import *\n",
    "from numpy.linalg import norm\n",
    "\"\"\"Test create evolution oracle\"\"\"\n",
    "\n",
    "h_x = SymbolicHamiltonian( symbols.X(0) + symbols.Z(0) * symbols.X(1) + symbols.Y(2) \n",
    "                              + symbols.Y(1) * symbols.Y(2), nqubits = 3 )\n",
    "d_0 = SymbolicHamiltonian(symbols.Z(0), nqubits = 3 )\n",
    "# Initialize with EvolutionOracleType hamiltonian_simulation so that d_0 is Delta\n",
    "h_input = h_x + d_0\n",
    "input_hamiltonian_evolution_oracle_hamiltonian_simulation = EvolutionOracle(deepcopy(h_input), \"ZX\",\n",
    "                                                                mode_evolution_oracle = EvolutionOracleType.hamiltonian_simulation)"
   ]
  },
  {
   "cell_type": "code",
   "execution_count": 14,
   "id": "8a03c568",
   "metadata": {},
   "outputs": [
    {
     "name": "stderr",
     "output_type": "stream",
     "text": [
      "[Qibo 0.2.5|WARNING|2024-02-08 07:00:12]: Calculating the dense form of a symbolic Hamiltonian. This operation is memory inefficient.\n"
     ]
    }
   ],
   "source": [
    "from double_bracket import *\n",
    "\n",
    "dbi = DoubleBracketIteration(deepcopy(h_input.dense))\n"
   ]
  },
  {
   "cell_type": "code",
   "execution_count": 15,
   "id": "2791ac7a",
   "metadata": {},
   "outputs": [],
   "source": [
    "t_step = 0.051#0.98#dbi.hyperopt_step()"
   ]
  },
  {
   "cell_type": "code",
   "execution_count": 16,
   "id": "61699387",
   "metadata": {},
   "outputs": [
    {
     "data": {
      "text/plain": [
       "28.82580567725418"
      ]
     },
     "execution_count": 16,
     "metadata": {},
     "output_type": "execute_result"
    }
   ],
   "source": [
    "dbi(t_step)\n",
    "dbi.off_diagonal_norm"
   ]
  },
  {
   "cell_type": "code",
   "execution_count": 17,
   "id": "2c922275",
   "metadata": {},
   "outputs": [],
   "source": [
    "## Test more fancy functionalities\n",
    "input_hamiltonian_evolution_oracle_hamiltonian_simulation.please_be_verbose = False\n",
    "gci = GroupCommutatorIterationWithEvolutionOracles( deepcopy(input_hamiltonian_evolution_oracle_hamiltonian_simulation ))"
   ]
  },
  {
   "cell_type": "code",
   "execution_count": 18,
   "id": "e5ef8593",
   "metadata": {},
   "outputs": [
    {
     "data": {
      "text/plain": [
       "5.136025650750149e-16"
      ]
     },
     "execution_count": 18,
     "metadata": {},
     "output_type": "execute_result"
    }
   ],
   "source": [
    "u = gci.iterated_hamiltonian_evolution_oracle.circuit( np.sqrt(t_step)).unitary()\n",
    "u2 = gci.iterated_hamiltonian_evolution_oracle.circuit( -np.sqrt(t_step)).unitary()\n",
    "norm(u-u2.T.conj())"
   ]
  },
  {
   "cell_type": "code",
   "execution_count": 19,
   "id": "69e80221",
   "metadata": {},
   "outputs": [
    {
     "data": {
      "text/plain": [
       "'ZX-0.22583179581272428D00.22583179581272428ZX0.22583179581272428D0-0.22583179581272428'"
      ]
     },
     "execution_count": 19,
     "metadata": {},
     "output_type": "execute_result"
    }
   ],
   "source": [
    "d_0.mode_evolution_oracle = EvolutionOracleType.text_strings\n",
    "gci.iterated_hamiltonian_evolution_oracle.mode_evolution_oracle = EvolutionOracleType.text_strings\n",
    "query_list = gci.group_commutator( np.sqrt(t_step),\n",
    "                                             diagonal_association_evolution_oracle= EvolutionOracle(d_0, \"D0\"))\n",
    "\n",
    "\n",
    "query_list['forwards']"
   ]
  },
  {
   "cell_type": "code",
   "execution_count": 20,
   "id": "8e865288",
   "metadata": {},
   "outputs": [
    {
     "name": "stderr",
     "output_type": "stream",
     "text": [
      "[Qibo 0.2.5|WARNING|2024-02-08 07:00:13]: Calculating the dense form of a symbolic Hamiltonian. This operation is memory inefficient.\n",
      "[Qibo 0.2.5|WARNING|2024-02-08 07:00:13]: Calculating the dense form of a symbolic Hamiltonian. This operation is memory inefficient.\n"
     ]
    },
    {
     "data": {
      "text/plain": [
       "7.193109780637881e-16"
      ]
     },
     "execution_count": 20,
     "metadata": {},
     "output_type": "execute_result"
    }
   ],
   "source": [
    "\n",
    "gci.iterated_hamiltonian_evolution_oracle.mode_evolution_oracle = EvolutionOracleType.numerical\n",
    "query_list = gci.group_commutator( np.sqrt(t_step),\n",
    "                                             diagonal_association_evolution_oracle= EvolutionOracle(d_0, \"D0\",mode_evolution_oracle=EvolutionOracleType.numerical))\n",
    "\n",
    "\n",
    "norm(query_list['forwards'] -query_list['backwards'].T.conj())\n",
    "\n",
    "\n",
    "\n"
   ]
  },
  {
   "cell_type": "code",
   "execution_count": 21,
   "id": "6e5b8f90",
   "metadata": {},
   "outputs": [
    {
     "data": {
      "text/plain": [
       "6.561656035791626e-16"
      ]
     },
     "execution_count": 21,
     "metadata": {},
     "output_type": "execute_result"
    }
   ],
   "source": [
    "## Test more fancy functionalities\n",
    "input_hamiltonian_evolution_oracle_hamiltonian_simulation.please_be_verbose = False\n",
    "gci = GroupCommutatorIterationWithEvolutionOracles( deepcopy(input_hamiltonian_evolution_oracle_hamiltonian_simulation ))\n",
    "d_ev =  EvolutionOracle(d_0, \"D0\",mode_evolution_oracle=EvolutionOracleType.hamiltonian_simulation)\n",
    "\n",
    "gci.iterated_hamiltonian_evolution_oracle.mode_evolution_oracle = EvolutionOracleType.hamiltonian_simulation\n",
    "query_list = gci.group_commutator( np.sqrt(t_step),\n",
    "                                             diagonal_association_evolution_oracle= d_ev )\n",
    "\n",
    "norm(query_list['forwards'].unitary() -query_list['backwards'].unitary().conj().T)\n",
    "\n",
    "\n"
   ]
  },
  {
   "cell_type": "code",
   "execution_count": null,
   "id": "5ecb116a",
   "metadata": {},
   "outputs": [],
   "source": []
  },
  {
   "cell_type": "code",
   "execution_count": null,
   "id": "e8976eb8",
   "metadata": {},
   "outputs": [],
   "source": []
  }
 ],
 "metadata": {
  "kernelspec": {
   "display_name": "Python 3 (ipykernel)",
   "language": "python",
   "name": "python3"
  },
  "language_info": {
   "codemirror_mode": {
    "name": "ipython",
    "version": 3
   },
   "file_extension": ".py",
   "mimetype": "text/x-python",
   "name": "python",
   "nbconvert_exporter": "python",
   "pygments_lexer": "ipython3",
   "version": "3.10.12"
  }
 },
 "nbformat": 4,
 "nbformat_minor": 5
}
