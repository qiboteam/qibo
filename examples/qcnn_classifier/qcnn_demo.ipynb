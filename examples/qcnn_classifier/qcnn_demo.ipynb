{
 "cells": [
  {
   "cell_type": "markdown",
   "id": "441d162d-9c1a-46eb-b213-6f63d5517676",
   "metadata": {
    "tags": []
   },
   "source": [
    "# Quantum Convolutional Neural Network Classifier\n",
    "\n",
    "Code at: [https://github.com/qiboteam/qibo/tree/master/examples/qcnn_classifier](https://github.com/qiboteam/qibo/tree/master/examples/qcnn_classifier).\n",
    "Please note that [scikit-learn](https://scikit-learn.org/stable/install.html) is needed to visualize the results."
   ]
  },
  {
   "cell_type": "markdown",
   "id": "514ef70a-17db-4424-804f-d735a93ce5a8",
   "metadata": {},
   "source": [
    "## Problem overview\n",
    "This tutorial implements a simple [Quantum Convolutional Neural Network](https://www.nature.com/articles/s41567-019-0648-8) (QCNN), which is a translationally invariant algorithm analogous to the classical [convolutional neural network](https://proceedings.neurips.cc/paper_files/paper/2012/file/c399862d3b9d6b76c8436e924a68c45b-Paper.pdf). This example demonstrates the use of the QCNN as a quantum classifier, which attempts to classify ground states of a translationally invariant quantum system, the transverse field Ising model, based on whether they are in the ordered or disordered phase. The (randomized) statevector data provided are those of a 4-qubit system. Accompanying each state is a label: +1 (disordered phase) or -1 (ordered phase).\n",
    "\n",
    "Through the sequential reduction of entanglement, this network is able to perform classification from the final measurement of a single qubit.\n",
    "\n",
    "Workflow of QCNN model:\n",
    "![workflow](images/workflow.PNG)\n",
    "\n",
    "Schematic of QCNN model:\n",
    "![schematic](images/structure.PNG)\n",
    "\n",
    "Convolutional layer for 4 qubits as an example:\n",
    "![convolution](images/convolution_4qubits.PNG)\n",
    "\n",
    "Pooling layer for 4 qubits as an example:\n",
    "![pooling](images/pooling_4qubits.PNG)\n",
    "\n",
    "where in the above, $R(\\theta_{i,j,k}) = RZ(\\theta_k) RY(\\theta_j) RX(\\theta_i)$:\n",
    "![R](images/RxRyRz.PNG)\n",
    "\n",
    "$U_{q_a, q_b}(\\theta_{i,j,k}) = RXX(\\theta_k) RYY(\\theta_j) RZZ(\\theta_i)$ is a two-qubit gate acting on qubits $q_a$ and $q_b$:\n",
    "![U](images/U.PNG)\n",
    "\n",
    "and $R^{\\dagger}(\\theta_{i,j,k}) = RX(-\\theta_i) RY(-\\theta_j) RZ(-\\theta_k)$:\n",
    "![RT](images/RT.PNG)\n"
   ]
  },
  {
   "cell_type": "markdown",
   "id": "1e9427ed-3f12-47fc-8048-ea258e1ec19c",
   "metadata": {},
   "source": [
    "## How to use the QCNN class\n",
    "For more details on the QuantumCNN class, please refer to the documentation. Here we recall some of the necessary arguments when instantiating a QuantumCNN object:\n",
    "- `nqubits` (int): number of quantum bits. It should be larger than 2 for the model to make sense.\n",
    "- `nlayers` (int): number of layers of the QCNN variational ansatz.\n",
    "- `nclasses` (int): number of classes of the training set (default=2).\n",
    "- `params`: list to initialise the variational parameters (default=None).\n",
    "\n",
    "After creating the object, one can proceed to train the model. For this, the `QuantumCNN.minimize` method can be used with the following arguments (refer to the documentation for more details)\"\n",
    "- `init_theta`: list or numpy.array with the angles to be used in the circuit\n",
    "- `data`: the training data\n",
    "- `labels`: numpy.array containing the labels for the training data\n",
    "- `nshots` (int):number of runs of the circuit during the sampling process (default=10000)\n",
    "- `method` (string): str 'classical optimizer for the minimization'. All methods from scipy.optimize.minmize are suported (default='Powell')."
   ]
  },
  {
   "cell_type": "markdown",
   "id": "01e19126-53b0-49c4-8919-e6db4cb77cb0",
   "metadata": {},
   "source": [
    "## QCNN Demo"
   ]
  },
  {
   "cell_type": "markdown",
   "id": "77098dca-abbb-451e-aab7-50453a8457db",
   "metadata": {},
   "source": [
    "Include necessary packages:"
   ]
  },
  {
   "cell_type": "code",
   "execution_count": 4,
   "id": "5faec3db-910b-414a-8633-6c0329e0b75f",
   "metadata": {},
   "outputs": [
    {
     "name": "stderr",
     "output_type": "stream",
     "text": [
      "[Qibo 0.1.13|INFO|2023-05-15 17:25:59]: Using numpy backend on /CPU:0\n"
     ]
    }
   ],
   "source": [
    "import numpy as np\n",
    "import random\n",
    "from sklearn import metrics\n",
    "\n",
    "import qibo\n",
    "from qibo.models.qcnn import QuantumCNN\n",
    "\n",
    "qibo.set_backend(\"numpy\")"
   ]
  },
  {
   "cell_type": "markdown",
   "id": "b7a04e9f-dd64-4059-bbb4-9afea3da8495",
   "metadata": {},
   "source": [
    "Load the provided data (ground states of 4-qubit TFIM in data folder) and labels:"
   ]
  },
  {
   "cell_type": "code",
   "execution_count": 5,
   "id": "747c0503-2f77-463d-9515-ee05b254c798",
   "metadata": {},
   "outputs": [],
   "source": [
    "data = np.load('nqubits_4_data_shuffled_no0.npy')\n",
    "labels = np.load('nqubits_4_labels_shuffled_no0.npy')\n",
    "labels = np.transpose(np.array([labels])) # restructure to required array format"
   ]
  },
  {
   "cell_type": "markdown",
   "id": "614a17b2-aee0-49fe-ad7a-4cd4b93986af",
   "metadata": {},
   "source": [
    "Structure of data and labels are like:"
   ]
  },
  {
   "cell_type": "code",
   "execution_count": 6,
   "id": "5938d249-32e9-4c1a-a2be-90dc11df0490",
   "metadata": {},
   "outputs": [
    {
     "data": {
      "text/plain": [
       "array([[0.52745364+0.j, 0.19856967+0.j, 0.19856967+0.j, 0.16507377+0.j,\n",
       "        0.19856967+0.j, 0.09784837+0.j, 0.16507377+0.j, 0.19856967+0.j,\n",
       "        0.19856967+0.j, 0.16507377+0.j, 0.09784837+0.j, 0.19856967+0.j,\n",
       "        0.16507377+0.j, 0.19856967+0.j, 0.19856967+0.j, 0.52745364+0.j],\n",
       "       [0.67109214+0.j, 0.10384038+0.j, 0.10384038+0.j, 0.05351362+0.j,\n",
       "        0.10384038+0.j, 0.02786792+0.j, 0.05351362+0.j, 0.10384038+0.j,\n",
       "        0.10384038+0.j, 0.05351362+0.j, 0.02786792+0.j, 0.10384038+0.j,\n",
       "        0.05351362+0.j, 0.10384038+0.j, 0.10384038+0.j, 0.67109214+0.j]])"
      ]
     },
     "execution_count": 6,
     "metadata": {},
     "output_type": "execute_result"
    }
   ],
   "source": [
    "data[-2:]"
   ]
  },
  {
   "cell_type": "code",
   "execution_count": 7,
   "id": "ab0e3965-85ba-4d00-a8b9-b9627ba4a9fe",
   "metadata": {},
   "outputs": [
    {
     "data": {
      "text/plain": [
       "array([[ 1.],\n",
       "       [-1.]])"
      ]
     },
     "execution_count": 7,
     "metadata": {},
     "output_type": "execute_result"
    }
   ],
   "source": [
    "labels[-2:]"
   ]
  },
  {
   "cell_type": "markdown",
   "id": "a817dceb-1097-4625-8ccf-9bdb1eda6c23",
   "metadata": {},
   "source": [
    "Split the data into training/test set in the ratio 60:40"
   ]
  },
  {
   "cell_type": "code",
   "execution_count": 8,
   "id": "96882004-a479-45eb-9439-b5237d8c9500",
   "metadata": {},
   "outputs": [],
   "source": [
    "split_ind = int(len(data) * 0.6)\n",
    "train_data = data[:split_ind]\n",
    "test_data = data[split_ind:]\n",
    "\n",
    "train_labels = labels[:split_ind]\n",
    "test_labels = labels[split_ind:]"
   ]
  },
  {
   "cell_type": "markdown",
   "id": "44d641bc-8a0c-4c05-82fa-2066a070a735",
   "metadata": {},
   "source": [
    "Initialize the QuantumCNN class:"
   ]
  },
  {
   "cell_type": "code",
   "execution_count": 9,
   "id": "58b9d6fd-992f-4cac-9314-100d2e41a34d",
   "metadata": {},
   "outputs": [
    {
     "name": "stdout",
     "output_type": "stream",
     "text": [
      "q0:     ─RX─RY─RZ─RZZ─RYY─RXX─RX─RY─RZ──────────────────────────────────────── ...\n",
      "q1:     ─RX─RY─RZ─RZZ─RYY─RXX─RX─RY─RZ─────────────RX─RY─RZ──────────RZZ─RYY─R ...\n",
      "q2:     ──────────────────────RX─RY─RZ─RZZ─RYY─RXX─RX─RY─RZ─RX─RY─RZ─RZZ─RYY─R ...\n",
      "q3:     ──────────────────────RX─RY─RZ─RZZ─RYY─RXX─RX─RY─RZ─────────────────── ...\n",
      "\n",
      "q0: ... ───RX─RY─RZ─RZZ─RYY─RXX─RX─RY─RZ─RX─RY─RZ─o───────────────────────\n",
      "q1: ... XX─RX─RY─RZ─|───|───|─────────────────────|─RX─RY─RZ─o────────────\n",
      "q2: ... XX─RX─RY─RZ─|───|───|───RX─RY─RZ──────────X─RZ─RY─RX─|────────────\n",
      "q3: ... ───RX─RY─RZ─RZZ─RYY─RXX─RX─RY─RZ────────────RX─RY─RZ─X─RZ─RY─RX─M─\n"
     ]
    }
   ],
   "source": [
    "test = QuantumCNN(nqubits=4, nlayers=1, nclasses=2)\n",
    "testcircuit = test._circuit\n",
    "print(testcircuit.draw())"
   ]
  },
  {
   "cell_type": "markdown",
   "id": "ccebe817-906a-4328-8713-9fcd99c07972",
   "metadata": {},
   "source": [
    "draw() is used to visualize the pre-constructed circuit based on input parameters for class initialization.\n",
    "\n",
    "Initialize model parameters:"
   ]
  },
  {
   "cell_type": "code",
   "execution_count": 10,
   "id": "ea551785-f0b4-4327-8baf-0134127f0091",
   "metadata": {},
   "outputs": [],
   "source": [
    "testbias = np.zeros(test.measured_qubits)\n",
    "testangles = [random.uniform(0,2*np.pi) for i in range(21*2)]\n",
    "init_theta = np.concatenate((testbias, testangles))"
   ]
  },
  {
   "cell_type": "markdown",
   "id": "19f90348-17f0-4fda-8950-5d95a3216b8e",
   "metadata": {},
   "source": [
    "Train model with optimize parameters (automatically updates model with optimized paramters at the end of training):"
   ]
  },
  {
   "cell_type": "code",
   "execution_count": null,
   "id": "da959229-14f9-410e-b7ff-02a5651f3eff",
   "metadata": {},
   "outputs": [],
   "source": [
    "result = test.minimize(init_theta, data=train_data, labels=labels, nshots=10000, method='Powell')"
   ]
  },
  {
   "cell_type": "markdown",
   "id": "fc3f4f2a-3388-4ce5-b0fe-0304a5be56a2",
   "metadata": {},
   "source": [
    "Alternatively, update model with optimized parameters from previous training:"
   ]
  },
  {
   "cell_type": "code",
   "execution_count": 11,
   "id": "4b019567-9f40-4a0e-9f52-cdd144348c64",
   "metadata": {},
   "outputs": [],
   "source": [
    "saved_result_60 = (0.2026119742575817, np.array([ -0.06559061,   3.62881221,   2.39850148,   3.02493711,\n",
    "         0.91498683,   3.25517842,   0.0759049 ,   3.46049453,\n",
    "         3.04395784,   1.55681424,   2.3665245 ,   0.40291846,\n",
    "         5.67310744,   2.27615444,   5.23403537,   0.46053411,\n",
    "         0.69228362,   2.2308165 ,   0.53323661,   4.52157388,\n",
    "         5.31194656,  18.23511858,  -1.90754635,  14.30577217,\n",
    "        10.75135972,  19.16001316,  12.27582746,   7.47476354,\n",
    "        23.38129141,  60.29771502,  10.02946377,  17.83945879,\n",
    "        15.22732248,  12.34666584,   1.52634649,   1.90621517,\n",
    "        12.71554053, -13.56379057,  34.04591253, -11.56450878,\n",
    "        10.95038782,   3.30640208,   9.67270071]))\n",
    "\n",
    "test.set_circuit_params(angles=saved_result_60[1], has_bias=True)"
   ]
  },
  {
   "cell_type": "markdown",
   "id": "a28a68bf-8246-46c4-9d3d-c1ef9c2f7813",
   "metadata": {},
   "source": [
    "Generate predictions from optimized model:"
   ]
  },
  {
   "cell_type": "code",
   "execution_count": 12,
   "id": "4a0c3b38-7ea3-4718-9974-ba1cead1ef53",
   "metadata": {},
   "outputs": [],
   "source": [
    "predictions = []\n",
    "for n in range(len(test_data)):\n",
    "    predictions.append(test.predict(test_data[n], nshots=10000)[0])"
   ]
  },
  {
   "cell_type": "markdown",
   "id": "995b90f9-5441-4a4d-bb3f-d852c7452af4",
   "metadata": {},
   "source": [
    "Visualize results via confusion matrix and accuracy:"
   ]
  },
  {
   "cell_type": "code",
   "execution_count": 14,
   "id": "806960b9-eaef-4f26-bf79-35d403c14605",
   "metadata": {},
   "outputs": [
    {
     "data": {
      "text/plain": [
       "<sklearn.metrics._plot.confusion_matrix.ConfusionMatrixDisplay at 0x7efd85b82200>"
      ]
     },
     "execution_count": 14,
     "metadata": {},
     "output_type": "execute_result"
    },
    {
     "data": {
      "image/png": "[encoded data removed]",
      "text/plain": [
       "<Figure size 640x480 with 2 Axes>"
      ]
     },
     "metadata": {},
     "output_type": "display_data"
    }
   ],
   "source": [
    "actual = [np.sign(test_labels) for test_labels in test_labels]\n",
    "predicted = [np.sign(prediction) for prediction in predictions]\n",
    "\n",
    "confusion_matrix = metrics.confusion_matrix(actual, predicted)\n",
    "\n",
    "cm_display = metrics.ConfusionMatrixDisplay(confusion_matrix = confusion_matrix, display_labels = [1, -1])\n",
    "\n",
    "cm_display.plot()"
   ]
  },
  {
   "cell_type": "code",
   "execution_count": 15,
   "id": "b2b7b792-f575-46a6-a133-9852a31eb5a1",
   "metadata": {},
   "outputs": [
    {
     "data": {
      "text/plain": [
       "0.925"
      ]
     },
     "execution_count": 15,
     "metadata": {},
     "output_type": "execute_result"
    }
   ],
   "source": [
    "test.Accuracy(test_labels,predictions)"
   ]
  }
 ],
 "metadata": {
  "kernelspec": {
   "display_name": "Python 3 (ipykernel)",
   "language": "python",
   "name": "python3"
  },
  "language_info": {
   "codemirror_mode": {
    "name": "ipython",
    "version": 3
   },
   "file_extension": ".py",
   "mimetype": "text/x-python",
   "name": "python",
   "nbconvert_exporter": "python",
   "pygments_lexer": "ipython3",
   "version": "3.9.7"
  }
 },
 "nbformat": 4,
 "nbformat_minor": 5
}
