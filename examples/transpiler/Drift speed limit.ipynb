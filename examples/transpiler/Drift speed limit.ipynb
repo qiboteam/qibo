{
 "cells": [
  {
   "cell_type": "markdown",
   "id": "d5ec5eda",
   "metadata": {},
   "source": [
    "# Theory behind this transformation\n",
    "### See pp.186-187 of D'Alessandro"
   ]
  },
  {
   "cell_type": "markdown",
   "id": "a5cc7001",
   "metadata": {},
   "source": [
    "We are interested in 2-qubit unitaries. Suppose that we ignore the global phase. Then w.l.o.g. our target unitary is a special unitary in $\\mathsf{SU}(4)$. The corresponding Lie algebra is $\\mathsf{su}(4)$.\n",
    "\n",
    "We have a constand drift Hailtonian $H_D = \\sigma_{z}\\otimes\\sigma_{z}$, whereas we can arbitrarily control the local Hamiltonians $H_C = \\sum_{i=x,y,z}(a_{i}(t)\\sigma_{i}\\otimes I + b_i(t)I\\otimes\\sigma_{i})$ and coefficients $a_{i}(t),b_{i}(t)$ can be arbitrarily strong.\n",
    "\n",
    "Then we naturally obtain the Cartan decomposition \n",
    "\\begin{equation}\n",
    "    \\mathsf{su}(4) = \\mathfrak{k} \\oplus \\mathfrak{p},\n",
    "\\end{equation}\n",
    "where the subalgebra \n",
    "\\begin{equation}\n",
    "    \\mathfrak{k} = \\mathrm{span}\\{i\\sigma_{j}\\otimes I, iI\\otimes\\sigma_{j} \\vert j = x,y,z\\}, \n",
    "\\end{equation}\n",
    "and\n",
    "\\begin{equation}\n",
    "    \\mathfrak{p} = \\mathrm{span}\\{i\\sigma_{j}\\otimes \\sigma{k} \\vert j,k = x,y,z\\}.\n",
    "\\end{equation}\n",
    "Note that \n",
    "\\begin{equation}\n",
    "    [ \\mathfrak{k},\\mathfrak{k} ] \\subseteq \\mathfrak{k},\\quad [ \\mathfrak{k},\\mathfrak{p} ] \\subseteq \\mathfrak{p},\\quad [ \\mathfrak{p},\\mathfrak{p} ] \\subseteq \\mathfrak{k}.\n",
    "\\end{equation}\n",
    "The Lie group corresponding to the Lie algebra $\\mathfrak{k}$ is $\\mathcal{K} = \\exp(\\mathfrak{k})$.\n",
    "\n",
    "Now we can define a Cartan subalgebra (included in $\\mathfrak{p}$) w.r.t. the decomposition\n",
    "\\begin{equation}\n",
    "    \\mathfrak{a} = \\mathrm{span}\\{i\\sigma_j\\otimes\\sigma_j \\vert j = x,y,z\\}.\n",
    "\\end{equation}\n",
    "Then a decomposition \n",
    "\\begin{equation}\n",
    "    U = K_{1}AK_{2},\n",
    "\\end{equation}\n",
    "where $K_1,K_2\\in\\mathcal{K}$ and $A \\in \\exp(\\mathfrak{a})$ always exists. \n",
    "By finding the exponent of $A$, one can find the minimal time it takes to generate the target unitary $U$. "
   ]
  },
  {
   "cell_type": "markdown",
   "id": "84d03f0f",
   "metadata": {},
   "source": [
    "It is known that $\\mathfrak{k} = T \\mathsf{so}(4) T^{-1}$, where $T$ is defined in the code below.\n",
    "Hence, we first transform our unitary to be \n",
    "\\begin{equation}\n",
    "    \\tilde{U} = T^{-1}UT = (T^{-1}K_1 T) (T^{-1} A T) (T^{-1} K_2 T) = O_1 D O_2,\n",
    "\\end{equation}\n",
    "where $O_1, O_2$ are real orthogonal matrices with determinant 1 and $D$ is a diagonal matrix. \n",
    "\n",
    "Hence, if we find $D$, we can apply the inverse tranformation to get $A = TDT^{-1}$."
   ]
  },
  {
   "cell_type": "code",
   "execution_count": 1,
   "id": "4490e0c5",
   "metadata": {},
   "outputs": [],
   "source": [
    "import numpy as np\n",
    "from scipy.linalg import eig, det, sqrtm, inv, logm"
   ]
  },
  {
   "cell_type": "markdown",
   "id": "efd43c1b",
   "metadata": {},
   "source": [
    "# Groundworks"
   ]
  },
  {
   "cell_type": "markdown",
   "id": "d644f93a",
   "metadata": {},
   "source": [
    "## Define $T$, $T^{-1}$, and a function to output the adjoint $T^{-1}UT$ (forward) or $TUT^{-1}$ (backward)"
   ]
  },
  {
   "cell_type": "code",
   "execution_count": 2,
   "id": "5a6b3523",
   "metadata": {},
   "outputs": [],
   "source": [
    "T = np.sqrt(1/2)*np.array([[0,1j,1,0],[1j,0,0,-1],[1j,0,0,1],[0,-1j,1,0]])\n",
    "Tinv = np.transpose(np.conjugate(T))\n",
    "\n",
    "\n",
    "def Tconj(mat,d = 'f'):\n",
    "    if d=='f':\n",
    "        return Tinv@mat@T\n",
    "    else:\n",
    "        return T@mat@Tinv"
   ]
  },
  {
   "cell_type": "markdown",
   "id": "f6f9394a",
   "metadata": {},
   "source": [
    "## Convert a general (4-dimensional) unitary into a special unitary \n",
    "### It only changes the global phase of a state which we do not care. If we need to care, use factor output"
   ]
  },
  {
   "cell_type": "code",
   "execution_count": 3,
   "id": "7865e9eb",
   "metadata": {},
   "outputs": [],
   "source": [
    "def UtoSU(mat):\n",
    "    factor = np.log(det(mat),dtype = complex)/4\n",
    "    newmat = mat/np.power(det(mat),1/4,dtype = complex)\n",
    "    return newmat, factor"
   ]
  },
  {
   "cell_type": "markdown",
   "id": "00cedf0c",
   "metadata": {},
   "source": [
    "## Finding $O_1$ and $D$ "
   ]
  },
  {
   "cell_type": "markdown",
   "id": "ae693088",
   "metadata": {},
   "source": [
    "We have $\\tilde{U} = O_1DO_2$. Then $\\tilde{U}\\tilde{U}^{\\top} = O_1D^2O_1^{\\top}$.\n",
    "Equivalently,\n",
    "\\begin{equation}\n",
    "    \\tilde{U}\\tilde{U}^{\\top} O_1 = O_1 D^2.\n",
    "\\end{equation}\n",
    "\n",
    "Then $O_1$ is a matrix that has real orthonormal eigenvectors of $\\tilde{U}\\tilde{U}^{\\top}$ as its columns and $D^2$ is a diagonal matrix whose diagonal entries are eigenvalues of $\\tilde{U}\\tilde{U}^{\\top}$."
   ]
  },
  {
   "cell_type": "markdown",
   "id": "ab6511d9",
   "metadata": {},
   "source": [
    "## This part is problematic!!! We need a better algorithm for $U = O_1DO_2$."
   ]
  },
  {
   "cell_type": "markdown",
   "id": "ed6654f9",
   "metadata": {},
   "source": [
    "We cannot really recover $D$ that makes $O_2$ real and orthogonal.\n",
    "See\n",
    "\\begin{equation}\n",
    "D = \\begin{pmatrix}\n",
    "    1 & 0 & 0 & 0\\\\\n",
    "    0 & 1 & 0 & 0\\\\\n",
    "    0 & 0 & 1 & 0\\\\\n",
    "    0 & 0 & 0 & -1\n",
    "\\end{pmatrix}\n",
    "\\end{equation}\n",
    "which gives $D^2 = I$. Then the sqrtm function will give $D = I$ wrongly."
   ]
  },
  {
   "cell_type": "markdown",
   "id": "5e1a613d",
   "metadata": {},
   "source": [
    "This wrong evaluation makes $\\mathrm{det}(O_2) = -1$, and we don't want that. In such cases, we simply multiply -1 to the first diagonal element of $D$ and the first row of $O_2$. This makes $\\mathrm{det}(O_2) = 1$. "
   ]
  },
  {
   "cell_type": "code",
   "execution_count": 4,
   "id": "4d5368d0",
   "metadata": {},
   "outputs": [],
   "source": [
    "# from U, compute UU^{T}\n",
    "def UUT(mat):\n",
    "    return mat@np.transpose(mat)"
   ]
  },
  {
   "cell_type": "code",
   "execution_count": 5,
   "id": "c27a7e60",
   "metadata": {},
   "outputs": [],
   "source": [
    "# finding O_1 and D^2\n",
    "def O1D2(UUTmat):\n",
    "    w, v = eig(UUTmat)\n",
    "    Diagmat = np.diag(w)\n",
    "    return v, Diagmat"
   ]
  },
  {
   "cell_type": "code",
   "execution_count": 6,
   "id": "5254fd6b",
   "metadata": {},
   "outputs": [],
   "source": [
    "# output a candidate for O_1, D, O_2\n",
    "def ODO_decomp(U_target):\n",
    "    Utilde, factor = UtoSU(Tconj(U_target))\n",
    "    O1, D2 = O1D2(UUT(Utilde))\n",
    "    D1 = sqrtm(D2)\n",
    "    O2 = inv(O1@D1)@Utilde\n",
    "    if det(O2) != 1:\n",
    "        D1 = np.diag([-1,1,1,1])@D1\n",
    "        O2 = np.diag([-1,1,1,1])@O2\n",
    "    return O1, D1, O2, factor\n",
    "\n",
    "def KAK_decomp(U_target):\n",
    "    O1, D, O2 , factor = ODO_decomp(U_target)\n",
    "    return Tconj(O1,d = 'r'), Tconj(D,d = 'r'), Tconj(O2,d = 'r'), factor"
   ]
  },
  {
   "cell_type": "markdown",
   "id": "17555ade",
   "metadata": {},
   "source": [
    "From $A\\in\\exp(\\mathfrak{a})$, \n",
    "\\begin{equation}\n",
    "    A = e^{ia} = e^{i(c_x \\sigma_x\\otimes\\sigma_x +c_y \\sigma_y\\otimes\\sigma_y + c_z \\sigma_z\\otimes\\sigma_z)}.\n",
    "\\end{equation}\n",
    "The minimal time is $c_x+c_y+c_z$.\n",
    "\n",
    "To find $c_i$, use the inner product:\n",
    "\\begin{equation}\n",
    "    c_i = \\mathrm{Tr}[a(\\sigma_i\\otimes\\sigma_i)]/4.\n",
    "\\end{equation}"
   ]
  },
  {
   "cell_type": "code",
   "execution_count": 7,
   "id": "6d00e5e6",
   "metadata": {},
   "outputs": [],
   "source": [
    "sigx2 = np.kron(np.array([[0,1],[1,0]]),np.array([[0,1],[1,0]]))\n",
    "sigy2 = np.kron(np.array([[0,-1j],[1j,0]]),np.array([[0,1],[1,0]]))\n",
    "sigz2 = np.kron(np.array([[1,0],[0,-1]]),np.array([[1,0],[0,-1]]))\n",
    "def optimal_drift(A):\n",
    "    a = logm(A)/1j\n",
    "    c_x = np.trace(a@sigx2)/4\n",
    "    c_y = np.trace(a@sigy2)/4\n",
    "    c_z = np.trace(a@sigz2)/4\n",
    "    return c_x,c_y,c_z,np.abs(c_x)+np.abs(c_y)+np.abs(c_z)"
   ]
  },
  {
   "cell_type": "markdown",
   "id": "17ccc50f",
   "metadata": {},
   "source": [
    "## Example "
   ]
  },
  {
   "cell_type": "code",
   "execution_count": 8,
   "id": "32b807ad",
   "metadata": {},
   "outputs": [
    {
     "name": "stdout",
     "output_type": "stream",
     "text": [
      "mintime:  0.7853981633974483\n",
      "drift term: 0j  for XX 0j  for YY (-0.7853981633974483+0j)  for ZZ\n",
      "control unitary before drift: \n",
      " [[1.+0.j 0.+0.j 0.+0.j 0.+0.j]\n",
      " [0.+0.j 1.+0.j 0.+0.j 0.+0.j]\n",
      " [0.+0.j 0.+0.j 1.+0.j 0.+0.j]\n",
      " [0.+0.j 0.+0.j 0.+0.j 1.+0.j]]\n",
      "control unitary after drift: \n",
      " [[0.+1.j 0.+0.j 0.+0.j 0.+0.j]\n",
      " [0.+0.j 1.+0.j 0.+0.j 0.+0.j]\n",
      " [0.+0.j 0.+0.j 1.+0.j 0.+0.j]\n",
      " [0.+0.j 0.+0.j 0.+0.j 0.-1.j]]\n"
     ]
    }
   ],
   "source": [
    "CZ = np.diag([1,1,1,-1])\n",
    "K1, A, K2, factor = KAK_decomp(CZ)\n",
    "cx, cy, cz, tmin = optimal_drift(A)\n",
    "print('mintime: ',tmin)\n",
    "print('drift term:', cx, ' for XX', cy, ' for YY', cz,' for ZZ')\n",
    "print('control unitary before drift: \\n', K1)\n",
    "print('control unitary after drift: \\n', K2)"
   ]
  },
  {
   "cell_type": "code",
   "execution_count": 9,
   "id": "b5e0c182",
   "metadata": {},
   "outputs": [
    {
     "name": "stdout",
     "output_type": "stream",
     "text": [
      "logm result may be inaccurate, approximate err = 3.9614610402651194286e-07\n",
      "mintime:  0.7853981568012258\n",
      "drift term: (-1.7212462011251262e-09-3.161014015820931e-08j)  for XX (-1.998824305824273e-08+9.46574096882813e-10j)  for YY (0.7853981051336119-5.268356067988802e-08j)  for ZZ\n",
      "control unitary before drift: \n",
      " [[ 0.70710678+0.00000000e+00j  0.        -1.01906619e-16j\n",
      "  -0.70710678+3.68712595e-17j  0.        +0.00000000e+00j]\n",
      " [ 0.        -1.01906619e-16j  0.70710678+0.00000000e+00j\n",
      "   0.        +0.00000000e+00j -0.70710678+3.68712595e-17j]\n",
      " [ 0.70710678-3.68712595e-17j  0.        +0.00000000e+00j\n",
      "   0.70710678+0.00000000e+00j  0.        +1.01906619e-16j]\n",
      " [ 0.        +0.00000000e+00j  0.70710678-3.68712595e-17j\n",
      "   0.        +1.01906619e-16j  0.70710678+0.00000000e+00j]]\n",
      "control unitary after drift: \n",
      " [[ 0.35355339+0.35355339j -0.35355339+0.35355339j  0.35355339-0.35355339j\n",
      "   0.35355339+0.35355339j]\n",
      " [ 0.35355339+0.35355339j -0.35355339+0.35355339j -0.35355339+0.35355339j\n",
      "  -0.35355339-0.35355339j]\n",
      " [ 0.35355339-0.35355339j -0.35355339-0.35355339j -0.35355339-0.35355339j\n",
      "  -0.35355339+0.35355339j]\n",
      " [ 0.35355339-0.35355339j -0.35355339-0.35355339j  0.35355339+0.35355339j\n",
      "   0.35355339-0.35355339j]]\n"
     ]
    }
   ],
   "source": [
    "CNOT = np.array([[1,0,0,0],[0,1,0,0],[0,0,0,1],[0,0,1,0]])\n",
    "K1, A, K2, factor = KAK_decomp(CNOT)\n",
    "cx, cy, cz, tmin = optimal_drift(A)\n",
    "print('mintime: ',tmin)\n",
    "print('drift term:', cx, ' for XX', cy, ' for YY', cz,' for ZZ')\n",
    "print('control unitary before drift: \\n', K1)\n",
    "print('control unitary after drift: \\n', K2)"
   ]
  },
  {
   "cell_type": "code",
   "execution_count": 10,
   "id": "caabdb66",
   "metadata": {},
   "outputs": [
    {
     "name": "stdout",
     "output_type": "stream",
     "text": [
      "logm result may be inaccurate, approximate err = 6.9601149183041838846e-07\n",
      "mintime:  1.5707967237721268\n",
      "drift term: (0.7853983546374321-2.688821387764051e-15j)  for XX (8.225095131722537e-08-4.681340370904508e-09j)  for YY (-0.7853982867506308+2.107342894703785e-08j)  for ZZ\n",
      "control unitary before drift: \n",
      " [[1.+0.j 0.+0.j 0.+0.j 0.+0.j]\n",
      " [0.+0.j 1.+0.j 0.+0.j 0.+0.j]\n",
      " [0.+0.j 0.+0.j 1.+0.j 0.+0.j]\n",
      " [0.+0.j 0.+0.j 0.+0.j 1.+0.j]]\n",
      "control unitary after drift: \n",
      " [[ 1.+0.j  0.+0.j  0.+0.j  0.+0.j]\n",
      " [ 0.+0.j -1.+0.j  0.+0.j  0.+0.j]\n",
      " [ 0.+0.j  0.+0.j -1.+0.j  0.+0.j]\n",
      " [ 0.+0.j  0.+0.j  0.+0.j  1.+0.j]]\n"
     ]
    }
   ],
   "source": [
    "SWAP = np.array([[1,0,0,0],[0,0,1,0],[0,1,0,0],[0,0,0,1]])\n",
    "K1, A, K2, factor = KAK_decomp(SWAP)\n",
    "cx, cy, cz, tmin = optimal_drift(A)\n",
    "print('mintime: ',tmin)\n",
    "print('drift term:', cx, ' for XX', cy, ' for YY', cz,' for ZZ')\n",
    "print('control unitary before drift: \\n', K1)\n",
    "print('control unitary after drift: \\n', K2)"
   ]
  },
  {
   "cell_type": "code",
   "execution_count": 11,
   "id": "ac2e443a",
   "metadata": {},
   "outputs": [
    {
     "name": "stderr",
     "output_type": "stream",
     "text": [
      "[Qibo 0.2.9|INFO|2024-07-08 21:10:01]: Using tensorflow backend on /device:CPU:0\n"
     ]
    },
    {
     "name": "stdout",
     "output_type": "stream",
     "text": [
      "logm result may be inaccurate, approximate err = 3.9614610402651194286e-07\n",
      "mintime:  0.7853981568012258\n",
      "drift term: (-1.7212462011251262e-09-3.161014015820931e-08j)  for XX (-1.998824305824273e-08+9.46574096882813e-10j)  for YY (0.7853981051336119-5.268356067988802e-08j)  for ZZ\n",
      "control unitary before drift: \n",
      " [[ 0.70710678+0.00000000e+00j  0.        -1.01906619e-16j\n",
      "  -0.70710678+3.68712595e-17j  0.        +0.00000000e+00j]\n",
      " [ 0.        -1.01906619e-16j  0.70710678+0.00000000e+00j\n",
      "   0.        +0.00000000e+00j -0.70710678+3.68712595e-17j]\n",
      " [ 0.70710678-3.68712595e-17j  0.        +0.00000000e+00j\n",
      "   0.70710678+0.00000000e+00j  0.        +1.01906619e-16j]\n",
      " [ 0.        +0.00000000e+00j  0.70710678-3.68712595e-17j\n",
      "   0.        +1.01906619e-16j  0.70710678+0.00000000e+00j]]\n",
      "control unitary after drift: \n",
      " [[ 0.35355339+0.35355339j -0.35355339+0.35355339j  0.35355339-0.35355339j\n",
      "   0.35355339+0.35355339j]\n",
      " [ 0.35355339+0.35355339j -0.35355339+0.35355339j -0.35355339+0.35355339j\n",
      "  -0.35355339-0.35355339j]\n",
      " [ 0.35355339-0.35355339j -0.35355339-0.35355339j -0.35355339-0.35355339j\n",
      "  -0.35355339+0.35355339j]\n",
      " [ 0.35355339-0.35355339j -0.35355339-0.35355339j  0.35355339+0.35355339j\n",
      "   0.35355339-0.35355339j]]\n"
     ]
    }
   ],
   "source": [
    "from qibo.hamiltonians import SymbolicHamiltonian\n",
    "from qibo.symbols import *\n",
    "H = SymbolicHamiltonian( X(1)*X(2) + Y(1)*Y(2)+Z(1)*Z(2)+Z(1))\n",
    "K1, A, K2, factor = KAK_decomp(CNOT)\n",
    "cx, cy, cz, tmin = optimal_drift(A)\n",
    "print('mintime: ',tmin)\n",
    "print('drift term:', cx, ' for XX', cy, ' for YY', cz,' for ZZ')\n",
    "print('control unitary before drift: \\n', K1)\n",
    "print('control unitary after drift: \\n', K2)"
   ]
  },
  {
   "cell_type": "code",
   "execution_count": null,
   "id": "9e57a3c2",
   "metadata": {},
   "outputs": [],
   "source": []
  }
 ],
 "metadata": {
  "kernelspec": {
   "display_name": "Python 3 (ipykernel)",
   "language": "python",
   "name": "python3"
  },
  "language_info": {
   "codemirror_mode": {
    "name": "ipython",
    "version": 3
   },
   "file_extension": ".py",
   "mimetype": "text/x-python",
   "name": "python",
   "nbconvert_exporter": "python",
   "pygments_lexer": "ipython3",
   "version": "3.12.3"
  }
 },
 "nbformat": 4,
 "nbformat_minor": 5
}
