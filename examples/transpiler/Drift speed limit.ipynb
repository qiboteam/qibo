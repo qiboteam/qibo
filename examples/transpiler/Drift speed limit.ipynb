{
 "cells": [
  {
   "cell_type": "markdown",
   "id": "d5ec5eda",
   "metadata": {},
   "source": [
    "# Theory behind this transformation\n",
    "### See pp.186-187 of D'Alessandro"
   ]
  },
  {
   "cell_type": "markdown",
   "id": "a5cc7001",
   "metadata": {},
   "source": [
    "We are interested in 2-qubit unitaries. Suppose that we ignore the global phase. Then w.l.o.g. our target unitary is a special unitary in $\\mathsf{SU}(4)$. The corresponding Lie algebra is $\\mathsf{su}(4)$.\n",
    "\n",
    "We have a constand drift Hailtonian $H_D = \\sigma_{z}\\otimes\\sigma_{z}$, whereas we can arbitrarily control the local Hamiltonians $H_C = \\sum_{i=x,y,z}(a_{i}(t)\\sigma_{i}\\otimes I + b_i(t)I\\otimes\\sigma_{i})$ and coefficients $a_{i}(t),b_{i}(t)$ can be arbitrarily strong.\n",
    "\n",
    "Then we naturally obtain the Cartan decomposition \n",
    "\\begin{equation}\n",
    "    \\mathsf{su}(4) = \\mathfrak{k} \\oplus \\mathfrak{p},\n",
    "\\end{equation}\n",
    "where the subalgebra \n",
    "\\begin{equation}\n",
    "    \\mathfrak{k} = \\mathrm{span}\\{i\\sigma_{j}\\otimes I, iI\\otimes\\sigma_{j} \\vert j = x,y,z\\}, \n",
    "\\end{equation}\n",
    "and\n",
    "\\begin{equation}\n",
    "    \\mathfrak{p} = \\mathrm{span}\\{i\\sigma_{j}\\otimes \\sigma{k} \\vert j,k = x,y,z\\}.\n",
    "\\end{equation}\n",
    "Note that \n",
    "\\begin{equation}\n",
    "    [ \\mathfrak{k},\\mathfrak{k} ] \\subseteq \\mathfrak{k},\\quad [ \\mathfrak{k},\\mathfrak{p} ] \\subseteq \\mathfrak{p},\\quad [ \\mathfrak{p},\\mathfrak{p} ] \\subseteq \\mathfrak{k}.\n",
    "\\end{equation}\n",
    "The Lie group corresponding to the Lie algebra $\\mathfrak{k}$ is $\\mathcal{K} = \\exp(\\mathfrak{k})$.\n",
    "\n",
    "Now we can define a Cartan subalgebra (included in $\\mathfrak{p}$) w.r.t. the decomposition\n",
    "\\begin{equation}\n",
    "    \\mathfrak{a} = \\mathrm{span}\\{i\\sigma_j\\otimes\\sigma_j \\vert j = x,y,z\\}.\n",
    "\\end{equation}\n",
    "Then a decomposition \n",
    "\\begin{equation}\n",
    "    U = K_{1}AK_{2},\n",
    "\\end{equation}\n",
    "where $K_1,K_2\\in\\mathcal{K}$ and $A \\in \\exp(\\mathfrak{a})$ always exists. \n",
    "By finding the exponent of $A$, one can find the minimal time it takes to generate the target unitary $U$. "
   ]
  },
  {
   "cell_type": "markdown",
   "id": "84d03f0f",
   "metadata": {},
   "source": [
    "It is known that $\\mathfrak{k} = T \\mathsf{so}(4) T^{-1}$, where $T$ is defined in the code below.\n",
    "Hence, we first transform our unitary to be \n",
    "\\begin{equation}\n",
    "    \\tilde{U} = T^{-1}UT = (T^{-1}K_1 T) (T^{-1} A T) (T^{-1} K_2 T) = O_1 D O_2,\n",
    "\\end{equation}\n",
    "where $O_1, O_2$ are real orthogonal matrices with determinant 1 and $D$ is a diagonal matrix. \n",
    "\n",
    "Hence, if we find $D$, we can apply the inverse tranformation to get $A = TDT^{-1}$."
   ]
  },
  {
   "cell_type": "code",
   "execution_count": 1,
   "id": "4490e0c5",
   "metadata": {},
   "outputs": [],
   "source": [
    "import numpy as np\n",
    "from scipy.linalg import eig, det, sqrtm, inv, logm"
   ]
  },
  {
   "cell_type": "markdown",
   "id": "efd43c1b",
   "metadata": {},
   "source": [
    "# Groundworks"
   ]
  },
  {
   "cell_type": "markdown",
   "id": "d644f93a",
   "metadata": {},
   "source": [
    "## Define $T$, $T^{-1}$, and a function to output the adjoint $T^{-1}UT$ (forward) or $TUT^{-1}$ (backward)"
   ]
  },
  {
   "cell_type": "code",
   "execution_count": 2,
   "id": "5a6b3523",
   "metadata": {},
   "outputs": [],
   "source": [
    "T = np.sqrt(1/2)*np.array([[0,1j,1,0],[1j,0,0,-1],[1j,0,0,1],[0,-1j,1,0]])\n",
    "Tinv = np.transpose(np.conjugate(T))\n",
    "\n",
    "\n",
    "def Tconj(mat,d = 'f'):\n",
    "    if d=='f':\n",
    "        return Tinv@mat@T\n",
    "    else:\n",
    "        return T@mat@Tinv"
   ]
  },
  {
   "cell_type": "markdown",
   "id": "f6f9394a",
   "metadata": {},
   "source": [
    "## Convert a general (4-dimensional) unitary into a special unitary \n",
    "### It only changes the global phase of a state which we do not care. If we need to care, use factor output"
   ]
  },
  {
   "cell_type": "code",
   "execution_count": 3,
   "id": "7865e9eb",
   "metadata": {},
   "outputs": [],
   "source": [
    "def UtoSU(mat):\n",
    "    factor = np.log(det(mat),dtype = complex)/4\n",
    "    newmat = mat/np.power(det(mat),1/4,dtype = complex)\n",
    "    return newmat, factor"
   ]
  },
  {
   "cell_type": "markdown",
   "id": "00cedf0c",
   "metadata": {},
   "source": [
    "## Finding $O_1$ and $D$ "
   ]
  },
  {
   "cell_type": "markdown",
   "id": "ae693088",
   "metadata": {},
   "source": [
    "We have $\\tilde{U} = O_1DO_2$. Then $\\tilde{U}\\tilde{U}^{\\top} = O_1D^2O_1^{\\top}$.\n",
    "Equivalently,\n",
    "\\begin{equation}\n",
    "    \\tilde{U}\\tilde{U}^{\\top} O_1 = O_1 D^2.\n",
    "\\end{equation}\n",
    "\n",
    "Then $O_1$ is a matrix that has real orthonormal eigenvectors of $\\tilde{U}\\tilde{U}^{\\top}$ as its columns and $D^2$ is a diagonal matrix whose diagonal entries are eigenvalues of $\\tilde{U}\\tilde{U}^{\\top}$."
   ]
  },
  {
   "cell_type": "markdown",
   "id": "ab6511d9",
   "metadata": {},
   "source": [
    "## This part is problematic!!! We need a better algorithm for $U = O_1DO_2$."
   ]
  },
  {
   "cell_type": "markdown",
   "id": "ed6654f9",
   "metadata": {},
   "source": [
    "We cannot really recover $D$ that makes $O_2$ real and orthogonal.\n",
    "See\n",
    "\\begin{equation}\n",
    "D = \\begin{pmatrix}\n",
    "    1 & 0 & 0 & 0\\\\\n",
    "    0 & 1 & 0 & 0\\\\\n",
    "    0 & 0 & 1 & 0\\\\\n",
    "    0 & 0 & 0 & -1\n",
    "\\end{pmatrix}\n",
    "\\end{equation}\n",
    "which gives $D^2 = I$. Then the sqrtm function will give $D = I$ wrongly."
   ]
  },
  {
   "cell_type": "markdown",
   "id": "5e1a613d",
   "metadata": {},
   "source": [
    "This wrong evaluation makes $\\mathrm{det}(O_2) = -1$, and we don't want that. In such cases, we simply multiply -1 to the first diagonal element of $D$ and the first row of $O_2$. This makes $\\mathrm{det}(O_2) = 1$. "
   ]
  },
  {
   "cell_type": "code",
   "execution_count": 4,
   "id": "4d5368d0",
   "metadata": {},
   "outputs": [],
   "source": [
    "# from U, compute UU^{T}\n",
    "def UUT(mat):\n",
    "    return mat@np.transpose(mat)"
   ]
  },
  {
   "cell_type": "code",
   "execution_count": 5,
   "id": "c27a7e60",
   "metadata": {},
   "outputs": [],
   "source": [
    "# finding O_1 and D^2\n",
    "def O1D2(UUTmat):\n",
    "    w, v = eig(UUTmat)\n",
    "    Diagmat = np.diag(w)\n",
    "    return v, Diagmat"
   ]
  },
  {
   "cell_type": "code",
   "execution_count": 6,
   "id": "5254fd6b",
   "metadata": {},
   "outputs": [],
   "source": [
    "# output a candidate for O_1, D, O_2\n",
    "def ODO_decomp(U_target):\n",
    "    Utilde, factor = UtoSU(Tconj(U_target))\n",
    "    O1, D2 = O1D2(UUT(Utilde))\n",
    "    D1 = sqrtm(D2)\n",
    "    O2 = inv(O1@D1)@Utilde\n",
    "    if det(O2) != 1:\n",
    "        D1 = np.diag([-1,1,1,1])@D1\n",
    "        O2 = np.diag([-1,1,1,1])@O2\n",
    "    return O1, D1, O2, factor\n",
    "\n",
    "def KAK_decomp(U_target):\n",
    "    O1, D, O2 , factor = ODO_decomp(U_target)\n",
    "    return Tconj(O1,d = 'r'), Tconj(D,d = 'r'), Tconj(O2,d = 'r'), factor"
   ]
  },
  {
   "cell_type": "markdown",
   "id": "17555ade",
   "metadata": {},
   "source": [
    "From $A\\in\\exp(\\mathfrak{a})$, \n",
    "\\begin{equation}\n",
    "    A = e^{ia} = e^{i(c_x \\sigma_x\\otimes\\sigma_x +c_y \\sigma_y\\otimes\\sigma_y + c_z \\sigma_z\\otimes\\sigma_z)}.\n",
    "\\end{equation}\n",
    "The minimal time is $c_x+c_y+c_z$.\n",
    "\n",
    "To find $c_i$, use the inner product:\n",
    "\\begin{equation}\n",
    "    c_i = \\mathrm{Tr}[a(\\sigma_i\\otimes\\sigma_i)]/4.\n",
    "\\end{equation}"
   ]
  },
  {
   "cell_type": "code",
   "execution_count": 7,
   "id": "6d00e5e6",
   "metadata": {},
   "outputs": [],
   "source": [
    "sigx2 = np.kron(np.array([[0,1],[1,0]]),np.array([[0,1],[1,0]]))\n",
    "sigy2 = np.kron(np.array([[0,-1j],[1j,0]]),np.array([[0,1],[1,0]]))\n",
    "sigz2 = np.kron(np.array([[1,0],[0,-1]]),np.array([[1,0],[0,-1]]))\n",
    "def optimal_drift(A):\n",
    "    a = logm(A)/1j\n",
    "    c_x = np.trace(a@sigx2)/4\n",
    "    c_y = np.trace(a@sigy2)/4\n",
    "    c_z = np.trace(a@sigz2)/4\n",
    "    return c_x,c_y,c_z,np.abs(c_x)+np.abs(c_y)+np.abs(c_z)"
   ]
  },
  {
   "cell_type": "markdown",
   "id": "17ccc50f",
   "metadata": {},
   "source": [
    "## Example "
   ]
  },
  {
   "cell_type": "code",
   "execution_count": 8,
   "id": "32b807ad",
   "metadata": {},
   "outputs": [
    {
     "name": "stdout",
     "output_type": "stream",
     "text": [
      "mintime:  1.5707963267948961\n",
      "drift term: (-0.7853981633974481-2.1510571102112408e-16j)  for XX (-5.704771009112362e-17-5.551115123125783e-17j)  for YY (0.7853981633974481-6.938893903907228e-18j)  for ZZ\n",
      "control unitary before drift: \n",
      " [[ 0.00000000e+00+5.00000000e-01j -2.39066301e-01-9.80444928e-18j\n",
      "   2.39066301e-01+9.80444928e-18j  0.00000000e+00+5.00000000e-01j]\n",
      " [ 2.56291923e-17+5.00000000e-01j  5.00000000e-01-1.18350172e-17j\n",
      "   5.00000000e-01+1.18350172e-17j  2.98819589e-17-5.00000000e-01j]\n",
      " [-2.98819589e-17-5.00000000e-01j  5.00000000e-01+1.18350172e-17j\n",
      "   5.00000000e-01-1.18350172e-17j -2.56291923e-17+5.00000000e-01j]\n",
      " [ 0.00000000e+00-5.00000000e-01j -6.65467733e-01+9.80444928e-18j\n",
      "   6.65467733e-01-9.80444928e-18j  0.00000000e+00-5.00000000e-01j]]\n",
      "control unitary after drift: \n",
      " [[ 7.35702260e-01-2.77555756e-17j  5.55111512e-17-5.00000000e-01j\n",
      "  -5.55111512e-17+5.00000000e-01j  2.64297740e-01-2.77555756e-17j]\n",
      " [-5.42591491e-50-5.52770798e-01j -5.00000000e-01+2.12638329e-18j\n",
      "  -5.00000000e-01-2.12638329e-18j -7.40335569e-50+5.52770798e-01j]\n",
      " [-5.42591491e-50+5.52770798e-01j -5.00000000e-01+2.12638329e-18j\n",
      "  -5.00000000e-01-2.12638329e-18j -7.40335569e-50-5.52770798e-01j]\n",
      " [ 7.35702260e-01+2.77555756e-17j -5.55111512e-17+5.00000000e-01j\n",
      "   5.55111512e-17-5.00000000e-01j  2.64297740e-01+2.77555756e-17j]]\n"
     ]
    }
   ],
   "source": [
    "CZ = np.diag([1,1,1,-1])\n",
    "K1, A, K2, factor = KAK_decomp(CZ)\n",
    "cx, cy, cz, tmin = optimal_drift(A)\n",
    "print('mintime: ',tmin)\n",
    "print('drift term:', cx, ' for XX', cy, ' for YY', cz,' for ZZ')\n",
    "print('control unitary before drift: \\n', K1)\n",
    "print('control unitary after drift: \\n', K2)"
   ]
  },
  {
   "cell_type": "code",
   "execution_count": 9,
   "id": "b5e0c182",
   "metadata": {},
   "outputs": [
    {
     "name": "stdout",
     "output_type": "stream",
     "text": [
      "mintime:  0.7853981633974483\n",
      "drift term: (-0.7853981633974482+4.163336342344337e-17j)  for XX (6.938893903907228e-17-1.1102230246251565e-16j)  for YY -2.7755575615628907e-17j  for ZZ\n",
      "control unitary before drift: \n",
      " [[ 1.66533454e-16+1.12589471e-16j  1.11022302e-16+1.83284050e-17j\n",
      "   7.07106781e-01-2.41867861e-17j -7.07106781e-01-4.80856021e-17j]\n",
      " [ 5.55111512e-17-2.38752869e-18j  0.00000000e+00+5.47247384e-18j\n",
      "  -7.07106781e-01-9.42717060e-18j -7.07106781e-01+1.56716807e-18j]\n",
      " [ 7.07106781e-01+1.56716807e-18j -7.07106781e-01+9.42717060e-18j\n",
      "   0.00000000e+00-5.47247384e-18j -5.55111512e-17-2.38752869e-18j]\n",
      " [-7.07106781e-01-6.29367004e-17j -7.07106781e-01+3.13243651e-17j\n",
      "  -1.11022302e-16-3.71827462e-17j  1.66533454e-16+1.09455134e-16j]]\n",
      "control unitary after drift: \n",
      " [[ 5.34680621e-17-5.55111512e-17j  6.73458499e-17+0.00000000e+00j\n",
      "   2.80935384e-17-7.07106781e-01j -9.45364669e-18+7.07106781e-01j]\n",
      " [-7.07106781e-01-1.90980165e-17j  7.07106781e-01+2.24653325e-17j\n",
      "  -1.11022302e-16-1.41617055e-16j  0.00000000e+00-1.09685966e-17j]\n",
      " [ 1.11022302e-16+1.55564857e-16j  0.00000000e+00-2.49163989e-17j\n",
      "   7.07106781e-01+3.30458188e-17j  7.07106781e-01+3.64131347e-17j]\n",
      " [-9.45364669e-18-7.07106781e-01j  2.74176128e-17-7.07106781e-01j\n",
      "   9.91876038e-17-1.66533454e-16j -5.75542404e-17+5.55111512e-17j]]\n"
     ]
    }
   ],
   "source": [
    "CNOT = np.array([[1,0,0,0],[0,1,0,0],[0,0,0,1],[0,0,1,0]])\n",
    "K1, A, K2, factor = KAK_decomp(CNOT)\n",
    "cx, cy, cz, tmin = optimal_drift(A)\n",
    "print('mintime: ',tmin)\n",
    "print('drift term:', cx, ' for XX', cy, ' for YY', cz,' for ZZ')\n",
    "print('control unitary before drift: \\n', K1)\n",
    "print('control unitary after drift: \\n', K2)"
   ]
  },
  {
   "cell_type": "code",
   "execution_count": 10,
   "id": "caabdb66",
   "metadata": {},
   "outputs": [
    {
     "name": "stdout",
     "output_type": "stream",
     "text": [
      "mintime:  1.570796326794897\n",
      "drift term: (0.7853981633974485-1.3877787807814457e-17j)  for XX (-9.71445146547012e-17+5.551115123125783e-17j)  for YY (-0.7853981633974484-3.122502256758253e-17j)  for ZZ\n",
      "control unitary before drift: \n",
      " [[-0.20412415+0.59229013j -0.63784254+0.01442622j  0.63784254-0.01442622j\n",
      "   0.20412415+0.18404184j]\n",
      " [-0.09158   +0.10668525j  0.55901586-0.03016342j  0.44098414+0.03016342j\n",
      "  -0.09158   -0.70981133j]\n",
      " [ 0.09158   -0.10668525j  0.44098414+0.03016342j  0.55901586-0.03016342j\n",
      "   0.09158   +0.70981133j]\n",
      " [ 0.20412415-0.59229013j -0.28975034-0.01442622j  0.28975034+0.01442622j\n",
      "  -0.20412415-0.18404184j]]\n",
      "control unitary after drift: \n",
      " [[-0.15728869-4.49765972e-01j  0.24062072+1.49535502e-01j\n",
      "  -0.24062072-1.49535502e-01j  0.28714375+9.57149330e-01j]\n",
      " [-0.53902958+6.63513899e-19j -0.5       +9.57738001e-20j\n",
      "  -0.5       -9.57738001e-20j -0.53902958-1.28101650e-18j]\n",
      " [ 0.53902958+6.63513899e-19j -0.5       +9.57738001e-20j\n",
      "  -0.5       -9.57738001e-20j  0.53902958-1.28101650e-18j]\n",
      " [ 0.07866646+1.18890313e-02j  0.09919936-6.38093565e-01j\n",
      "  -0.09919936+6.38093565e-01j -0.06829   +2.61730013e-01j]]\n"
     ]
    }
   ],
   "source": [
    "SWAP = np.array([[1,0,0,0],[0,0,1,0],[0,1,0,0],[0,0,0,1]])\n",
    "K1, A, K2, factor = KAK_decomp(SWAP)\n",
    "cx, cy, cz, tmin = optimal_drift(A)\n",
    "print('mintime: ',tmin)\n",
    "print('drift term:', cx, ' for XX', cy, ' for YY', cz,' for ZZ')\n",
    "print('control unitary before drift: \\n', K1)\n",
    "print('control unitary after drift: \\n', K2)"
   ]
  },
  {
   "cell_type": "code",
   "execution_count": 11,
   "id": "ac2e443a",
   "metadata": {},
   "outputs": [
    {
     "name": "stderr",
     "output_type": "stream",
     "text": [
      "[Qibo 0.2.9|INFO|2024-07-11 14:05:15]: Using qibojit (numba) backend on /CPU:0\n"
     ]
    },
    {
     "name": "stdout",
     "output_type": "stream",
     "text": [
      "mintime:  0.7853981633974483\n",
      "drift term: (-0.7853981633974482+4.163336342344337e-17j)  for XX (6.938893903907228e-17-1.1102230246251565e-16j)  for YY -2.7755575615628907e-17j  for ZZ\n",
      "control unitary before drift: \n",
      " [[ 1.66533454e-16+1.12589471e-16j  1.11022302e-16+1.83284050e-17j\n",
      "   7.07106781e-01-2.41867861e-17j -7.07106781e-01-4.80856021e-17j]\n",
      " [ 5.55111512e-17-2.38752869e-18j  0.00000000e+00+5.47247384e-18j\n",
      "  -7.07106781e-01-9.42717060e-18j -7.07106781e-01+1.56716807e-18j]\n",
      " [ 7.07106781e-01+1.56716807e-18j -7.07106781e-01+9.42717060e-18j\n",
      "   0.00000000e+00-5.47247384e-18j -5.55111512e-17-2.38752869e-18j]\n",
      " [-7.07106781e-01-6.29367004e-17j -7.07106781e-01+3.13243651e-17j\n",
      "  -1.11022302e-16-3.71827462e-17j  1.66533454e-16+1.09455134e-16j]]\n",
      "control unitary after drift: \n",
      " [[ 5.34680621e-17-5.55111512e-17j  6.73458499e-17+0.00000000e+00j\n",
      "   2.80935384e-17-7.07106781e-01j -9.45364669e-18+7.07106781e-01j]\n",
      " [-7.07106781e-01-1.90980165e-17j  7.07106781e-01+2.24653325e-17j\n",
      "  -1.11022302e-16-1.41617055e-16j  0.00000000e+00-1.09685966e-17j]\n",
      " [ 1.11022302e-16+1.55564857e-16j  0.00000000e+00-2.49163989e-17j\n",
      "   7.07106781e-01+3.30458188e-17j  7.07106781e-01+3.64131347e-17j]\n",
      " [-9.45364669e-18-7.07106781e-01j  2.74176128e-17-7.07106781e-01j\n",
      "   9.91876038e-17-1.66533454e-16j -5.75542404e-17+5.55111512e-17j]]\n"
     ]
    }
   ],
   "source": [
    "from qibo.hamiltonians import SymbolicHamiltonian\n",
    "from qibo.symbols import *\n",
    "H = SymbolicHamiltonian( X(1)*X(2) + Y(1)*Y(2)+Z(1)*Z(2)+Z(1))\n",
    "K1, A, K2, factor = KAK_decomp(CNOT)\n",
    "cx, cy, cz, tmin = optimal_drift(A)\n",
    "print('mintime: ',tmin)\n",
    "print('drift term:', cx, ' for XX', cy, ' for YY', cz,' for ZZ')\n",
    "print('control unitary before drift: \\n', K1)\n",
    "print('control unitary after drift: \\n', K2)"
   ]
  },
  {
   "cell_type": "code",
   "execution_count": 59,
   "id": "9e57a3c2",
   "metadata": {},
   "outputs": [
    {
     "name": "stdout",
     "output_type": "stream",
     "text": [
      "[[ 0.70710678  0.          0.70710678  0.        ]\n",
      " [ 0.         -0.70710678  0.          0.70710678]\n",
      " [ 0.70710678  0.         -0.70710678  0.        ]\n",
      " [ 0.          0.70710678  0.          0.70710678]]\n",
      "[[ 0.07059289+0.99500417j  0.        +0.j          0.07059289+0.j\n",
      "   0.        +0.j        ]\n",
      " [ 0.        +0.j         -0.07059289+0.99500417j  0.        +0.j\n",
      "   0.07059289+0.j        ]\n",
      " [ 0.07059289+0.j          0.        +0.j         -0.07059289+0.99500417j\n",
      "   0.        +0.j        ]\n",
      " [ 0.        +0.j          0.07059289+0.j          0.        +0.j\n",
      "   0.07059289+0.99500417j]]\n"
     ]
    },
    {
     "data": {
      "text/plain": [
       "[<qibo.gates.gates.Unitary at 0x13ab8854950>,\n",
       " <qibo.gates.gates.Unitary at 0x13ab8856fd0>,\n",
       " <qibo.gates.gates.CZ at 0x13ab8854890>,\n",
       " <qibo.gates.gates.Unitary at 0x13ab8854190>,\n",
       " <qibo.gates.gates.Unitary at 0x13ab8854490>,\n",
       " <qibo.gates.gates.CZ at 0x13ab8855350>,\n",
       " <qibo.gates.gates.Unitary at 0x13ab88569d0>,\n",
       " <qibo.gates.gates.Unitary at 0x13ab88543d0>]"
      ]
     },
     "execution_count": 59,
     "metadata": {},
     "output_type": "execute_result"
    }
   ],
   "source": [
    "from qibo.transpiler.unitary_decompositions import two_qubit_decomposition,cnot_decomposition\n",
    "\n",
    "Z = np.array([[1,0],[0,-1]])\n",
    "X = np.array([[0,1],[1,0]])\n",
    "id = np.array([[1,0],[0,1]])\n",
    "\n",
    "operator = 1/np.sqrt(2) * (np.kron(Z,Z)+np.kron(X,id))\n",
    "print(operator)\n",
    "two_qubit_decomposition(0,1,operator)\n",
    "import scipy\n",
    "u = 1j* scipy.linalg.expm( -1j * 0.1 * operator)\n",
    "print(u)\n",
    "\n",
    "two_qubit_decomposition(0,1,u)"
   ]
  },
  {
   "cell_type": "code",
   "execution_count": 72,
   "id": "24ff0a60",
   "metadata": {},
   "outputs": [
    {
     "name": "stdout",
     "output_type": "stream",
     "text": [
      "[[0 0 0 0]\n",
      " [0 0 2 0]\n",
      " [0 2 0 0]\n",
      " [0 0 0 0]]\n"
     ]
    },
    {
     "data": {
      "text/plain": [
       "[<qibo.gates.gates.Unitary at 0x13ab899e190>,\n",
       " <qibo.gates.gates.Unitary at 0x13ab899dd10>,\n",
       " <qibo.gates.gates.CZ at 0x13ab899d010>,\n",
       " <qibo.gates.gates.Unitary at 0x13ab899ea50>,\n",
       " <qibo.gates.gates.Unitary at 0x13ab899e050>,\n",
       " <qibo.gates.gates.CZ at 0x13ab899e250>,\n",
       " <qibo.gates.gates.Unitary at 0x13ab899ea10>,\n",
       " <qibo.gates.gates.Unitary at 0x13ab899eb90>]"
      ]
     },
     "execution_count": 72,
     "metadata": {},
     "output_type": "execute_result"
    }
   ],
   "source": [
    "#D = np.outer(rho_A,rho_A)\n",
    "state_01 = np.array([0,1,0,0])\n",
    "state_10 = np.array([0,0,1,0])\n",
    "operator_0 = np.outer(state_10,state_01)\n",
    "operator_1 = np.outer(state_01,state_10)\n",
    "N = 2*operator_0 + 2*operator_1\n",
    "print(N)\n",
    "t = 0.1\n",
    "N_unitary = scipy.linalg.expm(\n",
    "    -1j * N * t\n",
    ")\n",
    "two_qubit_decomposition(0,1,unitary=N_unitary)"
   ]
  },
  {
   "cell_type": "code",
   "execution_count": null,
   "id": "d37beb12",
   "metadata": {},
   "outputs": [],
   "source": []
  }
 ],
 "metadata": {
  "kernelspec": {
   "display_name": "Python 3 (ipykernel)",
   "language": "python",
   "name": "python3"
  },
  "language_info": {
   "codemirror_mode": {
    "name": "ipython",
    "version": 3
   },
   "file_extension": ".py",
   "mimetype": "text/x-python",
   "name": "python",
   "nbconvert_exporter": "python",
   "pygments_lexer": "ipython3",
   "version": "3.11.9"
  }
 },
 "nbformat": 4,
 "nbformat_minor": 5
}
