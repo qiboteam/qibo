{
 "cells": [
  {
   "cell_type": "markdown",
   "metadata": {},
   "source": [
    "# Density matrix exponentiation\n",
    "## Overview\n",
    "This is a function to simulate DME. It follows the protocol laid down by https://arxiv.org/abs/2001.08838\n",
    "\n",
    "Goals: implement the unitary $U=e^{-i\\rho\\theta}$ on data qubit $\\sigma$ (rotate $\\sigma$ by $\\theta$) according to instruction given by instruction qubit $\\rho$.\n",
    "\n",
    "DME uses the relation (rotate $\\sigma$ by small angle $\\delta = \\sigma/N$).\n",
    "$$\\begin{align}\n",
    "Tr_\\rho [e^{-iSWAP\\delta}\\sigma\\otimes\\rho e^{iSWAP\\delta}] &= \\sigma - i\\delta[\\rho,\\sigma] +\\mathcal{O}(\\delta^2)\\\\\n",
    "&= e^{-i\\rho\\delta}\\sigma e^{i\\rho\\delta}+\\mathcal{O}(\\delta^2)\n",
    "\\end{align}$$\n",
    "\n",
    "Reference\n",
    "- Kjaergaard, M., Schwartz, M. E., Greene, A., Samach, G. O., Bengtsson, A., O'Keeffe, M., ... Oliver, W. D. (2020). \n",
    "    Programming a quantum computer with quantum instructions. arXiv preprint arXiv:2001.08838. \n",
    "    Retrieved from https://arxiv.org/abs/2001.08838 \n"
   ]
  },
  {
   "cell_type": "markdown",
   "metadata": {},
   "source": [
    "## Code exlanation\n",
    "In this code, we set $\\theta = \\pi, N =k$ with 1 work qubit and $k$ instruction qubits (it is possible to set more instruction qubits here, but they will just be idle). \n",
    "\n",
    "The instruction qubits are thrown out after usage (We call it Sequential Instruction Qubit protocol). Each query use, accordingly, k qubits. Each call use 1 query.\n",
    "\n",
    "Our goal is to rotate qubit 0 from state $\\ket{0}$ to state $\\ket{1}$ by using an $RX(\\pi)$ pulse. We demonstrate this by showing the number of counter that return 1."
   ]
  },
  {
   "cell_type": "markdown",
   "metadata": {},
   "source": [
    "### Test with 3 iterations"
   ]
  },
  {
   "cell_type": "code",
   "execution_count": null,
   "metadata": {},
   "outputs": [],
   "source": [
    "from qibo.models.qdp.quantum_dynamic_programming import DensityMatrixExponentiation\n",
    "import numpy as np\n",
    "from qibo import gates\n",
    "k = 3\n",
    "my_protocol = DensityMatrixExponentiation(theta=np.pi,N=k,num_work_qubits=1,num_instruction_qubits=k,number_muq_per_call=1)\n",
    "my_protocol.memory_call_circuit(num_instruction_qubits_per_query=k)\n",
    "print('Circuit for DME, q0 is target qubit, q1,q2 and q3 are instruction qubit')\n",
    "print(my_protocol.c.draw())\n",
    "my_protocol.c.add(gates.M(0))\n",
    "my_dict = my_protocol.c.execute(nshots=1000).frequencies(registers = True)\n",
    "my_counter = my_dict['register0']\n",
    "print(f'Count of qubit 0: {my_counter}')\n"
   ]
  },
  {
   "cell_type": "markdown",
   "metadata": {},
   "source": [
    "### Test with 20 iterations"
   ]
  },
  {
   "cell_type": "code",
   "execution_count": null,
   "metadata": {},
   "outputs": [],
   "source": [
    "k = 20\n",
    "my_protocol = DensityMatrixExponentiation(theta=np.pi,N=k,num_work_qubits=1,num_instruction_qubits=k,number_muq_per_call=1)\n",
    "my_protocol.memory_call_circuit(num_instruction_qubits_per_query=k)\n",
    "#print('Circuit for DME, q0 is target qubit, q1,q2 and q3 are instruction qubit')\n",
    "#print(my_protocol.c.draw())\n",
    "my_protocol.c.add(gates.M(0))\n",
    "my_dict = my_protocol.c.execute(nshots=1000).frequencies(registers = True)\n",
    "my_counter = my_dict['register0']\n",
    "print(f'Count of qubit 0: {my_counter}')"
   ]
  },
  {
   "cell_type": "code",
   "execution_count": null,
   "metadata": {},
   "outputs": [],
   "source": [
    "iterations = 20\n",
    "count_1 = np.zeros(iterations)\n",
    "for k in range(1,iterations+1):\n",
    "    my_protocol = DensityMatrixExponentiation(theta=np.pi,N=k,num_work_qubits=1,num_instruction_qubits=k,number_muq_per_call=1)\n",
    "    my_protocol.memory_call_circuit(num_instruction_qubits_per_query=k)\n",
    "    #print('Circuit for DME, q0 is target qubit, q1,q2 and q3 are instruction qubit')\n",
    "    #print(my_protocol.c.draw())\n",
    "    my_protocol.c.add(gates.M(0))\n",
    "    my_dict = my_protocol.c.execute(nshots=1000).frequencies(registers = True)\n",
    "    my_counter = my_dict['register0']\n",
    "    # print(f'Count of qubit 0: {my_counter}')\n",
    "    count_1[k-1] = my_counter['1']\n",
    "count_1 /= 1000"
   ]
  },
  {
   "cell_type": "code",
   "execution_count": null,
   "metadata": {},
   "outputs": [],
   "source": [
    "import matplotlib.pyplot as plt\n",
    "plt.plot(count_1)\n",
    "plt.title('Transition rate using QDP')\n",
    "plt.xlabel('Iterations')\n",
    "plt.ylabel(r'Count of $|1\\rangle$')"
   ]
  },
  {
   "cell_type": "code",
   "execution_count": null,
   "metadata": {},
   "outputs": [],
   "source": []
  }
 ],
 "metadata": {
  "kernelspec": {
   "display_name": "Python 3",
   "language": "python",
   "name": "python3"
  },
  "language_info": {
   "codemirror_mode": {
    "name": "ipython",
    "version": 3
   },
   "file_extension": ".py",
   "mimetype": "text/x-python",
   "name": "python",
   "nbconvert_exporter": "python",
   "pygments_lexer": "ipython3",
   "version": "3.11.7"
  }
 },
 "nbformat": 4,
 "nbformat_minor": 2
}
