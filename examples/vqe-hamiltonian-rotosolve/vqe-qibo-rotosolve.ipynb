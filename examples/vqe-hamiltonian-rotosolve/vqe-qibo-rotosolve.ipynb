{
 "cells": [
  {
   "cell_type": "code",
   "execution_count": 2,
   "id": "66e4921b-c1ea-479d-9926-d93a7c784be9",
   "metadata": {},
   "outputs": [],
   "source": [
    "# General libraries\n",
    "import matplotlib.pyplot as plt\n",
    "import numpy as np\n",
    "import warnings\n",
    "\n",
    "# Qibo libraries\n",
    "import qibo\n",
    "from qibo import hamiltonians as ham, matrices as m\n",
    "from qibo import gates, models\n",
    "from qibo.models import Circuit\n",
    "from qibo.models.utils import matrix_to_pauli_operators\n",
    "import numpy as np\n",
    "\n",
    "warnings.filterwarnings(\"ignore\")\n",
    "%matplotlib inline"
   ]
  },
  {
   "cell_type": "code",
   "execution_count": 3,
   "id": "2582a709",
   "metadata": {},
   "outputs": [],
   "source": [
    "def ising_chain_ham_qibo(n, gam):\n",
    "    \n",
    "    # n = number of spin positions\n",
    "    # gam = transverse field parameter\n",
    "    \n",
    "    for i in range(n):\n",
    "        vecX = [m.I] * n\n",
    "        vecZ = [m.I] * n\n",
    "        vecX[i] = m.X\n",
    "        vecZ[i] = m.Z\n",
    "        \n",
    "        if i == n - 1:\n",
    "            vecX[0] = m.X\n",
    "        else:\n",
    "            vecX[i+1] = m.X\n",
    "\n",
    "        auxX = vecX[0]\n",
    "        auxZ = vecZ[0]\n",
    "        \n",
    "        for a in vecX[1:n]:\n",
    "            auxX = np.kron(auxX, a)\n",
    "        for b in vecZ[1:n]:\n",
    "            auxZ = np.kron(auxZ, b)\n",
    "            \n",
    "        if i == 0:\n",
    "            H = (auxX) + (gam * auxZ)\n",
    "        else:\n",
    "            H = H + (auxX) + (gam * auxZ)\n",
    "\n",
    "    return ham.Hamiltonian(n, H)"
   ]
  },
  {
   "cell_type": "code",
   "execution_count": 4,
   "id": "1caf5741-ba79-49a1-a06a-a1cbc2a8632c",
   "metadata": {},
   "outputs": [
    {
     "name": "stderr",
     "output_type": "stream",
     "text": [
      "[Qibo 0.2.9|INFO|2024-06-12 09:50:42]: Using numpy backend on /CPU:0\n"
     ]
    },
    {
     "name": "stdout",
     "output_type": "stream",
     "text": [
      "Estructura del Hamiltoniano en matrices de Pauli:\n",
      "--------------------------------------------------\n"
     ]
    },
    {
     "data": {
      "text/plain": [
       "{'IIIZ': 0.3,\n",
       " 'IIXX': 1.0,\n",
       " 'IIZI': 0.29999999999999993,\n",
       " 'IXXI': 1.0,\n",
       " 'IZII': 0.3,\n",
       " 'XIIX': 1.0,\n",
       " 'XXII': 1.0,\n",
       " 'ZIII': 0.29999999999999993}"
      ]
     },
     "execution_count": 4,
     "metadata": {},
     "output_type": "execute_result"
    }
   ],
   "source": [
    "# Create a Ising Hamiltonian to minimize with VQE and Rotosolve optimizer\n",
    "n = 4 # número de qubits\n",
    "gam = 0.3\n",
    "\n",
    "H = ising_chain_ham_qibo(n, gam) # Creamos el Hamiltoniano\n",
    "\n",
    "# Pauli decomposition operators\n",
    "print(\"Estructura del Hamiltoniano en matrices de Pauli:\")\n",
    "print(\"--------------------------------------------------\")\n",
    "matrix_to_pauli_operators(H.matrix)"
   ]
  },
  {
   "cell_type": "code",
   "execution_count": 5,
   "id": "eda54008",
   "metadata": {},
   "outputs": [
    {
     "name": "stdout",
     "output_type": "stream",
     "text": [
      "q0: ─RY─o─o───o─────RY─o─o───o─────RY─o─o───o─────RY─\n",
      "q1: ─RY─X─|─o─|─o───RY─X─|─o─|─o───RY─X─|─o─|─o───RY─\n",
      "q2: ─RY───X─X─|─|─o─RY───X─X─|─|─o─RY───X─X─|─|─o─RY─\n",
      "q3: ─RY───────X─X─X─RY───────X─X─X─RY───────X─X─X─RY─\n"
     ]
    }
   ],
   "source": [
    "nqubits = 4\n",
    "nlayers = 3\n",
    "\n",
    "# Create variational ansatz circuit Twolocal\n",
    "ansatz = models.Circuit(nqubits)\n",
    "for l in range(nlayers):\n",
    "    \n",
    "    ansatz.add((gates.RY(q, theta=0) for q in range(nqubits)))\n",
    "    \n",
    "    for i in range(nqubits - 3):\n",
    "        ansatz.add(gates.CNOT(i, i+1))\n",
    "        ansatz.add(gates.CNOT(i, i+2))\n",
    "        ansatz.add(gates.CNOT(i+1, i+2))\n",
    "        ansatz.add(gates.CNOT(i, i+3))\n",
    "        ansatz.add(gates.CNOT(i+1, i+3))\n",
    "        ansatz.add(gates.CNOT(i+2, i+3))\n",
    "    \n",
    "ansatz.add((gates.RY(q, theta=0) for q in range(nqubits)))\n",
    "\n",
    "print(ansatz.draw())"
   ]
  },
  {
   "cell_type": "code",
   "execution_count": 6,
   "id": "bb0559a2",
   "metadata": {},
   "outputs": [
    {
     "name": "stdout",
     "output_type": "stream",
     "text": [
      "Rotosolve circuit optimization steps\n",
      "====================================\n",
      "Step 0. Current expectation value: -3.97869898\n",
      "Step 1. Current expectation value: -4.07394079\n",
      "Step 2. Current expectation value: -4.08295959\n",
      "Step 3. Current expectation value: -4.08509383\n",
      "Step 4. Current expectation value: -4.08634917\n",
      "Step 5. Current expectation value: -4.08721330\n",
      "Step 6. Current expectation value: -4.08783435\n",
      "Step 7. Current expectation value: -4.08829526\n",
      "Step 8. Current expectation value: -4.08864642\n",
      "Step 9. Current expectation value: -4.08891952\n",
      "Step 10. Current expectation value: -4.08913538\n",
      "Step 11. Current expectation value: -4.08930826\n",
      "Step 12. Current expectation value: -4.08944828\n",
      "Step 13. Current expectation value: -4.08956284\n",
      "Step 14. Current expectation value: -4.08965745\n",
      "Step 15. Current expectation value: -4.08973626\n",
      "Step 16. Current expectation value: -4.08980249\n",
      "Step 17. Current expectation value: -4.08985859\n",
      "Step 18. Current expectation value: -4.08990651\n",
      "Step 19. Current expectation value: -4.08994775\n",
      "Step 20. Current expectation value: -4.08998352\n",
      "Step 21. Current expectation value: -4.09001477\n",
      "Step 22. Current expectation value: -4.09004227\n",
      "Step 23. Current expectation value: -4.09006663\n",
      "Step 24. Current expectation value: -4.09008836\n",
      "Step 25. Current expectation value: -4.09010785\n",
      "Step 26. Current expectation value: -4.09012544\n",
      "Step 27. Current expectation value: -4.09014139\n",
      "Step 28. Current expectation value: -4.09015593\n",
      "Step 29. Current expectation value: -4.09016925\n",
      "Step 30. Current expectation value: -4.09018149\n",
      "Step 31. Current expectation value: -4.09019279\n",
      "Step 32. Current expectation value: -4.09020325\n",
      "Step 33. Current expectation value: -4.09021297\n",
      "Step 34. Current expectation value: -4.09022202\n",
      "Step 35. Current expectation value: -4.09023047\n",
      "Step 36. Current expectation value: -4.09023838\n",
      "Step 37. Current expectation value: -4.09024579\n",
      "Step 38. Current expectation value: -4.09025275\n",
      "Step 39. Current expectation value: -4.09025930\n",
      "Step 40. Current expectation value: -4.09026546\n",
      "Step 41. Current expectation value: -4.09027128\n",
      "Step 42. Current expectation value: -4.09027677\n",
      "Step 43. Current expectation value: -4.09028196\n",
      "Step 44. Current expectation value: -4.09028687\n",
      "Step 45. Current expectation value: -4.09029151\n",
      "Step 46. Current expectation value: -4.09029591\n",
      "Step 47. Current expectation value: -4.09030009\n",
      "Step 48. Current expectation value: -4.09030404\n",
      "Step 49. Current expectation value: -4.09030780\n",
      "Step 50. Current expectation value: -4.09031136\n"
     ]
    }
   ],
   "source": [
    "intermediate_info = {\n",
    "    'nfev': [],\n",
    "    'parameters': [],\n",
    "    'exp_val': [],\n",
    "}\n",
    "\n",
    "# Callback function for intermediate values on each epoch\n",
    "def callback(theta_optimal, expectation_vals, nevals):\n",
    "\n",
    "    intermediate_info['nfev'].append(nevals)\n",
    "    intermediate_info['parameters'].append(theta_optimal)\n",
    "    intermediate_info['exp_val'].append(expectation_vals)\n",
    "\n",
    "# Create VQE model\n",
    "vqe = models.VQE(ansatz, H)\n",
    "\n",
    "# Optimize starting from a random guess to set the initial parameters\n",
    "nparams = 16\n",
    "initial_parameters = np.random.random(nparams) # valor inicial\n",
    "\n",
    "# Rotosolve options\n",
    "options = {\n",
    "            'max_steps': 50,\n",
    "            'step_size' : 1,\n",
    "            'num_params' : nparams,\n",
    "          }\n",
    "\n",
    "result, params, extra = vqe.minimize(initial_parameters,\n",
    "                                     method='rotosolve', # select rotosolve as optimizer\n",
    "                                     callback = callback,\n",
    "                                     options = options,\n",
    "                                     compile=False)"
   ]
  },
  {
   "cell_type": "code",
   "execution_count": 7,
   "id": "f9d45edf",
   "metadata": {},
   "outputs": [
    {
     "name": "stdout",
     "output_type": "stream",
     "text": [
      "Results:\n",
      "--------\n",
      "[-3.9786989761571263, -4.073940785221439, -4.082959593139201, -4.085093825655079, -4.0863491745272755, -4.08721330371466, -4.087834352937001, -4.088295258520269, -4.088646417417638, -4.088919523152884, -4.089135384791454, -4.0893082627372745, -4.089448284776855, -4.089562843463695, -4.089657446900719, -4.089736263859947, -4.08980248854491, -4.0898585931329325, -4.089906507248937, -4.089947748116593, -4.0899835164719045, -4.090014768183799, -4.0900422683298325, -4.090066632412346, -4.090088358029875, -4.090107849386529, -4.0901254363761455, -4.090141389522615, -4.090155931732116, -4.090169247577074, -4.090181490658489, -4.090192789464925, -4.0902032520503955, -4.090212969780711, -4.090222020342597, -4.090230470167571, -4.090238376389878, -4.090245788432455, -4.090252749295272, -4.090259296604792, -4.090265463471441, -4.090271279192298, -4.090276769828741, -4.090281958682864, -4.090286866691714, -4.09029151275472, -4.09029591400659, -4.090300086045675, -4.090304043125803, -4.090307798318118, -4.090311363648195]\n"
     ]
    }
   ],
   "source": [
    "print(\"Results:\")\n",
    "print(\"--------\")\n",
    "print(result)"
   ]
  },
  {
   "cell_type": "code",
   "execution_count": 8,
   "id": "cc8b754b",
   "metadata": {},
   "outputs": [
    {
     "name": "stdout",
     "output_type": "stream",
     "text": [
      "Optimized parameters:\n",
      "---------------------\n",
      "[-3.14068506 -0.77991446 -6.3313567   1.34373318 -0.00677308 -0.74014689\n",
      " -0.21929011  0.20871556  0.26057692 -0.54934786  1.26923769  0.01075238\n",
      "  1.15442254 -6.20513635  0.42026863  0.15535393]\n"
     ]
    }
   ],
   "source": [
    "print(\"Optimized parameters:\")\n",
    "print(\"---------------------\")\n",
    "print(params)"
   ]
  },
  {
   "cell_type": "code",
   "execution_count": 9,
   "id": "f97f0621",
   "metadata": {},
   "outputs": [
    {
     "name": "stdout",
     "output_type": "stream",
     "text": [
      "Execution summary:\n",
      "------------------\n",
      "{'x': array([-3.14068506, -0.77991446, -6.3313567 ,  1.34373318, -0.00677308,\n",
      "       -0.74014689, -0.21929011,  0.20871556,  0.26057692, -0.54934786,\n",
      "        1.26923769,  0.01075238,  1.15442254, -6.20513635,  0.42026863,\n",
      "        0.15535393]), 'fun': -4.090311363648195, 'exp_vals': [-3.9786989761571263, -4.073940785221439, -4.082959593139201, -4.085093825655079, -4.0863491745272755, -4.08721330371466, -4.087834352937001, -4.088295258520269, -4.088646417417638, -4.088919523152884, -4.089135384791454, -4.0893082627372745, -4.089448284776855, -4.089562843463695, -4.089657446900719, -4.089736263859947, -4.08980248854491, -4.0898585931329325, -4.089906507248937, -4.089947748116593, -4.0899835164719045, -4.090014768183799, -4.0900422683298325, -4.090066632412346, -4.090088358029875, -4.090107849386529, -4.0901254363761455, -4.090141389522615, -4.090155931732116, -4.090169247577074, -4.090181490658489, -4.090192789464925, -4.0902032520503955, -4.090212969780711, -4.090222020342597, -4.090230470167571, -4.090238376389878, -4.090245788432455, -4.090252749295272, -4.090259296604792, -4.090265463471441, -4.090271279192298, -4.090276769828741, -4.090281958682864, -4.090286866691714, -4.09029151275472, -4.09029591400659, -4.090300086045675, -4.090304043125803, -4.090307798318118, -4.090311363648195], 'nfev': 2450}\n"
     ]
    }
   ],
   "source": [
    "print(\"Execution summary:\")\n",
    "print(\"------------------\")\n",
    "print(extra)"
   ]
  },
  {
   "cell_type": "code",
   "execution_count": 10,
   "id": "afe374b0",
   "metadata": {},
   "outputs": [
    {
     "data": {
      "image/png": "[encoded data removed]",
      "text/plain": [
       "<Figure size 1500x700 with 1 Axes>"
      ]
     },
     "metadata": {},
     "output_type": "display_data"
    }
   ],
   "source": [
    "final_result = intermediate_info['exp_val']\n",
    "\n",
    "fontsize = 15\n",
    "\n",
    "plt.rcParams['figure.figsize'] = (15, 7)\n",
    "plt.plot(range(len(final_result)), final_result, label=\"Energy value\", color='red')\n",
    "plt.xticks(fontsize = fontsize)\n",
    "plt.yticks(fontsize = fontsize)\n",
    "plt.xlabel('Steps', fontsize = fontsize)\n",
    "plt.ylabel('Energy', fontsize = fontsize)\n",
    "plt.title('Energy convergence for Rotosolve optimizer', fontsize = fontsize)\n",
    "plt.legend(loc='upper right', fontsize = fontsize);\n",
    "plt.show()"
   ]
  },
  {
   "cell_type": "code",
   "execution_count": 11,
   "id": "3c3e5c51",
   "metadata": {},
   "outputs": [
    {
     "name": "stdout",
     "output_type": "stream",
     "text": [
      "Best energy result: -4.090311363648195\n",
      "Mean energy result: -4.087071425313556\n"
     ]
    }
   ],
   "source": [
    "print(\"Best energy result:\", np.min(result))\n",
    "print(\"Mean energy result:\", np.mean(result))"
   ]
  },
  {
   "cell_type": "code",
   "execution_count": null,
   "id": "daab953a",
   "metadata": {},
   "outputs": [],
   "source": []
  }
 ],
 "metadata": {
  "kernelspec": {
   "display_name": "Python 3 (ipykernel)",
   "language": "python",
   "name": "python3"
  },
  "language_info": {
   "codemirror_mode": {
    "name": "ipython",
    "version": 3
   },
   "file_extension": ".py",
   "mimetype": "text/x-python",
   "name": "python",
   "nbconvert_exporter": "python",
   "pygments_lexer": "ipython3",
   "version": "3.10.7"
  }
 },
 "nbformat": 4,
 "nbformat_minor": 5
}
