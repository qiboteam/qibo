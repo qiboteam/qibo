{
 "cells": [
  {
   "cell_type": "code",
   "execution_count": 2,
   "id": "66e4921b-c1ea-479d-9926-d93a7c784be9",
   "metadata": {},
   "outputs": [],
   "source": [
    "# General libraries\n",
    "import matplotlib.pyplot as plt\n",
    "import numpy as np\n",
    "import warnings\n",
    "\n",
    "# Qibo libraries\n",
    "import qibo\n",
    "from qibo import hamiltonians as ham, matrices as m\n",
    "from qibo import gates, models\n",
    "from qibo.models import Circuit\n",
    "from qibo.models.utils import matrix_to_pauli_operators\n",
    "import numpy as np\n",
    "\n",
    "warnings.filterwarnings(\"ignore\")\n",
    "%matplotlib inline"
   ]
  },
  {
   "cell_type": "code",
   "execution_count": 3,
   "id": "49dd4d3c",
   "metadata": {},
   "outputs": [],
   "source": [
    "def ising_chain_ham_qibo(n, gam):\n",
    "    \n",
    "    # n = number of spin positions\n",
    "    # gam = transverse field parameter\n",
    "    \n",
    "    for i in range(n):\n",
    "        vecX = [m.I] * n\n",
    "        vecZ = [m.I] * n\n",
    "        vecX[i] = m.X\n",
    "        vecZ[i] = m.Z\n",
    "        \n",
    "        if i == n - 1:\n",
    "            vecX[0] = m.X\n",
    "        else:\n",
    "            vecX[i+1] = m.X\n",
    "\n",
    "        auxX = vecX[0]\n",
    "        auxZ = vecZ[0]\n",
    "        \n",
    "        for a in vecX[1:n]:\n",
    "            auxX = np.kron(auxX, a)\n",
    "        for b in vecZ[1:n]:\n",
    "            auxZ = np.kron(auxZ, b)\n",
    "            \n",
    "        if i == 0:\n",
    "            H = (auxX) + (gam * auxZ)\n",
    "        else:\n",
    "            H = H + (auxX) + (gam * auxZ)\n",
    "\n",
    "    return ham.Hamiltonian(n, H)"
   ]
  },
  {
   "cell_type": "code",
   "execution_count": 13,
   "id": "1caf5741-ba79-49a1-a06a-a1cbc2a8632c",
   "metadata": {},
   "outputs": [
    {
     "name": "stdout",
     "output_type": "stream",
     "text": [
      "Hamiltonian matrix in Pauli Operators\n",
      "-------------------------------------\n"
     ]
    },
    {
     "data": {
      "text/plain": [
       "{'IIIZ': 0.3,\n",
       " 'IIXX': 1.0,\n",
       " 'IIZI': 0.29999999999999993,\n",
       " 'IXXI': 1.0,\n",
       " 'IZII': 0.3,\n",
       " 'XIIX': 1.0,\n",
       " 'XXII': 1.0,\n",
       " 'ZIII': 0.29999999999999993}"
      ]
     },
     "execution_count": 13,
     "metadata": {},
     "output_type": "execute_result"
    }
   ],
   "source": [
    "# Create a Ising Hamiltonian to minimize with VQE and Rotosolve optimizer\n",
    "n = 4 # número de qubits\n",
    "gam = 0.3\n",
    "\n",
    "H = ising_chain_ham_qibo(n, gam) # Creamos el Hamiltoniano\n",
    "\n",
    "# Pauli decomposition operators\n",
    "print(\"Hamiltonian matrix in Pauli Operators\")\n",
    "print(\"-------------------------------------\")\n",
    "matrix_to_pauli_operators(H.matrix)"
   ]
  },
  {
   "cell_type": "code",
   "execution_count": 5,
   "id": "eda54008",
   "metadata": {},
   "outputs": [
    {
     "name": "stdout",
     "output_type": "stream",
     "text": [
      "q0: ─RY─o─o───o─────RY─o─o───o─────RY─o─o───o─────RY─\n",
      "q1: ─RY─X─|─o─|─o───RY─X─|─o─|─o───RY─X─|─o─|─o───RY─\n",
      "q2: ─RY───X─X─|─|─o─RY───X─X─|─|─o─RY───X─X─|─|─o─RY─\n",
      "q3: ─RY───────X─X─X─RY───────X─X─X─RY───────X─X─X─RY─\n"
     ]
    }
   ],
   "source": [
    "nqubits = 4\n",
    "nlayers = 3\n",
    "\n",
    "# Create variational ansatz circuit Twolocal\n",
    "ansatz = models.Circuit(nqubits)\n",
    "for l in range(nlayers):\n",
    "    \n",
    "    ansatz.add((gates.RY(q, theta=0) for q in range(nqubits)))\n",
    "    \n",
    "    for i in range(nqubits - 3):\n",
    "        ansatz.add(gates.CNOT(i, i+1))\n",
    "        ansatz.add(gates.CNOT(i, i+2))\n",
    "        ansatz.add(gates.CNOT(i+1, i+2))\n",
    "        ansatz.add(gates.CNOT(i, i+3))\n",
    "        ansatz.add(gates.CNOT(i+1, i+3))\n",
    "        ansatz.add(gates.CNOT(i+2, i+3))\n",
    "    \n",
    "ansatz.add((gates.RY(q, theta=0) for q in range(nqubits)))\n",
    "\n",
    "print(ansatz.draw())"
   ]
  },
  {
   "cell_type": "code",
   "execution_count": 6,
   "id": "bb0559a2",
   "metadata": {},
   "outputs": [
    {
     "name": "stdout",
     "output_type": "stream",
     "text": [
      "Rotosolve circuit optimization steps\n",
      "====================================\n",
      "Step 0. Current expectation value: -3.03873721\n",
      "Step 1. Current expectation value: -3.97905384\n",
      "Step 2. Current expectation value: -4.06583969\n",
      "Step 3. Current expectation value: -4.07848641\n",
      "Step 4. Current expectation value: -4.08470700\n",
      "Step 5. Current expectation value: -4.08728467\n",
      "Step 6. Current expectation value: -4.08845009\n",
      "Step 7. Current expectation value: -4.08906645\n",
      "Step 8. Current expectation value: -4.08943851\n",
      "Step 9. Current expectation value: -4.08968468\n",
      "Step 10. Current expectation value: -4.08985744\n",
      "Step 11. Current expectation value: -4.08998328\n",
      "Step 12. Current expectation value: -4.09007716\n",
      "Step 13. Current expectation value: -4.09014833\n",
      "Step 14. Current expectation value: -4.09020289\n",
      "Step 15. Current expectation value: -4.09024506\n",
      "Step 16. Current expectation value: -4.09027785\n",
      "Step 17. Current expectation value: -4.09030348\n",
      "Step 18. Current expectation value: -4.09032358\n",
      "Step 19. Current expectation value: -4.09033939\n",
      "Step 20. Current expectation value: -4.09035187\n",
      "Step 21. Current expectation value: -4.09036174\n",
      "Step 22. Current expectation value: -4.09036955\n",
      "Step 23. Current expectation value: -4.09037576\n",
      "Step 24. Current expectation value: -4.09038069\n",
      "Step 25. Current expectation value: -4.09038461\n",
      "Step 26. Current expectation value: -4.09038774\n",
      "Step 27. Current expectation value: -4.09039023\n",
      "Step 28. Current expectation value: -4.09039223\n",
      "Step 29. Current expectation value: -4.09039382\n",
      "Step 30. Current expectation value: -4.09039510\n",
      "Step 31. Current expectation value: -4.09039613\n",
      "Step 32. Current expectation value: -4.09039695\n",
      "Step 33. Current expectation value: -4.09039761\n",
      "Step 34. Current expectation value: -4.09039814\n",
      "Step 35. Current expectation value: -4.09039857\n",
      "Step 36. Current expectation value: -4.09039892\n",
      "Step 37. Current expectation value: -4.09039920\n",
      "Step 38. Current expectation value: -4.09039943\n",
      "Step 39. Current expectation value: -4.09039962\n",
      "Step 40. Current expectation value: -4.09039977\n",
      "Step 41. Current expectation value: -4.09039990\n",
      "Step 42. Current expectation value: -4.09040000\n",
      "Step 43. Current expectation value: -4.09040009\n",
      "Step 44. Current expectation value: -4.09040016\n",
      "Step 45. Current expectation value: -4.09040022\n",
      "Step 46. Current expectation value: -4.09040027\n",
      "Step 47. Current expectation value: -4.09040031\n",
      "Step 48. Current expectation value: -4.09040035\n",
      "Step 49. Current expectation value: -4.09040038\n",
      "Step 50. Current expectation value: -4.09040041\n"
     ]
    }
   ],
   "source": [
    "intermediate_info = {\n",
    "    'nfev': [],\n",
    "    'parameters': [],\n",
    "    'exp_val': [],\n",
    "}\n",
    "\n",
    "# Callback function for intermediate values on each epoch\n",
    "def callback(theta_optimal, expectation_vals, nevals):\n",
    "\n",
    "    intermediate_info['nfev'].append(nevals)\n",
    "    intermediate_info['parameters'].append(theta_optimal)\n",
    "    intermediate_info['exp_val'].append(expectation_vals)\n",
    "\n",
    "# Create VQE model\n",
    "vqe = models.VQE(ansatz, H)\n",
    "\n",
    "# Optimize starting from a random guess to set the initial parameters\n",
    "nparams = 16\n",
    "initial_parameters = np.random.random(nparams) # valor inicial\n",
    "\n",
    "# Rotosolve options\n",
    "options = {\n",
    "            'max_steps': 50,\n",
    "            'step_size' : 1,\n",
    "            'num_params' : nparams,\n",
    "          }\n",
    "\n",
    "result, params, extra = vqe.minimize(initial_parameters,\n",
    "                                     method='rotosolve', # select rotosolve as optimizer\n",
    "                                     callback = callback,\n",
    "                                     options = options,\n",
    "                                     compile=False)"
   ]
  },
  {
   "cell_type": "code",
   "execution_count": 7,
   "id": "39ed7682",
   "metadata": {},
   "outputs": [
    {
     "name": "stdout",
     "output_type": "stream",
     "text": [
      "Results:\n",
      "--------\n",
      "[-3.038737205292245, -3.9790538368408153, -4.065839685813058, -4.078486414566324, -4.084706996031653, -4.087284668637121, -4.0884500938074515, -4.08906644742042, -4.089438513260871, -4.089684681920618, -4.089857440586877, -4.089983278232944, -4.090077160283121, -4.090148331749704, -4.090202892858727, -4.090245062046772, -4.090277854831312, -4.090303478663396, -4.090323577817086, -4.090339393147461, -4.090351870484646, -4.090361736451603, -4.090369552770637, -4.090375755895622, -4.090380686367952, -4.090384610821431, -4.090387738637457, -4.090390234651273, -4.0903922289096295, -4.090393824205234, -4.090395101921671, -4.090396126585533, -4.090396949423666, -4.090397611151143, -4.090398144161853, -4.090398574253463, -4.090398921988399, -4.090399203769472, -4.090399432691223, -4.090399619214688, -4.090399771702822, -4.090399896845817, -4.09039999999925, -4.090400085453213, -4.090400156646607, -4.090400216337957, -4.090400266741625, -4.090400309636489, -4.090400346452759, -4.0904003783412595, -4.090400406228879]\n"
     ]
    }
   ],
   "source": [
    "print(\"Results:\")\n",
    "print(\"--------\")\n",
    "print(result)"
   ]
  },
  {
   "cell_type": "code",
   "execution_count": 8,
   "id": "c8d6cc14",
   "metadata": {},
   "outputs": [
    {
     "name": "stdout",
     "output_type": "stream",
     "text": [
      "Optimized parameters:\n",
      "---------------------\n",
      "[-3.13602680e+00 -3.12492212e+00 -6.36850577e-01  1.20331470e+00\n",
      " -6.33153753e+00 -8.14309799e-04 -4.79489693e+00 -6.54544028e+00\n",
      " -6.25124318e+00 -5.55432003e+00 -6.25630634e-01 -6.14356552e+00\n",
      " -4.91878090e+00 -5.28864417e+00 -1.44543406e-01  7.36755274e-01]\n"
     ]
    }
   ],
   "source": [
    "print(\"Optimized parameters:\")\n",
    "print(\"---------------------\")\n",
    "print(params)"
   ]
  },
  {
   "cell_type": "code",
   "execution_count": 9,
   "id": "2a2caf54",
   "metadata": {},
   "outputs": [
    {
     "name": "stdout",
     "output_type": "stream",
     "text": [
      "Execution summary:\n",
      "------------------\n",
      "{'x': array([-3.13602680e+00, -3.12492212e+00, -6.36850577e-01,  1.20331470e+00,\n",
      "       -6.33153753e+00, -8.14309799e-04, -4.79489693e+00, -6.54544028e+00,\n",
      "       -6.25124318e+00, -5.55432003e+00, -6.25630634e-01, -6.14356552e+00,\n",
      "       -4.91878090e+00, -5.28864417e+00, -1.44543406e-01,  7.36755274e-01]), 'fun': -4.090400406228879, 'exp_vals': [-3.038737205292245, -3.9790538368408153, -4.065839685813058, -4.078486414566324, -4.084706996031653, -4.087284668637121, -4.0884500938074515, -4.08906644742042, -4.089438513260871, -4.089684681920618, -4.089857440586877, -4.089983278232944, -4.090077160283121, -4.090148331749704, -4.090202892858727, -4.090245062046772, -4.090277854831312, -4.090303478663396, -4.090323577817086, -4.090339393147461, -4.090351870484646, -4.090361736451603, -4.090369552770637, -4.090375755895622, -4.090380686367952, -4.090384610821431, -4.090387738637457, -4.090390234651273, -4.0903922289096295, -4.090393824205234, -4.090395101921671, -4.090396126585533, -4.090396949423666, -4.090397611151143, -4.090398144161853, -4.090398574253463, -4.090398921988399, -4.090399203769472, -4.090399432691223, -4.090399619214688, -4.090399771702822, -4.090399896845817, -4.09039999999925, -4.090400085453213, -4.090400156646607, -4.090400216337957, -4.090400266741625, -4.090400309636489, -4.090400346452759, -4.0904003783412595, -4.090400406228879], 'nfev': 2450}\n"
     ]
    }
   ],
   "source": [
    "print(\"Execution summary:\")\n",
    "print(\"------------------\")\n",
    "print(extra)"
   ]
  },
  {
   "cell_type": "code",
   "execution_count": 10,
   "id": "afe374b0",
   "metadata": {},
   "outputs": [
    {
     "data": {
      "image/png": "[encoded data removed]",
      "text/plain": [
       "<Figure size 1500x700 with 1 Axes>"
      ]
     },
     "metadata": {},
     "output_type": "display_data"
    }
   ],
   "source": [
    "final_result = intermediate_info['exp_val']\n",
    "\n",
    "fontsize = 15\n",
    "\n",
    "plt.rcParams['figure.figsize'] = (15, 7)\n",
    "plt.plot(range(len(final_result)), final_result, label=\"Energy value\", color='red')\n",
    "plt.xticks(fontsize = fontsize)\n",
    "plt.yticks(fontsize = fontsize)\n",
    "plt.xlabel('Steps', fontsize = fontsize)\n",
    "plt.ylabel('Energy', fontsize = fontsize)\n",
    "plt.title('Energy convergence for Rotosolve optimizer', fontsize = fontsize)\n",
    "plt.legend(loc='upper right', fontsize = fontsize);\n",
    "plt.show()"
   ]
  },
  {
   "cell_type": "code",
   "execution_count": 11,
   "id": "f221d4b7",
   "metadata": {},
   "outputs": [
    {
     "name": "stdout",
     "output_type": "stream",
     "text": [
      "Best energy result: -4.090400406228879\n",
      "Mean energy result: -4.066562289657867\n"
     ]
    }
   ],
   "source": [
    "print(\"Best energy result:\", np.min(result))\n",
    "print(\"Mean energy result:\", np.mean(result))"
   ]
  },
  {
   "cell_type": "code",
   "execution_count": null,
   "id": "6e0e2a81",
   "metadata": {},
   "outputs": [],
   "source": []
  }
 ],
 "metadata": {
  "kernelspec": {
   "display_name": "Python 3 (ipykernel)",
   "language": "python",
   "name": "python3"
  },
  "language_info": {
   "codemirror_mode": {
    "name": "ipython",
    "version": 3
   },
   "file_extension": ".py",
   "mimetype": "text/x-python",
   "name": "python",
   "nbconvert_exporter": "python",
   "pygments_lexer": "ipython3",
   "version": "3.10.7"
  }
 },
 "nbformat": 4,
 "nbformat_minor": 5
}
