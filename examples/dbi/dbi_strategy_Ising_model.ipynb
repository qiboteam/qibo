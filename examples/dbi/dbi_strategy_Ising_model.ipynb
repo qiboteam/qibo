{
 "cells": [
  {
   "cell_type": "markdown",
   "metadata": {},
   "source": [
    "# Double-Bracket Iteration Strategy: magnetic field (Ising model)\n",
    "This notebook shows the diagonalization process of DBI using the magnetic field strategy, which varies the diagonal operator $D$ by gradient descent. To find the gradient with respect to $D$, parameterization of $D$ is required. For the purpose of this notebook, we represent it by the Ising model, i.e.\n",
    "\n",
    "$$ D = \\sum \\alpha_i Z_i +\\sum \\beta_{ij}Z_iZ_j$$\n",
    "\n",
    "\n",
    "The gradients are calculated under the premise that the diagonalization gain curve can be fitted by a polynomial, and that the iteration step duration is taken at the first dip of the curve."
   ]
  },
  {
   "cell_type": "code",
   "execution_count": null,
   "metadata": {},
   "outputs": [],
   "source": [
    "from copy import deepcopy\n",
    "\n",
    "import numpy as np\n",
    "import matplotlib.pyplot as plt\n",
    "\n",
    "from qibo import hamiltonians, set_backend\n",
    "from qibo.hamiltonians import Hamiltonian, SymbolicHamiltonian\n",
    "from qibo.quantum_info import random_hermitian\n",
    "from qibo.models.dbi.double_bracket import DoubleBracketGeneratorType, DoubleBracketScheduling, DoubleBracketIteration\n",
    "from qibo.models.dbi.utils import *\n",
    "from qibo.models.dbi.utils_strategies import *"
   ]
  },
  {
   "cell_type": "code",
   "execution_count": null,
   "metadata": {},
   "outputs": [],
   "source": [
    "def visualize_matrix(matrix, title=\"\"):\n",
    "    \"\"\"Visualize hamiltonian in a heatmap form.\"\"\"\n",
    "    fig, ax = plt.subplots(figsize=(5,5))\n",
    "    ax.set_title(title)\n",
    "    try:\n",
    "        im = ax.imshow(np.absolute(matrix), cmap=\"inferno\")\n",
    "    except TypeError:\n",
    "        im = ax.imshow(np.absolute(matrix.get()), cmap=\"inferno\")\n",
    "    fig.colorbar(im, ax=ax)\n"
   ]
  },
  {
   "cell_type": "markdown",
   "metadata": {},
   "source": [
    "## Test on random Hamiltonian"
   ]
  },
  {
   "cell_type": "code",
   "execution_count": null,
   "metadata": {},
   "outputs": [],
   "source": [
    "# backend\n",
    "set_backend(\"qibojit\", platform=\"numba\")\n",
    "# initialize dbi object\n",
    "nqubits = 5\n",
    "h0 = random_hermitian(2**nqubits, seed=2)\n",
    "scheduling = DoubleBracketScheduling.hyperopt\n",
    "mode = DoubleBracketGeneratorType.single_commutator\n",
    "n_taylor = 5\n",
    "dbi = DoubleBracketIteration(Hamiltonian(nqubits=nqubits, matrix=h0), scheduling=scheduling, mode=mode)\n",
    "print(\"Initial off diagonal norm\", dbi.off_diagonal_norm)\n",
    "visualize_matrix(dbi.h.matrix, title=f'Random hamiltonian with L={nqubits}')"
   ]
  },
  {
   "cell_type": "markdown",
   "metadata": {},
   "source": [
    "### Order 1: $D=\\sum \\alpha_iZ_i$"
   ]
  },
  {
   "cell_type": "code",
   "execution_count": null,
   "metadata": {},
   "outputs": [],
   "source": [
    "# generate pauli_operator_dict\n",
    "pauli_operator_dict = generate_pauli_operator_dict(nqubits=nqubits, parameterization_order=1)\n",
    "d_coef = decompose_into_Pauli_basis(dbi.h.matrix, list(pauli_operator_dict.values()))\n",
    "d = sum([d_coef[i] * list(pauli_operator_dict.values())[i] for i in range(nqubits)])\n",
    "grad, s = gradient_Pauli(dbi, d=d, pauli_operator_dict=pauli_operator_dict)\n",
    "print('The initial D coefficients:', d_coef)\n",
    "print('Gradient:', grad)\n",
    "print('s:', s)"
   ]
  },
  {
   "cell_type": "code",
   "execution_count": null,
   "metadata": {},
   "outputs": [],
   "source": [
    "iters = 15\n",
    "off_diagonal_norm_1 = [dbi.off_diagonal_norm]\n",
    "s_step = [0]\n",
    "for i in range(iters):\n",
    "    s, d_coef, d = gradient_descent_pauli(dbi, d_coef=d_coef, d=d, pauli_operator_dict=pauli_operator_dict, max_evals=100)\n",
    "    dbi(step=s, d=d)\n",
    "    off_diagonal_norm_1.append(dbi.off_diagonal_norm)\n",
    "    s_step.append(s)"
   ]
  },
  {
   "cell_type": "code",
   "execution_count": null,
   "metadata": {},
   "outputs": [],
   "source": [
    "plt.title(str(nqubits) + ' spins random hamiltonian')\n",
    "plt.plot(off_diagonal_norm_1)\n",
    "plt.xlabel('Iteration')\n",
    "plt.ylabel(r'$|| \\sigma(e^{sW}He^{-sW}) || $')"
   ]
  },
  {
   "cell_type": "markdown",
   "metadata": {},
   "source": [
    "### Order 2: $D=\\sum \\alpha_iZ_i + \\beta_{ij}Z_iZ_j$"
   ]
  },
  {
   "cell_type": "code",
   "execution_count": null,
   "metadata": {},
   "outputs": [],
   "source": [
    "dbi = DoubleBracketIteration(Hamiltonian(nqubits=nqubits, matrix=h0), scheduling=scheduling, mode=mode)"
   ]
  },
  {
   "cell_type": "code",
   "execution_count": null,
   "metadata": {},
   "outputs": [],
   "source": [
    "# generate pauli_operator_dict\n",
    "pauli_operator_dict = generate_pauli_operator_dict(nqubits=nqubits, parameterization_order=2)\n",
    "d_coef = decompose_into_Pauli_basis(dbi.h.matrix, list(pauli_operator_dict.values()))\n",
    "d = sum([d_coef[i] * list(pauli_operator_dict.values())[i] for i in range(nqubits)])\n",
    "grad, s = gradient_Pauli(dbi, d=d, pauli_operator_dict=pauli_operator_dict)\n",
    "print('The initial D coefficients:', d_coef)\n",
    "print('Gradient:', grad)\n",
    "print('s:', s)"
   ]
  },
  {
   "cell_type": "code",
   "execution_count": null,
   "metadata": {},
   "outputs": [],
   "source": [
    "iters = 15\n",
    "off_diagonal_norm_2 = [dbi.off_diagonal_norm]\n",
    "s_step = [0]\n",
    "for i in range(iters):\n",
    "    s, d_coef, d = gradient_descent_pauli(dbi, d_coef=d_coef, d=d, pauli_operator_dict=pauli_operator_dict, max_evals=100)\n",
    "    dbi(step=s, d=d)\n",
    "    off_diagonal_norm_2.append(dbi.off_diagonal_norm)\n",
    "    s_step.append(s)"
   ]
  },
  {
   "cell_type": "code",
   "execution_count": null,
   "metadata": {},
   "outputs": [],
   "source": [
    "plt.title(str(nqubits) + ' spins random hamiltonian')\n",
    "plt.plot(off_diagonal_norm_1, label='order 1')\n",
    "plt.plot(off_diagonal_norm_2, label='order 2')\n",
    "plt.legend()\n",
    "plt.xlabel('Iteration')\n",
    "plt.ylabel(r'$|| \\sigma(e^{sW}He^{-sW}) || $')"
   ]
  },
  {
   "cell_type": "markdown",
   "metadata": {},
   "source": [
    "## Test on TFIM\n",
    "Here we choose to customize our TFIM in the X axis using `SymbolicHamiltonian`. It is also possible to use Hadamard gate to rotate the TFIM inbuilt in `qibo`.\n",
    "\n",
    "$$ H = -(\\sum X_i X_{i+1} + \\sum hZ_i)"
   ]
  },
  {
   "cell_type": "code",
   "execution_count": null,
   "metadata": {},
   "outputs": [],
   "source": [
    "# generate the Hamiltonian\n",
    "nqubits = 5\n",
    "h = 1\n",
    "H_TFIM = SymbolicHamiltonian( - h*symbols.Z(nqubits-1), nqubits=nqubits)\n",
    "# add linear interaction terms\n",
    "for i in range(nqubits-1):\n",
    "    H_TFIM -= SymbolicHamiltonian(symbols.X(i)*symbols.X(i+1) + h*symbols.Z(i), nqubits=nqubits)\n",
    "H_TFIM = H_TFIM.dense\n",
    "visualize_matrix(H_TFIM.matrix, title=f'TFIM with L={nqubits} h={h}')"
   ]
  },
  {
   "cell_type": "code",
   "execution_count": null,
   "metadata": {},
   "outputs": [],
   "source": [
    "# backend\n",
    "set_backend(\"qibojit\", platform=\"numba\")\n",
    "# initialize dbi object\n",
    "dbi_TFIM = DoubleBracketIteration(deepcopy(H_TFIM), scheduling=scheduling, mode=mode)"
   ]
  },
  {
   "cell_type": "markdown",
   "metadata": {},
   "source": [
    "### Order 1: $D=\\sum \\alpha_iZ_i$"
   ]
  },
  {
   "cell_type": "code",
   "execution_count": null,
   "metadata": {},
   "outputs": [],
   "source": [
    "dbi_TFIM_1 = DoubleBracketIteration(deepcopy(H_TFIM), scheduling=scheduling, mode=mode)\n",
    "# generate pauli_operator_dict\n",
    "pauli_operator_dict = generate_pauli_operator_dict(nqubits=nqubits, parameterization_order=1)\n",
    "d_coef = decompose_into_Pauli_basis(dbi_TFIM_1.h.matrix, list(pauli_operator_dict.values()))\n",
    "d = sum([d_coef[i] * list(pauli_operator_dict.values())[i] for i in range(nqubits)])\n",
    "grad, s = gradient_Pauli(dbi_TFIM_1, d=d, pauli_operator_dict=pauli_operator_dict)\n",
    "print('The initial D coefficients:', d_coef)\n",
    "print('Gradient:', grad)\n",
    "print('s:', s)"
   ]
  },
  {
   "cell_type": "code",
   "execution_count": null,
   "metadata": {},
   "outputs": [],
   "source": [
    "NSTEPS = 15\n",
    "off_diagonal_norm_1 = [dbi_TFIM_1.off_diagonal_norm]\n",
    "s_step = [0]\n",
    "for i in range(NSTEPS):\n",
    "    s, d_coef, d = gradient_descent_pauli(dbi_TFIM_1, d_coef=d_coef, d=d, pauli_operator_dict=pauli_operator_dict, max_evals=100)\n",
    "    dbi_TFIM_1(step=s, d=d)\n",
    "    off_diagonal_norm_1.append(dbi_TFIM_1.off_diagonal_norm)\n",
    "    s_step.append(s)"
   ]
  },
  {
   "cell_type": "code",
   "execution_count": null,
   "metadata": {},
   "outputs": [],
   "source": [
    "plt.title(f'n={nqubits} h={h} TFIM, order=1')\n",
    "plt.plot(off_diagonal_norm_1)\n",
    "plt.xlabel('Iteration')\n",
    "plt.ylabel(r'$|| \\sigma(e^{sW}He^{-sW}) || $')"
   ]
  },
  {
   "cell_type": "code",
   "execution_count": null,
   "metadata": {},
   "outputs": [],
   "source": [
    "# the final matrix\n",
    "visualize_matrix(dbi_TFIM.h.matrix)"
   ]
  },
  {
   "cell_type": "markdown",
   "metadata": {},
   "source": [
    "### Order 2"
   ]
  },
  {
   "cell_type": "code",
   "execution_count": null,
   "metadata": {},
   "outputs": [],
   "source": [
    "dbi_TFIM_2 = DoubleBracketIteration(deepcopy(H_TFIM), scheduling=scheduling, mode=mode)\n",
    "# generate pauli_operator_dict\n",
    "pauli_operator_dict = generate_pauli_operator_dict(nqubits=nqubits, parameterization_order=2)\n",
    "d_coef = decompose_into_Pauli_basis(dbi_TFIM_2.h.matrix, list(pauli_operator_dict.values()))\n",
    "d = sum([d_coef[i] * list(pauli_operator_dict.values())[i] for i in range(nqubits)])\n",
    "grad, s = gradient_Pauli(dbi_TFIM_2, d=d, pauli_operator_dict=pauli_operator_dict)\n",
    "print('The initial D coefficients:', d_coef)\n",
    "print('Gradient:', grad)\n",
    "print('s:', s)"
   ]
  },
  {
   "cell_type": "code",
   "execution_count": null,
   "metadata": {},
   "outputs": [],
   "source": [
    "NSTEPS = 15\n",
    "off_diagonal_norm_2 = [dbi_TFIM_2.off_diagonal_norm]\n",
    "s_step = [0]\n",
    "for i in range(NSTEPS):\n",
    "    s, d_coef, d = gradient_descent_pauli(dbi_TFIM_2, d_coef=d_coef, d=d, pauli_operator_dict=pauli_operator_dict, max_evals=100)\n",
    "    dbi_TFIM_2(step=s, d=d)\n",
    "    off_diagonal_norm_2.append(dbi_TFIM_2.off_diagonal_norm)\n",
    "    s_step.append(s)"
   ]
  },
  {
   "cell_type": "code",
   "execution_count": null,
   "metadata": {},
   "outputs": [],
   "source": [
    "plt.title(f'n={nqubits} h={h} TFIM')\n",
    "plt.plot(off_diagonal_norm_1, label='order 1')\n",
    "plt.plot(off_diagonal_norm_2, label='order 2')\n",
    "plt.legend()\n",
    "plt.xlabel('Iteration')\n",
    "plt.ylabel(r'$|| \\sigma(e^{sW}He^{-sW}) || $')"
   ]
  }
 ],
 "metadata": {
  "kernelspec": {
   "display_name": "DBF_qibo",
   "language": "python",
   "name": "python3"
  },
  "language_info": {
   "codemirror_mode": {
    "name": "ipython",
    "version": 3
   },
   "file_extension": ".py",
   "mimetype": "text/x-python",
   "name": "python",
   "nbconvert_exporter": "python",
   "pygments_lexer": "ipython3",
   "version": "3.11.7"
  }
 },
 "nbformat": 4,
 "nbformat_minor": 2
}
