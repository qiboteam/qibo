{
 "cells": [
  {
   "cell_type": "markdown",
   "id": "2dae9ffe",
   "metadata": {},
   "source": [
    "## This compares to DoubleBracketIteration whenever possible"
   ]
  },
  {
   "cell_type": "code",
   "execution_count": 4,
   "id": "b161521d",
   "metadata": {},
   "outputs": [],
   "source": [
    "import inspect\n",
    "import sys\n",
    "sys.path.append(\"../../tests\")\n",
    "from test_models_dbi import *\n",
    "def print_function_source_code( func ):\n",
    "    out = inspect.getsourcelines(func)  \n",
    "    from functools import reduce\n",
    "    print(reduce(str.__add__, out[0]))"
   ]
  },
  {
   "cell_type": "code",
   "execution_count": 5,
   "id": "1982bb12",
   "metadata": {},
   "outputs": [
    {
     "name": "stderr",
     "output_type": "stream",
     "text": [
      "[Qibo 0.2.7|INFO|2024-04-06 09:40:21]: Using numpy backend on /CPU:0\n"
     ]
    }
   ],
   "source": [
    "t_step =0.1\n",
    "eps = 1e-2\n",
    "import qibo\n",
    "backend = qibo.backends.construct_backend(\"numpy\")\n",
    "qibo.set_backend(\"numpy\")\n",
    "nqubits = 3"
   ]
  },
  {
   "cell_type": "code",
   "execution_count": 6,
   "id": "3405e782",
   "metadata": {},
   "outputs": [
    {
     "name": "stderr",
     "output_type": "stream",
     "text": [
      "[Qibo 0.2.7|WARNING|2024-04-06 09:40:21]: Calculating the dense form of a symbolic Hamiltonian. This operation is memory inefficient.\n",
      "[Qibo 0.2.7|WARNING|2024-04-06 09:40:21]: Calculating the dense form of a symbolic Hamiltonian. This operation is memory inefficient.\n",
      "[Qibo 0.2.7|WARNING|2024-04-06 09:40:21]: Calculating the dense form of a symbolic Hamiltonian. This operation is memory inefficient.\n"
     ]
    },
    {
     "name": "stdout",
     "output_type": "stream",
     "text": [
      "9.664636718428507e-16\n",
      "0.0\n",
      "0.0\n",
      "9.664636718428507e-16\n",
      "start\n",
      "8.570566018546674e-16 2.069502835539648e-18\n",
      "None 7.102648668054811e-16\n",
      "None 2.069502835539648e-18\n",
      "stop\n",
      "[[ 4.02235598e-01-0.29764673j -2.53495292e-01+0.18758172j\n",
      "  -7.96539477e-02-0.15421646j  3.51159382e-01+0.5130534j\n",
      "  -6.64615932e-17-0.31397323j  3.23092247e-17+0.25955811j\n",
      "   1.35752717e-01+0.04415144j  2.15406665e-01-0.02782494j]\n",
      " [ 2.53495292e-01-0.18758172j  4.02235598e-01-0.29764673j\n",
      "  -3.51159382e-01-0.5130534j  -7.96539477e-02-0.15421646j\n",
      "   0.00000000e+00-0.25955811j -3.55618313e-17-0.31397323j\n",
      "  -2.15406665e-01+0.02782494j  1.35752717e-01+0.04415144j]\n",
      " [-3.51159382e-01-0.5293799j  -7.96539477e-02-0.08224007j\n",
      "   4.02235598e-01-0.29764673j -2.53495292e-01+0.18758172j\n",
      "  -1.35752717e-01+0.04415144j -2.15406665e-01-0.02782494j\n",
      "  -2.68882139e-17-0.36962312j -1.14925430e-17+0.17125522j]\n",
      " [ 7.96539477e-02+0.08224007j -3.51159382e-01-0.5293799j\n",
      "   2.53495292e-01-0.18758172j  4.02235598e-01-0.29764673j\n",
      "   2.15406665e-01+0.02782494j -1.35752717e-01+0.04415144j\n",
      "   6.93889390e-18-0.17125522j  0.00000000e+00-0.36962312j]\n",
      " [-9.97465999e-18-0.36962312j  4.11996826e-18+0.17125522j\n",
      "   1.35752717e-01+0.04415144j  2.15406665e-01-0.02782494j\n",
      "   4.02235598e-01+0.29764673j -2.53495292e-01-0.18758172j\n",
      "  -3.51159382e-01+0.5293799j  -7.96539477e-02+0.08224007j]\n",
      " [ 3.46944695e-18-0.17125522j -3.81639165e-17-0.36962312j\n",
      "  -2.15406665e-01+0.02782494j  1.35752717e-01+0.04415144j\n",
      "   2.53495292e-01+0.18758172j  4.02235598e-01+0.29764673j\n",
      "   7.96539477e-02-0.08224007j -3.51159382e-01+0.5293799j ]\n",
      " [-1.35752717e-01+0.04415144j -2.15406665e-01-0.02782494j\n",
      "   2.97071395e-17-0.31397323j -1.66967135e-17+0.25955811j\n",
      "  -7.96539477e-02+0.15421646j  3.51159382e-01-0.5130534j\n",
      "   4.02235598e-01+0.29764673j -2.53495292e-01-0.18758172j]\n",
      " [ 2.15406665e-01+0.02782494j -1.35752717e-01+0.04415144j\n",
      "   1.38777878e-17-0.25955811j  4.16333634e-17-0.31397323j\n",
      "  -3.51159382e-01+0.5130534j  -7.96539477e-02+0.15421646j\n",
      "   2.53495292e-01+0.18758172j  4.02235598e-01+0.29764673j]]\n",
      "9.664636718428507e-16\n"
     ]
    }
   ],
   "source": [
    "from numpy.linalg import norm\n",
    "h_x = SymbolicHamiltonian( symbols.X(0) + symbols.Z(0) * symbols.X(1) + symbols.Y(2) \n",
    "                          + symbols.Y(1) * symbols.Y(2), nqubits = 3 )\n",
    "d_0 = SymbolicHamiltonian(symbols.Z(0), nqubits = 3 )\n",
    "h_input = h_x + d_0 \n",
    "\n",
    "dbi = DoubleBracketIteration(deepcopy(h_input.dense))\n",
    "dbi.mode = DoubleBracketGeneratorType.single_commutator\n",
    "\n",
    "\n",
    "dbi2 = DoubleBracketIteration(deepcopy(h_input.dense))\n",
    "dbi2.mode = DoubleBracketGeneratorType.group_commutator\n",
    "\n",
    "V_dbi = dbi.eval_dbr_unitary(t_step, d=d_0.dense.matrix)\n",
    "R_dbi = dbi2.eval_dbr_unitary(t_step, d=d_0.dense.matrix)\n",
    "\n",
    "evolution_oracle = EvolutionOracle(h_input, \"ZX\",\n",
    "                    mode_evolution_oracle = EvolutionOracleType.numerical)    \n",
    "\n",
    "evolution_oracle_diagonal_target =  EvolutionOracle(d_0, \"D0\",\n",
    "           mode_evolution_oracle = EvolutionOracleType.numerical)\n",
    "\n",
    "gci = GroupCommutatorIterationWithEvolutionOracles( deepcopy(evolution_oracle ))\n",
    "#gci.mode_double_bracket_rotation = DoubleBracketRotationType.group_commutator\n",
    "\n",
    "unitary_gc_from_oracles = gci.group_commutator( np.sqrt(t_step), evolution_oracle_diagonal_target )   \n",
    "Q_gci = unitary_gc_from_oracles['forwards']\n",
    "\n",
    "assert norm(Q_gci.conj().T - unitary_gc_from_oracles['backwards']) < 1e-12\n",
    "\n",
    "h0_norm = np.linalg.norm(h_x.dense.matrix)\n",
    "d0_norm = np.linalg.norm(d_0.dense.matrix)\n",
    "assert norm(V_dbi - R_dbi) < 2 *t_step**1.49 * ( h0_norm + d0_norm ) * h0_norm * d0_norm"
   ]
  },
  {
   "cell_type": "code",
   "execution_count": 7,
   "id": "7a0c43ac",
   "metadata": {},
   "outputs": [
    {
     "data": {
      "text/plain": [
       "1.9045740584321311"
      ]
     },
     "execution_count": 7,
     "metadata": {},
     "output_type": "execute_result"
    }
   ],
   "source": [
    "norm(Q_gci.conj().T - R_dbi )"
   ]
  },
  {
   "cell_type": "code",
   "execution_count": 8,
   "id": "2b6140e1",
   "metadata": {},
   "outputs": [
    {
     "data": {
      "text/plain": [
       "1.051669878291704"
      ]
     },
     "execution_count": 8,
     "metadata": {},
     "output_type": "execute_result"
    }
   ],
   "source": [
    "norm(Q_gci - R_dbi )"
   ]
  },
  {
   "cell_type": "code",
   "execution_count": 9,
   "id": "b2feb7af",
   "metadata": {},
   "outputs": [],
   "source": [
    "from scipy.linalg import expm\n",
    "\n",
    "s_step = np.sqrt(t_step)\n",
    "Vh = expm(1j * s_step * h_input.dense.matrix )\n",
    "\n",
    "Vd = expm(1j * s_step * d_0.dense.matrix )"
   ]
  },
  {
   "cell_type": "code",
   "execution_count": 10,
   "id": "1a61a169",
   "metadata": {},
   "outputs": [
    {
     "data": {
      "text/plain": [
       "5.716110830818201e-16"
      ]
     },
     "execution_count": 10,
     "metadata": {},
     "output_type": "execute_result"
    }
   ],
   "source": [
    "norm( Vh @ Vd @ Vh.conj().T @ Vd.conj().T - R_dbi)"
   ]
  },
  {
   "cell_type": "code",
   "execution_count": 11,
   "id": "b15db9f3",
   "metadata": {},
   "outputs": [
    {
     "data": {
      "text/plain": [
       "1.0516698782917042"
      ]
     },
     "execution_count": 11,
     "metadata": {},
     "output_type": "execute_result"
    }
   ],
   "source": [
    "norm( Vh @ Vd @ Vh.conj().T @ Vd.conj().T - Q_gci)"
   ]
  },
  {
   "cell_type": "code",
   "execution_count": 12,
   "id": "7edd8473",
   "metadata": {},
   "outputs": [
    {
     "data": {
      "text/plain": [
       "0.0"
      ]
     },
     "execution_count": 12,
     "metadata": {},
     "output_type": "execute_result"
    }
   ],
   "source": [
    "norm( Vh - evolution_oracle.circuit(-s_step))"
   ]
  },
  {
   "cell_type": "code",
   "execution_count": 13,
   "id": "1e22de3e",
   "metadata": {},
   "outputs": [
    {
     "data": {
      "text/plain": [
       "0.0"
      ]
     },
     "execution_count": 13,
     "metadata": {},
     "output_type": "execute_result"
    }
   ],
   "source": [
    "norm( Vd - evolution_oracle_diagonal_target.circuit(-s_step))"
   ]
  },
  {
   "cell_type": "code",
   "execution_count": 14,
   "id": "a90fd92c",
   "metadata": {},
   "outputs": [
    {
     "data": {
      "text/plain": [
       "0.0"
      ]
     },
     "execution_count": 14,
     "metadata": {},
     "output_type": "execute_result"
    }
   ],
   "source": [
    "norm( Vd.conj().T - evolution_oracle_diagonal_target.circuit(s_step))"
   ]
  },
  {
   "cell_type": "code",
   "execution_count": 15,
   "id": "dc953d12",
   "metadata": {},
   "outputs": [
    {
     "data": {
      "text/plain": [
       "5.103534121246274e-16"
      ]
     },
     "execution_count": 15,
     "metadata": {},
     "output_type": "execute_result"
    }
   ],
   "source": [
    "norm( Vh.conj().T - evolution_oracle.circuit(s_step))"
   ]
  },
  {
   "cell_type": "code",
   "execution_count": 16,
   "id": "1e6a99de",
   "metadata": {},
   "outputs": [],
   "source": [
    "from functools import reduce\n",
    "S = reduce(np.ndarray.__matmul__,[ Vh,Vd,Vh.conj().T, Vd.conj().T])"
   ]
  },
  {
   "cell_type": "code",
   "execution_count": 17,
   "id": "c81c695b",
   "metadata": {},
   "outputs": [
    {
     "data": {
      "text/plain": [
       "1.0516698782917042"
      ]
     },
     "execution_count": 17,
     "metadata": {},
     "output_type": "execute_result"
    }
   ],
   "source": [
    "norm(S- Q_gci)"
   ]
  },
  {
   "cell_type": "code",
   "execution_count": null,
   "id": "bd657152",
   "metadata": {},
   "outputs": [],
   "source": [
    "norm(S- R_dbi)"
   ]
  },
  {
   "cell_type": "code",
   "execution_count": null,
   "id": "50625680",
   "metadata": {},
   "outputs": [],
   "source": [
    "norm( Vh - gci.iterated_hamiltonian_evolution_oracle.circuit(-s_step))"
   ]
  },
  {
   "cell_type": "code",
   "execution_count": null,
   "id": "c1f3bbad",
   "metadata": {},
   "outputs": [],
   "source": []
  },
  {
   "cell_type": "code",
   "execution_count": 19,
   "id": "a2813b91",
   "metadata": {},
   "outputs": [
    {
     "name": "stdout",
     "output_type": "stream",
     "text": [
      "0.0\n",
      "0.0\n",
      "start\n",
      "7.516933549631155e-16 6.149486291803641e-17\n",
      "None 4.665547176382431e-16\n",
      "None 6.149486291803641e-17\n",
      "stop\n",
      "7.516933549631155e-16\n",
      "6.149486291803641e-17\n",
      "4.665547176382431e-16\n",
      "6.149486291803641e-17\n"
     ]
    },
    {
     "data": {
      "text/plain": [
       "5.716110830818201e-16"
      ]
     },
     "execution_count": 19,
     "metadata": {},
     "output_type": "execute_result"
    }
   ],
   "source": [
    "self =gci\n",
    "eo1 = evolution_oracle_diagonal_target\n",
    "eo2 = evolution_oracle\n",
    "s_step = np.sqrt(t_step)\n",
    "\n",
    "if eo2 is None:\n",
    "    eo2 = self.iterated_hamiltonian_evolution_oracle\n",
    "##\n",
    "from scipy.linalg import expm, norm\n",
    "\n",
    "Vh = expm(1j * s_step * eo2.h.dense.matrix )\n",
    "Vd = expm(1j * s_step * eo1.h.dense.matrix )\n",
    "#  print(norm( Vh @ Vd @ Vh.conj().T @ Vd.conj().T - super().eval_dbr_unitary(t_step,d = eo1.h.dense.matrix)))\n",
    "print(norm( Vh - eo2.circuit(-s_step)))\n",
    "print(norm( Vd - eo1.circuit(-s_step)))\n",
    "from functools import reduce\n",
    "by_hand_list = [ Vh,Vd,Vh.conj().T, Vd.conj().T]\n",
    "S = reduce(np.ndarray.__matmul__,by_hand_list)\n",
    "#  print(norm( S - super().eval_dbr_unitary(t_step,d = eo1.h.dense.matrix)))\n",
    "assert eo1.mode_evolution_oracle.value is eo2.mode_evolution_oracle.value\n",
    "\n",
    "eo_mode = eo1.mode_evolution_oracle\n",
    "\n",
    "\n",
    "gc_type = self.mode_double_bracket_rotation\n",
    "\n",
    "\n",
    "if gc_type is DoubleBracketRotationType.single_commutator:\n",
    "    raise_error(\n",
    "        ValueError,\n",
    "        \"You are trying to get the group commutator query list but your dbr mode is single_commutator and not an approximation by means of a product formula!\",\n",
    "    )\n",
    "\n",
    "if gc_type is DoubleBracketRotationType.group_commutator:  \n",
    "    query_list_forward = [ eo2.circuit(-s_step), eo1.circuit(-s_step), eo2.circuit(s_step), eo1.circuit(s_step) ]\n",
    "    query_list_backward = [ eo1.circuit(-s_step), eo2.circuit(-s_step), eo1.circuit(s_step), eo2.circuit(s_step) ]\n",
    "elif gc_type is DoubleBracketRotationType.group_commutator_reduced:  \n",
    "    query_list_forward = [ eo1.circuit(s_step), eo2.circuit(s_step), eo1.circuit(-s_step) ]\n",
    "    query_list_backward = [ eo1.circuit(s_step), eo2.circuit(-s_step), eo1.circuit(-s_step) ] \n",
    "else:\n",
    "    raise_error(\n",
    "        ValueError,\n",
    "        \"You are in the group commutator query list but your dbr mode is not recognized\",\n",
    "    )\n",
    "print(\"start\")\n",
    "reduce( print, [norm(x @ y.conj().T -np.eye(x.shape[0])) for x,y in zip( query_list_forward,by_hand_list)]) \n",
    "from functools import reduce\n",
    "print(\"stop\")\n",
    "for x,y in zip( query_list_forward,by_hand_list):\n",
    "    print(norm(x @ y.conj().T -np.eye(x.shape[0])))\n",
    "\n",
    "A = reduce(np.ndarray.__matmul__, query_list_forward)\n",
    "B = reduce(np.ndarray.__matmul__, by_hand_list)\n",
    "norm(A-B)"
   ]
  },
  {
   "cell_type": "code",
   "execution_count": 24,
   "id": "4f0cb09f",
   "metadata": {},
   "outputs": [
    {
     "data": {
      "text/plain": [
       "1.0136811088581048"
      ]
     },
     "execution_count": 24,
     "metadata": {},
     "output_type": "execute_result"
    }
   ],
   "source": [
    "norm(R_dbi- V_dbi)"
   ]
  },
  {
   "cell_type": "code",
   "execution_count": 18,
   "id": "824ac371",
   "metadata": {},
   "outputs": [
    {
     "name": "stdout",
     "output_type": "stream",
     "text": [
      "0.0\n",
      "0.0\n",
      "start\n",
      "7.516933549631155e-16 6.149486291803641e-17\n",
      "None 4.665547176382431e-16\n",
      "None 6.149486291803641e-17\n",
      "stop\n",
      "7.516933549631155e-16\n",
      "6.149486291803641e-17\n",
      "4.665547176382431e-16\n",
      "6.149486291803641e-17\n"
     ]
    },
    {
     "ename": "SyntaxError",
     "evalue": "'return' outside function (1962676161.py, line 57)",
     "output_type": "error",
     "traceback": [
      "\u001b[0;36m  File \u001b[0;32m\"/tmp/ipykernel_23193/1962676161.py\"\u001b[0;36m, line \u001b[0;32m57\u001b[0m\n\u001b[0;31m    return {\u001b[0m\n\u001b[0m    ^\u001b[0m\n\u001b[0;31mSyntaxError\u001b[0m\u001b[0;31m:\u001b[0m 'return' outside function\n"
     ]
    }
   ],
   "source": [
    "if eo_mode is EvolutionOracleType.text_strings:\n",
    "    return {\n",
    "        \"forwards\": reduce(str.__add__, query_list_forward),\n",
    "        \"backwards\": reduce(str.__add__, query_list_backward),\n",
    "    }\n",
    "elif eo_mode is EvolutionOracleType.hamiltonian_simulation:\n",
    "    return {\n",
    "        \"forwards\": reduce(Circuit.__add__, query_list_forward[::-1]),\n",
    "        \"backwards\": reduce(Circuit.__add__, query_list_backward[::-1]),\n",
    "    }\n",
    "elif eo_mode is EvolutionOracleType.numerical:\n",
    "    return {\n",
    "            \"forwards\": reduce(np.ndarray.__matmul__, query_list_forward),\n",
    "            \"backwards\": reduce(np.ndarray.__matmul__, query_list_backward)\n",
    "        }\n",
    "else:\n",
    "    raise_error(ValueError, \"Your EvolutionOracleType is not recognized\")\n",
    "\n",
    "group_commutator(gci, t_step, eo1 = evolution_oracle_diagonal_target)"
   ]
  },
  {
   "cell_type": "code",
   "execution_count": 44,
   "id": "a23e136c",
   "metadata": {},
   "outputs": [
    {
     "data": {
      "text/plain": [
       "[<matplotlib.lines.Line2D at 0x7f2cbf6d08e0>]"
      ]
     },
     "execution_count": 44,
     "metadata": {},
     "output_type": "execute_result"
    },
    {
     "data": {
      "image/png": "[encoded data removed]",
      "text/plain": [
       "<Figure size 432x288 with 1 Axes>"
      ]
     },
     "metadata": {
      "needs_background": "light"
     },
     "output_type": "display_data"
    }
   ],
   "source": [
    "dbi = DoubleBracketIteration(deepcopy(h_input.dense))\n",
    "dbi.mode = DoubleBracketGeneratorType.single_commutator\n",
    "\n",
    "\n",
    "dbi2 = DoubleBracketIteration(deepcopy(h_input.dense))\n",
    "dbi2.mode = DoubleBracketGeneratorType.group_commutator\n",
    "\n",
    "\n",
    "norms = []\n",
    "norms2 = []\n",
    "for s in np.linspace(1e-5,.1,30):\n",
    "    V_dbi = dbi.eval_dbr_unitary(s, d=d_0.dense.matrix)\n",
    "    R_dbi = dbi2.eval_dbr_unitary(s, d=d_0.dense.matrix)\n",
    "    norms.append(norm(V_dbi.conj().T-R_dbi))\n",
    "    norms2.append(norm(V_dbi-R_dbi))\n",
    "import matplotlib.pyplot as plt  \n",
    "plt.plot(np.linspace(1e-5,.1,30),norms)\n",
    "plt.plot(np.linspace(1e-5,.1,30), [x**1.5*12 for x in np.linspace(1e-5,.1,30)])"
   ]
  },
  {
   "cell_type": "code",
   "execution_count": 50,
   "id": "a74c98b8",
   "metadata": {},
   "outputs": [
    {
     "data": {
      "text/plain": [
       "[<matplotlib.lines.Line2D at 0x7f2cbf3a1cf0>]"
      ]
     },
     "execution_count": 50,
     "metadata": {},
     "output_type": "execute_result"
    },
    {
     "data": {
      "image/png": "[encoded data removed]",
      "text/plain": [
       "<Figure size 432x288 with 1 Axes>"
      ]
     },
     "metadata": {
      "needs_background": "light"
     },
     "output_type": "display_data"
    }
   ],
   "source": [
    "plt.plot(np.linspace(1e-5,.1,30),norms2)\n",
    "plt.plot(np.linspace(1e-5,.1,30), [x*10 for x in np.linspace(1e-5,.1,30)])"
   ]
  },
  {
   "cell_type": "code",
   "execution_count": null,
   "id": "ae8fa09f",
   "metadata": {},
   "outputs": [],
   "source": []
  },
  {
   "cell_type": "code",
   "execution_count": null,
   "id": "b747ac2e",
   "metadata": {},
   "outputs": [],
   "source": []
  }
 ],
 "metadata": {
  "kernelspec": {
   "display_name": "Python 3 (ipykernel)",
   "language": "python",
   "name": "python3"
  },
  "language_info": {
   "codemirror_mode": {
    "name": "ipython",
    "version": 3
   },
   "file_extension": ".py",
   "mimetype": "text/x-python",
   "name": "python",
   "nbconvert_exporter": "python",
   "pygments_lexer": "ipython3",
   "version": "3.10.12"
  }
 },
 "nbformat": 4,
 "nbformat_minor": 5
}
