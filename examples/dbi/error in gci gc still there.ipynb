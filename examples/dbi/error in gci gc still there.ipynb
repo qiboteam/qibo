{
 "cells": [
  {
   "cell_type": "markdown",
   "id": "2dae9ffe",
   "metadata": {},
   "source": [
    "## This compares to DoubleBracketIteration whenever possible"
   ]
  },
  {
   "cell_type": "code",
   "execution_count": 1,
   "id": "b161521d",
   "metadata": {},
   "outputs": [],
   "source": [
    "import inspect\n",
    "import sys\n",
    "sys.path.append(\"../../tests\")\n",
    "from test_models_dbi import *\n",
    "def print_function_source_code( func ):\n",
    "    out = inspect.getsourcelines(func)  \n",
    "    from functools import reduce\n",
    "    print(reduce(str.__add__, out[0]))"
   ]
  },
  {
   "cell_type": "code",
   "execution_count": 2,
   "id": "1982bb12",
   "metadata": {},
   "outputs": [
    {
     "name": "stderr",
     "output_type": "stream",
     "text": [
      "[Qibo 0.2.7|INFO|2024-04-05 13:18:37]: Using numpy backend on /CPU:0\n"
     ]
    }
   ],
   "source": [
    "t_step =0.1\n",
    "eps = 1e-2\n",
    "import qibo\n",
    "backend = qibo.backends.construct_backend(\"numpy\")\n",
    "qibo.set_backend(\"numpy\")\n",
    "nqubits = 3"
   ]
  },
  {
   "cell_type": "code",
   "execution_count": 3,
   "id": "3405e782",
   "metadata": {},
   "outputs": [
    {
     "name": "stderr",
     "output_type": "stream",
     "text": [
      "[Qibo 0.2.7|WARNING|2024-04-05 13:18:37]: Calculating the dense form of a symbolic Hamiltonian. This operation is memory inefficient.\n",
      "[Qibo 0.2.7|WARNING|2024-04-05 13:18:37]: Calculating the dense form of a symbolic Hamiltonian. This operation is memory inefficient.\n",
      "[Qibo 0.2.7|WARNING|2024-04-05 13:18:37]: Calculating the dense form of a symbolic Hamiltonian. This operation is memory inefficient.\n"
     ]
    }
   ],
   "source": [
    "from numpy.linalg import norm\n",
    "h_x = SymbolicHamiltonian( symbols.X(0) + symbols.Z(0) * symbols.X(1) + symbols.Y(2) \n",
    "                          + symbols.Y(1) * symbols.Y(2), nqubits = 3 )\n",
    "d_0 = SymbolicHamiltonian(symbols.Z(0), nqubits = 3 )\n",
    "h_input = h_x + d_0 \n",
    "\n",
    "dbi = DoubleBracketIteration(deepcopy(h_input.dense))\n",
    "dbi.mode = DoubleBracketGeneratorType.single_commutator\n",
    "\n",
    "\n",
    "dbi2 = DoubleBracketIteration(deepcopy(h_input.dense))\n",
    "dbi2.mode = DoubleBracketGeneratorType.group_commutator\n",
    "\n",
    "V_dbi = dbi.eval_dbr_unitary(t_step, d=d_0.dense.matrix)\n",
    "R_dbi = dbi2.eval_dbr_unitary(t_step, d=d_0.dense.matrix)\n",
    "\n",
    "evolution_oracle = EvolutionOracle(h_input, \"ZX\",\n",
    "                    mode_evolution_oracle = EvolutionOracleType.numerical)    \n",
    "\n",
    "evolution_oracle_diagonal_target =  EvolutionOracle(d_0, \"D0\",\n",
    "           mode_evolution_oracle = EvolutionOracleType.numerical)\n",
    "\n",
    "gci = GroupCommutatorIterationWithEvolutionOracles( deepcopy(evolution_oracle ))\n",
    "#gci.mode_double_bracket_rotation = DoubleBracketRotationType.group_commutator\n",
    "\n",
    "unitary_gc_from_oracles = gci.group_commutator( np.sqrt(t_step), evolution_oracle_diagonal_target )   \n",
    "Q_gci = unitary_gc_from_oracles['forwards']\n",
    "\n",
    "assert norm(Q_gci.conj().T - unitary_gc_from_oracles['backwards']) < 1e-12\n",
    "\n",
    "h0_norm = np.linalg.norm(h_x.dense.matrix)\n",
    "d0_norm = np.linalg.norm(d_0.dense.matrix)\n",
    "assert norm(V_dbi - R_dbi) < 2 *t_step**1.49 * ( h0_norm + d0_norm ) * h0_norm * d0_norm"
   ]
  },
  {
   "cell_type": "code",
   "execution_count": 4,
   "id": "7a0c43ac",
   "metadata": {},
   "outputs": [
    {
     "data": {
      "text/plain": [
       "1.9045740584321311"
      ]
     },
     "execution_count": 4,
     "metadata": {},
     "output_type": "execute_result"
    }
   ],
   "source": [
    "norm(Q_gci.conj().T - R_dbi )"
   ]
  },
  {
   "cell_type": "code",
   "execution_count": 5,
   "id": "2b6140e1",
   "metadata": {},
   "outputs": [
    {
     "data": {
      "text/plain": [
       "1.051669878291704"
      ]
     },
     "execution_count": 5,
     "metadata": {},
     "output_type": "execute_result"
    }
   ],
   "source": [
    "norm(Q_gci - R_dbi )"
   ]
  },
  {
   "cell_type": "code",
   "execution_count": 6,
   "id": "0a7c946f",
   "metadata": {},
   "outputs": [],
   "source": [
    "from scipy.linalg import expm\n",
    "\n",
    "s_step = np.sqrt(t_step)\n",
    "Vh = expm(1j * s_step * h_input.dense.matrix )\n",
    "\n",
    "Vd = expm(1j * s_step * d_0.dense.matrix )"
   ]
  },
  {
   "cell_type": "code",
   "execution_count": 7,
   "id": "8d91ae94",
   "metadata": {},
   "outputs": [
    {
     "data": {
      "text/plain": [
       "5.716110830818201e-16"
      ]
     },
     "execution_count": 7,
     "metadata": {},
     "output_type": "execute_result"
    }
   ],
   "source": [
    "norm( Vh @ Vd @ Vh.conj().T @ Vd.conj().T - R_dbi)"
   ]
  },
  {
   "cell_type": "code",
   "execution_count": 8,
   "id": "8a139b0f",
   "metadata": {},
   "outputs": [
    {
     "data": {
      "text/plain": [
       "1.0516698782917042"
      ]
     },
     "execution_count": 8,
     "metadata": {},
     "output_type": "execute_result"
    }
   ],
   "source": [
    "norm( Vh @ Vd @ Vh.conj().T @ Vd.conj().T - Q_gci)"
   ]
  },
  {
   "cell_type": "code",
   "execution_count": 9,
   "id": "9ff5be12",
   "metadata": {},
   "outputs": [
    {
     "data": {
      "text/plain": [
       "0.0"
      ]
     },
     "execution_count": 9,
     "metadata": {},
     "output_type": "execute_result"
    }
   ],
   "source": [
    "norm( Vh - evolution_oracle.circuit(-s_step))"
   ]
  },
  {
   "cell_type": "code",
   "execution_count": 10,
   "id": "b1821d36",
   "metadata": {},
   "outputs": [
    {
     "data": {
      "text/plain": [
       "0.0"
      ]
     },
     "execution_count": 10,
     "metadata": {},
     "output_type": "execute_result"
    }
   ],
   "source": [
    "norm( Vd - evolution_oracle_diagonal_target.circuit(-s_step))"
   ]
  },
  {
   "cell_type": "code",
   "execution_count": 17,
   "id": "cd89ff33",
   "metadata": {},
   "outputs": [
    {
     "data": {
      "text/plain": [
       "0.0"
      ]
     },
     "execution_count": 17,
     "metadata": {},
     "output_type": "execute_result"
    }
   ],
   "source": [
    "norm( Vd.conj().T - evolution_oracle_diagonal_target.circuit(s_step))"
   ]
  },
  {
   "cell_type": "code",
   "execution_count": 18,
   "id": "bc1d4629",
   "metadata": {},
   "outputs": [
    {
     "data": {
      "text/plain": [
       "5.103534121246274e-16"
      ]
     },
     "execution_count": 18,
     "metadata": {},
     "output_type": "execute_result"
    }
   ],
   "source": [
    "norm( Vh.conj().T - evolution_oracle.circuit(s_step))"
   ]
  },
  {
   "cell_type": "code",
   "execution_count": 13,
   "id": "eeaaef32",
   "metadata": {},
   "outputs": [],
   "source": [
    "from functools import reduce\n",
    "S = reduce(np.ndarray.__matmul__,[ Vh,Vd,Vh.conj().T, Vd.conj().T])"
   ]
  },
  {
   "cell_type": "code",
   "execution_count": 19,
   "id": "1667cc27",
   "metadata": {},
   "outputs": [
    {
     "data": {
      "text/plain": [
       "1.904574058432131"
      ]
     },
     "execution_count": 19,
     "metadata": {},
     "output_type": "execute_result"
    }
   ],
   "source": [
    "norm(S- Q_gci)"
   ]
  },
  {
   "cell_type": "code",
   "execution_count": 15,
   "id": "f29d4065",
   "metadata": {},
   "outputs": [
    {
     "data": {
      "text/plain": [
       "5.716110830818201e-16"
      ]
     },
     "execution_count": 15,
     "metadata": {},
     "output_type": "execute_result"
    }
   ],
   "source": [
    "norm(S- R_dbi)"
   ]
  },
  {
   "cell_type": "code",
   "execution_count": 16,
   "id": "de639b53",
   "metadata": {},
   "outputs": [
    {
     "data": {
      "text/plain": [
       "0.0"
      ]
     },
     "execution_count": 16,
     "metadata": {},
     "output_type": "execute_result"
    }
   ],
   "source": [
    "norm( Vh - gci.iterated_hamiltonian_evolution_oracle.circuit(-s_step))"
   ]
  },
  {
   "cell_type": "code",
   "execution_count": null,
   "id": "79086265",
   "metadata": {},
   "outputs": [],
   "source": []
  }
 ],
 "metadata": {
  "kernelspec": {
   "display_name": "Python 3 (ipykernel)",
   "language": "python",
   "name": "python3"
  },
  "language_info": {
   "codemirror_mode": {
    "name": "ipython",
    "version": 3
   },
   "file_extension": ".py",
   "mimetype": "text/x-python",
   "name": "python",
   "nbconvert_exporter": "python",
   "pygments_lexer": "ipython3",
   "version": "3.10.12"
  }
 },
 "nbformat": 4,
 "nbformat_minor": 5
}
