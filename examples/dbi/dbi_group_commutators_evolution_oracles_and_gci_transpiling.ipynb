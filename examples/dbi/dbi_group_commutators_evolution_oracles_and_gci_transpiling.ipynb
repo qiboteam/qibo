{
 "cells": [
  {
   "cell_type": "markdown",
   "id": "2dae9ffe",
   "metadata": {},
   "source": [
    "## This compares to DoubleBracketIteration whenever possible"
   ]
  },
  {
   "cell_type": "code",
   "execution_count": 3,
   "id": "380ed537",
   "metadata": {},
   "outputs": [
    {
     "name": "stderr",
     "output_type": "stream",
     "text": [
      "[Qibo 0.2.5|INFO|2024-04-05 08:30:50]: Using qibojit (numba) backend on /CPU:0\n",
      "[Qibo 0.2.5|WARNING|2024-04-05 08:30:50]: Calculating the dense form of a symbolic Hamiltonian. This operation is memory inefficient.\n"
     ]
    }
   ],
   "source": [
    "import inspect\n",
    "import sys\n",
    "sys.path.append(\"../../tests\")\n",
    "from test_models_dbi import *\n",
    "\n",
    "from qibo.hamiltonians import SymbolicHamiltonian\n",
    "inspect.getsourcelines(test_dbi_evolution_oracle)    \n",
    "test_dbi_evolution_oracle( 1, 1e-3)    "
   ]
  },
  {
   "cell_type": "markdown",
   "id": "2f42fae3",
   "metadata": {},
   "source": [
    "`DoubleBracketRotationType.group_commutator_other_sorting` is the same as currently `DoubleBracketIteration` group commutator"
   ]
  },
  {
   "cell_type": "code",
   "execution_count": null,
   "id": "8a03c568",
   "metadata": {},
   "outputs": [],
   "source": [
    "from double_bracket import *\n",
    "def test_group_commutator_dbi_vs_gci_numerical(t_step, eps):\n",
    "\n",
    "    \n",
    "    h_x = SymbolicHamiltonian( symbols.X(0) + symbols.Z(0) * symbols.X(1) + symbols.Y(2) \n",
    "                              + symbols.Y(1) * symbols.Y(2), nqubits = 3 )\n",
    "    d_0 = SymbolicHamiltonian(symbols.Z(0), nqubits = 3 )\n",
    "    h_input = h_x + d_0 \n",
    "\n",
    "    dbi = DoubleBracketIteration(deepcopy(h_input.dense))\n",
    "    dbi.mode = DoubleBracketGeneratorType.group_commutator\n",
    "\n",
    "\n",
    "    V_dbi = dbi.eval_dbr_unitary(t_step, d_0.dense.matrix)\n",
    "    \n",
    "    evolution_oracle = EvolutionOracle(h_input, \"ZX\",\n",
    "                        mode_evolution_oracle = EvolutionOracleType.hamiltonian_simulation)    \n",
    "    evolution_oracle.eps_trottersuzuki = eps\n",
    "    \n",
    "    evolution_oracle_diagonal_target =  EvolutionOracle(d_0, \"D0\",\n",
    "               mode_evolution_oracle = EvolutionOracleType.hamiltonian_simulation)\n",
    "    \n",
    "    gci = GroupCommutatorIterationWithEvolutionOracles( deepcopy(evolution_oracle ))\n",
    "    gci.mode_double_bracket_rotation = DoubleBracketRotationType.group_commutator\n",
    "    \n",
    "    unitary_gc_from_oracles = gci.group_commutator( np.sqrt(t_step), evolution_oracle_diagonal_target )   \n",
    "    U_gci = unitary_gc_from_oracles['forwards']\n",
    "    \n",
    "    assert norm(U_gci.unitary() - unitary_gc_from_oracles['backwards'].unitary().conj().T) < 1e-12\n",
    "    \n",
    "    assert norm(U_gci.unitary().conj().T - V_dbi ) < 5*eps\n",
    "    \n",
    "    gci.input_hamiltonian_evolution_oracle.mode_evolution_oracle = EvolutionOracleType.numerical\n",
    "    evolution_oracle_diagonal_target.mode_evolution_oracle = EvolutionOracleType.numerical\n",
    "    \n",
    "    unitary_gc_from_oracles = gci.group_commutator( np.sqrt(t_step),\n",
    "           diagonal_association_evolution_oracle = evolution_oracle_diagonal_target )   \n",
    "    U_gci = unitary_gc_from_oracles['forwards']\n",
    "    \n",
    "    assert norm(U_gci - unitary_gc_from_oracles['backwards'].conj().T) < 1e-12\n",
    "    \n",
    "    assert norm(U_gci.conj().T - V_dbi ) < 5*eps\n",
    "    \n",
    "    gci.input_hamiltonian_evolution_oracle.mode_evolution_oracle = EvolutionOracleType.text_strings\n",
    "    evolution_oracle_diagonal_target.mode_evolution_oracle = EvolutionOracleType.text_strings\n",
    "    \n",
    "    unitary_gc_from_oracles = gci.group_commutator( np.sqrt(t_step), evolution_oracle_diagonal_target )   \n",
    "    U_gci = unitary_gc_from_oracles['forwards']\n",
    "    \n",
    "    assert isinstance(U_gci, str)\n",
    "\n",
    "    \n",
    "test_group_commutator_dbi_vs_gci(.1, 1e-5)"
   ]
  },
  {
   "cell_type": "code",
   "execution_count": null,
   "id": "75fa98fc",
   "metadata": {},
   "outputs": [],
   "source": [
    "from double_bracket import *\n",
    "\n",
    "def test_group_commutator_dbi_vs_gci(t_step, eps):\n",
    "\n",
    "    \n",
    "    h_x = SymbolicHamiltonian( symbols.X(0) + symbols.Z(0) * symbols.X(1) + symbols.Y(2) \n",
    "                              + symbols.Y(1) * symbols.Y(2), nqubits = 3 )\n",
    "    d_0 = SymbolicHamiltonian(symbols.Z(0), nqubits = 3 )\n",
    "    h_input = h_x + d_0    \n",
    "\n",
    "\n",
    "\n",
    "    dbi = DoubleBracketIteration(deepcopy(h_input.dense))\n",
    "    dbi.mode = DoubleBracketGeneratorType.group_commutator\n",
    "\n",
    "    def wrapper_gc(self,step, d):\n",
    "        return (\n",
    "                    self.h.exp(-step)\n",
    "                    @ self.backend.calculate_matrix_exp(-step, d)\n",
    "                    @ self.h.exp(step)\n",
    "                    @ self.backend.calculate_matrix_exp(step, d)\n",
    "                )\n",
    "    V_dbi = wrapper_gc(dbi, np.sqrt(t_step), d_0.dense.matrix)\n",
    "    \n",
    "    evolution_oracle = EvolutionOracle(h_input, \"ZX\",\n",
    "                        mode_evolution_oracle = EvolutionOracleType.hamiltonian_simulation)    \n",
    "    evolution_oracle.eps_trottersuzuki = eps\n",
    "    \n",
    "    evolution_oracle_diagonal_target =  EvolutionOracle(d_0, \"D0\",\n",
    "               mode_evolution_oracle = EvolutionOracleType.hamiltonian_simulation)\n",
    "    \n",
    "    gci = GroupCommutatorIterationWithEvolutionOracles( deepcopy(evolution_oracle ))\n",
    "    gci.mode_double_bracket_rotation = DoubleBracketRotationType.group_commutator\n",
    "    \n",
    "    unitary_gc_from_oracles = gci.group_commutator( np.sqrt(t_step), evolution_oracle_diagonal_target )   \n",
    "    U_gci = unitary_gc_from_oracles['forwards']\n",
    "    \n",
    "    assert norm(U_gci.unitary() - unitary_gc_from_oracles['backwards'].unitary().conj().T) < 1e-12\n",
    "    \n",
    "    assert norm(U_gci.unitary().conj().T - V_dbi ) < 5*eps\n",
    "    \n",
    "    gci.input_hamiltonian_evolution_oracle.mode_evolution_oracle = EvolutionOracleType.numerical\n",
    "    evolution_oracle_diagonal_target.mode_evolution_oracle = EvolutionOracleType.numerical\n",
    "    \n",
    "    unitary_gc_from_oracles = gci.group_commutator( np.sqrt(t_step),\n",
    "           diagonal_association_evolution_oracle = evolution_oracle_diagonal_target )   \n",
    "    U_gci = unitary_gc_from_oracles['forwards']\n",
    "    \n",
    "    assert norm(U_gci - unitary_gc_from_oracles['backwards'].conj().T) < 1e-12\n",
    "    \n",
    "    assert norm(U_gci.conj().T - V_dbi ) < 5*eps\n",
    "    \n",
    "    gci.input_hamiltonian_evolution_oracle.mode_evolution_oracle = EvolutionOracleType.text_strings\n",
    "    evolution_oracle_diagonal_target.mode_evolution_oracle = EvolutionOracleType.text_strings\n",
    "    \n",
    "    unitary_gc_from_oracles = gci.group_commutator( np.sqrt(t_step), evolution_oracle_diagonal_target )   \n",
    "    U_gci = unitary_gc_from_oracles['forwards']\n",
    "    \n",
    "    assert isinstance(U_gci, str)\n",
    "\n",
    "    \n",
    "test_group_commutator_dbi_vs_gci(.1, 1e-5)"
   ]
  },
  {
   "cell_type": "code",
   "execution_count": null,
   "id": "2030892e",
   "metadata": {},
   "outputs": [],
   "source": [
    "import inspect\n",
    "\n",
    "from tests import *\n",
    "\n"
   ]
  },
  {
   "cell_type": "markdown",
   "id": "7f4d7a01",
   "metadata": {},
   "source": [
    "# Show that double bracket iteration group commutator and dbi converge for small s BHMM\n",
    "\n",
    "This is testing the following:\n",
    "\n",
    "`dbi` runs $V = e^{-sW}$ and rotates $H_1 = V^\\dagger H_0 V$.\n",
    "\n",
    "`gci` runs $Q = GC$ and rotates $J_1 = Q^\\dagger H_0 Q$.\n",
    "\n",
    "`dbi2` runs $R = GC$ and rotates $K_1 = R^\\dagger H_0 R$.\n",
    "\n",
    "We assert that gci and dbi2 should be within machine precision for the correct sorting.\n",
    "$$||J_1-K_1||\\le2 ||H_0||\\,||R-Q||\\le \\epsilon$$\n",
    "\n",
    "We assert that gci and dbi should be within the approximation bound of the GC\n",
    "$$||J_1-H_1||\\le2 ||H_0||\\,||R-V||\\le C ||H_0|| s^{3/2}$$\n"
   ]
  },
  {
   "cell_type": "code",
   "execution_count": null,
   "id": "0f86c490",
   "metadata": {},
   "outputs": [],
   "source": [
    "from double_bracket import *\n",
    "\n",
    "def test_dbi_vs_gci(t_step, eps):\n",
    "    if t_step > 1:\n",
    "        t_step = 0.1\n",
    "        \n",
    "    h_x = SymbolicHamiltonian( symbols.X(0) + symbols.Z(0) * symbols.X(1) + symbols.Y(2) \n",
    "                              + symbols.Y(1) * symbols.Y(2), nqubits = 3 )\n",
    "    d_0 = SymbolicHamiltonian(symbols.Z(0), nqubits = 3 )\n",
    "    h_input = h_x + d_0    \n",
    "\n",
    "    dbi = DoubleBracketIteration(deepcopy(h_input.dense))\n",
    "    dbi.mode = DoubleBracketGeneratorType.group_commutator\n",
    "    dbi(t_step, d = d_0.dense.matrix )\n",
    "    \n",
    "    dbi2 = DoubleBracketIteration(deepcopy(h_input.dense))\n",
    "    dbi2.mode = DoubleBracketGeneratorType.single_commutator\n",
    "    dbi2(t_step, d = d_0.dense.matrix )\n",
    "    \n",
    "    evolution_oracle = EvolutionOracle(h_input, \"ZX\",\n",
    "                        mode_evolution_oracle = EvolutionOracleType.hamiltonian_simulation)    \n",
    "    evolution_oracle.eps_trottersuzuki = eps\n",
    "    \n",
    "    evolution_oracle_diagonal_target =  EvolutionOracle(d_0, \"D0\",\n",
    "               mode_evolution_oracle=EvolutionOracleType.hamiltonian_simulation)\n",
    "    \n",
    "    gci = GroupCommutatorIterationWithEvolutionOracles( deepcopy(evolution_oracle ))\n",
    "    gci.mode_double_bracket_rotation = DoubleBracketRotationType.group_commutator_other_sorting\n",
    "    \n",
    "    assert norm(gci.h.matrix - dbi.h.matrix) < 1e-12   \n",
    "    assert norm(gci.h.matrix - dbi2.h.matrix) < 20 * norm(h_input) * t_step\n",
    "    \n",
    "    dbi(t_step, d = d_0.dense.matrix )    \n",
    "    dbi2(t_step, d = d_0.dense.matrix )    \n",
    "    gci(t_step, diagonal_association=evolution_oracle_diagonal_target)  \n",
    "    assert norm(gci.h.matrix - dbi.h.matrix) < 1e-12   \n",
    "    assert norm(gci.h.matrix - dbi2.h.matrix) < (20 * norm(h_input) * t_step)**2\n",
    "    \n",
    "    \n",
    "test_dbi_vs_gci(.1, 1e-5)"
   ]
  },
  {
   "cell_type": "markdown",
   "id": "8db582f1",
   "metadata": {},
   "source": [
    "# Show that double bracket iteration group commutator and gci are numerically exact\n",
    "\n"
   ]
  },
  {
   "cell_type": "markdown",
   "id": "5381e44f",
   "metadata": {},
   "source": [
    "# Show that double bracket iteration  and gci gc and gc_reduced converge for small s BHMM\n",
    "\n",
    "\n"
   ]
  },
  {
   "cell_type": "code",
   "execution_count": null,
   "id": "2e97f0c6",
   "metadata": {},
   "outputs": [],
   "source": []
  },
  {
   "cell_type": "code",
   "execution_count": null,
   "id": "61699387",
   "metadata": {},
   "outputs": [],
   "source": [
    "dbi(t_step, d = d_0.dense.matrix)\n"
   ]
  },
  {
   "cell_type": "markdown",
   "id": "09ab7a86",
   "metadata": {},
   "source": [
    "#### 2. Evolution oracle hamiltonian simulation\n"
   ]
  },
  {
   "cell_type": "code",
   "execution_count": null,
   "id": "c9a9b4ef",
   "metadata": {},
   "outputs": [],
   "source": [
    "evolution_oracle_hamiltonian_simulation = EvolutionOracle(deepcopy(h_input), \"ZX\",\n",
    "                               mode_evolution_oracle = EvolutionOracleType.hamiltonian_simulation)\n"
   ]
  },
  {
   "cell_type": "code",
   "execution_count": null,
   "id": "3a4b6a36",
   "metadata": {},
   "outputs": [],
   "source": [
    "evolution_oracle_diagonal_target =  EvolutionOracle(d_0, \"D0\",\n",
    "               mode_evolution_oracle=EvolutionOracleType.hamiltonian_simulation)\n",
    "\n"
   ]
  },
  {
   "cell_type": "code",
   "execution_count": null,
   "id": "e20f72df",
   "metadata": {},
   "outputs": [],
   "source": [
    "t_step = 1\n",
    "def check_hs_eps(eps):\n",
    "    evolution_oracle_hamiltonian_simulation.eps_trottersuzuki = eps\n",
    "    U_hamiltonian_simulation = evolution_oracle_hamiltonian_simulation.circuit(t_step).unitary()\n",
    "    V_target = h_input.exp(t_step)\n",
    "    print(eps,norm(U_hamiltonian_simulation-V_target))"
   ]
  },
  {
   "cell_type": "code",
   "execution_count": null,
   "id": "32f515a0",
   "metadata": {},
   "outputs": [],
   "source": [
    "check_hs_eps(0.1)"
   ]
  },
  {
   "cell_type": "code",
   "execution_count": null,
   "id": "3640b862",
   "metadata": {},
   "outputs": [],
   "source": [
    "check_hs_eps(.001)"
   ]
  },
  {
   "cell_type": "code",
   "execution_count": null,
   "id": "51de5892",
   "metadata": {},
   "outputs": [],
   "source": [
    "check_hs_eps(1e-4)"
   ]
  },
  {
   "cell_type": "code",
   "execution_count": null,
   "id": "acb49e83",
   "metadata": {},
   "outputs": [],
   "source": []
  },
  {
   "cell_type": "code",
   "execution_count": null,
   "id": "da441e93",
   "metadata": {},
   "outputs": [],
   "source": [
    "\n",
    "gci = GroupCommutatorIterationWithEvolutionOracles( deepcopy(evolution_oracle_hamiltonian_simulation ))\n",
    "gci.mode_double_bracket_rotation = DoubleBracketRotationType.group_commutator_other_sorting\n"
   ]
  },
  {
   "cell_type": "code",
   "execution_count": null,
   "id": "26b4c66a",
   "metadata": {},
   "outputs": [],
   "source": [
    "gci.iterated_hamiltonian_evolution_oracle.h"
   ]
  },
  {
   "cell_type": "code",
   "execution_count": null,
   "id": "72bdc7a7",
   "metadata": {},
   "outputs": [],
   "source": [
    "unitary_gc_from_oracles = gci.group_commutator( np.sqrt(t_step),\n",
    "           diagonal_association_evolution_oracle = evolution_oracle_diagonal_target )"
   ]
  },
  {
   "cell_type": "code",
   "execution_count": null,
   "id": "6635da98",
   "metadata": {},
   "outputs": [],
   "source": [
    "for a in DoubleBracketRotationType:\n",
    "    print(a.name)"
   ]
  },
  {
   "cell_type": "code",
   "execution_count": null,
   "id": "d4407257",
   "metadata": {},
   "outputs": [],
   "source": [
    "def test_gc_numerical_vs_circuit(eps):\n",
    "    gci.iterated_hamiltonian_evolution_oracle.eps_trottersuzuki = eps\n",
    "    evolution_oracle_diagonal_target.eps_trottersuzuki = eps\n",
    "    \n",
    "    gci.iterated_hamiltonian_evolution_oracle.please_be_verbose = False\n",
    "    evolution_oracle_diagonal_target.please_be_verbose = False\n",
    "    \n",
    "\n",
    "    gci.mode_double_bracket_rotation = DoubleBracketRotationType.group_commutator_reduced\n",
    "\n",
    "    gci.iterated_hamiltonian_evolution_oracle.mode_evolution_oracle = EvolutionOracleType.numerical\n",
    "    evolution_oracle_diagonal_target.mode_evolution_oracle  = EvolutionOracleType.numerical\n",
    "\n",
    "    unitary_gc_from_oracles = gci.group_commutator( np.sqrt(t_step),\n",
    "           diagonal_association_evolution_oracle = evolution_oracle_diagonal_target )\n",
    "\n",
    "    unitary_gc_existing = wrapper_gc(dbi, np.sqrt(t_step),d_0.dense.matrix)\n",
    "\n",
    "    bckwd = unitary_gc_from_oracles['backwards']\n",
    "    fwd = unitary_gc_from_oracles['forwards']\n",
    "\n",
    "    e1 = gci.iterated_hamiltonian_evolution_oracle.circuit(np.sqrt(t_step))\n",
    "    e2 = evolution_oracle_diagonal_target.circuit(np.sqrt(t_step))\n",
    "\n",
    "    gci.iterated_hamiltonian_evolution_oracle.mode_evolution_oracle = EvolutionOracleType.hamiltonian_simulation\n",
    "    evolution_oracle_diagonal_target.mode_evolution_oracle  = EvolutionOracleType.hamiltonian_simulation\n",
    "\n",
    "    unitary_gc_from_oracles = gci.group_commutator( np.sqrt(t_step),\n",
    "           diagonal_association_evolution_oracle = evolution_oracle_diagonal_target )\n",
    "\n",
    "    unitary_gc_existing = wrapper_gc(dbi, np.sqrt(t_step),d_0.dense.matrix)\n",
    "\n",
    "    bckwdhs = unitary_gc_from_oracles['backwards'].unitary()\n",
    "    fwdhs = unitary_gc_from_oracles['forwards'].unitary()\n",
    "\n",
    "    e1hs = gci.iterated_hamiltonian_evolution_oracle.circuit(np.sqrt(t_step)).unitary()\n",
    "    e2hs = evolution_oracle_diagonal_target.circuit(np.sqrt(t_step)).unitary()\n",
    "\n",
    "    print(\"e1:\", norm( e1hs-e1))\n",
    "    print(\"e2:\", norm(e2hs-e2))\n",
    "    print(\"Testing inversion forwards:\", norm(bckwd-bckwdhs))\n",
    "    print(\"Testing inversion backwards:\", norm(fwd - fwdhs))\n",
    "\n",
    "test_gc_numerical_vs_circuit(0.1)\n",
    "\n",
    "test_gc_numerical_vs_circuit(0.0001)"
   ]
  },
  {
   "cell_type": "code",
   "execution_count": null,
   "id": "2a173296",
   "metadata": {},
   "outputs": [],
   "source": [
    "def test_group_commutator_against_itself(gci, evolution_diagonal,eps = 0.0001):\n",
    "    gci.iterated_hamiltonian_evolution_oracle.eps_trottersuzuki = eps\n",
    "    evolution_oracle_diagonal_target.eps_trottersuzuki = eps\n",
    "    for s in np.linspace(0,1,5):\n",
    "        gci.iterated_hamiltonian_evolution_oracle.mode_evolution_oracle = EvolutionOracleType.hamiltonian_simulation\n",
    "        evolution_diagonal.mode_evolution_oracle = EvolutionOracleType.hamiltonian_simulation\n",
    "        gc_hs = gci.group_commutator(s,evolution_diagonal)\n",
    "        gci.iterated_hamiltonian_evolution_oracle.mode_evolution_oracle = EvolutionOracleType.numerical\n",
    "        evolution_diagonal.mode_evolution_oracle = EvolutionOracleType.numerical\n",
    "        gc_np = gci.group_commutator(s,evolution_diagonal)\n",
    "        print(norm(gc_np['forwards']-gc_hs['forwards'].unitary()))\n",
    "        print(norm(gc_np['backwards']-gc_hs['backwards'].unitary()))\n",
    "\n",
    "gci.mode_double_bracket_rotation = DoubleBracketRotationType.group_commutator        \n",
    "test_group_commutator_against_itself(gci, evolution_oracle_diagonal_target)\n",
    "\n",
    "gci.mode_double_bracket_rotation = DoubleBracketRotationType.group_commutator_other_sorting        \n",
    "test_group_commutator_against_itself(gci, evolution_oracle_diagonal_target)\n",
    "\n",
    "gci.mode_double_bracket_rotation = DoubleBracketRotationType.group_commutator_reduced      \n",
    "test_group_commutator_against_itself(gci, evolution_oracle_diagonal_target)"
   ]
  },
  {
   "cell_type": "code",
   "execution_count": null,
   "id": "93ee9d5e",
   "metadata": {},
   "outputs": [],
   "source": [
    "def test_gc_numerical_vs_bracket(eps = 0.3):\n",
    "    gci.iterated_hamiltonian_evolution_oracle.eps_trottersuzuki = eps\n",
    "    evolution_oracle_diagonal_target.eps_trottersuzuki = eps\n",
    "    \n",
    "    gci.iterated_hamiltonian_evolution_oracle.please_be_verbose = False\n",
    "    evolution_oracle_diagonal_target.please_be_verbose = False\n",
    "    \n",
    "\n",
    "    gci.mode_double_bracket_rotation = DoubleBracketRotationType.group_commutator\n",
    "\n",
    "    gci.iterated_hamiltonian_evolution_oracle.mode_evolution_oracle = EvolutionOracleType.numerical\n",
    "    evolution_oracle_diagonal_target.mode_evolution_oracle  = EvolutionOracleType.numerical\n",
    "\n",
    "    unitary_gc_from_oracles = gci.group_commutator( np.sqrt(t_step),\n",
    "           diagonal_association_evolution_oracle = evolution_oracle_diagonal_target )\n",
    "\n",
    "    import scipy\n",
    "    unitary_gc_existing1 = scipy.linalg.expm( t_step * (d_0.dense.matrix @ h_x.dense.matrix\n",
    "                                         -h_x.dense.matrix@d_0.dense.matrix))\n",
    "\n",
    "    bckwd = unitary_gc_from_oracles['backwards']\n",
    "    fwd = unitary_gc_from_oracles['forwards']\n",
    "\n",
    "    e1 = gci.iterated_hamiltonian_evolution_oracle.circuit(np.sqrt(t_step))\n",
    "    e2 = evolution_oracle_diagonal_target.circuit(np.sqrt(t_step))\n",
    "\n",
    "    gci.iterated_hamiltonian_evolution_oracle.mode_evolution_oracle = EvolutionOracleType.hamiltonian_simulation\n",
    "    evolution_oracle_diagonal_target.mode_evolution_oracle  = EvolutionOracleType.hamiltonian_simulation\n",
    "\n",
    "    unitary_gc_from_oracles = gci.group_commutator( np.sqrt(t_step),\n",
    "           diagonal_association_evolution_oracle = evolution_oracle_diagonal_target )\n",
    "\n",
    "    unitary_gc_existing = wrapper_gc(dbi, np.sqrt(t_step),-d_0.dense.matrix)\n",
    "\n",
    "    bckwdhs = unitary_gc_from_oracles['backwards'].unitary()\n",
    "    fwdhs = unitary_gc_from_oracles['forwards'].unitary()\n",
    "\n",
    "    e1hs = gci.iterated_hamiltonian_evolution_oracle.circuit(np.sqrt(t_step)).unitary()\n",
    "    e2hs = evolution_oracle_diagonal_target.circuit(np.sqrt(t_step)).unitary()\n",
    "    print(\"Test:\", norm(unitary_gc_existing-unitary_gc_existing1))\n",
    "    print(\"e1:\", norm( e1hs-e1))\n",
    "    print(\"e2:\", norm(e2hs-e2))\n",
    "    print(\"Testing inversion forwards:\", norm(bckwd-bckwdhs))\n",
    "    print(\"Testing inversion backwards:\", norm(fwd - fwdhs))\n",
    "\n",
    "test_gc_numerical_vs_bracket(0.1)\n",
    "\n",
    "test_gc_numerical_vs_bracket(0.0001)"
   ]
  },
  {
   "cell_type": "code",
   "execution_count": null,
   "id": "d2f19ef9",
   "metadata": {},
   "outputs": [],
   "source": [
    "def gc_hs_eps(eps):\n",
    "    gci.iterated_hamiltonian_evolution_oracle.eps_trottersuzuki = eps\n",
    "    evolution_oracle_diagonal_target.eps_trottersuzuki = eps\n",
    "    \n",
    "    gci.iterated_hamiltonian_evolution_oracle.please_be_verbose = True\n",
    "    evolution_oracle_diagonal_target.please_be_verbose = False\n",
    "    \n",
    "    gci.iterated_hamiltonian_evolution_oracle.mode_evolution_oracle = EvolutionOracleType.numerical\n",
    "    evolution_oracle_diagonal_target.mode_evolution_oracle  = EvolutionOracleType.numerical\n",
    "\n",
    "    gci.mode_double_bracket_rotation = DoubleBracketRotationType.group_commutator\n",
    "    \n",
    "    unitary_gc_from_oracles = gci.group_commutator( np.sqrt(t_step),\n",
    "               diagonal_association_evolution_oracle = evolution_oracle_diagonal_target )\n",
    "    \n",
    "    unitary_gc_existing = wrapper_gc(dbi, np.sqrt(t_step),-d_0.dense.matrix)\n",
    "    \n",
    "    bckwd = unitary_gc_from_oracles['backwards']\n",
    "    fwd = unitary_gc_from_oracles['forwards']\n",
    "    \n",
    "    e1 = gci.iterated_hamiltonian_evolution_oracle.circuit(np.sqrt(t_step))\n",
    "    e2 = evolution_oracle_diagonal_target.circuit(np.sqrt(t_step))\n",
    "    \n",
    "    print(\"Backwards:\", norm( bckwd - unitary_gc_existing))\n",
    "    print(\"Forwards:\", norm(fwd - unitary_gc_existing))\n",
    "    print(\"Testing inversion forwards:\", norm(fwd - e2.conj().T @ e1.conj().T @ e2 @e1))\n",
    "    print(\"Testing inversion backwards:\", norm(bckwd - e2.conj().T @ e1.conj().T @ e2 @e1))\n",
    "    print(\"Testing inversion forwards:\", norm(fwd - e1.conj().T @ e2.conj().T @  e1 @e2))\n",
    "    print(\"Testing inversion backwards:\", norm(bckwd - e1.conj().T @ e2.conj().T @  e1 @e2))\n",
    "    print(\"Testing inversion forwards:\", norm(fwd - e1@e2@ e1.conj().T @ e2.conj().T ))\n",
    "    print(\"Testing inversion backwards:\", norm(bckwd - e1@e2@e1.conj().T @ e2.conj().T ))\n",
    "    print(\"Testing inversion forwards:\", norm(fwd - e1.conj().T@e2@ e1 @ e2.conj().T ))\n",
    "    print(\"Testing inversion backwards:\", norm(bckwd - e1.conj().T@e2@e1 @ e2.conj().T ))\n",
    "    print(\"Testing reversal:\", norm(bckwd@fwd - unitary_gc_existing @unitary_gc_existing.T.conj() ))\n",
    "    print(\"Testing reversal:\", norm(bckwd@fwd - e1@e1.conj().T ))"
   ]
  },
  {
   "cell_type": "code",
   "execution_count": null,
   "id": "ae8e83bf",
   "metadata": {},
   "outputs": [],
   "source": [
    "gc_hs_eps(0.1)"
   ]
  },
  {
   "cell_type": "markdown",
   "id": "5dcc9f04",
   "metadata": {},
   "source": [
    "We may improve the discrepancy by setting smaller eps"
   ]
  },
  {
   "cell_type": "code",
   "execution_count": null,
   "id": "b1bf92e2",
   "metadata": {},
   "outputs": [],
   "source": [
    "gc_hs_eps(0.0001)"
   ]
  },
  {
   "cell_type": "code",
   "execution_count": null,
   "id": "f12288b0",
   "metadata": {},
   "outputs": [],
   "source": [
    "norm(unitary_gc_from_oracles['forwards'].unitary() - unitary_gc_existing)"
   ]
  },
  {
   "cell_type": "code",
   "execution_count": null,
   "id": "77579bc5",
   "metadata": {},
   "outputs": [],
   "source": [
    "norm(unitary_gc_from_oracles['backwards'].unitary() - unitary_gc_existing)"
   ]
  },
  {
   "cell_type": "code",
   "execution_count": null,
   "id": "0128e99d",
   "metadata": {},
   "outputs": [],
   "source": [
    "stop"
   ]
  },
  {
   "cell_type": "markdown",
   "id": "a3504871",
   "metadata": {},
   "source": [
    "#### Test more explicitly\n"
   ]
  },
  {
   "cell_type": "code",
   "execution_count": null,
   "id": "642cbce1",
   "metadata": {},
   "outputs": [],
   "source": [
    "u_h = gci.iterated_hamiltonian_evolution_oracle.circuit( np.sqrt(t_step)).unitary()\n",
    "u_d = evolution_oracle_diagonal_target.circuit( np.sqrt(t_step)).unitary()\n",
    "u_h_reversed = gci.iterated_hamiltonian_evolution_oracle.circuit( -np.sqrt(t_step)).unitary()\n",
    "u_d_reversed = evolution_oracle_diagonal_target.circuit( -np.sqrt(t_step)).unitary()\n",
    "norm( u_h_reversed @ u_d_reversed @ u_h @ u_d - unitary_gc_existing)"
   ]
  },
  {
   "cell_type": "code",
   "execution_count": null,
   "id": "6edaa7bb",
   "metadata": {},
   "outputs": [],
   "source": [
    "u_h = gci.iterated_hamiltonian_evolution_oracle.circuit( np.sqrt(t_step))\n",
    "u_d = evolution_oracle_diagonal_target.circuit( np.sqrt(t_step))\n",
    "u_h_reversed = gci.iterated_hamiltonian_evolution_oracle.circuit( -np.sqrt(t_step))\n",
    "u_d_reversed = evolution_oracle_diagonal_target.circuit( -np.sqrt(t_step))\n",
    "norm( (u_h_reversed + u_d_reversed + u_h + u_d).unitary() - unitary_gc_existing)"
   ]
  },
  {
   "cell_type": "markdown",
   "id": "b56f305f",
   "metadata": {},
   "source": [
    "#### 3. Evolution oracle numpy\n"
   ]
  },
  {
   "cell_type": "code",
   "execution_count": null,
   "id": "1b6f6c17",
   "metadata": {},
   "outputs": [],
   "source": [
    "evolution_oracle_numerical = EvolutionOracle(deepcopy(h_input), \"ZX\",\n",
    "                               mode_evolution_oracle = EvolutionOracleType.numerical)\n",
    "\n",
    "gci = GroupCommutatorIterationWithEvolutionOracles( deepcopy(evolution_oracle_numerical ))"
   ]
  },
  {
   "cell_type": "code",
   "execution_count": null,
   "id": "e3bec576",
   "metadata": {},
   "outputs": [],
   "source": [
    "evolution_oracle_diagonal_target =  EvolutionOracle(d_0, \"D0\",\n",
    "               mode_evolution_oracle=EvolutionOracleType.numerical)\n"
   ]
  },
  {
   "cell_type": "code",
   "execution_count": null,
   "id": "f14d3133",
   "metadata": {},
   "outputs": [],
   "source": [
    "unitary_gc_from_oracles = gci.group_commutator( np.sqrt(t_step),\n",
    "           diagonal_association_evolution_oracle = evolution_oracle_diagonal_target )"
   ]
  },
  {
   "cell_type": "markdown",
   "id": "6256dc33",
   "metadata": {},
   "source": [
    "Compared to the group commutator using Hamiltonian simulation there will be small deviations that arise from Trotter-Suzuki decomposition"
   ]
  },
  {
   "cell_type": "code",
   "execution_count": null,
   "id": "5ab01c82",
   "metadata": {
    "scrolled": true
   },
   "outputs": [],
   "source": [
    "norm(unitary_gc_from_oracles['backwards'] - unitary_gc_existing)"
   ]
  },
  {
   "cell_type": "code",
   "execution_count": null,
   "id": "5d3354a8",
   "metadata": {},
   "outputs": [],
   "source": [
    "norm(unitary_gc_from_oracles['forwards'] - unitary_gc_existing)"
   ]
  },
  {
   "cell_type": "markdown",
   "id": "26dfc6ac",
   "metadata": {},
   "source": [
    "We may check by switching the group commutator flag that the difference comes from ordering and inversions"
   ]
  },
  {
   "cell_type": "code",
   "execution_count": null,
   "id": "2e43555b",
   "metadata": {},
   "outputs": [],
   "source": [
    "gci.mode_double_bracket_rotation = DoubleBracketRotationType.group_commutator_other_sorting\n",
    "\n",
    "unitary_gc_from_oracles = gci.group_commutator( np.sqrt(t_step),\n",
    "           diagonal_association_evolution_oracle = evolution_oracle_diagonal_target )\n",
    "norm(unitary_gc_from_oracles['forwards'] - unitary_gc_existing)"
   ]
  },
  {
   "cell_type": "markdown",
   "id": "d6a735d4",
   "metadata": {},
   "source": [
    "#### 4. Check gci rotation"
   ]
  },
  {
   "cell_type": "code",
   "execution_count": null,
   "id": "5471e516",
   "metadata": {},
   "outputs": [],
   "source": [
    "evolution_oracle_hamiltonian_simulation = EvolutionOracle(deepcopy(h_input), \"ZX\",\n",
    "                               mode_evolution_oracle = EvolutionOracleType.hamiltonian_simulation)\n",
    "evolution_oracle_diagonal_target =  EvolutionOracle(d_0, \"D0\",\n",
    "               mode_evolution_oracle=EvolutionOracleType.hamiltonian_simulation)\n",
    "gci = GroupCommutatorIterationWithEvolutionOracles( deepcopy(evolution_oracle_hamiltonian_simulation ))"
   ]
  },
  {
   "cell_type": "code",
   "execution_count": null,
   "id": "7a7ac8f4",
   "metadata": {},
   "outputs": [],
   "source": [
    "type(gci.iterated_hamiltonian_evolution_oracle)"
   ]
  },
  {
   "cell_type": "code",
   "execution_count": null,
   "id": "d30c7558",
   "metadata": {},
   "outputs": [],
   "source": [
    "gci(t_step, diagonal_association=evolution_oracle_diagonal_target)"
   ]
  },
  {
   "cell_type": "code",
   "execution_count": null,
   "id": "1fe303d2",
   "metadata": {},
   "outputs": [],
   "source": [
    "type(gci.iterated_hamiltonian_evolution_oracle)"
   ]
  },
  {
   "cell_type": "code",
   "execution_count": null,
   "id": "6ab13137",
   "metadata": {},
   "outputs": [],
   "source": [
    "gci.iterated_hamiltonian_evolution_oracle.mode_evolution_oracle"
   ]
  },
  {
   "cell_type": "code",
   "execution_count": null,
   "id": "ca82a687",
   "metadata": {},
   "outputs": [],
   "source": [
    "u_frame_shifted = gci.iterated_hamiltonian_evolution_oracle.circuit(t_step).unitary()"
   ]
  },
  {
   "cell_type": "code",
   "execution_count": null,
   "id": "cd4f541d",
   "metadata": {},
   "outputs": [],
   "source": [
    "norm( dbi.h.exp(t_step) - u_frame_shifted)"
   ]
  },
  {
   "cell_type": "code",
   "execution_count": null,
   "id": "67257043",
   "metadata": {},
   "outputs": [],
   "source": [
    "gci.iterated_hamiltonian_evolution_oracle.mode_evolution_oracle\n"
   ]
  },
  {
   "cell_type": "code",
   "execution_count": null,
   "id": "feb5fde9",
   "metadata": {},
   "outputs": [],
   "source": [
    "gci(t_step, diagonal_association=evolution_oracle_diagonal_target)"
   ]
  },
  {
   "cell_type": "code",
   "execution_count": null,
   "id": "95de4c31",
   "metadata": {},
   "outputs": [],
   "source": [
    "dbi(t_step, d = evolution_oracle_diagonal_target.h.dense.matrix)"
   ]
  },
  {
   "cell_type": "code",
   "execution_count": null,
   "id": "2bcc8f07",
   "metadata": {},
   "outputs": [],
   "source": [
    "u_frame_shifted = gci.iterated_hamiltonian_evolution_oracle.circuit(t_step).unitary()\n"
   ]
  },
  {
   "cell_type": "code",
   "execution_count": null,
   "id": "eafa1770",
   "metadata": {},
   "outputs": [],
   "source": [
    "norm( dbi.h.exp(t_step) - u_frame_shifted)"
   ]
  },
  {
   "cell_type": "code",
   "execution_count": null,
   "id": "05e94ce8",
   "metadata": {},
   "outputs": [],
   "source": []
  },
  {
   "cell_type": "code",
   "execution_count": null,
   "id": "ed2b81e1",
   "metadata": {},
   "outputs": [],
   "source": [
    "for k in range(3):\n",
    "    gci(t_step, diagonal_association=evolution_oracle_diagonal_target)\n",
    "    dbi(t_step, d = evolution_oracle_diagonal_target.h.dense.matrix)\n",
    "    print(norm( dbi.h.exp(t_step) - u_frame_shifted))"
   ]
  },
  {
   "cell_type": "code",
   "execution_count": null,
   "id": "15d96e82",
   "metadata": {},
   "outputs": [],
   "source": []
  },
  {
   "cell_type": "code",
   "execution_count": null,
   "id": "3fdf49bd",
   "metadata": {},
   "outputs": [],
   "source": []
  },
  {
   "cell_type": "code",
   "execution_count": null,
   "id": "9130482b",
   "metadata": {},
   "outputs": [],
   "source": [
    "gci.iterated_hamiltonian_evolution_oracle.mode_evolution_oracle = EvolutionOracleType.hamiltonian_simulation"
   ]
  },
  {
   "cell_type": "code",
   "execution_count": null,
   "id": "de46b823",
   "metadata": {},
   "outputs": [],
   "source": [
    "gci.iterated_hamiltonian_evolution_oracle.mode_evolution_oracle = EvolutionOracleType.numerical\n",
    "gc_numpy = gci.group_commutator( np.sqrt(t_step),\n",
    "                                             diagonal_association_evolution_oracle= EvolutionOracle(d_0, \"D0\",mode_evolution_oracle=EvolutionOracleType.numerical))"
   ]
  },
  {
   "cell_type": "code",
   "execution_count": null,
   "id": "d4f78e3a",
   "metadata": {},
   "outputs": [],
   "source": []
  },
  {
   "cell_type": "code",
   "execution_count": null,
   "id": "e4d23962",
   "metadata": {},
   "outputs": [],
   "source": [
    "## Test more fancy functionalities\n",
    "input_hamiltonian_evolution_oracle_hamiltonian_simulation.please_be_verbose = False\n",
    "gci = GroupCommutatorIterationWithEvolutionOracles( deepcopy(input_hamiltonian_evolution_oracle_hamiltonian_simulation ))\n",
    "d_ev =  EvolutionOracle(d_0, \"D0\",mode_evolution_oracle=EvolutionOracleType.hamiltonian_simulation)\n",
    "\n",
    "gci.iterated_hamiltonian_evolution_oracle.mode_evolution_oracle = EvolutionOracleType.hamiltonian_simulation\n",
    "query_list = gci.group_commutator( np.sqrt(t_step),\n",
    "                                             diagonal_association_evolution_oracle= d_ev )\n",
    "\n",
    "norm(query_list['forwards'].unitary() -query_list['backwards'].unitary().conj().T)\n",
    "\n",
    "\n"
   ]
  },
  {
   "cell_type": "code",
   "execution_count": null,
   "id": "2e69dc0b",
   "metadata": {},
   "outputs": [],
   "source": [
    "norm(query_list['forwards'] -query_list['backwards'].T.conj())"
   ]
  },
  {
   "cell_type": "code",
   "execution_count": null,
   "id": "bfee7994",
   "metadata": {},
   "outputs": [],
   "source": [
    "#Test file entry\n",
    "u = gci.iterated_hamiltonian_evolution_oracle.circuit( np.sqrt(t_step)).unitary()\n",
    "u2 = gci.iterated_hamiltonian_evolution_oracle.circuit( -np.sqrt(t_step)).unitary()\n",
    "norm(u-u2.T.conj())"
   ]
  },
  {
   "cell_type": "code",
   "execution_count": null,
   "id": "527bb789",
   "metadata": {},
   "outputs": [],
   "source": [
    "d_0.mode_evolution_oracle = EvolutionOracleType.text_strings\n",
    "gci.iterated_hamiltonian_evolution_oracle.mode_evolution_oracle = EvolutionOracleType.text_strings\n",
    "query_list = gci.group_commutator( np.sqrt(t_step*2),\n",
    "             diagonal_association_evolution_oracle= EvolutionOracle(d_0, \"D0\"))\n",
    "\n",
    "\n",
    "query_list['forwards']"
   ]
  }
 ],
 "metadata": {
  "kernelspec": {
   "display_name": "Python 3 (ipykernel)",
   "language": "python",
   "name": "python3"
  },
  "language_info": {
   "codemirror_mode": {
    "name": "ipython",
    "version": 3
   },
   "file_extension": ".py",
   "mimetype": "text/x-python",
   "name": "python",
   "nbconvert_exporter": "python",
   "pygments_lexer": "ipython3",
   "version": "3.10.12"
  }
 },
 "nbformat": 4,
 "nbformat_minor": 5
}
