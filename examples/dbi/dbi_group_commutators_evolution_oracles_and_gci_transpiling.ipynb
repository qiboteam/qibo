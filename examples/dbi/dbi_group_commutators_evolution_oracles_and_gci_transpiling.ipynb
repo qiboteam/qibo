{
 "cells": [
  {
   "cell_type": "markdown",
   "id": "2dae9ffe",
   "metadata": {},
   "source": [
    "## This compares to DoubleBracketIteration whenever possible"
   ]
  },
  {
   "cell_type": "code",
   "execution_count": 1,
   "id": "b161521d",
   "metadata": {},
   "outputs": [],
   "source": [
    "import inspect\n",
    "import sys\n",
    "sys.path.append(\"../../tests\")\n",
    "from test_models_dbi import *\n",
    "def print_function_source_code( func ):\n",
    "    out = inspect.getsourcelines(func)  \n",
    "    from functools import reduce\n",
    "    print(reduce(str.__add__, out[0]))"
   ]
  },
  {
   "cell_type": "code",
   "execution_count": 2,
   "id": "950eef89",
   "metadata": {},
   "outputs": [
    {
     "name": "stderr",
     "output_type": "stream",
     "text": [
      "[Qibo 0.2.7|INFO|2024-04-29 17:10:31]: Using numpy backend on /CPU:0\n"
     ]
    }
   ],
   "source": [
    "import qibo\n",
    "backend = qibo.backends.construct_backend(\"numpy\")\n",
    "qibo.set_backend(\"numpy\")\n",
    "nqubits = 3"
   ]
  },
  {
   "cell_type": "markdown",
   "id": "9bb4a0a0",
   "metadata": {},
   "source": [
    "# Test frame shifted oracles\n",
    "\n",
    "In a group commutator iteration (GCI) we have\n",
    "$$J_{k+1}= U_k^\\dagger J_k U_k$$\n",
    "which is obtained by a product formula for $U_k$.\n",
    "We will use two examples\n",
    "$$A_k = e^{is D} e^{is J_k} e^{-isD}$$\n",
    "and\n",
    "$$B_k = e^{-is J_k}e^{is D} e^{is J_k} e^{-isD}$$\n",
    "In both cases $D$ is fixed, which amounts to a product formula approximation of the BHMM scheme.\n",
    "\n",
    "For $B_k$ we have the group commutator bound, see below. For $A_k$ we will have that\n",
    "$$J_{k+1}= A_k^\\dagger J_k A_k= B_k^\\dagger J_k B_k$$\n",
    "because of a reduction by means of a commutator vanishing (the ordering was chosen on purpose).\n",
    "\n",
    "This means that $A_k$ and $B_k$ schemes should give the same `GroupCommutatorIterationWithEvolutionOracles.h`. Additionally that should be also `DoubleBracketIteration.h` as long as the ordering is correct.\n",
    "\n",
    "If we operate in the `EvolutionOracleType.hamiltonian_simulation` there will be deviations based on the `EvolutionOracle.eps_trottersuzuki` threshold.\n"
   ]
  },
  {
   "cell_type": "code",
   "execution_count": 3,
   "id": "d65bc873",
   "metadata": {},
   "outputs": [
    {
     "name": "stderr",
     "output_type": "stream",
     "text": [
      "[Qibo 0.2.7|WARNING|2024-04-29 17:10:31]: Calculating the dense form of a symbolic Hamiltonian. This operation is memory inefficient.\n",
      "[Qibo 0.2.7|WARNING|2024-04-29 17:10:31]: Calculating the dense form of a symbolic Hamiltonian. This operation is memory inefficient.\n"
     ]
    },
    {
     "name": "stdout",
     "output_type": "stream",
     "text": [
      "def test_gci_frame_shifted_oracles(backend,nqubits,mode_evolution_oracle = EvolutionOracleType.hamiltonian_simulation):\n",
      "    \"\"\"In a group commutator iteration (GCI) we have\n",
      "$$J_{k+1}= U_k^\\dagger J_k U_k$$\n",
      "which is obtained by a product formula for $U_k$.\n",
      "We will use two examples\n",
      "$$A_k = e^{is D} e^{is J_k} e^{-isD}$$\n",
      "\n",
      "This means that $A_k$ and $B_k$ schemes should give the same `Groupand\n",
      "$$B_k = e^{-is J_k}e^{is D} e^{is J_k} e^{-isD}$$\n",
      "In both cases $D$ is fixed, which amounts to a product formula approximation of the BHMM scheme.\n",
      "\n",
      "For $B_k$ we have the group commutator bound, see below. For $A_k$ we will have that\n",
      "$$J_{k+1}= A_k^\\dagger J_k A_k= B_k^\\dagger J_k B_k$$\n",
      "because of a reduction by means of a commutator vanishing (the ordering was chosen on purpose).\n",
      "CommutatorIterationWithEvolutionOracles.h`. Additionally that should be also `DoubleBracketIteration.h` as long as the ordering is correct.\n",
      "\n",
      "If we operate in the `EvolutionOracleType.hamiltonian_simulation` there will be deviations based on the `EvolutionOracle.eps_trottersuzuki` threshold.\"\"\"\n",
      "    \n",
      "    h_x = SymbolicHamiltonian(\n",
      "            symbols.X(0)\n",
      "        + symbols.Z(0) * symbols.X(1)\n",
      "        + symbols.Y(2)\n",
      "        + symbols.Y(1) * symbols.Y(2),\n",
      "        nqubits=3,\n",
      "    )\n",
      "    d_0 = SymbolicHamiltonian(symbols.Z(0), nqubits=3)\n",
      "    h_input = h_x + d_0\n",
      "\n",
      "    dbi = DoubleBracketIteration(deepcopy(h_input.dense))\n",
      "\n",
      "    evolution_oracle = EvolutionOracle(h_input, \"ZX\", mode_evolution_oracle)   \n",
      "    gci = GroupCommutatorIterationWithEvolutionOracles( deepcopy(evolution_oracle ))\n",
      "\n",
      "    evolution_oracle_diagonal_target =  EvolutionOracle(d_0, \"D0\",\n",
      "               mode_evolution_oracle)\n",
      "\n",
      "    from numpy.linalg import norm\n",
      "    \n",
      "    if mode_evolution_oracle is EvolutionOracleType.hamiltonian_simulation:\n",
      "        threshold = evolution_oracle.eps_trottersuzuki * 10\n",
      "    else:\n",
      "        threshold = 1e-12\n",
      "    \n",
      "    r = .01\n",
      "    for _ in range(3):\n",
      "        a = dbi.h.exp(r)\n",
      "        b = gci.iterated_hamiltonian_evolution_oracle.eval_unitary(r)\n",
      "\n",
      "        assert norm(a-b) < threshold\n",
      "        a = dbi.eval_dbr_unitary(r,d = d_0.dense.matrix,mode=DoubleBracketGeneratorType.group_commutator)\n",
      "        b = gci.eval_gcr_unitary(r, evolution_oracle_diagonal_target)\n",
      "\n",
      "        assert norm(a-b) < threshold\n",
      "        dbi(r, d = d_0.dense.matrix, mode = DoubleBracketGeneratorType.group_commutator )\n",
      "        gci(r, diagonal_association= evolution_oracle_diagonal_target )\n",
      "        \n",
      "        k_r = dbi.h.matrix\n",
      "        j_r = gci.h.matrix\n",
      "\n",
      "        assert norm(a-b) < threshold\n",
      "        \n",
      "        assert norm(norm(dbi.sigma(k_r))-norm(dbi.sigma(j_r))) < threshold\n",
      "\n"
     ]
    }
   ],
   "source": [
    "print_function_source_code(test_gci_frame_shifted_oracles) \n",
    "\n",
    "test_gci_frame_shifted_oracles(backend,nqubits)"
   ]
  },
  {
   "cell_type": "markdown",
   "id": "47301c6c",
   "metadata": {},
   "source": [
    "The regular implementation in `DoubleBracketIteration` should be viewed as using classical dynamic programming: memoization of the updated Hamiltonian is used explicitly. Instead, using `FrameShiftedEvolutionOracle` we can store a sequence of recursive rotations such that eventually the iteration gives the same result.\n",
    "    This function tests numerical agreement using the numpy backend."
   ]
  },
  {
   "cell_type": "code",
   "execution_count": 4,
   "id": "b4004f8f",
   "metadata": {},
   "outputs": [
    {
     "name": "stderr",
     "output_type": "stream",
     "text": [
      "[Qibo 0.2.7|WARNING|2024-04-29 17:10:34]: Calculating the dense form of a symbolic Hamiltonian. This operation is memory inefficient.\n",
      "[Qibo 0.2.7|WARNING|2024-04-29 17:10:34]: Calculating the dense form of a symbolic Hamiltonian. This operation is memory inefficient.\n"
     ]
    },
    {
     "name": "stdout",
     "output_type": "stream",
     "text": [
      "def test_gci_implementation_normal_and_oracles(backend,nqubits,mode_evolution_oracle = EvolutionOracleType.numerical):\n",
      "    \"\"\"The regular implementation in `DoubleBracketIteration` should be viewed as using classical dynamic programming: memoization of the updated Hamiltonian is used explicitly. Instead, using `FrameShiftedEvolutionOracle` we can store a sequence of recursive rotations such that eventually the iteration gives the same result.\n",
      "    This function tests numerical agreement using the numpy backend.\n",
      "    \"\"\"\n",
      "    h_x = SymbolicHamiltonian(\n",
      "            symbols.X(0)\n",
      "        + symbols.Z(0) * symbols.X(1)\n",
      "        + symbols.Y(2)\n",
      "        + symbols.Y(1) * symbols.Y(2),\n",
      "        nqubits=3,\n",
      "    ) \n",
      "    d_0 = SymbolicHamiltonian(symbols.Z(0), nqubits=3)\n",
      "    h_input = h_x + d_0\n",
      "\n",
      "    dbi = DoubleBracketIteration(deepcopy(h_input.dense))\n",
      "\n",
      "    evolution_oracle = EvolutionOracle(h_input, \"ZX\", mode_evolution_oracle)   \n",
      "    gci = GroupCommutatorIterationWithEvolutionOracles( deepcopy(evolution_oracle ))\n",
      "\n",
      "    evolution_oracle_diagonal_target =  EvolutionOracle(d_0, \"D0\",\n",
      "               mode_evolution_oracle)\n",
      "\n",
      "    from numpy.linalg import norm\n",
      "\n",
      "    times = np.linspace(1e-5,1,5)\n",
      "    for r in times:\n",
      "\n",
      "        dbi(r, d = d_0.dense.matrix, mode = DoubleBracketGeneratorType.group_commutator )\n",
      "        k_r = dbi.h.matrix\n",
      "        dbi.h = deepcopy(h_input.dense) \n",
      "        gci(r, diagonal_association= evolution_oracle_diagonal_target )\n",
      "        j_r = gci.h.matrix\n",
      "        gci.h = deepcopy(h_input.dense) \n",
      "        gci.iterated_hamiltonian_evolution_oracle = deepcopy(evolution_oracle) \n",
      "\n",
      "        assert norm(k_r-j_r) < 1e-12\n",
      "\n",
      "    r = 1\n",
      "    for _ in range(3):\n",
      "        dbi(r, d = d_0.dense.matrix, mode = DoubleBracketGeneratorType.group_commutator )\n",
      "        gci(r, diagonal_association= evolution_oracle_diagonal_target )\n",
      "        k_r = dbi.h.matrix\n",
      "        j_r = gci.h.matrix\n",
      "        \n",
      "        assert norm(k_r-j_r) < 1e-12 \n",
      "\n"
     ]
    }
   ],
   "source": [
    "print_function_source_code(test_gci_implementation_normal_and_oracles)\n",
    "\n",
    "        \n",
    "test_gci_implementation_normal_and_oracles(backend,nqubits, mode_evolution_oracle = EvolutionOracleType.numerical)"
   ]
  },
  {
   "cell_type": "markdown",
   "id": "d9771f86",
   "metadata": {},
   "source": [
    "#### Remark:\n",
    "If Hamiltonian_simulation is used as the mode then the eps_trottersuzuki might be too law to pass this assertion."
   ]
  },
  {
   "cell_type": "markdown",
   "id": "7f4d7a01",
   "metadata": {},
   "source": [
    "# Check the numerical mode of evolution oracles"
   ]
  },
  {
   "cell_type": "markdown",
   "id": "e81631c7",
   "metadata": {},
   "source": [
    "This is testing the following:\n",
    "\n",
    "`dbi_exact` runs $V_{exact} = e^{-sW}$ and rotates $H_1 = V_{exact}^\\dagger H_0 V_{exact}$.\n",
    "\n",
    "`dbi_GC` runs $V_{GC} = GC$ and rotates $K_1 = V_{GC}^\\dagger H_0 V_{GC}$.\n",
    "\n",
    "We assert that dbi_exact and dbi_GC should be within the approximation bound of the GC\n",
    "$$||J_1-H_1||\\le2 ||H_0||\\,||R-V||\\le C ||H_0|| s^{3/2}$$\n",
    "\n",
    "`gci` runs $V_{EO,GC} = GC$ and rotates $J_1 = V_{EO,GC}^\\dagger H_0 V_{EO,GC}$.\n",
    "\n",
    "We assert that gci and dbi2 should be within machine precision for the correct sorting.\n",
    "$$||J_1-K_1||\\le2 ||H_0||\\,||R-Q||\\le \\epsilon$$\n",
    "\n",
    "\n"
   ]
  },
  {
   "cell_type": "code",
   "execution_count": 5,
   "id": "7e99a090",
   "metadata": {
    "scrolled": false
   },
   "outputs": [
    {
     "name": "stdout",
     "output_type": "stream",
     "text": [
      "def test_gci_evolution_oracles_types_numerical(nqubits,backend,t_step, eps):\n",
      "    \"\"\"\n",
      "\n",
      "    This is testing the following:\n",
      "\n",
      "    `dbi_exact` runs $V_{exact} = e^{-sW}$ and rotates $H_1 = V_{exact}^\\dagger H_0 V_{exact}$.\n",
      "\n",
      "    `dbi_GC` runs $V_{GC} = GC$ and rotates $K_1 = V_{GC}^\\dagger H_0 V_{GC}$.\n",
      "\n",
      "    We assert that dbi_exact and dbi_GC should be within the approximation bound of the GC\n",
      "    $$||J_1-H_1||\\le2 ||H_0||\\,||R-V||\\le C ||H_0|| s^{3/2}$$\n",
      "\n",
      "    `gci` runs $V_{EO,GC} = GC$ and rotates $J_1 = V_{EO,GC}^\\dagger H_0 V_{EO,GC}$.\n",
      "\n",
      "    We assert that gci and dbi2 should be within machine precision for the correct sorting.\n",
      "    $$||J_1-K_1||\\le2 ||H_0||\\,||R-Q||\\le \\epsilon$$\n",
      "    \"\"\"\n",
      "    from numpy.linalg import norm\n",
      "    h_x = SymbolicHamiltonian(\n",
      "        symbols.X(0)\n",
      "        + symbols.Z(0) * symbols.X(1)\n",
      "        + symbols.Y(2)\n",
      "        + symbols.Y(1) * symbols.Y(2),\n",
      "        nqubits=3,\n",
      "    )\n",
      "    d_0 = SymbolicHamiltonian(symbols.Z(0), nqubits=3)\n",
      "    h_input = h_x + d_0\n",
      "\n",
      "    dbi = DoubleBracketIteration(deepcopy(h_input.dense))\n",
      "\n",
      "    w = dbi.commutator(h_input.dense.matrix,d_0.dense.matrix)\n",
      "    norms_bound = 0.5*t_step**1.48 * (\n",
      "        np.linalg.norm(dbi.commutator(h_input.dense.matrix,w)) + np.linalg.norm(dbi.commutator(d_0.matrix,w))\n",
      "    )\n",
      "\n",
      "    v_exact = dbi.eval_dbr_unitary(t_step, d=d_0.dense.matrix, mode=DoubleBracketGeneratorType.single_commutator)\n",
      "    v_gc = dbi.eval_dbr_unitary(t_step, d=d_0.dense.matrix, mode=DoubleBracketGeneratorType.group_commutator)\n",
      "    assert norm(v_exact - v_gc) < norms_bound\n",
      "\n",
      "    dbi(t_step, d = d_0.dense.matrix )\n",
      "    h_1 = dbi.h.matrix\n",
      "\n",
      "    dbi.h = deepcopy(h_input.dense)\n",
      "    dbi(t_step, d = d_0.dense.matrix, mode = DoubleBracketGeneratorType.group_commutator )\n",
      "    k_1 = dbi.h.matrix\n",
      "\n",
      "    assert norm(h_1-k_1) < 2 * norm(h_input.dense.matrix) * norms_bound   \n",
      "\n",
      "    evolution_oracle = EvolutionOracle(h_input, \"ZX\",\n",
      "                        mode_evolution_oracle = EvolutionOracleType.numerical)    \n",
      "\n",
      "    evolution_oracle_diagonal_target =  EvolutionOracle(d_0, \"D0\",\n",
      "                        mode_evolution_oracle = EvolutionOracleType.numerical)\n",
      "\n",
      "    gci = GroupCommutatorIterationWithEvolutionOracles( deepcopy(evolution_oracle ))\n",
      "\n",
      "    u_gc_from_oracles = gci.group_commutator( t_step, evolution_oracle_diagonal_target )\n",
      "    assert norm(u_gc_from_oracles['forwards'].conj().T - u_gc_from_oracles['backwards']) < 1e-12\n",
      "\n",
      "    assert norm(v_exact - gci.eval_gcr_unitary(t_step, evolution_oracle_diagonal_target)) < norms_bound\n",
      "\n",
      "    gci(t_step, diagonal_association= evolution_oracle_diagonal_target )\n",
      "    j_1 = gci.h.matrix\n",
      "\n",
      "    assert norm(h_1-j_1) < 2 * norm(h_input.dense.matrix) * norms_bound  \n",
      "\n",
      "    assert norm(j_1-k_1) < 1e-12\n",
      "\n"
     ]
    }
   ],
   "source": [
    "print_function_source_code(test_gci_evolution_oracles_types_numerical)"
   ]
  },
  {
   "cell_type": "code",
   "execution_count": 6,
   "id": "583ca695",
   "metadata": {
    "scrolled": true
   },
   "outputs": [
    {
     "name": "stderr",
     "output_type": "stream",
     "text": [
      "[Qibo 0.2.7|WARNING|2024-04-29 17:10:34]: Calculating the dense form of a symbolic Hamiltonian. This operation is memory inefficient.\n",
      "[Qibo 0.2.7|WARNING|2024-04-29 17:10:34]: Calculating the dense form of a symbolic Hamiltonian. This operation is memory inefficient.\n"
     ]
    }
   ],
   "source": [
    "t_step =0.01\n",
    "eps = 1e-2\n",
    "test_gci_evolution_oracles_types_numerical(nqubits,backend,t_step, eps)\n",
    "\n"
   ]
  },
  {
   "cell_type": "markdown",
   "id": "0f0b06ec",
   "metadata": {},
   "source": [
    "## Check numerical GCI with evolution oracles against `DoubleBracketIteration`\n",
    "\n",
    "Basically we have again a bound for how $H_k$ differs from $J_k$ for various duriations of the DBR.\n",
    "\n",
    "The plots below show that the GCI implementation for 1 step agrees precisely"
   ]
  },
  {
   "cell_type": "code",
   "execution_count": 7,
   "id": "a2c2422b",
   "metadata": {},
   "outputs": [
    {
     "name": "stderr",
     "output_type": "stream",
     "text": [
      "[Qibo 0.2.7|WARNING|2024-04-29 17:10:34]: Calculating the dense form of a symbolic Hamiltonian. This operation is memory inefficient.\n",
      "/home/marek/.local/lib/python3.10/site-packages/matplotlib/projections/__init__.py:63: UserWarning: Unable to import Axes3D. This may be due to multiple versions of Matplotlib being installed (e.g. as a system package and as a pip package). As a result, the 3D projection is not available.\n",
      "  warnings.warn(\"Unable to import Axes3D. This may be due to multiple versions of \"\n",
      "[Qibo 0.2.7|WARNING|2024-04-29 17:10:35]: Calculating the dense form of a symbolic Hamiltonian. This operation is memory inefficient.\n"
     ]
    },
    {
     "data": {
      "text/plain": [
       "[<matplotlib.lines.Line2D at 0x7ff19b1b8a30>]"
      ]
     },
     "execution_count": 7,
     "metadata": {},
     "output_type": "execute_result"
    },
    {
     "data": {
      "image/png": "[encoded data removed]",
      "text/plain": [
       "<Figure size 432x288 with 1 Axes>"
      ]
     },
     "metadata": {
      "needs_background": "light"
     },
     "output_type": "display_data"
    }
   ],
   "source": [
    "h_x = SymbolicHamiltonian(\n",
    "        symbols.X(0)\n",
    "    + symbols.Z(0) * symbols.X(1)\n",
    "    + symbols.Y(2)\n",
    "    + symbols.Y(1) * symbols.Y(2),\n",
    "    nqubits=3,\n",
    ")\n",
    "d_0 = SymbolicHamiltonian(symbols.Z(0), nqubits=3)\n",
    "h_input = h_x + d_0\n",
    "\n",
    "dbi = DoubleBracketIteration(deepcopy(h_input.dense))\n",
    "dbi.mode = DoubleBracketGeneratorType.single_commutator\n",
    "\n",
    "evolution_oracle = EvolutionOracle(h_input, \"ZX\",\n",
    "                        mode_evolution_oracle = EvolutionOracleType.numerical)    \n",
    "\n",
    "evolution_oracle_diagonal_target =  EvolutionOracle(d_0, \"D0\",\n",
    "           mode_evolution_oracle = EvolutionOracleType.numerical)\n",
    "\n",
    "gci = GroupCommutatorIterationWithEvolutionOracles( deepcopy(evolution_oracle ))\n",
    "\n",
    "\n",
    "import matplotlib.pyplot as plt\n",
    "from numpy.linalg import norm\n",
    "norms  = []\n",
    "norms2  = []\n",
    "norms_bound = []\n",
    "times = np.linspace(1e-5,1,30)\n",
    "for r in times:\n",
    "    dbi(r, d = d_0.dense.matrix, mode = DoubleBracketGeneratorType.single_commutator )\n",
    "    h_r = dbi.h.matrix\n",
    "    dbi.h = deepcopy(h_input.dense) \n",
    "    dbi(r, d = d_0.dense.matrix, mode = DoubleBracketGeneratorType.group_commutator )\n",
    "    k_r = dbi.h.matrix\n",
    "    dbi.h = deepcopy(h_input.dense) \n",
    "    gci(r, diagonal_association= evolution_oracle_diagonal_target )\n",
    "    j_r = gci.h.matrix\n",
    "    gci.h = deepcopy(h_input.dense) \n",
    "    \n",
    "    w = dbi.commutator(h_input.dense.matrix,d_0.dense.matrix)\n",
    "    norms_bound.append(norm(h_input.dense.matrix)*r**1.48 * (\n",
    "        np.linalg.norm(dbi.commutator(h_input.dense.matrix,w)) + np.linalg.norm(dbi.commutator(d_0.matrix,w))\n",
    "    ))\n",
    "   \n",
    "    norms.append(norm(h_r -k_r ))\n",
    "    norms2.append(norm(h_r-j_r))\n",
    "    \n",
    "plt.loglog(times, norms_bound)\n",
    "plt.loglog(times,norms, \n",
    "          '-s')\n",
    "plt.loglog(times,norms2, '-x')"
   ]
  },
  {
   "cell_type": "markdown",
   "id": "5e89586e",
   "metadata": {},
   "source": [
    "### This is captured in the following test\n",
    "(we restrict to both group commutator modes as for more steps there will be deviations)"
   ]
  },
  {
   "cell_type": "code",
   "execution_count": 8,
   "id": "40308fc2",
   "metadata": {},
   "outputs": [
    {
     "name": "stderr",
     "output_type": "stream",
     "text": [
      "[Qibo 0.2.7|WARNING|2024-04-29 17:10:36]: Calculating the dense form of a symbolic Hamiltonian. This operation is memory inefficient.\n"
     ]
    },
    {
     "name": "stdout",
     "output_type": "stream",
     "text": [
      "0.007946732303441253\n",
      "0.0\n"
     ]
    }
   ],
   "source": [
    "\n",
    "evolution_oracle = EvolutionOracle(h_input, \"ZX\",\n",
    "                    mode_evolution_oracle = EvolutionOracleType.numerical)    \n",
    "d_0 = SymbolicHamiltonian(symbols.Z(0), nqubits=3)\n",
    "evolution_oracle_diagonal_target =  EvolutionOracle(d_0, \"D0\",\n",
    "           mode_evolution_oracle = EvolutionOracleType.numerical)\n",
    "\n",
    "gci = GroupCommutatorIterationWithEvolutionOracles( deepcopy(evolution_oracle ))\n",
    "#gci.mode_double_bracket_rotation = DoubleBracketRotationType.group_commutator\n",
    "\n",
    "u_gc_from_oracles = gci.group_commutator( t_step, evolution_oracle_diagonal_target )   \n",
    "u_gci = u_gc_from_oracles['forwards']\n",
    "\n",
    "assert norm(u_gci.conj().T - u_gc_from_oracles['backwards']) < 1e-12\n",
    "\n",
    "\n",
    "v_exact = dbi.eval_dbr_unitary(t_step, d=d_0.dense.matrix, mode=DoubleBracketGeneratorType.single_commutator)\n",
    "w = dbi.commutator(h_input.dense.matrix,d_0.dense.matrix)\n",
    "norms_bound = 0.5*t_step**1.48 * (\n",
    "    np.linalg.norm(dbi.commutator(h_input.dense.matrix,w)) + np.linalg.norm(dbi.commutator(d_0.matrix,w))\n",
    ")\n",
    "assert norm(v_exact - u_gci) < norms_bound\n",
    "u_gcr = gci.eval_gcr_unitary(t_step,evolution_oracle_diagonal_target )\n",
    "assert norm(v_exact - u_gcr) < norms_bound\n",
    "print(norm(v_exact-u_gcr))\n",
    "print(norm(dbi.eval_dbr_unitary(t_step, d=d_0.dense.matrix, mode=DoubleBracketGeneratorType.group_commutator)-u_gci))\n",
    "gci(t_step, diagonal_association= evolution_oracle_diagonal_target )\n",
    "\n",
    "j_1 = gci.iterated_hamiltonian_evolution_oracle.h.matrix\n",
    "assert norm(dbi.h.matrix-j_1) < 2 * norm(h_input.dense.matrix) * norms_bound   \n"
   ]
  },
  {
   "cell_type": "markdown",
   "id": "fe2c0711",
   "metadata": {},
   "source": [
    "### Next many steps: the `DoubleBracketIteration` implementation agrees with evolution oracles for the gc mode. In the exact commutator exponential a deviation builds up"
   ]
  },
  {
   "cell_type": "code",
   "execution_count": 9,
   "id": "2b895267",
   "metadata": {},
   "outputs": [
    {
     "data": {
      "image/png": "[encoded data removed]",
      "text/plain": [
       "<Figure size 432x288 with 1 Axes>"
      ]
     },
     "metadata": {
      "needs_background": "light"
     },
     "output_type": "display_data"
    },
    {
     "data": {
      "text/plain": [
       "[<matplotlib.lines.Line2D at 0x7ff19abea650>]"
      ]
     },
     "execution_count": 9,
     "metadata": {},
     "output_type": "execute_result"
    },
    {
     "data": {
      "image/png": "[encoded data removed]",
      "text/plain": [
       "<Figure size 432x288 with 1 Axes>"
      ]
     },
     "metadata": {
      "needs_background": "light"
     },
     "output_type": "display_data"
    }
   ],
   "source": [
    "r=0.01\n",
    "\n",
    "norms_it  = []\n",
    "norms_it2  = []\n",
    "dbi = DoubleBracketIteration(deepcopy(h_input.dense))\n",
    "dbi2 = DoubleBracketIteration(deepcopy(h_input.dense))\n",
    "gci = GroupCommutatorIterationWithEvolutionOracles( deepcopy(evolution_oracle ))\n",
    "for _ in range(15):\n",
    "    dbi(r, d = d_0.dense.matrix, mode = DoubleBracketGeneratorType.single_commutator )\n",
    "    dbi2(r, d = d_0.dense.matrix, mode = DoubleBracketGeneratorType.group_commutator )\n",
    "    gci(r, diagonal_association= evolution_oracle_diagonal_target )\n",
    "    h_r = dbi.h.matrix\n",
    "    k_r = dbi2.h.matrix\n",
    "    j_r = gci.h.matrix\n",
    "    norms_it.append(norm(k_r-j_r))\n",
    "    norms_it2.append(norm(h_r-j_r))    \n",
    "plt.plot(norms_it)\n",
    "plt.show()\n",
    "plt.plot(norms_it2)"
   ]
  },
  {
   "cell_type": "markdown",
   "id": "1e6319bf",
   "metadata": {},
   "source": [
    "## Simple test of group commutator"
   ]
  },
  {
   "cell_type": "code",
   "execution_count": 10,
   "id": "ec6361ca",
   "metadata": {},
   "outputs": [
    {
     "data": {
      "image/png": "[encoded data removed]",
      "text/plain": [
       "<Figure size 432x288 with 1 Axes>"
      ]
     },
     "metadata": {
      "needs_background": "light"
     },
     "output_type": "display_data"
    }
   ],
   "source": [
    "def test_exact_dbr_vs_gc_bound(nqubits,backend):\n",
    "    dbi = DoubleBracketIteration(deepcopy(h_input.dense))\n",
    "    dbi.mode = DoubleBracketGeneratorType.single_commutator\n",
    "\n",
    "\n",
    "    dbi2 = DoubleBracketIteration(deepcopy(h_input.dense))\n",
    "    dbi2.mode = DoubleBracketGeneratorType.group_commutator\n",
    "\n",
    "    import matplotlib.pyplot as plt\n",
    "    norms  = []\n",
    "    for r in np.linspace(1e-5,0.1,30):\n",
    "        dbi(r, d=d_0.dense.matrix)\n",
    "        dbi2(r, d=d_0.dense.matrix)\n",
    "        norms.append(norm(dbi.h.matrix- dbi2.h.matrix))\n",
    "    \n",
    "    #plt.plot(np.linspace(1e-5,.1,30), [x**1.5*1000 for x in np.linspace(1e-5,.1,30)])\n",
    "    plt.plot(np.linspace(1e-5,.1,30),norms)\n",
    "test_exact_dbr_vs_gc_bound(nqubits,backend)"
   ]
  },
  {
   "cell_type": "markdown",
   "id": "0fc17c2d",
   "metadata": {},
   "source": [
    "## Check the GC bound is valid and corectly implemented in DoubleBracketIteration\n",
    "\n",
    "The bound is $$||e^{-t[D,H]}-GC(s=\\sqrt{t})||\\le t^{3/2}(||[H,[D,H]||+||[D,[D,H]]||$$\n"
   ]
  },
  {
   "cell_type": "code",
   "execution_count": 11,
   "id": "8ecce261",
   "metadata": {
    "scrolled": true
   },
   "outputs": [
    {
     "name": "stdout",
     "output_type": "stream",
     "text": [
      "@pytest.mark.parametrize(\"nqubits\", [3])\n",
      "def test_double_bracket_iteration_eval_dbr_unitary(backend, nqubits):\n",
      "    r\"\"\"The bound is $$||e^{-[D,H]}-GC||\\le s^{3/2}(||[H,[D,H]||+||[D,[D,H]]||$$ which we check by a loglog fit.\"\"\"\n",
      "    h0 = random_hermitian(2**nqubits, backend=backend)\n",
      "    d = backend.cast(np.diag(np.diag(backend.to_numpy(h0))))\n",
      "    dbi = DoubleBracketIteration(\n",
      "        Hamiltonian(nqubits, h0, backend=backend),\n",
      "        mode=DoubleBracketGeneratorType.group_commutator,\n",
      "    )\n",
      "\n",
      "    times = np.linspace(0.001, 0.01, 10)\n",
      "    norms = []\n",
      "    norms_bound = []\n",
      "    for s in times:\n",
      "        u = dbi.eval_dbr_unitary(\n",
      "            s, d=d, mode=DoubleBracketGeneratorType.single_commutator\n",
      "        )\n",
      "        v = dbi.eval_dbr_unitary(\n",
      "            s, d=d, mode=DoubleBracketGeneratorType.group_commutator\n",
      "        )\n",
      "\n",
      "        norms.append(np.linalg.norm(u - v) )\n",
      "        w = dbi.commutator(h0,d)\n",
      "        norms_bound.append(0.5*s**1.48 * (\n",
      "            np.linalg.norm(dbi.commutator(h0,w)) + np.linalg.norm(dbi.commutator(d,w))\n",
      "        ))\n",
      "        assert np.linalg.norm(u - v) < 10 * s**1.49 * (\n",
      "                np.linalg.norm(h0) + np.linalg.norm(d)\n",
      "            ) * np.linalg.norm(h0) * np.linalg.norm(d)\n",
      "\n"
     ]
    }
   ],
   "source": [
    "print_function_source_code(test_double_bracket_iteration_eval_dbr_unitary)"
   ]
  },
  {
   "cell_type": "code",
   "execution_count": 12,
   "id": "bcfab105",
   "metadata": {
    "scrolled": true
   },
   "outputs": [],
   "source": [
    "test_double_bracket_iteration_eval_dbr_unitary(backend, nqubits)"
   ]
  },
  {
   "cell_type": "markdown",
   "id": "c708df6a",
   "metadata": {},
   "source": [
    "### We repeat the function in order to plot the bound"
   ]
  },
  {
   "cell_type": "code",
   "execution_count": 13,
   "id": "d4cff4ad",
   "metadata": {},
   "outputs": [],
   "source": [
    "r\"\"\"The bound is $$||e^{-[D,H]}-GC||\\le s^{3/2}(||[H,[D,H]||+||[D,[D,H]]||$$\"\"\"\n",
    "h0 = random_hermitian(2**nqubits, backend=backend)\n",
    "d = backend.cast(np.diag(np.diag(backend.to_numpy(h0))))\n",
    "dbi = DoubleBracketIteration(\n",
    "    Hamiltonian(nqubits, h0, backend=backend),\n",
    "    mode=DoubleBracketGeneratorType.group_commutator,\n",
    ")\n",
    "\n",
    "times = np.linspace(0.001, 0.01, 10)\n",
    "norms = []\n",
    "norms_bound = []\n",
    "for s in times:\n",
    "    u = dbi.eval_dbr_unitary(\n",
    "        s, d=d, mode=DoubleBracketGeneratorType.single_commutator\n",
    "    )\n",
    "    v = dbi.eval_dbr_unitary(\n",
    "        s, d=d, mode=DoubleBracketGeneratorType.group_commutator\n",
    "    )\n",
    "\n",
    "    norms.append(np.linalg.norm(u - v) )\n",
    "    w = dbi.commutator(h0,d)\n",
    "    norms_bound.append(0.5*s**1.48 * (\n",
    "        np.linalg.norm(dbi.commutator(h0,w)) + np.linalg.norm(dbi.commutator(d,w))\n",
    "    ))\n",
    "    assert np.linalg.norm(u - v) < 10 * s**1.49 * (\n",
    "            np.linalg.norm(h0) + np.linalg.norm(d)\n",
    "        ) * np.linalg.norm(h0) * np.linalg.norm(d)"
   ]
  },
  {
   "cell_type": "markdown",
   "id": "914f2c09",
   "metadata": {},
   "source": [
    "Unfortunately we cannot assume that \n",
    "`assert popt[0] < 1.51`\n",
    "because in principle data satisfying the bound can be ragged and could have a large slope.\n",
    "When the bound is saturated, however, then the following fit works:"
   ]
  },
  {
   "cell_type": "code",
   "execution_count": 14,
   "id": "05128816",
   "metadata": {},
   "outputs": [],
   "source": [
    "from scipy.optimize import curve_fit\n",
    "popt, pcov = curve_fit( (lambda x, a, b: a*x+b ), [np.log(t) for t in times], [np.log(n) for n in norms])\n",
    "assert popt[0] < 1.51"
   ]
  },
  {
   "cell_type": "markdown",
   "id": "5c757242",
   "metadata": {},
   "source": [
    "In practice that assertion usually goes through. We check this further by these plots"
   ]
  },
  {
   "cell_type": "code",
   "execution_count": 15,
   "id": "62c60671",
   "metadata": {},
   "outputs": [
    {
     "data": {
      "text/plain": [
       "[<matplotlib.lines.Line2D at 0x7ff19aae9720>]"
      ]
     },
     "execution_count": 15,
     "metadata": {},
     "output_type": "execute_result"
    },
    {
     "data": {
      "image/png": "[encoded data removed]",
      "text/plain": [
       "<Figure size 432x288 with 1 Axes>"
      ]
     },
     "metadata": {
      "needs_background": "light"
     },
     "output_type": "display_data"
    }
   ],
   "source": [
    "import matplotlib.pyplot as plt\n",
    "plt.plot(norms)\n",
    "plt.plot(norms_bound)"
   ]
  },
  {
   "cell_type": "code",
   "execution_count": 16,
   "id": "038df7d5",
   "metadata": {},
   "outputs": [
    {
     "data": {
      "text/plain": [
       "[<matplotlib.lines.Line2D at 0x7ff19ab5cb20>]"
      ]
     },
     "execution_count": 16,
     "metadata": {},
     "output_type": "execute_result"
    },
    {
     "data": {
      "image/png": "[encoded data removed]",
      "text/plain": [
       "<Figure size 432x288 with 1 Axes>"
      ]
     },
     "metadata": {
      "needs_background": "light"
     },
     "output_type": "display_data"
    }
   ],
   "source": [
    "plt.loglog(times,norms)\n",
    "plt.loglog(times,norms_bound)"
   ]
  },
  {
   "cell_type": "markdown",
   "id": "3bcc8be4",
   "metadata": {},
   "source": [
    "Usually random Hamiltonian matrices give something $a\\approx 1.49$"
   ]
  },
  {
   "cell_type": "code",
   "execution_count": 17,
   "id": "6cd3e03b",
   "metadata": {},
   "outputs": [
    {
     "data": {
      "text/plain": [
       "array([1.49083955, 3.49249848])"
      ]
     },
     "execution_count": 17,
     "metadata": {},
     "output_type": "execute_result"
    }
   ],
   "source": [
    "popt"
   ]
  }
 ],
 "metadata": {
  "kernelspec": {
   "display_name": "Python 3 (ipykernel)",
   "language": "python",
   "name": "python3"
  },
  "language_info": {
   "codemirror_mode": {
    "name": "ipython",
    "version": 3
   },
   "file_extension": ".py",
   "mimetype": "text/x-python",
   "name": "python",
   "nbconvert_exporter": "python",
   "pygments_lexer": "ipython3",
   "version": "3.10.12"
  }
 },
 "nbformat": 4,
 "nbformat_minor": 5
}
