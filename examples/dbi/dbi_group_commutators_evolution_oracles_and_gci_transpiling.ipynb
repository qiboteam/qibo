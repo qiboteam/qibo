{
 "cells": [
  {
   "cell_type": "markdown",
   "id": "2dae9ffe",
   "metadata": {},
   "source": [
    "## This compares to DoubleBracketIteration whenever possible"
   ]
  },
  {
   "cell_type": "code",
   "execution_count": 1,
   "id": "b161521d",
   "metadata": {},
   "outputs": [],
   "source": [
    "import inspect\n",
    "import sys\n",
    "sys.path.append(\"../../tests\")\n",
    "from test_models_dbi import *\n",
    "def print_function_source_code( func ):\n",
    "    out = inspect.getsourcelines(func)  \n",
    "    from functools import reduce\n",
    "    print(reduce(str.__add__, out[0]))"
   ]
  },
  {
   "cell_type": "code",
   "execution_count": 2,
   "id": "950eef89",
   "metadata": {},
   "outputs": [
    {
     "name": "stderr",
     "output_type": "stream",
     "text": [
      "[Qibo 0.2.7|INFO|2024-04-25 09:05:33]: Using numpy backend on /CPU:0\n"
     ]
    }
   ],
   "source": [
    "import qibo\n",
    "backend = qibo.backends.construct_backend(\"numpy\")\n",
    "qibo.set_backend(\"numpy\")\n",
    "nqubits = 3"
   ]
  },
  {
   "cell_type": "markdown",
   "id": "7f4d7a01",
   "metadata": {},
   "source": [
    "# Check the numerical mode of evolution oracles"
   ]
  },
  {
   "cell_type": "markdown",
   "id": "e81631c7",
   "metadata": {},
   "source": [
    "This is testing the following:\n",
    "\n",
    "`dbi_exact` runs $V_{exact} = e^{-sW}$ and rotates $H_1 = V_{exact}^\\dagger H_0 V_{exact}$.\n",
    "\n",
    "`dbi_GC` runs $V_{GC} = GC$ and rotates $K_1 = V_{GC}^\\dagger H_0 V_{GC}$.\n",
    "\n",
    "We assert that dbi_exact and dbi_GC should be within the approximation bound of the GC\n",
    "$$||J_1-H_1||\\le2 ||H_0||\\,||R-V||\\le C ||H_0|| s^{3/2}$$\n",
    "\n",
    "`gci` runs $V_{EO,GC} = GC$ and rotates $J_1 = V_{EO,GC}^\\dagger H_0 V_{EO,GC}$.\n",
    "\n",
    "We assert that gci and dbi2 should be within machine precision for the correct sorting.\n",
    "$$||J_1-K_1||\\le2 ||H_0||\\,||R-Q||\\le \\epsilon$$\n",
    "\n",
    "\n"
   ]
  },
  {
   "cell_type": "code",
   "execution_count": 3,
   "id": "aa8e61b9",
   "metadata": {},
   "outputs": [],
   "source": [
    "t_step =0.01\n",
    "eps = 1e-2"
   ]
  },
  {
   "cell_type": "code",
   "execution_count": 12,
   "id": "fe0539ad",
   "metadata": {
    "scrolled": true
   },
   "outputs": [
    {
     "name": "stderr",
     "output_type": "stream",
     "text": [
      "[Qibo 0.2.7|WARNING|2024-04-25 09:09:11]: Calculating the dense form of a symbolic Hamiltonian. This operation is memory inefficient.\n",
      "[Qibo 0.2.7|WARNING|2024-04-25 09:09:11]: Calculating the dense form of a symbolic Hamiltonian. This operation is memory inefficient.\n"
     ]
    }
   ],
   "source": [
    "from numpy.linalg import norm\n",
    "\n",
    "h_x = SymbolicHamiltonian(\n",
    "    symbols.X(0)\n",
    "    + symbols.Z(0) * symbols.X(1)\n",
    "    + symbols.Y(2)\n",
    "    + symbols.Y(1) * symbols.Y(2),\n",
    "    nqubits=3,\n",
    ")\n",
    "d_0 = SymbolicHamiltonian(symbols.Z(0), nqubits=3)\n",
    "h_input = h_x + d_0\n",
    "\n",
    "dbi = DoubleBracketIteration(deepcopy(h_input.dense))\n",
    "\n",
    "v_exact = dbi.eval_dbr_unitary(t_step, d=d_0.dense.matrix, mode=DoubleBracketGeneratorType.single_commutator)\n",
    "v_gc = dbi.eval_dbr_unitary(t_step, d=d_0.dense.matrix, mode=DoubleBracketGeneratorType.group_commutator)\n",
    "\n",
    "dbi(t_step, d = d_0.dense.matrix )\n",
    "h_1 = dbi.h.matrix\n",
    "\n",
    "dbi.h = deepcopy(h_input.dense)\n",
    "dbi(t_step, d = d_0.dense.matrix, mode = DoubleBracketGeneratorType.group_commutator )\n",
    "k_1 = dbi.h.matrix\n",
    "\n",
    "w = dbi.commutator(h_input.dense.matrix,d_0.dense.matrix)\n",
    "norms_bound = 0.5*t_step**1.48 * (\n",
    "    np.linalg.norm(dbi.commutator(h_input.dense.matrix,w)) + np.linalg.norm(dbi.commutator(d_0.matrix,w))\n",
    ")\n",
    "assert norm(v_exact - v_gc) < norms_bound\n",
    "assert norm(h_1-k_1) < 2 * norm(h_input.dense.matrix) * norms_bound   "
   ]
  },
  {
   "cell_type": "code",
   "execution_count": 13,
   "id": "4e3a5afa",
   "metadata": {},
   "outputs": [
    {
     "data": {
      "text/plain": [
       "0.007946732303441253"
      ]
     },
     "execution_count": 13,
     "metadata": {},
     "output_type": "execute_result"
    }
   ],
   "source": [
    "norm(v_exact - v_gc)\n"
   ]
  },
  {
   "cell_type": "code",
   "execution_count": 15,
   "id": "df4e4b89",
   "metadata": {
    "scrolled": true
   },
   "outputs": [
    {
     "name": "stderr",
     "output_type": "stream",
     "text": [
      "[Qibo 0.2.7|WARNING|2024-04-25 09:09:25]: Calculating the dense form of a symbolic Hamiltonian. This operation is memory inefficient.\n"
     ]
    },
    {
     "name": "stdout",
     "output_type": "stream",
     "text": [
      "1.3625360448211346e-15\n",
      "0.027414371976916107\n"
     ]
    }
   ],
   "source": [
    "evolution_oracle = EvolutionOracle(h_input, \"ZX\",\n",
    "                    mode_evolution_oracle = EvolutionOracleType.numerical)    \n",
    "d_02 = SymbolicHamiltonian(symbols.Z(0), nqubits=3)\n",
    "evolution_oracle_diagonal_target =  EvolutionOracle(d_02, \"D0\",\n",
    "           mode_evolution_oracle = EvolutionOracleType.numerical)\n",
    "\n",
    "gci = GroupCommutatorIterationWithEvolutionOracles( deepcopy(evolution_oracle ))\n",
    "#gci.mode_double_bracket_rotation = DoubleBracketRotationType.group_commutator\n",
    "\n",
    "u_gc_from_oracles = gci.group_commutator( t_step, evolution_oracle_diagonal_target )   \n",
    "u_gci = u_gc_from_oracles['forwards']\n",
    "\n",
    "assert norm(u_gci.conj().T - u_gc_from_oracles['backwards']) < 1e-12\n",
    "\n",
    "\n",
    "v_exact = dbi.eval_dbr_unitary(t_step, d=d_0.dense.matrix, mode=DoubleBracketGeneratorType.single_commutator)\n",
    "w = dbi.commutator(h_input.dense.matrix,d_0.dense.matrix)\n",
    "norms_bound = 0.5*t_step**1.48 * (\n",
    "    np.linalg.norm(dbi.commutator(h_input.dense.matrix,w)) + np.linalg.norm(dbi.commutator(d_0.matrix,w))\n",
    ")\n",
    "assert norm(v_exact - u_gci) < norms_bound\n",
    "\n",
    "gci(t_step, diagonal_association= evolution_oracle_diagonal_target )\n",
    "j_1 = gci.iterated_hamiltonian_evolution_oracle.h.matrix\n",
    "print(norm(j_1-k_1))\n",
    "print(norm(j_1-h_1))"
   ]
  },
  {
   "cell_type": "code",
   "execution_count": null,
   "id": "2b895267",
   "metadata": {},
   "outputs": [],
   "source": [
    "import matplotlib.pyplot as plt\n",
    "norms  = []\n",
    "norms2  = []\n",
    "for r in np.linspace(1e-5,0.1,30):\n",
    "    u_gc_from_oracles = gci.group_commutator( r, evolution_oracle_diagonal_target )   \n",
    "    u_gci = u_gc_from_oracles['forwards']\n",
    "    v_exact = dbi.eval_dbr_unitary(r, d=d_0.dense.matrix, mode=DoubleBracketGeneratorType.single_commutator)\n",
    "    v_gc = dbi.eval_dbr_unitary(r, d=d_0.dense.matrix, mode=DoubleBracketGeneratorType.group_commutator)\n",
    "    norms.append(norm(u_gci - v_exact))\n",
    "    norms2.append(norm(u_gci - v_gc))\n",
    "\n",
    "    \n",
    "plt.plot(np.linspace(1e-5,.1,30), [x**1.5*12 for x in np.linspace(1e-5,.1,30)])\n",
    "plt.plot(np.linspace(1e-5,.1,30),norms)\n",
    "plt.plot(np.linspace(1e-5,.1,30),norms2)"
   ]
  },
  {
   "cell_type": "code",
   "execution_count": null,
   "id": "0d55523e",
   "metadata": {},
   "outputs": [],
   "source": [
    "print(np.max(norms2))"
   ]
  },
  {
   "cell_type": "code",
   "execution_count": null,
   "id": "0d843f1f",
   "metadata": {
    "scrolled": true
   },
   "outputs": [],
   "source": [
    "print_function_source_code(GroupCommutatorIterationWithEvolutionOracles.group_commutator)"
   ]
  },
  {
   "cell_type": "code",
   "execution_count": null,
   "id": "6d99fbc3",
   "metadata": {},
   "outputs": [],
   "source": []
  },
  {
   "cell_type": "code",
   "execution_count": null,
   "id": "583ca695",
   "metadata": {},
   "outputs": [],
   "source": [
    "assert norm(Q_gci.conj().T - R_dbi ) < 5*eps\n",
    "\n",
    "\n",
    "test_dbr_in_dbi_vs_gci_classes_numerical(.1, 1e-5)"
   ]
  },
  {
   "cell_type": "code",
   "execution_count": null,
   "id": "ec6361ca",
   "metadata": {},
   "outputs": [],
   "source": [
    "\n",
    "dbi = DoubleBracketIteration(deepcopy(h_input.dense))\n",
    "dbi.mode = DoubleBracketGeneratorType.single_commutator\n",
    "\n",
    "\n",
    "dbi2 = DoubleBracketIteration(deepcopy(h_input.dense))\n",
    "dbi2.mode = DoubleBracketGeneratorType.group_commutator\n",
    "\n",
    "import matplotlib.pyplot as plt\n",
    "norms  = []\n",
    "for r in np.linspace(1e-5,0.1,30):\n",
    "    dbi(r, d=d_0.dense.matrix)\n",
    "    dbi2(r, d=d_0.dense.matrix)\n",
    "    norms.append(norm(dbi.h.matrix- dbi2.h.matrix))\n",
    "    \n",
    "plt.plot(np.linspace(1e-5,.1,30), [x**1.5*1000 for x in np.linspace(1e-5,.1,30)])\n",
    "plt.plot(np.linspace(1e-5,.1,30),norms)"
   ]
  },
  {
   "cell_type": "code",
   "execution_count": null,
   "id": "7e99a090",
   "metadata": {
    "scrolled": false
   },
   "outputs": [],
   "source": [
    "def test_dbr_in_dbi_vs_gci_classes_numerical(t_step, eps):"
   ]
  },
  {
   "cell_type": "markdown",
   "id": "0fc17c2d",
   "metadata": {},
   "source": [
    "## Check the GC bound is valid and corectly implemented in DoubleBracketIteration\n",
    "\n",
    "The bound is $$||e^{-t[D,H]}-GC(s=\\sqrt{t})||\\le t^{3/2}(||[H,[D,H]||+||[D,[D,H]]||$$\n"
   ]
  },
  {
   "cell_type": "code",
   "execution_count": null,
   "id": "8ecce261",
   "metadata": {
    "scrolled": true
   },
   "outputs": [],
   "source": [
    "print_function_source_code(test_double_bracket_iteration_eval_dbr_unitary)"
   ]
  },
  {
   "cell_type": "code",
   "execution_count": null,
   "id": "bcfab105",
   "metadata": {
    "scrolled": true
   },
   "outputs": [],
   "source": [
    "test_double_bracket_iteration_eval_dbr_unitary(backend, nqubits)"
   ]
  },
  {
   "cell_type": "markdown",
   "id": "af472177",
   "metadata": {},
   "source": [
    "### We repeat the function in order to plot the bound"
   ]
  },
  {
   "cell_type": "code",
   "execution_count": null,
   "id": "54fea9c7",
   "metadata": {},
   "outputs": [],
   "source": [
    "r\"\"\"The bound is $$||e^{-[D,H]}-GC||\\le s^{3/2}(||[H,[D,H]||+||[D,[D,H]]||$$\"\"\"\n",
    "h0 = random_hermitian(2**nqubits, backend=backend)\n",
    "d = backend.cast(np.diag(np.diag(backend.to_numpy(h0))))\n",
    "dbi = DoubleBracketIteration(\n",
    "    Hamiltonian(nqubits, h0, backend=backend),\n",
    "    mode=DoubleBracketGeneratorType.group_commutator,\n",
    ")\n",
    "\n",
    "times = np.linspace(0.001, 0.01, 10)\n",
    "norms = []\n",
    "norms_bound = []\n",
    "for s in times:\n",
    "    u = dbi.eval_dbr_unitary(\n",
    "        s, d=d, mode=DoubleBracketGeneratorType.single_commutator\n",
    "    )\n",
    "    v = dbi.eval_dbr_unitary(\n",
    "        s, d=d, mode=DoubleBracketGeneratorType.group_commutator\n",
    "    )\n",
    "\n",
    "    norms.append(np.linalg.norm(u - v) )\n",
    "    w = dbi.commutator(h0,d)\n",
    "    norms_bound.append(0.5*s**1.48 * (\n",
    "        np.linalg.norm(dbi.commutator(h0,w)) + np.linalg.norm(dbi.commutator(d,w))\n",
    "    ))\n",
    "    assert np.linalg.norm(u - v) < 10 * s**1.49 * (\n",
    "            np.linalg.norm(h0) + np.linalg.norm(d)\n",
    "        ) * np.linalg.norm(h0) * np.linalg.norm(d)"
   ]
  },
  {
   "cell_type": "markdown",
   "id": "5127adad",
   "metadata": {},
   "source": [
    "Unfortunately we cannot assume that \n",
    "`assert popt[0] < 1.51`\n",
    "because in principle data satisfying the bound can be ragged and could have a large slope.\n",
    "When the bound is saturated, however, then the following fit works:"
   ]
  },
  {
   "cell_type": "code",
   "execution_count": null,
   "id": "f34ad940",
   "metadata": {},
   "outputs": [],
   "source": [
    "from scipy.optimize import curve_fit\n",
    "popt, pcov = curve_fit( (lambda x, a, b: a*x+b ), [np.log(t) for t in times], [np.log(n) for n in norms])\n",
    "assert popt[0] < 1.51"
   ]
  },
  {
   "cell_type": "markdown",
   "id": "ac31a3fa",
   "metadata": {},
   "source": [
    "In practice that assertion usually goes through. We check this further by these plots"
   ]
  },
  {
   "cell_type": "code",
   "execution_count": null,
   "id": "ef43be9c",
   "metadata": {},
   "outputs": [],
   "source": [
    "import matplotlib.pyplot as plt\n",
    "plt.plot(norms)\n",
    "plt.plot(norms_bound)"
   ]
  },
  {
   "cell_type": "code",
   "execution_count": null,
   "id": "eecc6a33",
   "metadata": {},
   "outputs": [],
   "source": [
    "plt.loglog(times,norms)\n",
    "plt.loglog(times,norms_bound)"
   ]
  },
  {
   "cell_type": "markdown",
   "id": "c652e516",
   "metadata": {},
   "source": [
    "Usually random Hamiltonian matrices give something $a\\approx 1.49$"
   ]
  },
  {
   "cell_type": "code",
   "execution_count": null,
   "id": "3ef04b41",
   "metadata": {},
   "outputs": [],
   "source": [
    "popt"
   ]
  },
  {
   "cell_type": "markdown",
   "id": "70ac58a2",
   "metadata": {},
   "source": [
    "# Check the convergence of the Trotter-Suzuki Hamiltonian simulation oracle\n"
   ]
  },
  {
   "cell_type": "code",
   "execution_count": null,
   "id": "54efc9de",
   "metadata": {},
   "outputs": [],
   "source": [
    "print_function_source_code(test_dbi_evolution_oracle)"
   ]
  },
  {
   "cell_type": "code",
   "execution_count": null,
   "id": "69456994",
   "metadata": {},
   "outputs": [],
   "source": [
    "test_dbi_evolution_oracle(backend,nqubits,1 ,1e-2)"
   ]
  },
  {
   "cell_type": "markdown",
   "id": "8c54cfa8",
   "metadata": {},
   "source": [
    "This was just a check to see if using the circuit method works. Then covering the numerical and text flag."
   ]
  },
  {
   "cell_type": "code",
   "execution_count": null,
   "id": "b37cbc0e",
   "metadata": {},
   "outputs": [],
   "source": []
  },
  {
   "cell_type": "code",
   "execution_count": null,
   "id": "964c64c3",
   "metadata": {},
   "outputs": [],
   "source": [
    " def group_commutator(\n",
    "        self,\n",
    "        t_step: float,\n",
    "        eo1: EvolutionOracle,\n",
    "        eo2: EvolutionOracle = None,\n",
    "        mode_dbr: DoubleBracketRotationType = None,\n",
    "    ):\n",
    "        s_step = np.sqrt(t_step)\n",
    "\n",
    "        if eo2 is None:\n",
    "            eo2 = self.iterated_hamiltonian_evolution_oracle\n",
    "        ##\n",
    "        from scipy.linalg import expm, norm\n",
    "\n",
    "        Vh = expm(1j * s_step * eo2.h.dense.matrix)\n",
    "        Vd = expm(-1j * s_step * eo1.h.dense.matrix)\n",
    "        print(\n",
    "            norm(\n",
    "                Vh @ Vd @ Vh.conj().T @ Vd.conj().T\n",
    "                - super().eval_dbr_unitary(t_step, d=eo1.h.dense.matrix)\n",
    "            )\n",
    "        )\n",
    "        print(norm(Vh - eo2.circuit(-s_step)))\n",
    "        print(norm(Vd - eo1.circuit(s_step)))\n",
    "        from functools import reduce\n",
    "\n",
    "        by_hand_list = [Vh, Vd, Vh.conj().T, Vd.conj().T]\n",
    "        S = reduce(np.ndarray.__matmul__, by_hand_list)\n",
    "        print(\"reduce list\", norm(S - super().eval_dbr_unitary(t_step, d=eo1.h.dense.matrix)))\n",
    "        assert eo1.mode_evolution_oracle.value is eo2.mode_evolution_oracle.value\n",
    "\n",
    "        eo_mode = eo1.mode_evolution_oracle\n",
    "\n",
    "        if mode_dbr is None:\n",
    "            gc_type = self.mode_double_bracket_rotation\n",
    "        else:\n",
    "            gc_type = mode_dbr\n",
    "\n",
    "        if gc_type is DoubleBracketRotationType.single_commutator:\n",
    "            raise_error(\n",
    "                ValueError,\n",
    "                \"You are trying to get the group commutator query list but your dbr mode is single_commutator and not an approximation by means of a product formula!\",\n",
    "            )\n",
    "\n",
    "        if gc_type is DoubleBracketRotationType.group_commutator:\n",
    "            query_list_forward = [\n",
    "                eo2.circuit(-s_step),\n",
    "                eo1.circuit(s_step),\n",
    "                eo2.circuit(s_step),\n",
    "                eo1.circuit(-s_step),\n",
    "            ]\n",
    "            query_list_backward = [\n",
    "                eo1.circuit(s_step),\n",
    "                eo2.circuit(-s_step),\n",
    "                eo1.circuit(-s_step),\n",
    "                eo2.circuit(s_step),\n",
    "            ]\n",
    "        elif gc_type is DoubleBracketRotationType.group_commutator_reduced:\n",
    "            query_list_forward = [\n",
    "                eo1.circuit(s_step),\n",
    "                eo2.circuit(s_step),\n",
    "                eo1.circuit(-s_step),\n",
    "            ]\n",
    "            query_list_backward = [\n",
    "                eo1.circuit(s_step),\n",
    "                eo2.circuit(-s_step),\n",
    "                eo1.circuit(-s_step),\n",
    "            ]\n",
    "        else:\n",
    "            raise_error(\n",
    "                ValueError,\n",
    "                \"You are in the group commutator query list but your dbr mode is not recognized\",\n",
    "            )\n",
    "        print(\"start\")\n",
    "        reduce(\n",
    "            print,\n",
    "            [\n",
    "                norm(x @ y.conj().T - np.eye(x.shape[0]))\n",
    "                for x, y in zip(query_list_forward, by_hand_list)\n",
    "            ],\n",
    "        )\n",
    "        from functools import reduce\n",
    "\n",
    "        print(\"stop\")\n",
    "        W = reduce(np.ndarray.__matmul__, query_list_forward)\n",
    "        print(norm(W - S))\n",
    "        if eo_mode is EvolutionOracleType.text_strings:\n",
    "            return {\n",
    "                \"forwards\": reduce(str.__add__, query_list_forward),\n",
    "                \"backwards\": reduce(str.__add__, query_list_backward),\n",
    "            }\n",
    "        elif eo_mode is EvolutionOracleType.hamiltonian_simulation:\n",
    "            return {\n",
    "                \"forwards\": reduce(Circuit.__add__, query_list_forward[::-1]),\n",
    "                \"backwards\": reduce(Circuit.__add__, query_list_backward[::-1]),\n",
    "            }\n",
    "        elif eo_mode is EvolutionOracleType.numerical:\n",
    "            return {\n",
    "                \"forwards\": reduce(np.ndarray.__matmul__, query_list_forward),\n",
    "                \"backwards\": reduce(np.ndarray.__matmul__, query_list_backward),\n",
    "            }\n",
    "        else:\n",
    "            raise_error(ValueError, \"Your EvolutionOracleType is not recognized\")\n"
   ]
  },
  {
   "cell_type": "code",
   "execution_count": null,
   "id": "51f190d6",
   "metadata": {},
   "outputs": [],
   "source": []
  },
  {
   "cell_type": "markdown",
   "id": "72d81f56",
   "metadata": {},
   "source": [
    "# Show that double bracket iteration group commutator and dbi converge for small s BHMM\n",
    "\n",
    "This is testing the following:\n",
    "\n",
    "`dbi` runs $V = e^{-sW}$ and rotates $H_1 = V^\\dagger H_0 V$.\n",
    "\n",
    "`gci` runs $Q = GC$ and rotates $J_1 = Q^\\dagger H_0 Q$.\n",
    "\n",
    "`dbi2` runs $R = GC$ and rotates $K_1 = R^\\dagger H_0 R$.\n",
    "\n",
    "We assert that gci and dbi2 should be within machine precision for the correct sorting.\n",
    "$$||J_1-K_1||\\le2 ||H_0||\\,||R-Q||\\le \\epsilon$$\n",
    "\n",
    "We assert that gci and dbi should be within the approximation bound of the GC\n",
    "$$||J_1-H_1||\\le2 ||H_0||\\,||R-V||\\le C ||H_0|| s^{3/2}$$\n"
   ]
  },
  {
   "cell_type": "code",
   "execution_count": null,
   "id": "e1afea06",
   "metadata": {},
   "outputs": [],
   "source": [
    "t_step = 0.1\n",
    "\n",
    "h_x = SymbolicHamiltonian( symbols.X(0) + symbols.Z(0) * symbols.X(1) + symbols.Y(2) \n",
    "                          + symbols.Y(1) * symbols.Y(2), nqubits = 3 )\n",
    "d_0 = SymbolicHamiltonian(symbols.Z(0), nqubits = 3 )\n",
    "h_input = h_x + d_0    \n",
    "\n",
    "dbi = DoubleBracketIteration(deepcopy(h_input.dense))\n",
    "dbi.mode = DoubleBracketGeneratorType.group_commutator\n",
    "dbi(t_step, d = -d_0.dense.matrix )\n",
    "\n",
    "dbi2 = DoubleBracketIteration(deepcopy(h_input.dense))\n",
    "dbi2.mode = DoubleBracketGeneratorType.single_commutator\n",
    "dbi2(t_step, d = d_0.dense.matrix )\n",
    "\n",
    "norms = []\n",
    "\n",
    "sigma_decrease_dbi = []\n",
    "sigma_decrease_gci = []\n",
    "for r in range(30):\n",
    "    dbi(t_step, d=-d_0.dense.matrix)\n",
    "    dbi2(t_step, d=d_0.dense.matrix)\n",
    "    sigma_decrease_dbi.append(dbi.off_diagonal_norm)\n",
    "    \n",
    "    sigma_decrease_gci.append(dbi2.off_diagonal_norm)\n",
    "    norms.append(norm(dbi.h.matrix- dbi2.h.matrix))\n",
    "    \n",
    "    \n",
    "plt.plot(norms)"
   ]
  },
  {
   "cell_type": "code",
   "execution_count": null,
   "id": "02789b1e",
   "metadata": {},
   "outputs": [],
   "source": [
    "plt.plot(sigma_decrease_dbi)\n",
    "plt.plot(sigma_decrease_gci)"
   ]
  },
  {
   "cell_type": "code",
   "execution_count": null,
   "id": "4efc5549",
   "metadata": {},
   "outputs": [],
   "source": [
    "evolution_oracle = EvolutionOracle(h_input, \"ZX\",\n",
    "                    mode_evolution_oracle = EvolutionOracleType.hamiltonian_simulation)    \n",
    "evolution_oracle.eps_trottersuzuki = eps\n",
    "\n",
    "evolution_oracle_diagonal_target =  EvolutionOracle(d_0, \"D0\",\n",
    "           mode_evolution_oracle=EvolutionOracleType.hamiltonian_simulation)\n",
    "\n",
    "gci = GroupCommutatorIterationWithEvolutionOracles( deepcopy(evolution_oracle ))\n",
    "gci.mode_double_bracket_rotation = DoubleBracketRotationType.group_commutator_other_sorting\n",
    "\n",
    "assert norm(gci.h.matrix - dbi.h.matrix) < 1e-12   \n",
    "assert norm(gci.h.matrix - dbi2.h.matrix) < 20 * norm(h_input) * t_step\n",
    "\n",
    "dbi(t_step, d = d_0.dense.matrix )    \n",
    "dbi2(t_step, d = d_0.dense.matrix )    \n",
    "gci(t_step, diagonal_association=evolution_oracle_diagonal_target)  \n",
    "assert norm(gci.h.matrix - dbi.h.matrix) < 1e-12   \n",
    "assert norm(gci.h.matrix - dbi2.h.matrix) < (20 * norm(h_input) * t_step)**2"
   ]
  },
  {
   "cell_type": "code",
   "execution_count": null,
   "id": "0f86c490",
   "metadata": {},
   "outputs": [],
   "source": [
    "from double_bracket import *\n",
    "\n",
    "def test_dbi_vs_gci(t_step, eps):\n",
    "    if t_step > 1:\n",
    "        t_step = 0.1\n",
    "        \n",
    "    h_x = SymbolicHamiltonian( symbols.X(0) + symbols.Z(0) * symbols.X(1) + symbols.Y(2) \n",
    "                              + symbols.Y(1) * symbols.Y(2), nqubits = 3 )\n",
    "    d_0 = SymbolicHamiltonian(symbols.Z(0), nqubits = 3 )\n",
    "    h_input = h_x + d_0    \n",
    "\n",
    "    dbi = DoubleBracketIteration(deepcopy(h_input.dense))\n",
    "    dbi.mode = DoubleBracketGeneratorType.group_commutator\n",
    "    dbi(t_step, d = d_0.dense.matrix )\n",
    "    \n",
    "    dbi2 = DoubleBracketIteration(deepcopy(h_input.dense))\n",
    "    dbi2.mode = DoubleBracketGeneratorType.single_commutator\n",
    "    dbi2(t_step, d = d_0.dense.matrix )\n",
    "    \n",
    "    evolution_oracle = EvolutionOracle(h_input, \"ZX\",\n",
    "                        mode_evolution_oracle = EvolutionOracleType.hamiltonian_simulation)    \n",
    "    evolution_oracle.eps_trottersuzuki = eps\n",
    "    \n",
    "    evolution_oracle_diagonal_target =  EvolutionOracle(d_0, \"D0\",\n",
    "               mode_evolution_oracle=EvolutionOracleType.hamiltonian_simulation)\n",
    "    \n",
    "    gci = GroupCommutatorIterationWithEvolutionOracles( deepcopy(evolution_oracle ))\n",
    "    gci.mode_double_bracket_rotation = DoubleBracketRotationType.group_commutator_other_sorting\n",
    "    \n",
    "    assert norm(gci.h.matrix - dbi.h.matrix) < 1e-12   \n",
    "    assert norm(gci.h.matrix - dbi2.h.matrix) < 20 * norm(h_input) * t_step\n",
    "    \n",
    "    dbi(t_step, d = d_0.dense.matrix )    \n",
    "    dbi2(t_step, d = d_0.dense.matrix )    \n",
    "    gci(t_step, diagonal_association=evolution_oracle_diagonal_target)  \n",
    "    assert norm(gci.h.matrix - dbi.h.matrix) < 1e-12   \n",
    "    assert norm(gci.h.matrix - dbi2.h.matrix) < (20 * norm(h_input) * t_step)**2\n",
    "    \n",
    "    \n",
    "test_dbi_vs_gci(.1, 1e-5)"
   ]
  },
  {
   "cell_type": "markdown",
   "id": "8db582f1",
   "metadata": {},
   "source": [
    "# Show that double bracket iteration group commutator and gci are numerically exact\n",
    "\n"
   ]
  },
  {
   "cell_type": "markdown",
   "id": "5381e44f",
   "metadata": {},
   "source": [
    "# Show that double bracket iteration  and gci gc and gc_reduced converge for small s BHMM\n",
    "\n",
    "\n"
   ]
  },
  {
   "cell_type": "code",
   "execution_count": null,
   "id": "2e97f0c6",
   "metadata": {},
   "outputs": [],
   "source": []
  },
  {
   "cell_type": "code",
   "execution_count": null,
   "id": "61699387",
   "metadata": {},
   "outputs": [],
   "source": [
    "dbi(t_step, d = d_0.dense.matrix)\n"
   ]
  },
  {
   "cell_type": "markdown",
   "id": "09ab7a86",
   "metadata": {},
   "source": [
    "#### 2. Evolution oracle hamiltonian simulation\n"
   ]
  },
  {
   "cell_type": "code",
   "execution_count": null,
   "id": "c9a9b4ef",
   "metadata": {},
   "outputs": [],
   "source": [
    "evolution_oracle_hamiltonian_simulation = EvolutionOracle(deepcopy(h_input), \"ZX\",\n",
    "                               mode_evolution_oracle = EvolutionOracleType.hamiltonian_simulation)\n"
   ]
  },
  {
   "cell_type": "code",
   "execution_count": null,
   "id": "3a4b6a36",
   "metadata": {},
   "outputs": [],
   "source": [
    "evolution_oracle_diagonal_target =  EvolutionOracle(d_0, \"D0\",\n",
    "               mode_evolution_oracle=EvolutionOracleType.hamiltonian_simulation)\n",
    "\n"
   ]
  },
  {
   "cell_type": "code",
   "execution_count": null,
   "id": "e20f72df",
   "metadata": {},
   "outputs": [],
   "source": [
    "t_step = 1\n",
    "def check_hs_eps(eps):\n",
    "    evolution_oracle_hamiltonian_simulation.eps_trottersuzuki = eps\n",
    "    U_hamiltonian_simulation = evolution_oracle_hamiltonian_simulation.circuit(t_step).unitary()\n",
    "    V_target = h_input.exp(t_step)\n",
    "    print(eps,norm(U_hamiltonian_simulation-V_target))"
   ]
  },
  {
   "cell_type": "code",
   "execution_count": null,
   "id": "32f515a0",
   "metadata": {},
   "outputs": [],
   "source": [
    "check_hs_eps(0.1)"
   ]
  },
  {
   "cell_type": "code",
   "execution_count": null,
   "id": "3640b862",
   "metadata": {},
   "outputs": [],
   "source": [
    "check_hs_eps(.001)"
   ]
  },
  {
   "cell_type": "code",
   "execution_count": null,
   "id": "51de5892",
   "metadata": {},
   "outputs": [],
   "source": [
    "check_hs_eps(1e-4)"
   ]
  },
  {
   "cell_type": "code",
   "execution_count": null,
   "id": "acb49e83",
   "metadata": {},
   "outputs": [],
   "source": []
  },
  {
   "cell_type": "code",
   "execution_count": null,
   "id": "da441e93",
   "metadata": {},
   "outputs": [],
   "source": [
    "\n",
    "gci = GroupCommutatorIterationWithEvolutionOracles( deepcopy(evolution_oracle_hamiltonian_simulation ))\n",
    "gci.mode_double_bracket_rotation = DoubleBracketRotationType.group_commutator_other_sorting\n"
   ]
  },
  {
   "cell_type": "code",
   "execution_count": null,
   "id": "26b4c66a",
   "metadata": {},
   "outputs": [],
   "source": [
    "gci.iterated_hamiltonian_evolution_oracle.h"
   ]
  },
  {
   "cell_type": "code",
   "execution_count": null,
   "id": "72bdc7a7",
   "metadata": {},
   "outputs": [],
   "source": [
    "unitary_gc_from_oracles = gci.group_commutator( np.sqrt(t_step),\n",
    "           diagonal_association_evolution_oracle = evolution_oracle_diagonal_target )"
   ]
  },
  {
   "cell_type": "code",
   "execution_count": null,
   "id": "6635da98",
   "metadata": {},
   "outputs": [],
   "source": [
    "for a in DoubleBracketRotationType:\n",
    "    print(a.name)"
   ]
  },
  {
   "cell_type": "code",
   "execution_count": null,
   "id": "d4407257",
   "metadata": {},
   "outputs": [],
   "source": [
    "def test_gc_numerical_vs_circuit(eps):\n",
    "    gci.iterated_hamiltonian_evolution_oracle.eps_trottersuzuki = eps\n",
    "    evolution_oracle_diagonal_target.eps_trottersuzuki = eps\n",
    "    \n",
    "    gci.iterated_hamiltonian_evolution_oracle.please_be_verbose = False\n",
    "    evolution_oracle_diagonal_target.please_be_verbose = False\n",
    "    \n",
    "\n",
    "    gci.mode_double_bracket_rotation = DoubleBracketRotationType.group_commutator_reduced\n",
    "\n",
    "    gci.iterated_hamiltonian_evolution_oracle.mode_evolution_oracle = EvolutionOracleType.numerical\n",
    "    evolution_oracle_diagonal_target.mode_evolution_oracle  = EvolutionOracleType.numerical\n",
    "\n",
    "    unitary_gc_from_oracles = gci.group_commutator( np.sqrt(t_step),\n",
    "           diagonal_association_evolution_oracle = evolution_oracle_diagonal_target )\n",
    "\n",
    "    unitary_gc_existing = wrapper_gc(dbi, np.sqrt(t_step),d_0.dense.matrix)\n",
    "\n",
    "    bckwd = unitary_gc_from_oracles['backwards']\n",
    "    fwd = unitary_gc_from_oracles['forwards']\n",
    "\n",
    "    e1 = gci.iterated_hamiltonian_evolution_oracle.circuit(np.sqrt(t_step))\n",
    "    e2 = evolution_oracle_diagonal_target.circuit(np.sqrt(t_step))\n",
    "\n",
    "    gci.iterated_hamiltonian_evolution_oracle.mode_evolution_oracle = EvolutionOracleType.hamiltonian_simulation\n",
    "    evolution_oracle_diagonal_target.mode_evolution_oracle  = EvolutionOracleType.hamiltonian_simulation\n",
    "\n",
    "    unitary_gc_from_oracles = gci.group_commutator( np.sqrt(t_step),\n",
    "           diagonal_association_evolution_oracle = evolution_oracle_diagonal_target )\n",
    "\n",
    "    unitary_gc_existing = wrapper_gc(dbi, np.sqrt(t_step),d_0.dense.matrix)\n",
    "\n",
    "    bckwdhs = unitary_gc_from_oracles['backwards'].unitary()\n",
    "    fwdhs = unitary_gc_from_oracles['forwards'].unitary()\n",
    "\n",
    "    e1hs = gci.iterated_hamiltonian_evolution_oracle.circuit(np.sqrt(t_step)).unitary()\n",
    "    e2hs = evolution_oracle_diagonal_target.circuit(np.sqrt(t_step)).unitary()\n",
    "\n",
    "    print(\"e1:\", norm( e1hs-e1))\n",
    "    print(\"e2:\", norm(e2hs-e2))\n",
    "    print(\"Testing inversion forwards:\", norm(bckwd-bckwdhs))\n",
    "    print(\"Testing inversion backwards:\", norm(fwd - fwdhs))\n",
    "\n",
    "test_gc_numerical_vs_circuit(0.1)\n",
    "\n",
    "test_gc_numerical_vs_circuit(0.0001)"
   ]
  },
  {
   "cell_type": "code",
   "execution_count": null,
   "id": "2a173296",
   "metadata": {},
   "outputs": [],
   "source": [
    "def test_group_commutator_against_itself(gci, evolution_diagonal,eps = 0.0001):\n",
    "    gci.iterated_hamiltonian_evolution_oracle.eps_trottersuzuki = eps\n",
    "    evolution_oracle_diagonal_target.eps_trottersuzuki = eps\n",
    "    for s in np.linspace(0,1,5):\n",
    "        gci.iterated_hamiltonian_evolution_oracle.mode_evolution_oracle = EvolutionOracleType.hamiltonian_simulation\n",
    "        evolution_diagonal.mode_evolution_oracle = EvolutionOracleType.hamiltonian_simulation\n",
    "        gc_hs = gci.group_commutator(s,evolution_diagonal)\n",
    "        gci.iterated_hamiltonian_evolution_oracle.mode_evolution_oracle = EvolutionOracleType.numerical\n",
    "        evolution_diagonal.mode_evolution_oracle = EvolutionOracleType.numerical\n",
    "        gc_np = gci.group_commutator(s,evolution_diagonal)\n",
    "        print(norm(gc_np['forwards']-gc_hs['forwards'].unitary()))\n",
    "        print(norm(gc_np['backwards']-gc_hs['backwards'].unitary()))\n",
    "\n",
    "gci.mode_double_bracket_rotation = DoubleBracketRotationType.group_commutator        \n",
    "test_group_commutator_against_itself(gci, evolution_oracle_diagonal_target)\n",
    "\n",
    "gci.mode_double_bracket_rotation = DoubleBracketRotationType.group_commutator_other_sorting        \n",
    "test_group_commutator_against_itself(gci, evolution_oracle_diagonal_target)\n",
    "\n",
    "gci.mode_double_bracket_rotation = DoubleBracketRotationType.group_commutator_reduced      \n",
    "test_group_commutator_against_itself(gci, evolution_oracle_diagonal_target)"
   ]
  },
  {
   "cell_type": "code",
   "execution_count": null,
   "id": "93ee9d5e",
   "metadata": {},
   "outputs": [],
   "source": [
    "def test_gc_numerical_vs_bracket(eps = 0.3):\n",
    "    gci.iterated_hamiltonian_evolution_oracle.eps_trottersuzuki = eps\n",
    "    evolution_oracle_diagonal_target.eps_trottersuzuki = eps\n",
    "    \n",
    "    gci.iterated_hamiltonian_evolution_oracle.please_be_verbose = False\n",
    "    evolution_oracle_diagonal_target.please_be_verbose = False\n",
    "    \n",
    "\n",
    "    gci.mode_double_bracket_rotation = DoubleBracketRotationType.group_commutator\n",
    "\n",
    "    gci.iterated_hamiltonian_evolution_oracle.mode_evolution_oracle = EvolutionOracleType.numerical\n",
    "    evolution_oracle_diagonal_target.mode_evolution_oracle  = EvolutionOracleType.numerical\n",
    "\n",
    "    unitary_gc_from_oracles = gci.group_commutator( np.sqrt(t_step),\n",
    "           diagonal_association_evolution_oracle = evolution_oracle_diagonal_target )\n",
    "\n",
    "    import scipy\n",
    "    unitary_gc_existing1 = scipy.linalg.expm( t_step * (d_0.dense.matrix @ h_x.dense.matrix\n",
    "                                         -h_x.dense.matrix@d_0.dense.matrix))\n",
    "\n",
    "    bckwd = unitary_gc_from_oracles['backwards']\n",
    "    fwd = unitary_gc_from_oracles['forwards']\n",
    "\n",
    "    e1 = gci.iterated_hamiltonian_evolution_oracle.circuit(np.sqrt(t_step))\n",
    "    e2 = evolution_oracle_diagonal_target.circuit(np.sqrt(t_step))\n",
    "\n",
    "    gci.iterated_hamiltonian_evolution_oracle.mode_evolution_oracle = EvolutionOracleType.hamiltonian_simulation\n",
    "    evolution_oracle_diagonal_target.mode_evolution_oracle  = EvolutionOracleType.hamiltonian_simulation\n",
    "\n",
    "    unitary_gc_from_oracles = gci.group_commutator( np.sqrt(t_step),\n",
    "           diagonal_association_evolution_oracle = evolution_oracle_diagonal_target )\n",
    "\n",
    "    unitary_gc_existing = wrapper_gc(dbi, np.sqrt(t_step),-d_0.dense.matrix)\n",
    "\n",
    "    bckwdhs = unitary_gc_from_oracles['backwards'].unitary()\n",
    "    fwdhs = unitary_gc_from_oracles['forwards'].unitary()\n",
    "\n",
    "    e1hs = gci.iterated_hamiltonian_evolution_oracle.circuit(np.sqrt(t_step)).unitary()\n",
    "    e2hs = evolution_oracle_diagonal_target.circuit(np.sqrt(t_step)).unitary()\n",
    "    print(\"Test:\", norm(unitary_gc_existing-unitary_gc_existing1))\n",
    "    print(\"e1:\", norm( e1hs-e1))\n",
    "    print(\"e2:\", norm(e2hs-e2))\n",
    "    print(\"Testing inversion forwards:\", norm(bckwd-bckwdhs))\n",
    "    print(\"Testing inversion backwards:\", norm(fwd - fwdhs))\n",
    "\n",
    "test_gc_numerical_vs_bracket(0.1)\n",
    "\n",
    "test_gc_numerical_vs_bracket(0.0001)"
   ]
  },
  {
   "cell_type": "code",
   "execution_count": null,
   "id": "d2f19ef9",
   "metadata": {},
   "outputs": [],
   "source": [
    "def gc_hs_eps(eps):\n",
    "    gci.iterated_hamiltonian_evolution_oracle.eps_trottersuzuki = eps\n",
    "    evolution_oracle_diagonal_target.eps_trottersuzuki = eps\n",
    "    \n",
    "    gci.iterated_hamiltonian_evolution_oracle.please_be_verbose = True\n",
    "    evolution_oracle_diagonal_target.please_be_verbose = False\n",
    "    \n",
    "    gci.iterated_hamiltonian_evolution_oracle.mode_evolution_oracle = EvolutionOracleType.numerical\n",
    "    evolution_oracle_diagonal_target.mode_evolution_oracle  = EvolutionOracleType.numerical\n",
    "\n",
    "    gci.mode_double_bracket_rotation = DoubleBracketRotationType.group_commutator\n",
    "    \n",
    "    unitary_gc_from_oracles = gci.group_commutator( np.sqrt(t_step),\n",
    "               diagonal_association_evolution_oracle = evolution_oracle_diagonal_target )\n",
    "    \n",
    "    unitary_gc_existing = wrapper_gc(dbi, np.sqrt(t_step),-d_0.dense.matrix)\n",
    "    \n",
    "    bckwd = unitary_gc_from_oracles['backwards']\n",
    "    fwd = unitary_gc_from_oracles['forwards']\n",
    "    \n",
    "    e1 = gci.iterated_hamiltonian_evolution_oracle.circuit(np.sqrt(t_step))\n",
    "    e2 = evolution_oracle_diagonal_target.circuit(np.sqrt(t_step))\n",
    "    \n",
    "    print(\"Backwards:\", norm( bckwd - unitary_gc_existing))\n",
    "    print(\"Forwards:\", norm(fwd - unitary_gc_existing))\n",
    "    print(\"Testing inversion forwards:\", norm(fwd - e2.conj().T @ e1.conj().T @ e2 @e1))\n",
    "    print(\"Testing inversion backwards:\", norm(bckwd - e2.conj().T @ e1.conj().T @ e2 @e1))\n",
    "    print(\"Testing inversion forwards:\", norm(fwd - e1.conj().T @ e2.conj().T @  e1 @e2))\n",
    "    print(\"Testing inversion backwards:\", norm(bckwd - e1.conj().T @ e2.conj().T @  e1 @e2))\n",
    "    print(\"Testing inversion forwards:\", norm(fwd - e1@e2@ e1.conj().T @ e2.conj().T ))\n",
    "    print(\"Testing inversion backwards:\", norm(bckwd - e1@e2@e1.conj().T @ e2.conj().T ))\n",
    "    print(\"Testing inversion forwards:\", norm(fwd - e1.conj().T@e2@ e1 @ e2.conj().T ))\n",
    "    print(\"Testing inversion backwards:\", norm(bckwd - e1.conj().T@e2@e1 @ e2.conj().T ))\n",
    "    print(\"Testing reversal:\", norm(bckwd@fwd - unitary_gc_existing @unitary_gc_existing.T.conj() ))\n",
    "    print(\"Testing reversal:\", norm(bckwd@fwd - e1@e1.conj().T ))"
   ]
  },
  {
   "cell_type": "code",
   "execution_count": null,
   "id": "ae8e83bf",
   "metadata": {},
   "outputs": [],
   "source": [
    "gc_hs_eps(0.1)"
   ]
  },
  {
   "cell_type": "markdown",
   "id": "5dcc9f04",
   "metadata": {},
   "source": [
    "We may improve the discrepancy by setting smaller eps"
   ]
  },
  {
   "cell_type": "code",
   "execution_count": null,
   "id": "b1bf92e2",
   "metadata": {},
   "outputs": [],
   "source": [
    "gc_hs_eps(0.0001)"
   ]
  },
  {
   "cell_type": "code",
   "execution_count": null,
   "id": "f12288b0",
   "metadata": {},
   "outputs": [],
   "source": [
    "norm(unitary_gc_from_oracles['forwards'].unitary() - unitary_gc_existing)"
   ]
  },
  {
   "cell_type": "code",
   "execution_count": null,
   "id": "77579bc5",
   "metadata": {},
   "outputs": [],
   "source": [
    "norm(unitary_gc_from_oracles['backwards'].unitary() - unitary_gc_existing)"
   ]
  },
  {
   "cell_type": "code",
   "execution_count": null,
   "id": "0128e99d",
   "metadata": {},
   "outputs": [],
   "source": [
    "stop"
   ]
  },
  {
   "cell_type": "markdown",
   "id": "a3504871",
   "metadata": {},
   "source": [
    "#### Test more explicitly\n"
   ]
  },
  {
   "cell_type": "code",
   "execution_count": null,
   "id": "642cbce1",
   "metadata": {},
   "outputs": [],
   "source": [
    "u_h = gci.iterated_hamiltonian_evolution_oracle.circuit( np.sqrt(t_step)).unitary()\n",
    "u_d = evolution_oracle_diagonal_target.circuit( np.sqrt(t_step)).unitary()\n",
    "u_h_reversed = gci.iterated_hamiltonian_evolution_oracle.circuit( -np.sqrt(t_step)).unitary()\n",
    "u_d_reversed = evolution_oracle_diagonal_target.circuit( -np.sqrt(t_step)).unitary()\n",
    "norm( u_h_reversed @ u_d_reversed @ u_h @ u_d - unitary_gc_existing)"
   ]
  },
  {
   "cell_type": "code",
   "execution_count": null,
   "id": "6edaa7bb",
   "metadata": {},
   "outputs": [],
   "source": [
    "u_h = gci.iterated_hamiltonian_evolution_oracle.circuit( np.sqrt(t_step))\n",
    "u_d = evolution_oracle_diagonal_target.circuit( np.sqrt(t_step))\n",
    "u_h_reversed = gci.iterated_hamiltonian_evolution_oracle.circuit( -np.sqrt(t_step))\n",
    "u_d_reversed = evolution_oracle_diagonal_target.circuit( -np.sqrt(t_step))\n",
    "norm( (u_h_reversed + u_d_reversed + u_h + u_d).unitary() - unitary_gc_existing)"
   ]
  },
  {
   "cell_type": "markdown",
   "id": "b56f305f",
   "metadata": {},
   "source": [
    "#### 3. Evolution oracle numpy\n"
   ]
  },
  {
   "cell_type": "code",
   "execution_count": null,
   "id": "1b6f6c17",
   "metadata": {},
   "outputs": [],
   "source": [
    "evolution_oracle_numerical = EvolutionOracle(deepcopy(h_input), \"ZX\",\n",
    "                               mode_evolution_oracle = EvolutionOracleType.numerical)\n",
    "\n",
    "gci = GroupCommutatorIterationWithEvolutionOracles( deepcopy(evolution_oracle_numerical ))"
   ]
  },
  {
   "cell_type": "code",
   "execution_count": null,
   "id": "e3bec576",
   "metadata": {},
   "outputs": [],
   "source": [
    "evolution_oracle_diagonal_target =  EvolutionOracle(d_0, \"D0\",\n",
    "               mode_evolution_oracle=EvolutionOracleType.numerical)\n"
   ]
  },
  {
   "cell_type": "code",
   "execution_count": null,
   "id": "f14d3133",
   "metadata": {},
   "outputs": [],
   "source": [
    "unitary_gc_from_oracles = gci.group_commutator( np.sqrt(t_step),\n",
    "           diagonal_association_evolution_oracle = evolution_oracle_diagonal_target )"
   ]
  },
  {
   "cell_type": "markdown",
   "id": "6256dc33",
   "metadata": {},
   "source": [
    "Compared to the group commutator using Hamiltonian simulation there will be small deviations that arise from Trotter-Suzuki decomposition"
   ]
  },
  {
   "cell_type": "code",
   "execution_count": null,
   "id": "5ab01c82",
   "metadata": {
    "scrolled": true
   },
   "outputs": [],
   "source": [
    "norm(unitary_gc_from_oracles['backwards'] - unitary_gc_existing)"
   ]
  },
  {
   "cell_type": "code",
   "execution_count": null,
   "id": "5d3354a8",
   "metadata": {},
   "outputs": [],
   "source": [
    "norm(unitary_gc_from_oracles['forwards'] - unitary_gc_existing)"
   ]
  },
  {
   "cell_type": "markdown",
   "id": "26dfc6ac",
   "metadata": {},
   "source": [
    "We may check by switching the group commutator flag that the difference comes from ordering and inversions"
   ]
  },
  {
   "cell_type": "code",
   "execution_count": null,
   "id": "2e43555b",
   "metadata": {},
   "outputs": [],
   "source": [
    "gci.mode_double_bracket_rotation = DoubleBracketRotationType.group_commutator_other_sorting\n",
    "\n",
    "unitary_gc_from_oracles = gci.group_commutator( np.sqrt(t_step),\n",
    "           diagonal_association_evolution_oracle = evolution_oracle_diagonal_target )\n",
    "norm(unitary_gc_from_oracles['forwards'] - unitary_gc_existing)"
   ]
  },
  {
   "cell_type": "markdown",
   "id": "d6a735d4",
   "metadata": {},
   "source": [
    "#### 4. Check gci rotation"
   ]
  },
  {
   "cell_type": "code",
   "execution_count": null,
   "id": "5471e516",
   "metadata": {},
   "outputs": [],
   "source": [
    "evolution_oracle_hamiltonian_simulation = EvolutionOracle(deepcopy(h_input), \"ZX\",\n",
    "                               mode_evolution_oracle = EvolutionOracleType.hamiltonian_simulation)\n",
    "evolution_oracle_diagonal_target =  EvolutionOracle(d_0, \"D0\",\n",
    "               mode_evolution_oracle=EvolutionOracleType.hamiltonian_simulation)\n",
    "gci = GroupCommutatorIterationWithEvolutionOracles( deepcopy(evolution_oracle_hamiltonian_simulation ))"
   ]
  },
  {
   "cell_type": "code",
   "execution_count": null,
   "id": "7a7ac8f4",
   "metadata": {},
   "outputs": [],
   "source": [
    "type(gci.iterated_hamiltonian_evolution_oracle)"
   ]
  },
  {
   "cell_type": "code",
   "execution_count": null,
   "id": "d30c7558",
   "metadata": {},
   "outputs": [],
   "source": [
    "gci(t_step, diagonal_association=evolution_oracle_diagonal_target)"
   ]
  },
  {
   "cell_type": "code",
   "execution_count": null,
   "id": "1fe303d2",
   "metadata": {},
   "outputs": [],
   "source": [
    "type(gci.iterated_hamiltonian_evolution_oracle)"
   ]
  },
  {
   "cell_type": "code",
   "execution_count": null,
   "id": "6ab13137",
   "metadata": {},
   "outputs": [],
   "source": [
    "gci.iterated_hamiltonian_evolution_oracle.mode_evolution_oracle"
   ]
  },
  {
   "cell_type": "code",
   "execution_count": null,
   "id": "ca82a687",
   "metadata": {},
   "outputs": [],
   "source": [
    "u_frame_shifted = gci.iterated_hamiltonian_evolution_oracle.circuit(t_step).unitary()"
   ]
  },
  {
   "cell_type": "code",
   "execution_count": null,
   "id": "cd4f541d",
   "metadata": {},
   "outputs": [],
   "source": [
    "norm( dbi.h.exp(t_step) - u_frame_shifted)"
   ]
  },
  {
   "cell_type": "code",
   "execution_count": null,
   "id": "67257043",
   "metadata": {},
   "outputs": [],
   "source": [
    "gci.iterated_hamiltonian_evolution_oracle.mode_evolution_oracle\n"
   ]
  },
  {
   "cell_type": "code",
   "execution_count": null,
   "id": "feb5fde9",
   "metadata": {},
   "outputs": [],
   "source": [
    "gci(t_step, diagonal_association=evolution_oracle_diagonal_target)"
   ]
  },
  {
   "cell_type": "code",
   "execution_count": null,
   "id": "95de4c31",
   "metadata": {},
   "outputs": [],
   "source": [
    "dbi(t_step, d = evolution_oracle_diagonal_target.h.dense.matrix)"
   ]
  },
  {
   "cell_type": "code",
   "execution_count": null,
   "id": "2bcc8f07",
   "metadata": {},
   "outputs": [],
   "source": [
    "u_frame_shifted = gci.iterated_hamiltonian_evolution_oracle.circuit(t_step).unitary()\n"
   ]
  },
  {
   "cell_type": "code",
   "execution_count": null,
   "id": "eafa1770",
   "metadata": {},
   "outputs": [],
   "source": [
    "norm( dbi.h.exp(t_step) - u_frame_shifted)"
   ]
  },
  {
   "cell_type": "code",
   "execution_count": null,
   "id": "05e94ce8",
   "metadata": {},
   "outputs": [],
   "source": []
  },
  {
   "cell_type": "code",
   "execution_count": null,
   "id": "ed2b81e1",
   "metadata": {},
   "outputs": [],
   "source": [
    "for k in range(3):\n",
    "    gci(t_step, diagonal_association=evolution_oracle_diagonal_target)\n",
    "    dbi(t_step, d = evolution_oracle_diagonal_target.h.dense.matrix)\n",
    "    print(norm( dbi.h.exp(t_step) - u_frame_shifted))"
   ]
  },
  {
   "cell_type": "code",
   "execution_count": null,
   "id": "15d96e82",
   "metadata": {},
   "outputs": [],
   "source": []
  },
  {
   "cell_type": "code",
   "execution_count": null,
   "id": "3fdf49bd",
   "metadata": {},
   "outputs": [],
   "source": []
  },
  {
   "cell_type": "code",
   "execution_count": null,
   "id": "9130482b",
   "metadata": {},
   "outputs": [],
   "source": [
    "gci.iterated_hamiltonian_evolution_oracle.mode_evolution_oracle = EvolutionOracleType.hamiltonian_simulation"
   ]
  },
  {
   "cell_type": "code",
   "execution_count": null,
   "id": "de46b823",
   "metadata": {},
   "outputs": [],
   "source": [
    "gci.iterated_hamiltonian_evolution_oracle.mode_evolution_oracle = EvolutionOracleType.numerical\n",
    "gc_numpy = gci.group_commutator( np.sqrt(t_step),\n",
    "                                             diagonal_association_evolution_oracle= EvolutionOracle(d_0, \"D0\",mode_evolution_oracle=EvolutionOracleType.numerical))"
   ]
  },
  {
   "cell_type": "code",
   "execution_count": null,
   "id": "d4f78e3a",
   "metadata": {},
   "outputs": [],
   "source": []
  },
  {
   "cell_type": "code",
   "execution_count": null,
   "id": "e4d23962",
   "metadata": {},
   "outputs": [],
   "source": [
    "## Test more fancy functionalities\n",
    "input_hamiltonian_evolution_oracle_hamiltonian_simulation.please_be_verbose = False\n",
    "gci = GroupCommutatorIterationWithEvolutionOracles( deepcopy(input_hamiltonian_evolution_oracle_hamiltonian_simulation ))\n",
    "d_ev =  EvolutionOracle(d_0, \"D0\",mode_evolution_oracle=EvolutionOracleType.hamiltonian_simulation)\n",
    "\n",
    "gci.iterated_hamiltonian_evolution_oracle.mode_evolution_oracle = EvolutionOracleType.hamiltonian_simulation\n",
    "query_list = gci.group_commutator( np.sqrt(t_step),\n",
    "                                             diagonal_association_evolution_oracle= d_ev )\n",
    "\n",
    "norm(query_list['forwards'].unitary() -query_list['backwards'].unitary().conj().T)\n",
    "\n",
    "\n"
   ]
  },
  {
   "cell_type": "code",
   "execution_count": null,
   "id": "2e69dc0b",
   "metadata": {},
   "outputs": [],
   "source": [
    "norm(query_list['forwards'] -query_list['backwards'].T.conj())"
   ]
  },
  {
   "cell_type": "code",
   "execution_count": null,
   "id": "bfee7994",
   "metadata": {},
   "outputs": [],
   "source": [
    "#Test file entry\n",
    "u = gci.iterated_hamiltonian_evolution_oracle.circuit( np.sqrt(t_step)).unitary()\n",
    "u2 = gci.iterated_hamiltonian_evolution_oracle.circuit( -np.sqrt(t_step)).unitary()\n",
    "norm(u-u2.T.conj())"
   ]
  },
  {
   "cell_type": "code",
   "execution_count": null,
   "id": "527bb789",
   "metadata": {},
   "outputs": [],
   "source": [
    "d_0.mode_evolution_oracle = EvolutionOracleType.text_strings\n",
    "gci.iterated_hamiltonian_evolution_oracle.mode_evolution_oracle = EvolutionOracleType.text_strings\n",
    "query_list = gci.group_commutator( np.sqrt(t_step*2),\n",
    "             diagonal_association_evolution_oracle= EvolutionOracle(d_0, \"D0\"))\n",
    "\n",
    "\n",
    "query_list['forwards']"
   ]
  }
 ],
 "metadata": {
  "kernelspec": {
   "display_name": "Python 3 (ipykernel)",
   "language": "python",
   "name": "python3"
  },
  "language_info": {
   "codemirror_mode": {
    "name": "ipython",
    "version": 3
   },
   "file_extension": ".py",
   "mimetype": "text/x-python",
   "name": "python",
   "nbconvert_exporter": "python",
   "pygments_lexer": "ipython3",
   "version": "3.10.12"
  }
 },
 "nbformat": 4,
 "nbformat_minor": 5
}
