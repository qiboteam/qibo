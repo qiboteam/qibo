{
 "cells": [
  {
   "cell_type": "markdown",
   "id": "2dae9ffe",
   "metadata": {},
   "source": [
    "## This compares to DoubleBracketIteration whenever possible"
   ]
  },
  {
   "cell_type": "code",
   "execution_count": 1,
   "id": "b161521d",
   "metadata": {},
   "outputs": [],
   "source": [
    "import inspect\n",
    "import sys\n",
    "sys.path.append(\"../../tests\")\n",
    "from test_models_dbi import *\n",
    "def print_function_source_code( func ):\n",
    "    out = inspect.getsourcelines(func)  \n",
    "    from functools import reduce\n",
    "    print(reduce(str.__add__, out[0]))"
   ]
  },
  {
   "cell_type": "markdown",
   "id": "0fc17c2d",
   "metadata": {},
   "source": [
    "## Check the GC bound is valid\n",
    "\n",
    "The bound is $$||e^{-[D,H]}-GC||\\le s^{3/2}(||[H,[D,H]||+||[D,[D,H]]||$$\n"
   ]
  },
  {
   "cell_type": "code",
   "execution_count": 2,
   "id": "8ecce261",
   "metadata": {
    "scrolled": true
   },
   "outputs": [
    {
     "name": "stdout",
     "output_type": "stream",
     "text": [
      "@pytest.mark.parametrize(\"nqubits\", [3])\n",
      "def test_double_bracket_iteration_eval_dbr_unitary(backend, nqubits):\n",
      "    r\"\"\"The bound is $$||e^{-[D,H]}-GC||\\le s^{3/2}(||[H,[D,H]||+||[D,[D,H]]||$$\"\"\"\n",
      "    h0 = random_hermitian(2**nqubits, backend=backend)\n",
      "    d = backend.cast(np.diag(np.diag(backend.to_numpy(h0))))\n",
      "    dbi = DoubleBracketIteration(\n",
      "        Hamiltonian(nqubits, h0, backend=backend),\n",
      "        mode=DoubleBracketGeneratorType.group_commutator,\n",
      "    )\n",
      "\n",
      "    for s in np.linspace(0.001, 0.01, NSTEPS):\n",
      "        u = dbi.eval_dbr_unitary(\n",
      "            s, d=d, mode=DoubleBracketGeneratorType.single_commutator\n",
      "        )\n",
      "        v = dbi.eval_dbr_unitary(\n",
      "            s, d=d, mode=DoubleBracketGeneratorType.group_commutator\n",
      "        )\n",
      "\n",
      "        assert np.linalg.norm(u - v) < 10 * s**1.49 * (\n",
      "            np.linalg.norm(h0) + np.linalg.norm(d)\n",
      "        ) * np.linalg.norm(h0) * np.linalg.norm(d)\n",
      "\n"
     ]
    }
   ],
   "source": [
    "print_function_source_code(test_double_bracket_iteration_eval_dbr_unitary)"
   ]
  },
  {
   "cell_type": "code",
   "execution_count": 3,
   "id": "950eef89",
   "metadata": {},
   "outputs": [
    {
     "name": "stderr",
     "output_type": "stream",
     "text": [
      "[Qibo 0.2.7|INFO|2024-04-06 16:30:47]: Using numpy backend on /CPU:0\n"
     ]
    }
   ],
   "source": [
    "import qibo\n",
    "backend = qibo.backends.construct_backend(\"numpy\")\n",
    "qibo.set_backend(\"numpy\")\n",
    "nqubits = 3"
   ]
  },
  {
   "cell_type": "code",
   "execution_count": 4,
   "id": "bcfab105",
   "metadata": {
    "scrolled": true
   },
   "outputs": [],
   "source": [
    "test_double_bracket_iteration_eval_dbr_unitary(backend, nqubits)"
   ]
  },
  {
   "cell_type": "markdown",
   "id": "70ac58a2",
   "metadata": {},
   "source": [
    "# Check the convergence of the Trotter-Suzuki Hamiltonian simulation oracle\n"
   ]
  },
  {
   "cell_type": "code",
   "execution_count": 5,
   "id": "54efc9de",
   "metadata": {},
   "outputs": [
    {
     "name": "stdout",
     "output_type": "stream",
     "text": [
      "@pytest.mark.parametrize(\"nqubits\", [3])\n",
      "def test_dbi_evolution_oracle(backend, nqubits, t_step, eps):\n",
      "    from numpy.linalg import norm\n",
      "\n",
      "    from qibo import symbols\n",
      "    from qibo.hamiltonians import SymbolicHamiltonian\n",
      "\n",
      "    h_x = SymbolicHamiltonian(\n",
      "        symbols.X(0)\n",
      "        + symbols.Z(0) * symbols.X(1)\n",
      "        + symbols.Y(2)\n",
      "        + symbols.Y(1) * symbols.Y(2),\n",
      "        nqubits=3,\n",
      "    )\n",
      "    d_0 = SymbolicHamiltonian(symbols.Z(0), nqubits=3)\n",
      "    h_input = h_x + d_0\n",
      "\n",
      "    evolution_oracle = EvolutionOracle(\n",
      "        h_input, \"ZX\", mode_evolution_oracle=EvolutionOracleType.hamiltonian_simulation\n",
      "    )\n",
      "\n",
      "    evolution_oracle.eps_trottersuzuki = eps\n",
      "\n",
      "    U_hamiltonian_simulation = evolution_oracle.circuit(t_step).unitary()\n",
      "    V_target = h_input.exp(t_step)\n",
      "\n",
      "    assert norm(U_hamiltonian_simulation - V_target) < eps\n",
      "\n"
     ]
    }
   ],
   "source": [
    "print_function_source_code(test_dbi_evolution_oracle)"
   ]
  },
  {
   "cell_type": "code",
   "execution_count": 6,
   "id": "69456994",
   "metadata": {},
   "outputs": [
    {
     "name": "stderr",
     "output_type": "stream",
     "text": [
      "[Qibo 0.2.7|WARNING|2024-04-06 16:30:47]: Calculating the dense form of a symbolic Hamiltonian. This operation is memory inefficient.\n"
     ]
    }
   ],
   "source": [
    "test_dbi_evolution_oracle(backend,nqubits,1 ,1e-2)"
   ]
  },
  {
   "cell_type": "markdown",
   "id": "7f4d7a01",
   "metadata": {},
   "source": [
    "# Check the numerical mode of evolution oracles"
   ]
  },
  {
   "cell_type": "markdown",
   "id": "e81631c7",
   "metadata": {},
   "source": [
    "This is testing the following:\n",
    "\n",
    "`dbi` runs $V = e^{-sW}$ and rotates $H_1 = V^\\dagger H_0 V$.\n",
    "\n",
    "`gci` runs $Q = GC$ and rotates $J_1 = Q^\\dagger H_0 Q$.\n",
    "\n",
    "`dbi2` runs $R = GC$ and rotates $K_1 = R^\\dagger H_0 R$.\n",
    "\n",
    "We assert that gci and dbi2 should be within machine precision for the correct sorting.\n",
    "$$||J_1-K_1||\\le2 ||H_0||\\,||R-Q||\\le \\epsilon$$\n",
    "\n",
    "We assert that gci and dbi should be within the approximation bound of the GC\n",
    "$$||J_1-H_1||\\le2 ||H_0||\\,||R-V||\\le C ||H_0|| s^{3/2}$$\n"
   ]
  },
  {
   "cell_type": "code",
   "execution_count": 7,
   "id": "7e99a090",
   "metadata": {},
   "outputs": [
    {
     "ename": "SyntaxError",
     "evalue": "incomplete input (396783170.py, line 1)",
     "output_type": "error",
     "traceback": [
      "\u001b[0;36m  File \u001b[0;32m\"/tmp/ipykernel_26457/396783170.py\"\u001b[0;36m, line \u001b[0;32m1\u001b[0m\n\u001b[0;31m    def test_dbr_in_dbi_vs_gci_classes_numerical(t_step, eps):\u001b[0m\n\u001b[0m                                                              ^\u001b[0m\n\u001b[0;31mSyntaxError\u001b[0m\u001b[0;31m:\u001b[0m incomplete input\n"
     ]
    }
   ],
   "source": [
    "def test_dbr_in_dbi_vs_gci_classes_numerical(t_step, eps):"
   ]
  },
  {
   "cell_type": "code",
   "execution_count": 8,
   "id": "aa8e61b9",
   "metadata": {},
   "outputs": [],
   "source": [
    "t_step =0.1\n",
    "eps = 1e-2"
   ]
  },
  {
   "cell_type": "code",
   "execution_count": 9,
   "id": "df4e4b89",
   "metadata": {},
   "outputs": [
    {
     "name": "stderr",
     "output_type": "stream",
     "text": [
      "[Qibo 0.2.7|WARNING|2024-04-06 16:31:15]: Calculating the dense form of a symbolic Hamiltonian. This operation is memory inefficient.\n",
      "[Qibo 0.2.7|WARNING|2024-04-06 16:31:15]: Calculating the dense form of a symbolic Hamiltonian. This operation is memory inefficient.\n",
      "[Qibo 0.2.7|WARNING|2024-04-06 16:31:15]: Calculating the dense form of a symbolic Hamiltonian. This operation is memory inefficient.\n"
     ]
    },
    {
     "name": "stdout",
     "output_type": "stream",
     "text": [
      "2.4659812578464106\n",
      "0.0\n",
      "0.0\n",
      "2.4659812578464106\n",
      "start\n",
      "8.570566018546674e-16 2.069502835539648e-18\n",
      "None 7.102648668054811e-16\n",
      "None 2.069502835539648e-18\n",
      "stop\n",
      "[[ 4.02235598e-01-0.29764673j -2.53495292e-01+0.18758172j\n",
      "  -7.96539477e-02-0.15421646j  3.51159382e-01+0.5130534j\n",
      "  -6.64615932e-17-0.31397323j  3.23092247e-17+0.25955811j\n",
      "   1.35752717e-01+0.04415144j  2.15406665e-01-0.02782494j]\n",
      " [ 2.53495292e-01-0.18758172j  4.02235598e-01-0.29764673j\n",
      "  -3.51159382e-01-0.5130534j  -7.96539477e-02-0.15421646j\n",
      "   0.00000000e+00-0.25955811j -3.55618313e-17-0.31397323j\n",
      "  -2.15406665e-01+0.02782494j  1.35752717e-01+0.04415144j]\n",
      " [-3.51159382e-01-0.5293799j  -7.96539477e-02-0.08224007j\n",
      "   4.02235598e-01-0.29764673j -2.53495292e-01+0.18758172j\n",
      "  -1.35752717e-01+0.04415144j -2.15406665e-01-0.02782494j\n",
      "  -2.68882139e-17-0.36962312j -1.14925430e-17+0.17125522j]\n",
      " [ 7.96539477e-02+0.08224007j -3.51159382e-01-0.5293799j\n",
      "   2.53495292e-01-0.18758172j  4.02235598e-01-0.29764673j\n",
      "   2.15406665e-01+0.02782494j -1.35752717e-01+0.04415144j\n",
      "   6.93889390e-18-0.17125522j  0.00000000e+00-0.36962312j]\n",
      " [-9.97465999e-18-0.36962312j  4.11996826e-18+0.17125522j\n",
      "   1.35752717e-01+0.04415144j  2.15406665e-01-0.02782494j\n",
      "   4.02235598e-01+0.29764673j -2.53495292e-01-0.18758172j\n",
      "  -3.51159382e-01+0.5293799j  -7.96539477e-02+0.08224007j]\n",
      " [ 3.46944695e-18-0.17125522j -3.81639165e-17-0.36962312j\n",
      "  -2.15406665e-01+0.02782494j  1.35752717e-01+0.04415144j\n",
      "   2.53495292e-01+0.18758172j  4.02235598e-01+0.29764673j\n",
      "   7.96539477e-02-0.08224007j -3.51159382e-01+0.5293799j ]\n",
      " [-1.35752717e-01+0.04415144j -2.15406665e-01-0.02782494j\n",
      "   2.97071395e-17-0.31397323j -1.66967135e-17+0.25955811j\n",
      "  -7.96539477e-02+0.15421646j  3.51159382e-01-0.5130534j\n",
      "   4.02235598e-01+0.29764673j -2.53495292e-01-0.18758172j]\n",
      " [ 2.15406665e-01+0.02782494j -1.35752717e-01+0.04415144j\n",
      "   1.38777878e-17-0.25955811j  4.16333634e-17-0.31397323j\n",
      "  -3.51159382e-01+0.5130534j  -7.96539477e-02+0.15421646j\n",
      "   2.53495292e-01+0.18758172j  4.02235598e-01+0.29764673j]]\n",
      "9.664636718428507e-16\n"
     ]
    }
   ],
   "source": [
    "from numpy.linalg import norm\n",
    "h_x = SymbolicHamiltonian( symbols.X(0) + symbols.Z(0) * symbols.X(1) + symbols.Y(2) \n",
    "                          + symbols.Y(1) * symbols.Y(2), nqubits = 3 )\n",
    "d_0 = SymbolicHamiltonian(symbols.Z(0), nqubits = 3 )\n",
    "h_input = h_x + d_0 \n",
    "\n",
    "dbi = DoubleBracketIteration(deepcopy(h_input.dense))\n",
    "dbi.mode = DoubleBracketGeneratorType.single_commutator\n",
    "\n",
    "\n",
    "dbi2 = DoubleBracketIteration(deepcopy(h_input.dense))\n",
    "dbi2.mode = DoubleBracketGeneratorType.group_commutator\n",
    "\n",
    "V_dbi = dbi.eval_dbr_unitary(t_step, d=d_0.dense.matrix)\n",
    "R_dbi = dbi2.eval_dbr_unitary(t_step, d=d_0.dense.matrix)\n",
    "\n",
    "\n",
    "evolution_oracle = EvolutionOracle(h_input, \"ZX\",\n",
    "                    mode_evolution_oracle = EvolutionOracleType.numerical)    \n",
    "\n",
    "evolution_oracle_diagonal_target =  EvolutionOracle(d_0, \"D0\",\n",
    "           mode_evolution_oracle = EvolutionOracleType.numerical)\n",
    "\n",
    "gci = GroupCommutatorIterationWithEvolutionOracles( deepcopy(evolution_oracle ))\n",
    "#gci.mode_double_bracket_rotation = DoubleBracketRotationType.group_commutator\n",
    "\n",
    "unitary_gc_from_oracles = gci.group_commutator( np.sqrt(t_step), evolution_oracle_diagonal_target )   \n",
    "Q_gci = unitary_gc_from_oracles['forwards']\n",
    "\n",
    "assert norm(Q_gci.conj().T - unitary_gc_from_oracles['backwards']) < 1e-12\n",
    "h0_norm = np.linalg.norm(h_x.dense.matrix)\n",
    "d0_norm = np.linalg.norm(d_0.dense.matrix)\n",
    "assert norm(V_dbi - R_dbi) < 2 *t_step**1.49 * ( h0_norm + d0_norm ) * h0_norm * d0_norm"
   ]
  },
  {
   "cell_type": "code",
   "execution_count": 10,
   "id": "2b895267",
   "metadata": {},
   "outputs": [
    {
     "name": "stderr",
     "output_type": "stream",
     "text": [
      "/home/marek/.local/lib/python3.10/site-packages/matplotlib/projections/__init__.py:63: UserWarning: Unable to import Axes3D. This may be due to multiple versions of Matplotlib being installed (e.g. as a system package and as a pip package). As a result, the 3D projection is not available.\n",
      "  warnings.warn(\"Unable to import Axes3D. This may be due to multiple versions of \"\n"
     ]
    },
    {
     "data": {
      "text/plain": [
       "[<matplotlib.lines.Line2D at 0x7f8c4606e1d0>]"
      ]
     },
     "execution_count": 10,
     "metadata": {},
     "output_type": "execute_result"
    },
    {
     "data": {
      "image/png": "[encoded data removed]",
      "text/plain": [
       "<Figure size 432x288 with 1 Axes>"
      ]
     },
     "metadata": {
      "needs_background": "light"
     },
     "output_type": "display_data"
    }
   ],
   "source": [
    "import matplotlib.pyplot as plt\n",
    "norms  = []\n",
    "for r in np.linspace(1e-5,0.1,30):\n",
    "    V_dbi = dbi.eval_dbr_unitary(r, d=d_0.dense.matrix)\n",
    "    R_dbi = dbi2.eval_dbr_unitary(r, d=d_0.dense.matrix)\n",
    "    norms.append(norm(V_dbi.conj().T -  R_dbi))\n",
    "    \n",
    "plt.plot(np.linspace(1e-5,.1,30), [x**1.5*12 for x in np.linspace(1e-5,.1,30)])\n",
    "plt.plot(np.linspace(1e-5,.1,30),norms)"
   ]
  },
  {
   "cell_type": "code",
   "execution_count": 11,
   "id": "ec6361ca",
   "metadata": {},
   "outputs": [
    {
     "data": {
      "text/plain": [
       "[<matplotlib.lines.Line2D at 0x7f8c45f6eb60>]"
      ]
     },
     "execution_count": 11,
     "metadata": {},
     "output_type": "execute_result"
    },
    {
     "data": {
      "image/png": "[encoded data removed]",
      "text/plain": [
       "<Figure size 432x288 with 1 Axes>"
      ]
     },
     "metadata": {
      "needs_background": "light"
     },
     "output_type": "display_data"
    }
   ],
   "source": [
    "\n",
    "dbi = DoubleBracketIteration(deepcopy(h_input.dense))\n",
    "dbi.mode = DoubleBracketGeneratorType.single_commutator\n",
    "\n",
    "\n",
    "dbi2 = DoubleBracketIteration(deepcopy(h_input.dense))\n",
    "dbi2.mode = DoubleBracketGeneratorType.group_commutator\n",
    "\n",
    "import matplotlib.pyplot as plt\n",
    "norms  = []\n",
    "for r in np.linspace(1e-5,0.1,30):\n",
    "    dbi(r, d=d_0.dense.matrix)\n",
    "    dbi2(r, d=d_0.dense.matrix)\n",
    "    norms.append(norm(dbi.h.matrix- dbi2.h.matrix))\n",
    "    \n",
    "plt.plot(np.linspace(1e-5,.1,30), [x**1.5*1000 for x in np.linspace(1e-5,.1,30)])\n",
    "plt.plot(np.linspace(1e-5,.1,30),norms)"
   ]
  },
  {
   "cell_type": "code",
   "execution_count": null,
   "id": "b37cbc0e",
   "metadata": {},
   "outputs": [],
   "source": []
  },
  {
   "cell_type": "code",
   "execution_count": null,
   "id": "51f190d6",
   "metadata": {},
   "outputs": [],
   "source": []
  },
  {
   "cell_type": "code",
   "execution_count": 12,
   "id": "508d1f97",
   "metadata": {},
   "outputs": [
    {
     "data": {
      "text/plain": [
       "1.2900424090942901"
      ]
     },
     "execution_count": 12,
     "metadata": {},
     "output_type": "execute_result"
    }
   ],
   "source": [
    "norm(Q_gci.conj().T - R_dbi )"
   ]
  },
  {
   "cell_type": "code",
   "execution_count": 13,
   "id": "b2c1f105",
   "metadata": {},
   "outputs": [
    {
     "data": {
      "text/plain": [
       "1.7519139418638479"
      ]
     },
     "execution_count": 13,
     "metadata": {},
     "output_type": "execute_result"
    }
   ],
   "source": [
    "norm(Q_gci - R_dbi )"
   ]
  },
  {
   "cell_type": "code",
   "execution_count": 14,
   "id": "583ca695",
   "metadata": {},
   "outputs": [
    {
     "ename": "AssertionError",
     "evalue": "",
     "output_type": "error",
     "traceback": [
      "\u001b[0;31m---------------------------------------------------------------------------\u001b[0m",
      "\u001b[0;31mAssertionError\u001b[0m                            Traceback (most recent call last)",
      "\u001b[0;32m/tmp/ipykernel_26457/3167801605.py\u001b[0m in \u001b[0;36m<module>\u001b[0;34m\u001b[0m\n\u001b[0;32m----> 1\u001b[0;31m \u001b[0;32massert\u001b[0m \u001b[0mnorm\u001b[0m\u001b[0;34m(\u001b[0m\u001b[0mQ_gci\u001b[0m\u001b[0;34m.\u001b[0m\u001b[0mconj\u001b[0m\u001b[0;34m(\u001b[0m\u001b[0;34m)\u001b[0m\u001b[0;34m.\u001b[0m\u001b[0mT\u001b[0m \u001b[0;34m-\u001b[0m \u001b[0mR_dbi\u001b[0m \u001b[0;34m)\u001b[0m \u001b[0;34m<\u001b[0m \u001b[0;36m5\u001b[0m\u001b[0;34m*\u001b[0m\u001b[0meps\u001b[0m\u001b[0;34m\u001b[0m\u001b[0;34m\u001b[0m\u001b[0m\n\u001b[0m\u001b[1;32m      2\u001b[0m \u001b[0;34m\u001b[0m\u001b[0m\n\u001b[1;32m      3\u001b[0m \u001b[0mdbi\u001b[0m\u001b[0;34m(\u001b[0m\u001b[0mt_step\u001b[0m\u001b[0;34m,\u001b[0m \u001b[0md\u001b[0m \u001b[0;34m=\u001b[0m \u001b[0md_0\u001b[0m\u001b[0;34m.\u001b[0m\u001b[0mdense\u001b[0m\u001b[0;34m.\u001b[0m\u001b[0mmatrix\u001b[0m \u001b[0;34m)\u001b[0m\u001b[0;34m\u001b[0m\u001b[0;34m\u001b[0m\u001b[0m\n\u001b[1;32m      4\u001b[0m \u001b[0mh_1\u001b[0m \u001b[0;34m=\u001b[0m \u001b[0mdbi\u001b[0m\u001b[0;34m.\u001b[0m\u001b[0mh\u001b[0m\u001b[0;34m.\u001b[0m\u001b[0mmatrix\u001b[0m\u001b[0;34m\u001b[0m\u001b[0;34m\u001b[0m\u001b[0m\n\u001b[1;32m      5\u001b[0m \u001b[0mdbi2\u001b[0m\u001b[0;34m(\u001b[0m\u001b[0mt_step\u001b[0m\u001b[0;34m,\u001b[0m \u001b[0md\u001b[0m \u001b[0;34m=\u001b[0m \u001b[0md_0\u001b[0m\u001b[0;34m.\u001b[0m\u001b[0mdense\u001b[0m\u001b[0;34m.\u001b[0m\u001b[0mmatrix\u001b[0m \u001b[0;34m)\u001b[0m\u001b[0;34m\u001b[0m\u001b[0;34m\u001b[0m\u001b[0m\n",
      "\u001b[0;31mAssertionError\u001b[0m: "
     ]
    }
   ],
   "source": [
    "assert norm(Q_gci.conj().T - R_dbi ) < 5*eps\n",
    "\n",
    "dbi(t_step, d = d_0.dense.matrix )\n",
    "h_1 = dbi.h.matrix\n",
    "dbi2(t_step, d = d_0.dense.matrix )\n",
    "k_1 = dbi2.h.matirix\n",
    "gci(t_step, d = d_0.dense.matrix )\n",
    "j_1 = gci.iterated_hamiltonian_evolution_oracle.h\n",
    "print(norm(j_1-k_1))\n",
    "print(norm(V_dbi-Q_dbi))\n",
    "print(norm(h_1-k_1))    \n",
    "print(norm(V_dbi-R_dbi))"
   ]
  },
  {
   "cell_type": "code",
   "execution_count": 15,
   "id": "8a03c568",
   "metadata": {
    "scrolled": true
   },
   "outputs": [
    {
     "ename": "NameError",
     "evalue": "name 'test_dbr_in_dbi_vs_gci_classes_numerical' is not defined",
     "output_type": "error",
     "traceback": [
      "\u001b[0;31m---------------------------------------------------------------------------\u001b[0m",
      "\u001b[0;31mNameError\u001b[0m                                 Traceback (most recent call last)",
      "\u001b[0;32m/tmp/ipykernel_26457/2555506132.py\u001b[0m in \u001b[0;36m<module>\u001b[0;34m\u001b[0m\n\u001b[0;32m----> 1\u001b[0;31m \u001b[0mtest_dbr_in_dbi_vs_gci_classes_numerical\u001b[0m\u001b[0;34m(\u001b[0m\u001b[0;36m.1\u001b[0m\u001b[0;34m,\u001b[0m \u001b[0;36m1e-5\u001b[0m\u001b[0;34m)\u001b[0m\u001b[0;34m\u001b[0m\u001b[0;34m\u001b[0m\u001b[0m\n\u001b[0m",
      "\u001b[0;31mNameError\u001b[0m: name 'test_dbr_in_dbi_vs_gci_classes_numerical' is not defined"
     ]
    }
   ],
   "source": [
    "test_dbr_in_dbi_vs_gci_classes_numerical(.1, 1e-5)"
   ]
  },
  {
   "cell_type": "code",
   "execution_count": 16,
   "id": "4d9fa85d",
   "metadata": {},
   "outputs": [
    {
     "data": {
      "text/plain": [
       "numpy.ndarray"
      ]
     },
     "execution_count": 16,
     "metadata": {},
     "output_type": "execute_result"
    }
   ],
   "source": [
    "type(np.array([2]))"
   ]
  },
  {
   "cell_type": "markdown",
   "id": "72d81f56",
   "metadata": {},
   "source": [
    "# Show that double bracket iteration group commutator and dbi converge for small s BHMM\n",
    "\n",
    "This is testing the following:\n",
    "\n",
    "`dbi` runs $V = e^{-sW}$ and rotates $H_1 = V^\\dagger H_0 V$.\n",
    "\n",
    "`gci` runs $Q = GC$ and rotates $J_1 = Q^\\dagger H_0 Q$.\n",
    "\n",
    "`dbi2` runs $R = GC$ and rotates $K_1 = R^\\dagger H_0 R$.\n",
    "\n",
    "We assert that gci and dbi2 should be within machine precision for the correct sorting.\n",
    "$$||J_1-K_1||\\le2 ||H_0||\\,||R-Q||\\le \\epsilon$$\n",
    "\n",
    "We assert that gci and dbi should be within the approximation bound of the GC\n",
    "$$||J_1-H_1||\\le2 ||H_0||\\,||R-V||\\le C ||H_0|| s^{3/2}$$\n"
   ]
  },
  {
   "cell_type": "code",
   "execution_count": 17,
   "id": "e1afea06",
   "metadata": {},
   "outputs": [
    {
     "name": "stderr",
     "output_type": "stream",
     "text": [
      "[Qibo 0.2.7|WARNING|2024-04-06 16:31:25]: Calculating the dense form of a symbolic Hamiltonian. This operation is memory inefficient.\n",
      "[Qibo 0.2.7|WARNING|2024-04-06 16:31:25]: Calculating the dense form of a symbolic Hamiltonian. This operation is memory inefficient.\n"
     ]
    },
    {
     "data": {
      "text/plain": [
       "[<matplotlib.lines.Line2D at 0x7f8c46025570>]"
      ]
     },
     "execution_count": 17,
     "metadata": {},
     "output_type": "execute_result"
    },
    {
     "data": {
      "image/png": "[encoded data removed]",
      "text/plain": [
       "<Figure size 432x288 with 1 Axes>"
      ]
     },
     "metadata": {
      "needs_background": "light"
     },
     "output_type": "display_data"
    }
   ],
   "source": [
    "t_step = 0.1\n",
    "\n",
    "h_x = SymbolicHamiltonian( symbols.X(0) + symbols.Z(0) * symbols.X(1) + symbols.Y(2) \n",
    "                          + symbols.Y(1) * symbols.Y(2), nqubits = 3 )\n",
    "d_0 = SymbolicHamiltonian(symbols.Z(0), nqubits = 3 )\n",
    "h_input = h_x + d_0    \n",
    "\n",
    "dbi = DoubleBracketIteration(deepcopy(h_input.dense))\n",
    "dbi.mode = DoubleBracketGeneratorType.group_commutator\n",
    "dbi(t_step, d = -d_0.dense.matrix )\n",
    "\n",
    "dbi2 = DoubleBracketIteration(deepcopy(h_input.dense))\n",
    "dbi2.mode = DoubleBracketGeneratorType.single_commutator\n",
    "dbi2(t_step, d = d_0.dense.matrix )\n",
    "\n",
    "norms = []\n",
    "\n",
    "sigma_decrease_dbi = []\n",
    "sigma_decrease_gci = []\n",
    "for r in range(30):\n",
    "    dbi(t_step, d=-d_0.dense.matrix)\n",
    "    dbi2(t_step, d=d_0.dense.matrix)\n",
    "    sigma_decrease_dbi.append(dbi.off_diagonal_norm)\n",
    "    \n",
    "    sigma_decrease_gci.append(dbi2.off_diagonal_norm)\n",
    "    norms.append(norm(dbi.h.matrix- dbi2.h.matrix))\n",
    "    \n",
    "    \n",
    "plt.plot(norms)"
   ]
  },
  {
   "cell_type": "code",
   "execution_count": 18,
   "id": "02789b1e",
   "metadata": {},
   "outputs": [
    {
     "data": {
      "text/plain": [
       "[<matplotlib.lines.Line2D at 0x7f8c45e9ce80>]"
      ]
     },
     "execution_count": 18,
     "metadata": {},
     "output_type": "execute_result"
    },
    {
     "data": {
      "image/png": "[encoded data removed]",
      "text/plain": [
       "<Figure size 432x288 with 1 Axes>"
      ]
     },
     "metadata": {
      "needs_background": "light"
     },
     "output_type": "display_data"
    }
   ],
   "source": [
    "plt.plot(sigma_decrease_dbi)\n",
    "plt.plot(sigma_decrease_gci)"
   ]
  },
  {
   "cell_type": "code",
   "execution_count": 19,
   "id": "4efc5549",
   "metadata": {},
   "outputs": [
    {
     "ename": "AttributeError",
     "evalue": "group_commutator_other_sorting",
     "output_type": "error",
     "traceback": [
      "\u001b[0;31m---------------------------------------------------------------------------\u001b[0m",
      "\u001b[0;31mAttributeError\u001b[0m                            Traceback (most recent call last)",
      "\u001b[0;32m/tmp/ipykernel_26457/4112881237.py\u001b[0m in \u001b[0;36m<module>\u001b[0;34m\u001b[0m\n\u001b[1;32m      7\u001b[0m \u001b[0;34m\u001b[0m\u001b[0m\n\u001b[1;32m      8\u001b[0m \u001b[0mgci\u001b[0m \u001b[0;34m=\u001b[0m \u001b[0mGroupCommutatorIterationWithEvolutionOracles\u001b[0m\u001b[0;34m(\u001b[0m \u001b[0mdeepcopy\u001b[0m\u001b[0;34m(\u001b[0m\u001b[0mevolution_oracle\u001b[0m \u001b[0;34m)\u001b[0m\u001b[0;34m)\u001b[0m\u001b[0;34m\u001b[0m\u001b[0;34m\u001b[0m\u001b[0m\n\u001b[0;32m----> 9\u001b[0;31m \u001b[0mgci\u001b[0m\u001b[0;34m.\u001b[0m\u001b[0mmode_double_bracket_rotation\u001b[0m \u001b[0;34m=\u001b[0m \u001b[0mDoubleBracketRotationType\u001b[0m\u001b[0;34m.\u001b[0m\u001b[0mgroup_commutator_other_sorting\u001b[0m\u001b[0;34m\u001b[0m\u001b[0;34m\u001b[0m\u001b[0m\n\u001b[0m\u001b[1;32m     10\u001b[0m \u001b[0;34m\u001b[0m\u001b[0m\n\u001b[1;32m     11\u001b[0m \u001b[0;32massert\u001b[0m \u001b[0mnorm\u001b[0m\u001b[0;34m(\u001b[0m\u001b[0mgci\u001b[0m\u001b[0;34m.\u001b[0m\u001b[0mh\u001b[0m\u001b[0;34m.\u001b[0m\u001b[0mmatrix\u001b[0m \u001b[0;34m-\u001b[0m \u001b[0mdbi\u001b[0m\u001b[0;34m.\u001b[0m\u001b[0mh\u001b[0m\u001b[0;34m.\u001b[0m\u001b[0mmatrix\u001b[0m\u001b[0;34m)\u001b[0m \u001b[0;34m<\u001b[0m \u001b[0;36m1e-12\u001b[0m\u001b[0;34m\u001b[0m\u001b[0;34m\u001b[0m\u001b[0m\n",
      "\u001b[0;32m/usr/lib/python3.10/enum.py\u001b[0m in \u001b[0;36m__getattr__\u001b[0;34m(cls, name)\u001b[0m\n\u001b[1;32m    435\u001b[0m             \u001b[0;32mreturn\u001b[0m \u001b[0mcls\u001b[0m\u001b[0;34m.\u001b[0m\u001b[0m_member_map_\u001b[0m\u001b[0;34m[\u001b[0m\u001b[0mname\u001b[0m\u001b[0;34m]\u001b[0m\u001b[0;34m\u001b[0m\u001b[0;34m\u001b[0m\u001b[0m\n\u001b[1;32m    436\u001b[0m         \u001b[0;32mexcept\u001b[0m \u001b[0mKeyError\u001b[0m\u001b[0;34m:\u001b[0m\u001b[0;34m\u001b[0m\u001b[0;34m\u001b[0m\u001b[0m\n\u001b[0;32m--> 437\u001b[0;31m             \u001b[0;32mraise\u001b[0m \u001b[0mAttributeError\u001b[0m\u001b[0;34m(\u001b[0m\u001b[0mname\u001b[0m\u001b[0;34m)\u001b[0m \u001b[0;32mfrom\u001b[0m \u001b[0;32mNone\u001b[0m\u001b[0;34m\u001b[0m\u001b[0;34m\u001b[0m\u001b[0m\n\u001b[0m\u001b[1;32m    438\u001b[0m \u001b[0;34m\u001b[0m\u001b[0m\n\u001b[1;32m    439\u001b[0m     \u001b[0;32mdef\u001b[0m \u001b[0m__getitem__\u001b[0m\u001b[0;34m(\u001b[0m\u001b[0mcls\u001b[0m\u001b[0;34m,\u001b[0m \u001b[0mname\u001b[0m\u001b[0;34m)\u001b[0m\u001b[0;34m:\u001b[0m\u001b[0;34m\u001b[0m\u001b[0;34m\u001b[0m\u001b[0m\n",
      "\u001b[0;31mAttributeError\u001b[0m: group_commutator_other_sorting"
     ]
    }
   ],
   "source": [
    "evolution_oracle = EvolutionOracle(h_input, \"ZX\",\n",
    "                    mode_evolution_oracle = EvolutionOracleType.hamiltonian_simulation)    \n",
    "evolution_oracle.eps_trottersuzuki = eps\n",
    "\n",
    "evolution_oracle_diagonal_target =  EvolutionOracle(d_0, \"D0\",\n",
    "           mode_evolution_oracle=EvolutionOracleType.hamiltonian_simulation)\n",
    "\n",
    "gci = GroupCommutatorIterationWithEvolutionOracles( deepcopy(evolution_oracle ))\n",
    "gci.mode_double_bracket_rotation = DoubleBracketRotationType.group_commutator_other_sorting\n",
    "\n",
    "assert norm(gci.h.matrix - dbi.h.matrix) < 1e-12   \n",
    "assert norm(gci.h.matrix - dbi2.h.matrix) < 20 * norm(h_input) * t_step\n",
    "\n",
    "dbi(t_step, d = d_0.dense.matrix )    \n",
    "dbi2(t_step, d = d_0.dense.matrix )    \n",
    "gci(t_step, diagonal_association=evolution_oracle_diagonal_target)  \n",
    "assert norm(gci.h.matrix - dbi.h.matrix) < 1e-12   \n",
    "assert norm(gci.h.matrix - dbi2.h.matrix) < (20 * norm(h_input) * t_step)**2"
   ]
  },
  {
   "cell_type": "code",
   "execution_count": null,
   "id": "0f86c490",
   "metadata": {},
   "outputs": [],
   "source": [
    "from double_bracket import *\n",
    "\n",
    "def test_dbi_vs_gci(t_step, eps):\n",
    "    if t_step > 1:\n",
    "        t_step = 0.1\n",
    "        \n",
    "    h_x = SymbolicHamiltonian( symbols.X(0) + symbols.Z(0) * symbols.X(1) + symbols.Y(2) \n",
    "                              + symbols.Y(1) * symbols.Y(2), nqubits = 3 )\n",
    "    d_0 = SymbolicHamiltonian(symbols.Z(0), nqubits = 3 )\n",
    "    h_input = h_x + d_0    \n",
    "\n",
    "    dbi = DoubleBracketIteration(deepcopy(h_input.dense))\n",
    "    dbi.mode = DoubleBracketGeneratorType.group_commutator\n",
    "    dbi(t_step, d = d_0.dense.matrix )\n",
    "    \n",
    "    dbi2 = DoubleBracketIteration(deepcopy(h_input.dense))\n",
    "    dbi2.mode = DoubleBracketGeneratorType.single_commutator\n",
    "    dbi2(t_step, d = d_0.dense.matrix )\n",
    "    \n",
    "    evolution_oracle = EvolutionOracle(h_input, \"ZX\",\n",
    "                        mode_evolution_oracle = EvolutionOracleType.hamiltonian_simulation)    \n",
    "    evolution_oracle.eps_trottersuzuki = eps\n",
    "    \n",
    "    evolution_oracle_diagonal_target =  EvolutionOracle(d_0, \"D0\",\n",
    "               mode_evolution_oracle=EvolutionOracleType.hamiltonian_simulation)\n",
    "    \n",
    "    gci = GroupCommutatorIterationWithEvolutionOracles( deepcopy(evolution_oracle ))\n",
    "    gci.mode_double_bracket_rotation = DoubleBracketRotationType.group_commutator_other_sorting\n",
    "    \n",
    "    assert norm(gci.h.matrix - dbi.h.matrix) < 1e-12   \n",
    "    assert norm(gci.h.matrix - dbi2.h.matrix) < 20 * norm(h_input) * t_step\n",
    "    \n",
    "    dbi(t_step, d = d_0.dense.matrix )    \n",
    "    dbi2(t_step, d = d_0.dense.matrix )    \n",
    "    gci(t_step, diagonal_association=evolution_oracle_diagonal_target)  \n",
    "    assert norm(gci.h.matrix - dbi.h.matrix) < 1e-12   \n",
    "    assert norm(gci.h.matrix - dbi2.h.matrix) < (20 * norm(h_input) * t_step)**2\n",
    "    \n",
    "    \n",
    "test_dbi_vs_gci(.1, 1e-5)"
   ]
  },
  {
   "cell_type": "markdown",
   "id": "8db582f1",
   "metadata": {},
   "source": [
    "# Show that double bracket iteration group commutator and gci are numerically exact\n",
    "\n"
   ]
  },
  {
   "cell_type": "markdown",
   "id": "5381e44f",
   "metadata": {},
   "source": [
    "# Show that double bracket iteration  and gci gc and gc_reduced converge for small s BHMM\n",
    "\n",
    "\n"
   ]
  },
  {
   "cell_type": "code",
   "execution_count": null,
   "id": "2e97f0c6",
   "metadata": {},
   "outputs": [],
   "source": []
  },
  {
   "cell_type": "code",
   "execution_count": null,
   "id": "61699387",
   "metadata": {},
   "outputs": [],
   "source": [
    "dbi(t_step, d = d_0.dense.matrix)\n"
   ]
  },
  {
   "cell_type": "markdown",
   "id": "09ab7a86",
   "metadata": {},
   "source": [
    "#### 2. Evolution oracle hamiltonian simulation\n"
   ]
  },
  {
   "cell_type": "code",
   "execution_count": null,
   "id": "c9a9b4ef",
   "metadata": {},
   "outputs": [],
   "source": [
    "evolution_oracle_hamiltonian_simulation = EvolutionOracle(deepcopy(h_input), \"ZX\",\n",
    "                               mode_evolution_oracle = EvolutionOracleType.hamiltonian_simulation)\n"
   ]
  },
  {
   "cell_type": "code",
   "execution_count": null,
   "id": "3a4b6a36",
   "metadata": {},
   "outputs": [],
   "source": [
    "evolution_oracle_diagonal_target =  EvolutionOracle(d_0, \"D0\",\n",
    "               mode_evolution_oracle=EvolutionOracleType.hamiltonian_simulation)\n",
    "\n"
   ]
  },
  {
   "cell_type": "code",
   "execution_count": null,
   "id": "e20f72df",
   "metadata": {},
   "outputs": [],
   "source": [
    "t_step = 1\n",
    "def check_hs_eps(eps):\n",
    "    evolution_oracle_hamiltonian_simulation.eps_trottersuzuki = eps\n",
    "    U_hamiltonian_simulation = evolution_oracle_hamiltonian_simulation.circuit(t_step).unitary()\n",
    "    V_target = h_input.exp(t_step)\n",
    "    print(eps,norm(U_hamiltonian_simulation-V_target))"
   ]
  },
  {
   "cell_type": "code",
   "execution_count": null,
   "id": "32f515a0",
   "metadata": {},
   "outputs": [],
   "source": [
    "check_hs_eps(0.1)"
   ]
  },
  {
   "cell_type": "code",
   "execution_count": null,
   "id": "3640b862",
   "metadata": {},
   "outputs": [],
   "source": [
    "check_hs_eps(.001)"
   ]
  },
  {
   "cell_type": "code",
   "execution_count": null,
   "id": "51de5892",
   "metadata": {},
   "outputs": [],
   "source": [
    "check_hs_eps(1e-4)"
   ]
  },
  {
   "cell_type": "code",
   "execution_count": null,
   "id": "acb49e83",
   "metadata": {},
   "outputs": [],
   "source": []
  },
  {
   "cell_type": "code",
   "execution_count": null,
   "id": "da441e93",
   "metadata": {},
   "outputs": [],
   "source": [
    "\n",
    "gci = GroupCommutatorIterationWithEvolutionOracles( deepcopy(evolution_oracle_hamiltonian_simulation ))\n",
    "gci.mode_double_bracket_rotation = DoubleBracketRotationType.group_commutator_other_sorting\n"
   ]
  },
  {
   "cell_type": "code",
   "execution_count": null,
   "id": "26b4c66a",
   "metadata": {},
   "outputs": [],
   "source": [
    "gci.iterated_hamiltonian_evolution_oracle.h"
   ]
  },
  {
   "cell_type": "code",
   "execution_count": null,
   "id": "72bdc7a7",
   "metadata": {},
   "outputs": [],
   "source": [
    "unitary_gc_from_oracles = gci.group_commutator( np.sqrt(t_step),\n",
    "           diagonal_association_evolution_oracle = evolution_oracle_diagonal_target )"
   ]
  },
  {
   "cell_type": "code",
   "execution_count": null,
   "id": "6635da98",
   "metadata": {},
   "outputs": [],
   "source": [
    "for a in DoubleBracketRotationType:\n",
    "    print(a.name)"
   ]
  },
  {
   "cell_type": "code",
   "execution_count": null,
   "id": "d4407257",
   "metadata": {},
   "outputs": [],
   "source": [
    "def test_gc_numerical_vs_circuit(eps):\n",
    "    gci.iterated_hamiltonian_evolution_oracle.eps_trottersuzuki = eps\n",
    "    evolution_oracle_diagonal_target.eps_trottersuzuki = eps\n",
    "    \n",
    "    gci.iterated_hamiltonian_evolution_oracle.please_be_verbose = False\n",
    "    evolution_oracle_diagonal_target.please_be_verbose = False\n",
    "    \n",
    "\n",
    "    gci.mode_double_bracket_rotation = DoubleBracketRotationType.group_commutator_reduced\n",
    "\n",
    "    gci.iterated_hamiltonian_evolution_oracle.mode_evolution_oracle = EvolutionOracleType.numerical\n",
    "    evolution_oracle_diagonal_target.mode_evolution_oracle  = EvolutionOracleType.numerical\n",
    "\n",
    "    unitary_gc_from_oracles = gci.group_commutator( np.sqrt(t_step),\n",
    "           diagonal_association_evolution_oracle = evolution_oracle_diagonal_target )\n",
    "\n",
    "    unitary_gc_existing = wrapper_gc(dbi, np.sqrt(t_step),d_0.dense.matrix)\n",
    "\n",
    "    bckwd = unitary_gc_from_oracles['backwards']\n",
    "    fwd = unitary_gc_from_oracles['forwards']\n",
    "\n",
    "    e1 = gci.iterated_hamiltonian_evolution_oracle.circuit(np.sqrt(t_step))\n",
    "    e2 = evolution_oracle_diagonal_target.circuit(np.sqrt(t_step))\n",
    "\n",
    "    gci.iterated_hamiltonian_evolution_oracle.mode_evolution_oracle = EvolutionOracleType.hamiltonian_simulation\n",
    "    evolution_oracle_diagonal_target.mode_evolution_oracle  = EvolutionOracleType.hamiltonian_simulation\n",
    "\n",
    "    unitary_gc_from_oracles = gci.group_commutator( np.sqrt(t_step),\n",
    "           diagonal_association_evolution_oracle = evolution_oracle_diagonal_target )\n",
    "\n",
    "    unitary_gc_existing = wrapper_gc(dbi, np.sqrt(t_step),d_0.dense.matrix)\n",
    "\n",
    "    bckwdhs = unitary_gc_from_oracles['backwards'].unitary()\n",
    "    fwdhs = unitary_gc_from_oracles['forwards'].unitary()\n",
    "\n",
    "    e1hs = gci.iterated_hamiltonian_evolution_oracle.circuit(np.sqrt(t_step)).unitary()\n",
    "    e2hs = evolution_oracle_diagonal_target.circuit(np.sqrt(t_step)).unitary()\n",
    "\n",
    "    print(\"e1:\", norm( e1hs-e1))\n",
    "    print(\"e2:\", norm(e2hs-e2))\n",
    "    print(\"Testing inversion forwards:\", norm(bckwd-bckwdhs))\n",
    "    print(\"Testing inversion backwards:\", norm(fwd - fwdhs))\n",
    "\n",
    "test_gc_numerical_vs_circuit(0.1)\n",
    "\n",
    "test_gc_numerical_vs_circuit(0.0001)"
   ]
  },
  {
   "cell_type": "code",
   "execution_count": null,
   "id": "2a173296",
   "metadata": {},
   "outputs": [],
   "source": [
    "def test_group_commutator_against_itself(gci, evolution_diagonal,eps = 0.0001):\n",
    "    gci.iterated_hamiltonian_evolution_oracle.eps_trottersuzuki = eps\n",
    "    evolution_oracle_diagonal_target.eps_trottersuzuki = eps\n",
    "    for s in np.linspace(0,1,5):\n",
    "        gci.iterated_hamiltonian_evolution_oracle.mode_evolution_oracle = EvolutionOracleType.hamiltonian_simulation\n",
    "        evolution_diagonal.mode_evolution_oracle = EvolutionOracleType.hamiltonian_simulation\n",
    "        gc_hs = gci.group_commutator(s,evolution_diagonal)\n",
    "        gci.iterated_hamiltonian_evolution_oracle.mode_evolution_oracle = EvolutionOracleType.numerical\n",
    "        evolution_diagonal.mode_evolution_oracle = EvolutionOracleType.numerical\n",
    "        gc_np = gci.group_commutator(s,evolution_diagonal)\n",
    "        print(norm(gc_np['forwards']-gc_hs['forwards'].unitary()))\n",
    "        print(norm(gc_np['backwards']-gc_hs['backwards'].unitary()))\n",
    "\n",
    "gci.mode_double_bracket_rotation = DoubleBracketRotationType.group_commutator        \n",
    "test_group_commutator_against_itself(gci, evolution_oracle_diagonal_target)\n",
    "\n",
    "gci.mode_double_bracket_rotation = DoubleBracketRotationType.group_commutator_other_sorting        \n",
    "test_group_commutator_against_itself(gci, evolution_oracle_diagonal_target)\n",
    "\n",
    "gci.mode_double_bracket_rotation = DoubleBracketRotationType.group_commutator_reduced      \n",
    "test_group_commutator_against_itself(gci, evolution_oracle_diagonal_target)"
   ]
  },
  {
   "cell_type": "code",
   "execution_count": null,
   "id": "93ee9d5e",
   "metadata": {},
   "outputs": [],
   "source": [
    "def test_gc_numerical_vs_bracket(eps = 0.3):\n",
    "    gci.iterated_hamiltonian_evolution_oracle.eps_trottersuzuki = eps\n",
    "    evolution_oracle_diagonal_target.eps_trottersuzuki = eps\n",
    "    \n",
    "    gci.iterated_hamiltonian_evolution_oracle.please_be_verbose = False\n",
    "    evolution_oracle_diagonal_target.please_be_verbose = False\n",
    "    \n",
    "\n",
    "    gci.mode_double_bracket_rotation = DoubleBracketRotationType.group_commutator\n",
    "\n",
    "    gci.iterated_hamiltonian_evolution_oracle.mode_evolution_oracle = EvolutionOracleType.numerical\n",
    "    evolution_oracle_diagonal_target.mode_evolution_oracle  = EvolutionOracleType.numerical\n",
    "\n",
    "    unitary_gc_from_oracles = gci.group_commutator( np.sqrt(t_step),\n",
    "           diagonal_association_evolution_oracle = evolution_oracle_diagonal_target )\n",
    "\n",
    "    import scipy\n",
    "    unitary_gc_existing1 = scipy.linalg.expm( t_step * (d_0.dense.matrix @ h_x.dense.matrix\n",
    "                                         -h_x.dense.matrix@d_0.dense.matrix))\n",
    "\n",
    "    bckwd = unitary_gc_from_oracles['backwards']\n",
    "    fwd = unitary_gc_from_oracles['forwards']\n",
    "\n",
    "    e1 = gci.iterated_hamiltonian_evolution_oracle.circuit(np.sqrt(t_step))\n",
    "    e2 = evolution_oracle_diagonal_target.circuit(np.sqrt(t_step))\n",
    "\n",
    "    gci.iterated_hamiltonian_evolution_oracle.mode_evolution_oracle = EvolutionOracleType.hamiltonian_simulation\n",
    "    evolution_oracle_diagonal_target.mode_evolution_oracle  = EvolutionOracleType.hamiltonian_simulation\n",
    "\n",
    "    unitary_gc_from_oracles = gci.group_commutator( np.sqrt(t_step),\n",
    "           diagonal_association_evolution_oracle = evolution_oracle_diagonal_target )\n",
    "\n",
    "    unitary_gc_existing = wrapper_gc(dbi, np.sqrt(t_step),-d_0.dense.matrix)\n",
    "\n",
    "    bckwdhs = unitary_gc_from_oracles['backwards'].unitary()\n",
    "    fwdhs = unitary_gc_from_oracles['forwards'].unitary()\n",
    "\n",
    "    e1hs = gci.iterated_hamiltonian_evolution_oracle.circuit(np.sqrt(t_step)).unitary()\n",
    "    e2hs = evolution_oracle_diagonal_target.circuit(np.sqrt(t_step)).unitary()\n",
    "    print(\"Test:\", norm(unitary_gc_existing-unitary_gc_existing1))\n",
    "    print(\"e1:\", norm( e1hs-e1))\n",
    "    print(\"e2:\", norm(e2hs-e2))\n",
    "    print(\"Testing inversion forwards:\", norm(bckwd-bckwdhs))\n",
    "    print(\"Testing inversion backwards:\", norm(fwd - fwdhs))\n",
    "\n",
    "test_gc_numerical_vs_bracket(0.1)\n",
    "\n",
    "test_gc_numerical_vs_bracket(0.0001)"
   ]
  },
  {
   "cell_type": "code",
   "execution_count": null,
   "id": "d2f19ef9",
   "metadata": {},
   "outputs": [],
   "source": [
    "def gc_hs_eps(eps):\n",
    "    gci.iterated_hamiltonian_evolution_oracle.eps_trottersuzuki = eps\n",
    "    evolution_oracle_diagonal_target.eps_trottersuzuki = eps\n",
    "    \n",
    "    gci.iterated_hamiltonian_evolution_oracle.please_be_verbose = True\n",
    "    evolution_oracle_diagonal_target.please_be_verbose = False\n",
    "    \n",
    "    gci.iterated_hamiltonian_evolution_oracle.mode_evolution_oracle = EvolutionOracleType.numerical\n",
    "    evolution_oracle_diagonal_target.mode_evolution_oracle  = EvolutionOracleType.numerical\n",
    "\n",
    "    gci.mode_double_bracket_rotation = DoubleBracketRotationType.group_commutator\n",
    "    \n",
    "    unitary_gc_from_oracles = gci.group_commutator( np.sqrt(t_step),\n",
    "               diagonal_association_evolution_oracle = evolution_oracle_diagonal_target )\n",
    "    \n",
    "    unitary_gc_existing = wrapper_gc(dbi, np.sqrt(t_step),-d_0.dense.matrix)\n",
    "    \n",
    "    bckwd = unitary_gc_from_oracles['backwards']\n",
    "    fwd = unitary_gc_from_oracles['forwards']\n",
    "    \n",
    "    e1 = gci.iterated_hamiltonian_evolution_oracle.circuit(np.sqrt(t_step))\n",
    "    e2 = evolution_oracle_diagonal_target.circuit(np.sqrt(t_step))\n",
    "    \n",
    "    print(\"Backwards:\", norm( bckwd - unitary_gc_existing))\n",
    "    print(\"Forwards:\", norm(fwd - unitary_gc_existing))\n",
    "    print(\"Testing inversion forwards:\", norm(fwd - e2.conj().T @ e1.conj().T @ e2 @e1))\n",
    "    print(\"Testing inversion backwards:\", norm(bckwd - e2.conj().T @ e1.conj().T @ e2 @e1))\n",
    "    print(\"Testing inversion forwards:\", norm(fwd - e1.conj().T @ e2.conj().T @  e1 @e2))\n",
    "    print(\"Testing inversion backwards:\", norm(bckwd - e1.conj().T @ e2.conj().T @  e1 @e2))\n",
    "    print(\"Testing inversion forwards:\", norm(fwd - e1@e2@ e1.conj().T @ e2.conj().T ))\n",
    "    print(\"Testing inversion backwards:\", norm(bckwd - e1@e2@e1.conj().T @ e2.conj().T ))\n",
    "    print(\"Testing inversion forwards:\", norm(fwd - e1.conj().T@e2@ e1 @ e2.conj().T ))\n",
    "    print(\"Testing inversion backwards:\", norm(bckwd - e1.conj().T@e2@e1 @ e2.conj().T ))\n",
    "    print(\"Testing reversal:\", norm(bckwd@fwd - unitary_gc_existing @unitary_gc_existing.T.conj() ))\n",
    "    print(\"Testing reversal:\", norm(bckwd@fwd - e1@e1.conj().T ))"
   ]
  },
  {
   "cell_type": "code",
   "execution_count": null,
   "id": "ae8e83bf",
   "metadata": {},
   "outputs": [],
   "source": [
    "gc_hs_eps(0.1)"
   ]
  },
  {
   "cell_type": "markdown",
   "id": "5dcc9f04",
   "metadata": {},
   "source": [
    "We may improve the discrepancy by setting smaller eps"
   ]
  },
  {
   "cell_type": "code",
   "execution_count": null,
   "id": "b1bf92e2",
   "metadata": {},
   "outputs": [],
   "source": [
    "gc_hs_eps(0.0001)"
   ]
  },
  {
   "cell_type": "code",
   "execution_count": null,
   "id": "f12288b0",
   "metadata": {},
   "outputs": [],
   "source": [
    "norm(unitary_gc_from_oracles['forwards'].unitary() - unitary_gc_existing)"
   ]
  },
  {
   "cell_type": "code",
   "execution_count": null,
   "id": "77579bc5",
   "metadata": {},
   "outputs": [],
   "source": [
    "norm(unitary_gc_from_oracles['backwards'].unitary() - unitary_gc_existing)"
   ]
  },
  {
   "cell_type": "code",
   "execution_count": null,
   "id": "0128e99d",
   "metadata": {},
   "outputs": [],
   "source": [
    "stop"
   ]
  },
  {
   "cell_type": "markdown",
   "id": "a3504871",
   "metadata": {},
   "source": [
    "#### Test more explicitly\n"
   ]
  },
  {
   "cell_type": "code",
   "execution_count": null,
   "id": "642cbce1",
   "metadata": {},
   "outputs": [],
   "source": [
    "u_h = gci.iterated_hamiltonian_evolution_oracle.circuit( np.sqrt(t_step)).unitary()\n",
    "u_d = evolution_oracle_diagonal_target.circuit( np.sqrt(t_step)).unitary()\n",
    "u_h_reversed = gci.iterated_hamiltonian_evolution_oracle.circuit( -np.sqrt(t_step)).unitary()\n",
    "u_d_reversed = evolution_oracle_diagonal_target.circuit( -np.sqrt(t_step)).unitary()\n",
    "norm( u_h_reversed @ u_d_reversed @ u_h @ u_d - unitary_gc_existing)"
   ]
  },
  {
   "cell_type": "code",
   "execution_count": null,
   "id": "6edaa7bb",
   "metadata": {},
   "outputs": [],
   "source": [
    "u_h = gci.iterated_hamiltonian_evolution_oracle.circuit( np.sqrt(t_step))\n",
    "u_d = evolution_oracle_diagonal_target.circuit( np.sqrt(t_step))\n",
    "u_h_reversed = gci.iterated_hamiltonian_evolution_oracle.circuit( -np.sqrt(t_step))\n",
    "u_d_reversed = evolution_oracle_diagonal_target.circuit( -np.sqrt(t_step))\n",
    "norm( (u_h_reversed + u_d_reversed + u_h + u_d).unitary() - unitary_gc_existing)"
   ]
  },
  {
   "cell_type": "markdown",
   "id": "b56f305f",
   "metadata": {},
   "source": [
    "#### 3. Evolution oracle numpy\n"
   ]
  },
  {
   "cell_type": "code",
   "execution_count": null,
   "id": "1b6f6c17",
   "metadata": {},
   "outputs": [],
   "source": [
    "evolution_oracle_numerical = EvolutionOracle(deepcopy(h_input), \"ZX\",\n",
    "                               mode_evolution_oracle = EvolutionOracleType.numerical)\n",
    "\n",
    "gci = GroupCommutatorIterationWithEvolutionOracles( deepcopy(evolution_oracle_numerical ))"
   ]
  },
  {
   "cell_type": "code",
   "execution_count": null,
   "id": "e3bec576",
   "metadata": {},
   "outputs": [],
   "source": [
    "evolution_oracle_diagonal_target =  EvolutionOracle(d_0, \"D0\",\n",
    "               mode_evolution_oracle=EvolutionOracleType.numerical)\n"
   ]
  },
  {
   "cell_type": "code",
   "execution_count": null,
   "id": "f14d3133",
   "metadata": {},
   "outputs": [],
   "source": [
    "unitary_gc_from_oracles = gci.group_commutator( np.sqrt(t_step),\n",
    "           diagonal_association_evolution_oracle = evolution_oracle_diagonal_target )"
   ]
  },
  {
   "cell_type": "markdown",
   "id": "6256dc33",
   "metadata": {},
   "source": [
    "Compared to the group commutator using Hamiltonian simulation there will be small deviations that arise from Trotter-Suzuki decomposition"
   ]
  },
  {
   "cell_type": "code",
   "execution_count": null,
   "id": "5ab01c82",
   "metadata": {
    "scrolled": true
   },
   "outputs": [],
   "source": [
    "norm(unitary_gc_from_oracles['backwards'] - unitary_gc_existing)"
   ]
  },
  {
   "cell_type": "code",
   "execution_count": null,
   "id": "5d3354a8",
   "metadata": {},
   "outputs": [],
   "source": [
    "norm(unitary_gc_from_oracles['forwards'] - unitary_gc_existing)"
   ]
  },
  {
   "cell_type": "markdown",
   "id": "26dfc6ac",
   "metadata": {},
   "source": [
    "We may check by switching the group commutator flag that the difference comes from ordering and inversions"
   ]
  },
  {
   "cell_type": "code",
   "execution_count": null,
   "id": "2e43555b",
   "metadata": {},
   "outputs": [],
   "source": [
    "gci.mode_double_bracket_rotation = DoubleBracketRotationType.group_commutator_other_sorting\n",
    "\n",
    "unitary_gc_from_oracles = gci.group_commutator( np.sqrt(t_step),\n",
    "           diagonal_association_evolution_oracle = evolution_oracle_diagonal_target )\n",
    "norm(unitary_gc_from_oracles['forwards'] - unitary_gc_existing)"
   ]
  },
  {
   "cell_type": "markdown",
   "id": "d6a735d4",
   "metadata": {},
   "source": [
    "#### 4. Check gci rotation"
   ]
  },
  {
   "cell_type": "code",
   "execution_count": null,
   "id": "5471e516",
   "metadata": {},
   "outputs": [],
   "source": [
    "evolution_oracle_hamiltonian_simulation = EvolutionOracle(deepcopy(h_input), \"ZX\",\n",
    "                               mode_evolution_oracle = EvolutionOracleType.hamiltonian_simulation)\n",
    "evolution_oracle_diagonal_target =  EvolutionOracle(d_0, \"D0\",\n",
    "               mode_evolution_oracle=EvolutionOracleType.hamiltonian_simulation)\n",
    "gci = GroupCommutatorIterationWithEvolutionOracles( deepcopy(evolution_oracle_hamiltonian_simulation ))"
   ]
  },
  {
   "cell_type": "code",
   "execution_count": null,
   "id": "7a7ac8f4",
   "metadata": {},
   "outputs": [],
   "source": [
    "type(gci.iterated_hamiltonian_evolution_oracle)"
   ]
  },
  {
   "cell_type": "code",
   "execution_count": null,
   "id": "d30c7558",
   "metadata": {},
   "outputs": [],
   "source": [
    "gci(t_step, diagonal_association=evolution_oracle_diagonal_target)"
   ]
  },
  {
   "cell_type": "code",
   "execution_count": null,
   "id": "1fe303d2",
   "metadata": {},
   "outputs": [],
   "source": [
    "type(gci.iterated_hamiltonian_evolution_oracle)"
   ]
  },
  {
   "cell_type": "code",
   "execution_count": null,
   "id": "6ab13137",
   "metadata": {},
   "outputs": [],
   "source": [
    "gci.iterated_hamiltonian_evolution_oracle.mode_evolution_oracle"
   ]
  },
  {
   "cell_type": "code",
   "execution_count": null,
   "id": "ca82a687",
   "metadata": {},
   "outputs": [],
   "source": [
    "u_frame_shifted = gci.iterated_hamiltonian_evolution_oracle.circuit(t_step).unitary()"
   ]
  },
  {
   "cell_type": "code",
   "execution_count": null,
   "id": "cd4f541d",
   "metadata": {},
   "outputs": [],
   "source": [
    "norm( dbi.h.exp(t_step) - u_frame_shifted)"
   ]
  },
  {
   "cell_type": "code",
   "execution_count": null,
   "id": "67257043",
   "metadata": {},
   "outputs": [],
   "source": [
    "gci.iterated_hamiltonian_evolution_oracle.mode_evolution_oracle\n"
   ]
  },
  {
   "cell_type": "code",
   "execution_count": null,
   "id": "feb5fde9",
   "metadata": {},
   "outputs": [],
   "source": [
    "gci(t_step, diagonal_association=evolution_oracle_diagonal_target)"
   ]
  },
  {
   "cell_type": "code",
   "execution_count": null,
   "id": "95de4c31",
   "metadata": {},
   "outputs": [],
   "source": [
    "dbi(t_step, d = evolution_oracle_diagonal_target.h.dense.matrix)"
   ]
  },
  {
   "cell_type": "code",
   "execution_count": null,
   "id": "2bcc8f07",
   "metadata": {},
   "outputs": [],
   "source": [
    "u_frame_shifted = gci.iterated_hamiltonian_evolution_oracle.circuit(t_step).unitary()\n"
   ]
  },
  {
   "cell_type": "code",
   "execution_count": null,
   "id": "eafa1770",
   "metadata": {},
   "outputs": [],
   "source": [
    "norm( dbi.h.exp(t_step) - u_frame_shifted)"
   ]
  },
  {
   "cell_type": "code",
   "execution_count": null,
   "id": "05e94ce8",
   "metadata": {},
   "outputs": [],
   "source": []
  },
  {
   "cell_type": "code",
   "execution_count": null,
   "id": "ed2b81e1",
   "metadata": {},
   "outputs": [],
   "source": [
    "for k in range(3):\n",
    "    gci(t_step, diagonal_association=evolution_oracle_diagonal_target)\n",
    "    dbi(t_step, d = evolution_oracle_diagonal_target.h.dense.matrix)\n",
    "    print(norm( dbi.h.exp(t_step) - u_frame_shifted))"
   ]
  },
  {
   "cell_type": "code",
   "execution_count": null,
   "id": "15d96e82",
   "metadata": {},
   "outputs": [],
   "source": []
  },
  {
   "cell_type": "code",
   "execution_count": null,
   "id": "3fdf49bd",
   "metadata": {},
   "outputs": [],
   "source": []
  },
  {
   "cell_type": "code",
   "execution_count": null,
   "id": "9130482b",
   "metadata": {},
   "outputs": [],
   "source": [
    "gci.iterated_hamiltonian_evolution_oracle.mode_evolution_oracle = EvolutionOracleType.hamiltonian_simulation"
   ]
  },
  {
   "cell_type": "code",
   "execution_count": null,
   "id": "de46b823",
   "metadata": {},
   "outputs": [],
   "source": [
    "gci.iterated_hamiltonian_evolution_oracle.mode_evolution_oracle = EvolutionOracleType.numerical\n",
    "gc_numpy = gci.group_commutator( np.sqrt(t_step),\n",
    "                                             diagonal_association_evolution_oracle= EvolutionOracle(d_0, \"D0\",mode_evolution_oracle=EvolutionOracleType.numerical))"
   ]
  },
  {
   "cell_type": "code",
   "execution_count": null,
   "id": "d4f78e3a",
   "metadata": {},
   "outputs": [],
   "source": []
  },
  {
   "cell_type": "code",
   "execution_count": null,
   "id": "e4d23962",
   "metadata": {},
   "outputs": [],
   "source": [
    "## Test more fancy functionalities\n",
    "input_hamiltonian_evolution_oracle_hamiltonian_simulation.please_be_verbose = False\n",
    "gci = GroupCommutatorIterationWithEvolutionOracles( deepcopy(input_hamiltonian_evolution_oracle_hamiltonian_simulation ))\n",
    "d_ev =  EvolutionOracle(d_0, \"D0\",mode_evolution_oracle=EvolutionOracleType.hamiltonian_simulation)\n",
    "\n",
    "gci.iterated_hamiltonian_evolution_oracle.mode_evolution_oracle = EvolutionOracleType.hamiltonian_simulation\n",
    "query_list = gci.group_commutator( np.sqrt(t_step),\n",
    "                                             diagonal_association_evolution_oracle= d_ev )\n",
    "\n",
    "norm(query_list['forwards'].unitary() -query_list['backwards'].unitary().conj().T)\n",
    "\n",
    "\n"
   ]
  },
  {
   "cell_type": "code",
   "execution_count": null,
   "id": "2e69dc0b",
   "metadata": {},
   "outputs": [],
   "source": [
    "norm(query_list['forwards'] -query_list['backwards'].T.conj())"
   ]
  },
  {
   "cell_type": "code",
   "execution_count": null,
   "id": "bfee7994",
   "metadata": {},
   "outputs": [],
   "source": [
    "#Test file entry\n",
    "u = gci.iterated_hamiltonian_evolution_oracle.circuit( np.sqrt(t_step)).unitary()\n",
    "u2 = gci.iterated_hamiltonian_evolution_oracle.circuit( -np.sqrt(t_step)).unitary()\n",
    "norm(u-u2.T.conj())"
   ]
  },
  {
   "cell_type": "code",
   "execution_count": null,
   "id": "527bb789",
   "metadata": {},
   "outputs": [],
   "source": [
    "d_0.mode_evolution_oracle = EvolutionOracleType.text_strings\n",
    "gci.iterated_hamiltonian_evolution_oracle.mode_evolution_oracle = EvolutionOracleType.text_strings\n",
    "query_list = gci.group_commutator( np.sqrt(t_step*2),\n",
    "             diagonal_association_evolution_oracle= EvolutionOracle(d_0, \"D0\"))\n",
    "\n",
    "\n",
    "query_list['forwards']"
   ]
  }
 ],
 "metadata": {
  "kernelspec": {
   "display_name": "Python 3 (ipykernel)",
   "language": "python",
   "name": "python3"
  },
  "language_info": {
   "codemirror_mode": {
    "name": "ipython",
    "version": 3
   },
   "file_extension": ".py",
   "mimetype": "text/x-python",
   "name": "python",
   "nbconvert_exporter": "python",
   "pygments_lexer": "ipython3",
   "version": "3.10.12"
  }
 },
 "nbformat": 4,
 "nbformat_minor": 5
}
