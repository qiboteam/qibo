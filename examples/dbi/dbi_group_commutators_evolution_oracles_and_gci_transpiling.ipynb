{
 "cells": [
  {
   "cell_type": "markdown",
   "id": "2dae9ffe",
   "metadata": {},
   "source": [
    "## This compares to DoubleBracketIteration whenever possible"
   ]
  },
  {
   "cell_type": "code",
   "execution_count": 1,
   "id": "b161521d",
   "metadata": {},
   "outputs": [],
   "source": [
    "import inspect\n",
    "import sys\n",
    "sys.path.append(\"../../tests\")\n",
    "from test_models_dbi import *\n",
    "def print_function_source_code( func ):\n",
    "    out = inspect.getsourcelines(func)  \n",
    "    from functools import reduce\n",
    "    print(reduce(str.__add__, out[0]))"
   ]
  },
  {
   "cell_type": "code",
   "execution_count": 2,
   "id": "950eef89",
   "metadata": {},
   "outputs": [
    {
     "name": "stderr",
     "output_type": "stream",
     "text": [
      "[Qibo 0.2.7|INFO|2024-04-29 12:14:42]: Using numpy backend on /CPU:0\n"
     ]
    }
   ],
   "source": [
    "import qibo\n",
    "backend = qibo.backends.construct_backend(\"numpy\")\n",
    "qibo.set_backend(\"numpy\")\n",
    "nqubits = 3"
   ]
  },
  {
   "cell_type": "code",
   "execution_count": null,
   "id": "6095d17a",
   "metadata": {},
   "outputs": [
    {
     "name": "stderr",
     "output_type": "stream",
     "text": [
      "[Qibo 0.2.7|WARNING|2024-04-29 14:45:18]: Calculating the dense form of a symbolic Hamiltonian. This operation is memory inefficient.\n",
      "[Qibo 0.2.7|WARNING|2024-04-29 14:45:19]: Calculating the dense form of a symbolic Hamiltonian. This operation is memory inefficient.\n"
     ]
    },
    {
     "name": "stdout",
     "output_type": "stream",
     "text": [
      "eith diff 1.5712440057340736e-07\n",
      "U dbr diff 1.1569097113412146e-05\n",
      "h diff 3.3021307730058864e-05\n",
      "sigma dbi 5.60100317946555\n",
      "sigma gci 5.601003185838881\n",
      "eith diff 2.881755892359207e-07\n",
      "U dbr diff 1.1124982181225484e-05\n",
      "h diff 6.476110230712104e-05\n",
      "sigma dbi 5.546955161050127\n",
      "sigma gci 5.546955233970926\n",
      "eith diff 5.843412359673229e-07\n",
      "U dbr diff 1.0710955536295385e-05\n",
      "h diff 9.525342119986412e-05\n",
      "sigma dbi 5.494680926176547\n",
      "sigma gci 5.494681200037203\n",
      "eith diff 8.81222405885465e-07\n",
      "U dbr diff 1.0325625670392596e-05\n",
      "h diff 0.00012453892531827423\n",
      "sigma dbi 5.44411695218482\n",
      "sigma gci 5.444117625508951\n",
      "eith diff 1.169127621411016e-06\n",
      "U dbr diff 9.967311672226913e-06\n",
      "h diff 0.00015266248434895235\n",
      "sigma dbi 5.395180752751458\n",
      "sigma gci 5.395182076480832\n",
      "eith diff 1.4466560682228037e-06\n",
      "U dbr diff 9.634155420969876e-06\n",
      "h diff 0.00017967130915922002\n",
      "sigma dbi 5.3477817719619924\n",
      "sigma gci 5.347784037232165\n"
     ]
    }
   ],
   "source": [
    "def test_gci_frame_shifted_oracles(backend,nqubits,mode_evolution_oracle = EvolutionOracleType.hamiltonian_simulation):\n",
    "\n",
    "    h_x = SymbolicHamiltonian(\n",
    "            symbols.X(0)\n",
    "        + symbols.Z(0) * symbols.X(1)\n",
    "        + symbols.Y(2)\n",
    "        + symbols.Y(1) * symbols.Y(2),\n",
    "        nqubits=3,\n",
    "    )\n",
    "    d_0 = SymbolicHamiltonian(symbols.Z(0), nqubits=3)\n",
    "    h_input = h_x + d_0\n",
    "\n",
    "    dbi = DoubleBracketIteration(deepcopy(h_input.dense))\n",
    "\n",
    "    evolution_oracle = EvolutionOracle(h_input, \"ZX\", mode_evolution_oracle)   \n",
    "    gci = GroupCommutatorIterationWithEvolutionOracles( deepcopy(evolution_oracle ))\n",
    "\n",
    "    evolution_oracle_diagonal_target =  EvolutionOracle(d_0, \"D0\",\n",
    "               mode_evolution_oracle)\n",
    "\n",
    "    from numpy.linalg import norm\n",
    "\n",
    "    r = .01\n",
    "    for _ in range(7):\n",
    "        a = dbi.h.exp(r)\n",
    "        b = gci.iterated_hamiltonian_evolution_oracle.eval_unitary(r)\n",
    "        print( \"eith diff\", norm( a - b))\n",
    "        a = dbi.eval_dbr_unitary(r,d = d_0.dense.matrix,mode=DoubleBracketGeneratorType.group_commutator)\n",
    "        b = gci.eval_gcr_unitary(r, evolution_oracle_diagonal_target)\n",
    "        print(\"U dbr diff\",norm( a - b))\n",
    "\n",
    "        dbi(r, d = d_0.dense.matrix, mode = DoubleBracketGeneratorType.group_commutator )\n",
    "        gci(r, diagonal_association= evolution_oracle_diagonal_target )\n",
    "        \n",
    "        k_r = dbi.h.matrix\n",
    "        j_r = gci.h.matrix\n",
    "        print('h diff',norm(k_r-j_r))\n",
    "\n",
    "        print(\"sigma dbi\", norm(dbi.sigma(k_r)))\n",
    "        print(\"sigma gci\", norm(dbi.sigma(j_r)))\n",
    "\n",
    "        \n",
    "test_gci_frame_shifted_oracles(backend,nqubits)"
   ]
  },
  {
   "cell_type": "code",
   "execution_count": 3,
   "id": "21f87059",
   "metadata": {
    "scrolled": true
   },
   "outputs": [
    {
     "name": "stderr",
     "output_type": "stream",
     "text": [
      "[Qibo 0.2.7|WARNING|2024-04-29 12:14:42]: Calculating the dense form of a symbolic Hamiltonian. This operation is memory inefficient.\n",
      "[Qibo 0.2.7|WARNING|2024-04-29 12:14:42]: Calculating the dense form of a symbolic Hamiltonian. This operation is memory inefficient.\n"
     ]
    },
    {
     "name": "stdout",
     "output_type": "stream",
     "text": [
      "eval ab 4.460072397196506e-05\n",
      "evolution eith 9.092521730556182e-05\n",
      "eval dbr diff 4.460072397196506e-05\n",
      "h diff 0.00014214956955464143\n",
      "eval gcr 4.127345219458045e-05\n",
      "evolution eith 7.632202655334346e-05\n"
     ]
    }
   ],
   "source": [
    "eo_mode = EvolutionOracleType.hamiltonian_simulation\n",
    "r= 0.1\n",
    "\n",
    "h_x = SymbolicHamiltonian(\n",
    "        symbols.X(0)\n",
    "    + symbols.Z(0) * symbols.X(1)\n",
    "    + symbols.Y(2)\n",
    "    + symbols.Y(1) * symbols.Y(2),\n",
    "    nqubits=3,\n",
    ")\n",
    "d_0 = SymbolicHamiltonian(symbols.Z(0), nqubits=3)\n",
    "h_input = h_x + d_0\n",
    "\n",
    "dbi = DoubleBracketIteration(deepcopy(h_input.dense))\n",
    "\n",
    "evolution_oracle = EvolutionOracle(h_input, \"ZX\", mode_evolution_oracle = eo_mode )   \n",
    "\n",
    "gci = GroupCommutatorIterationWithEvolutionOracles( deepcopy(evolution_oracle ))\n",
    "\n",
    "evolution_oracle_diagonal_target =  EvolutionOracle(d_0, \"D0\",\n",
    "           mode_evolution_oracle = eo_mode)\n",
    "from numpy.linalg import norm\n",
    "\n",
    "r=0.2\n",
    "\n",
    "a = dbi.eval_dbr_unitary(r,d = d_0.dense.matrix,mode=DoubleBracketGeneratorType.group_commutator)\n",
    "b = gci.eval_gcr_unitary(r, evolution_oracle_diagonal_target)\n",
    "print(\"eval ab\", norm(a-b))\n",
    "\n",
    "\n",
    "print('evolution eith',norm(dbi.h.exp(r)\n",
    "           -\n",
    "          gci.iterated_hamiltonian_evolution_oracle.eval_unitary(r)))\n",
    "a = dbi.eval_dbr_unitary(r,d = d_0.dense.matrix,mode=DoubleBracketGeneratorType.group_commutator)\n",
    "b = gci.eval_gcr_unitary(r, evolution_oracle_diagonal_target)\n",
    "print(\"eval dbr diff\", norm(a-b))\n",
    "\n",
    "dbi(r, d = d_0.dense.matrix, mode = DoubleBracketGeneratorType.group_commutator ) \n",
    "\n",
    "gci(r, diagonal_association= evolution_oracle_diagonal_target )\n",
    "k_r = dbi.h.matrix\n",
    "j_r = gci.h.matrix\n",
    "\n",
    "print('h diff',norm(k_r-j_r))\n",
    "\n",
    "a = dbi.eval_dbr_unitary(r,d = d_0.dense.matrix,mode=DoubleBracketGeneratorType.group_commutator)\n",
    "b = gci.eval_gcr_unitary(r, evolution_oracle_diagonal_target)\n",
    "print(\"eval gcr\", norm(a-b))\n",
    "\n",
    "print('evolution eith',norm(dbi.h.exp(r)\n",
    "           -\n",
    "          gci.iterated_hamiltonian_evolution_oracle.eval_unitary(r)))"
   ]
  },
  {
   "cell_type": "code",
   "execution_count": 4,
   "id": "548aafac",
   "metadata": {},
   "outputs": [
    {
     "ename": "NameError",
     "evalue": "name 't_step' is not defined",
     "output_type": "error",
     "traceback": [
      "\u001b[0;31m---------------------------------------------------------------------------\u001b[0m",
      "\u001b[0;31mNameError\u001b[0m                                 Traceback (most recent call last)",
      "\u001b[0;32m/tmp/ipykernel_63614/4039678752.py\u001b[0m in \u001b[0;36m<module>\u001b[0;34m\u001b[0m\n\u001b[1;32m      8\u001b[0m \u001b[0;31m#gci.mode_double_bracket_rotation = DoubleBracketRotationType.group_commutator\u001b[0m\u001b[0;34m\u001b[0m\u001b[0;34m\u001b[0m\u001b[0m\n\u001b[1;32m      9\u001b[0m \u001b[0;34m\u001b[0m\u001b[0m\n\u001b[0;32m---> 10\u001b[0;31m \u001b[0mu_gc_from_oracles\u001b[0m \u001b[0;34m=\u001b[0m \u001b[0mgci\u001b[0m\u001b[0;34m.\u001b[0m\u001b[0mgroup_commutator\u001b[0m\u001b[0;34m(\u001b[0m \u001b[0mt_step\u001b[0m\u001b[0;34m,\u001b[0m \u001b[0mevolution_oracle_diagonal_target\u001b[0m \u001b[0;34m)\u001b[0m\u001b[0;34m\u001b[0m\u001b[0;34m\u001b[0m\u001b[0m\n\u001b[0m\u001b[1;32m     11\u001b[0m \u001b[0mu_gci\u001b[0m \u001b[0;34m=\u001b[0m \u001b[0mu_gc_from_oracles\u001b[0m\u001b[0;34m[\u001b[0m\u001b[0;34m'forwards'\u001b[0m\u001b[0;34m]\u001b[0m\u001b[0;34m\u001b[0m\u001b[0;34m\u001b[0m\u001b[0m\n\u001b[1;32m     12\u001b[0m \u001b[0;34m\u001b[0m\u001b[0m\n",
      "\u001b[0;31mNameError\u001b[0m: name 't_step' is not defined"
     ]
    }
   ],
   "source": [
    "evolution_oracle = EvolutionOracle(h_input, \"ZX\",\n",
    "                    mode_evolution_oracle = EvolutionOracleType.numerical)    \n",
    "d_0 = SymbolicHamiltonian(symbols.Z(0), nqubits=3)\n",
    "evolution_oracle_diagonal_target =  EvolutionOracle(d_0, \"D0\",\n",
    "           mode_evolution_oracle = EvolutionOracleType.numerical)\n",
    "\n",
    "gci = GroupCommutatorIterationWithEvolutionOracles( deepcopy(evolution_oracle ))\n",
    "#gci.mode_double_bracket_rotation = DoubleBracketRotationType.group_commutator\n",
    "\n",
    "u_gc_from_oracles = gci.group_commutator( t_step, evolution_oracle_diagonal_target )   \n",
    "u_gci = u_gc_from_oracles['forwards']\n",
    "\n",
    "assert norm(u_gci.conj().T - u_gc_from_oracles['backwards']) < 1e-12\n",
    "\n",
    "\n",
    "v_exact = dbi.eval_dbr_unitary(t_step, d=d_0.dense.matrix, mode=DoubleBracketGeneratorType.single_commutator)\n",
    "w = dbi.commutator(h_input.dense.matrix,d_0.dense.matrix)\n",
    "norms_bound = 0.5*t_step**1.48 * (\n",
    "    np.linalg.norm(dbi.commutator(h_input.dense.matrix,w)) + np.linalg.norm(dbi.commutator(d_0.matrix,w))\n",
    ")\n",
    "assert norm(v_exact - u_gci) < norms_bound\n",
    "u_gcr = gci.eval_gcr_unitary(t_step,evolution_oracle_diagonal_target )\n",
    "assert norm(v_exact - u_gcr) < norms_bound\n",
    "print(norm(v_exact-u_gcr))\n",
    "print(norm(dbi.eval_dbr_unitary(t_step, d=d_0.dense.matrix, mode=DoubleBracketGeneratorType.group_commutator)-u_gci))\n",
    "gci(t_step, diagonal_association= evolution_oracle_diagonal_target )\n",
    "\n",
    "j_1 = gci.iterated_hamiltonian_evolution_oracle.h.matrix\n",
    "assert norm(dbi.h.matrix-j_1) < 2 * norm(h_input.dense.matrix) * norms_bound       \n",
    "    \n",
    "    "
   ]
  },
  {
   "cell_type": "code",
   "execution_count": null,
   "id": "a58b6c7b",
   "metadata": {},
   "outputs": [],
   "source": [
    "dbi = DoubleBracketIteration(deepcopy(h_input.dense))        \n",
    "evolution_oracle = EvolutionOracle(h_input, \"ZX\", mode_evolution_oracle = EvolutionOracleType.hamiltonian_simulation)   \n",
    "gci = GroupCommutatorIterationWithEvolutionOracles( deepcopy(evolution_oracle ))\n",
    "\n",
    "evolution_oracle_diagonal_target =  EvolutionOracle(d_0, \"D0\",\n",
    "           mode_evolution_oracle = EvolutionOracleType.hamiltonian_simulation)\n",
    "evolution_oracle.eps_trottersuzuki = 1e-9\n",
    "evolution_oracle_diagonal_target.eps_trottersuzuki = 1e-9\n",
    "r = .\n",
    "for _ in range(3):\n",
    "    dbi(r, d = d_0.dense.matrix, mode = DoubleBracketGeneratorType.group_commutator )\n",
    "    gci(r, diagonal_association= evolution_oracle_diagonal_target )\n",
    "    k_r = dbi.h.matrix\n",
    "    j_r = gci.h.matrix\n",
    "\n",
    "    print(norm(k_r-j_r))\n",
    "    print(norm(dbi.sigma(k_r)))\n",
    "    print(norm(dbi.sigma(j_r)))\n",
    "    assert norm(k_r-j_r) < 1e-12  "
   ]
  },
  {
   "cell_type": "code",
   "execution_count": null,
   "id": "b4004f8f",
   "metadata": {},
   "outputs": [],
   "source": [
    "test_gci_implementations_normal_and_oracles(backend,nqubits)"
   ]
  },
  {
   "cell_type": "code",
   "execution_count": null,
   "id": "1598800e",
   "metadata": {},
   "outputs": [],
   "source": [
    "def test_gci_implementations_normal_and_oracles(backend,nqubits):\n",
    "\n",
    "    h_x = SymbolicHamiltonian(\n",
    "            symbols.X(0)\n",
    "        + symbols.Z(0) * symbols.X(1)\n",
    "        + symbols.Y(2)\n",
    "        + symbols.Y(1) * symbols.Y(2),\n",
    "        nqubits=3,\n",
    "    )\n",
    "    d_0 = SymbolicHamiltonian(symbols.Z(0), nqubits=3)\n",
    "    h_input = h_x + d_0\n",
    "\n",
    "    dbi = DoubleBracketIteration(deepcopy(h_input.dense))\n",
    "\n",
    "    evolution_oracle = EvolutionOracle(h_input, \"ZX\", mode_evolution_oracle = EvolutionOracleType.numerical)   \n",
    "    gci = GroupCommutatorIterationWithEvolutionOracles( deepcopy(evolution_oracle ))\n",
    "\n",
    "    evolution_oracle_diagonal_target =  EvolutionOracle(d_0, \"D0\",\n",
    "               mode_evolution_oracle = EvolutionOracleType.numerical)\n",
    "\n",
    "    from numpy.linalg import norm\n",
    "\n",
    "    times = np.linspace(1e-5,1,5)\n",
    "    for r in times:\n",
    "\n",
    "        dbi(r, d = d_0.dense.matrix, mode = DoubleBracketGeneratorType.group_commutator )\n",
    "        k_r = dbi.h.matrix\n",
    "        dbi.h = deepcopy(h_input.dense) \n",
    "        gci(r, diagonal_association= evolution_oracle_diagonal_target )\n",
    "        j_r = gci.h.matrix\n",
    "        gci.h = deepcopy(h_input.dense) \n",
    "        gci.iterated_hamiltonian_evolution_oracle = deepcopy(evolution_oracle) \n",
    "\n",
    "        assert norm(k_r-j_r) < 1e-12\n",
    "\n",
    "    r = 1\n",
    "    for _ in range(3):\n",
    "        dbi(r, d = d_0.dense.matrix, mode = DoubleBracketGeneratorType.group_commutator )\n",
    "        gci(r, diagonal_association= evolution_oracle_diagonal_target )\n",
    "        k_r = dbi.h.matrix\n",
    "        j_r = gci.h.matrix\n",
    "        \n",
    "        assert norm(k_r-j_r) < 1e-12 \n",
    "        \n",
    "        \n",
    "    dbi = DoubleBracketIteration(deepcopy(h_input.dense))        \n",
    "    evolution_oracle = EvolutionOracle(h_input, \"ZX\", mode_evolution_oracle = EvolutionOracleType.hamiltonian_simulation)   \n",
    "    gci = GroupCommutatorIterationWithEvolutionOracles( deepcopy(evolution_oracle ))\n",
    "\n",
    "    evolution_oracle_diagonal_target =  EvolutionOracle(d_0, \"D0\",\n",
    "               mode_evolution_oracle = EvolutionOracleType.hamiltonian_simulation)\n",
    "    evolution_oracle.eps_trottersuzuki = 1e-9\n",
    "    evolution_oracle_diagonal_target.eps_trottersuzuki = 1e-9\n",
    "    r = 1\n",
    "    for _ in range(3):\n",
    "        dbi(r, d = d_0.dense.matrix, mode = DoubleBracketGeneratorType.group_commutator )\n",
    "        gci(r, diagonal_association= evolution_oracle_diagonal_target )\n",
    "        k_r = dbi.h.matrix\n",
    "        j_r = gci.h.matrix\n",
    "        \n",
    "        print(norm(k_r-j_r))\n",
    "        print(norm(dbi.sigma(k_r)))\n",
    "        print(norm(dbi.sigma(j_r)))\n",
    "        assert norm(k_r-j_r) < 1e-12  \n",
    "        \n",
    "test_gci_implementations_normal_and_oracles(backend,nqubits)"
   ]
  },
  {
   "cell_type": "markdown",
   "id": "7f4d7a01",
   "metadata": {},
   "source": [
    "# Check the numerical mode of evolution oracles"
   ]
  },
  {
   "cell_type": "markdown",
   "id": "e81631c7",
   "metadata": {},
   "source": [
    "This is testing the following:\n",
    "\n",
    "`dbi_exact` runs $V_{exact} = e^{-sW}$ and rotates $H_1 = V_{exact}^\\dagger H_0 V_{exact}$.\n",
    "\n",
    "`dbi_GC` runs $V_{GC} = GC$ and rotates $K_1 = V_{GC}^\\dagger H_0 V_{GC}$.\n",
    "\n",
    "We assert that dbi_exact and dbi_GC should be within the approximation bound of the GC\n",
    "$$||J_1-H_1||\\le2 ||H_0||\\,||R-V||\\le C ||H_0|| s^{3/2}$$\n",
    "\n",
    "`gci` runs $V_{EO,GC} = GC$ and rotates $J_1 = V_{EO,GC}^\\dagger H_0 V_{EO,GC}$.\n",
    "\n",
    "We assert that gci and dbi2 should be within machine precision for the correct sorting.\n",
    "$$||J_1-K_1||\\le2 ||H_0||\\,||R-Q||\\le \\epsilon$$\n",
    "\n",
    "\n"
   ]
  },
  {
   "cell_type": "code",
   "execution_count": null,
   "id": "7e99a090",
   "metadata": {
    "scrolled": false
   },
   "outputs": [],
   "source": [
    "print_function_source_code(test_gci_evolution_oracles_types_numerical)"
   ]
  },
  {
   "cell_type": "code",
   "execution_count": null,
   "id": "583ca695",
   "metadata": {},
   "outputs": [],
   "source": [
    "t_step =0.01\n",
    "eps = 1e-2\n",
    "test_gci_evolution_oracles_types_numerical(nqubits,backend,t_step, eps)\n",
    "\n"
   ]
  },
  {
   "cell_type": "markdown",
   "id": "0f0b06ec",
   "metadata": {},
   "source": [
    "## Check numerical GCI with evolution oracles against `DoubleBracketIteration`\n",
    "\n",
    "Basically we have again a bound for how $H_k$ differs from $J_k$ for various duriations of the DBR.\n",
    "\n",
    "The plots below show that the GCI implementation for 1 step agrees precisely"
   ]
  },
  {
   "cell_type": "code",
   "execution_count": null,
   "id": "a2c2422b",
   "metadata": {},
   "outputs": [],
   "source": [
    "h_x = SymbolicHamiltonian(\n",
    "        symbols.X(0)\n",
    "    + symbols.Z(0) * symbols.X(1)\n",
    "    + symbols.Y(2)\n",
    "    + symbols.Y(1) * symbols.Y(2),\n",
    "    nqubits=3,\n",
    ")\n",
    "d_0 = SymbolicHamiltonian(symbols.Z(0), nqubits=3)\n",
    "h_input = h_x + d_0\n",
    "\n",
    "dbi = DoubleBracketIteration(deepcopy(h_input.dense))\n",
    "dbi.mode = DoubleBracketGeneratorType.single_commutator\n",
    "\n",
    "evolution_oracle = EvolutionOracle(h_input, \"ZX\",\n",
    "                        mode_evolution_oracle = EvolutionOracleType.numerical)    \n",
    "\n",
    "evolution_oracle_diagonal_target =  EvolutionOracle(d_0, \"D0\",\n",
    "           mode_evolution_oracle = EvolutionOracleType.numerical)\n",
    "\n",
    "gci = GroupCommutatorIterationWithEvolutionOracles( deepcopy(evolution_oracle ))\n",
    "\n",
    "\n",
    "import matplotlib.pyplot as plt\n",
    "from numpy.linalg import norm\n",
    "norms  = []\n",
    "norms2  = []\n",
    "norms_bound = []\n",
    "times = np.linspace(1e-5,1,30)\n",
    "for r in times:\n",
    "    dbi(r, d = d_0.dense.matrix, mode = DoubleBracketGeneratorType.single_commutator )\n",
    "    h_r = dbi.h.matrix\n",
    "    dbi.h = deepcopy(h_input.dense) \n",
    "    dbi(r, d = d_0.dense.matrix, mode = DoubleBracketGeneratorType.group_commutator )\n",
    "    k_r = dbi.h.matrix\n",
    "    dbi.h = deepcopy(h_input.dense) \n",
    "    gci(r, diagonal_association= evolution_oracle_diagonal_target )\n",
    "    j_r = gci.h.matrix\n",
    "    gci.h = deepcopy(h_input.dense) \n",
    "    \n",
    "    w = dbi.commutator(h_input.dense.matrix,d_0.dense.matrix)\n",
    "    norms_bound.append(norm(h_input.dense.matrix)*r**1.48 * (\n",
    "        np.linalg.norm(dbi.commutator(h_input.dense.matrix,w)) + np.linalg.norm(dbi.commutator(d_0.matrix,w))\n",
    "    ))\n",
    "   \n",
    "    norms.append(norm(h_r -k_r ))\n",
    "    norms2.append(norm(h_r-j_r))\n",
    "    \n",
    "plt.loglog(times, norms_bound)\n",
    "plt.loglog(times,norms, \n",
    "          '-s')\n",
    "plt.loglog(times,norms2, '-x')"
   ]
  },
  {
   "cell_type": "markdown",
   "id": "5e89586e",
   "metadata": {},
   "source": [
    "### This is captured in the following test\n",
    "(we restrict to both group commutator modes as for more steps there will be deviations)"
   ]
  },
  {
   "cell_type": "code",
   "execution_count": null,
   "id": "40308fc2",
   "metadata": {},
   "outputs": [],
   "source": [
    "\n",
    "evolution_oracle = EvolutionOracle(h_input, \"ZX\",\n",
    "                    mode_evolution_oracle = EvolutionOracleType.numerical)    \n",
    "d_0 = SymbolicHamiltonian(symbols.Z(0), nqubits=3)\n",
    "evolution_oracle_diagonal_target =  EvolutionOracle(d_0, \"D0\",\n",
    "           mode_evolution_oracle = EvolutionOracleType.numerical)\n",
    "\n",
    "gci = GroupCommutatorIterationWithEvolutionOracles( deepcopy(evolution_oracle ))\n",
    "#gci.mode_double_bracket_rotation = DoubleBracketRotationType.group_commutator\n",
    "\n",
    "u_gc_from_oracles = gci.group_commutator( t_step, evolution_oracle_diagonal_target )   \n",
    "u_gci = u_gc_from_oracles['forwards']\n",
    "\n",
    "assert norm(u_gci.conj().T - u_gc_from_oracles['backwards']) < 1e-12\n",
    "\n",
    "\n",
    "v_exact = dbi.eval_dbr_unitary(t_step, d=d_0.dense.matrix, mode=DoubleBracketGeneratorType.single_commutator)\n",
    "w = dbi.commutator(h_input.dense.matrix,d_0.dense.matrix)\n",
    "norms_bound = 0.5*t_step**1.48 * (\n",
    "    np.linalg.norm(dbi.commutator(h_input.dense.matrix,w)) + np.linalg.norm(dbi.commutator(d_0.matrix,w))\n",
    ")\n",
    "assert norm(v_exact - u_gci) < norms_bound\n",
    "u_gcr = gci.eval_gcr_unitary(t_step,evolution_oracle_diagonal_target )\n",
    "assert norm(v_exact - u_gcr) < norms_bound\n",
    "print(norm(v_exact-u_gcr))\n",
    "print(norm(dbi.eval_dbr_unitary(t_step, d=d_0.dense.matrix, mode=DoubleBracketGeneratorType.group_commutator)-u_gci))\n",
    "gci(t_step, diagonal_association= evolution_oracle_diagonal_target )\n",
    "\n",
    "j_1 = gci.iterated_hamiltonian_evolution_oracle.h.matrix\n",
    "assert norm(dbi.h.matrix-j_1) < 2 * norm(h_input.dense.matrix) * norms_bound   \n"
   ]
  },
  {
   "cell_type": "markdown",
   "id": "fe2c0711",
   "metadata": {},
   "source": [
    "### Next many steps: the `DoubleBracketIteration` implementation agrees with evolution oracles for the gc mode. In the exact commutator exponential a deviation builds up"
   ]
  },
  {
   "cell_type": "code",
   "execution_count": null,
   "id": "2b895267",
   "metadata": {},
   "outputs": [],
   "source": [
    "r=0.01\n",
    "\n",
    "norms_it  = []\n",
    "norms_it2  = []\n",
    "dbi = DoubleBracketIteration(deepcopy(h_input.dense))\n",
    "dbi2 = DoubleBracketIteration(deepcopy(h_input.dense))\n",
    "gci = GroupCommutatorIterationWithEvolutionOracles( deepcopy(evolution_oracle ))\n",
    "for _ in range(15):\n",
    "    dbi(r, d = d_0.dense.matrix, mode = DoubleBracketGeneratorType.single_commutator )\n",
    "    dbi2(r, d = d_0.dense.matrix, mode = DoubleBracketGeneratorType.group_commutator )\n",
    "    gci(r, diagonal_association= evolution_oracle_diagonal_target )\n",
    "    h_r = dbi.h.matrix\n",
    "    k_r = dbi2.h.matrix\n",
    "    j_r = gci.h.matrix\n",
    "    norms_it.append(norm(k_r-j_r))\n",
    "    norms_it2.append(norm(h_r-j_r))    \n",
    "plt.plot(norms_it)\n",
    "plt.show()\n",
    "plt.plot(norms_it2)"
   ]
  },
  {
   "cell_type": "markdown",
   "id": "1e6319bf",
   "metadata": {},
   "source": [
    "## Simple test of group commutator"
   ]
  },
  {
   "cell_type": "code",
   "execution_count": null,
   "id": "ec6361ca",
   "metadata": {},
   "outputs": [],
   "source": [
    "def test_exact_dbr_vs_gc_bound(nqubits,backend):\n",
    "    dbi = DoubleBracketIteration(deepcopy(h_input.dense))\n",
    "    dbi.mode = DoubleBracketGeneratorType.single_commutator\n",
    "\n",
    "\n",
    "    dbi2 = DoubleBracketIteration(deepcopy(h_input.dense))\n",
    "    dbi2.mode = DoubleBracketGeneratorType.group_commutator\n",
    "\n",
    "    import matplotlib.pyplot as plt\n",
    "    norms  = []\n",
    "    for r in np.linspace(1e-5,0.1,30):\n",
    "        dbi(r, d=d_0.dense.matrix)\n",
    "        dbi2(r, d=d_0.dense.matrix)\n",
    "        norms.append(norm(dbi.h.matrix- dbi2.h.matrix))\n",
    "    \n",
    "    #plt.plot(np.linspace(1e-5,.1,30), [x**1.5*1000 for x in np.linspace(1e-5,.1,30)])\n",
    "    plt.plot(np.linspace(1e-5,.1,30),norms)\n",
    "test_exact_dbr_vs_gc_bound(nqubits,backend)"
   ]
  },
  {
   "cell_type": "markdown",
   "id": "0fc17c2d",
   "metadata": {},
   "source": [
    "## Check the GC bound is valid and corectly implemented in DoubleBracketIteration\n",
    "\n",
    "The bound is $$||e^{-t[D,H]}-GC(s=\\sqrt{t})||\\le t^{3/2}(||[H,[D,H]||+||[D,[D,H]]||$$\n"
   ]
  },
  {
   "cell_type": "code",
   "execution_count": null,
   "id": "8ecce261",
   "metadata": {
    "scrolled": true
   },
   "outputs": [],
   "source": [
    "print_function_source_code(test_double_bracket_iteration_eval_dbr_unitary)"
   ]
  },
  {
   "cell_type": "code",
   "execution_count": null,
   "id": "bcfab105",
   "metadata": {
    "scrolled": true
   },
   "outputs": [],
   "source": [
    "test_double_bracket_iteration_eval_dbr_unitary(backend, nqubits)"
   ]
  },
  {
   "cell_type": "markdown",
   "id": "c708df6a",
   "metadata": {},
   "source": [
    "### We repeat the function in order to plot the bound"
   ]
  },
  {
   "cell_type": "code",
   "execution_count": null,
   "id": "d4cff4ad",
   "metadata": {},
   "outputs": [],
   "source": [
    "r\"\"\"The bound is $$||e^{-[D,H]}-GC||\\le s^{3/2}(||[H,[D,H]||+||[D,[D,H]]||$$\"\"\"\n",
    "h0 = random_hermitian(2**nqubits, backend=backend)\n",
    "d = backend.cast(np.diag(np.diag(backend.to_numpy(h0))))\n",
    "dbi = DoubleBracketIteration(\n",
    "    Hamiltonian(nqubits, h0, backend=backend),\n",
    "    mode=DoubleBracketGeneratorType.group_commutator,\n",
    ")\n",
    "\n",
    "times = np.linspace(0.001, 0.01, 10)\n",
    "norms = []\n",
    "norms_bound = []\n",
    "for s in times:\n",
    "    u = dbi.eval_dbr_unitary(\n",
    "        s, d=d, mode=DoubleBracketGeneratorType.single_commutator\n",
    "    )\n",
    "    v = dbi.eval_dbr_unitary(\n",
    "        s, d=d, mode=DoubleBracketGeneratorType.group_commutator\n",
    "    )\n",
    "\n",
    "    norms.append(np.linalg.norm(u - v) )\n",
    "    w = dbi.commutator(h0,d)\n",
    "    norms_bound.append(0.5*s**1.48 * (\n",
    "        np.linalg.norm(dbi.commutator(h0,w)) + np.linalg.norm(dbi.commutator(d,w))\n",
    "    ))\n",
    "    assert np.linalg.norm(u - v) < 10 * s**1.49 * (\n",
    "            np.linalg.norm(h0) + np.linalg.norm(d)\n",
    "        ) * np.linalg.norm(h0) * np.linalg.norm(d)"
   ]
  },
  {
   "cell_type": "markdown",
   "id": "914f2c09",
   "metadata": {},
   "source": [
    "Unfortunately we cannot assume that \n",
    "`assert popt[0] < 1.51`\n",
    "because in principle data satisfying the bound can be ragged and could have a large slope.\n",
    "When the bound is saturated, however, then the following fit works:"
   ]
  },
  {
   "cell_type": "code",
   "execution_count": null,
   "id": "05128816",
   "metadata": {},
   "outputs": [],
   "source": [
    "from scipy.optimize import curve_fit\n",
    "popt, pcov = curve_fit( (lambda x, a, b: a*x+b ), [np.log(t) for t in times], [np.log(n) for n in norms])\n",
    "assert popt[0] < 1.51"
   ]
  },
  {
   "cell_type": "markdown",
   "id": "5c757242",
   "metadata": {},
   "source": [
    "In practice that assertion usually goes through. We check this further by these plots"
   ]
  },
  {
   "cell_type": "code",
   "execution_count": null,
   "id": "62c60671",
   "metadata": {},
   "outputs": [],
   "source": [
    "import matplotlib.pyplot as plt\n",
    "plt.plot(norms)\n",
    "plt.plot(norms_bound)"
   ]
  },
  {
   "cell_type": "code",
   "execution_count": null,
   "id": "038df7d5",
   "metadata": {},
   "outputs": [],
   "source": [
    "plt.loglog(times,norms)\n",
    "plt.loglog(times,norms_bound)"
   ]
  },
  {
   "cell_type": "markdown",
   "id": "3bcc8be4",
   "metadata": {},
   "source": [
    "Usually random Hamiltonian matrices give something $a\\approx 1.49$"
   ]
  },
  {
   "cell_type": "code",
   "execution_count": null,
   "id": "6cd3e03b",
   "metadata": {},
   "outputs": [],
   "source": [
    "popt"
   ]
  },
  {
   "cell_type": "code",
   "execution_count": null,
   "id": "d0f05dfe",
   "metadata": {},
   "outputs": [],
   "source": []
  },
  {
   "cell_type": "markdown",
   "id": "70ac58a2",
   "metadata": {},
   "source": [
    "# Check the convergence of the Trotter-Suzuki Hamiltonian simulation oracle\n"
   ]
  },
  {
   "cell_type": "code",
   "execution_count": null,
   "id": "54efc9de",
   "metadata": {},
   "outputs": [],
   "source": [
    "print_function_source_code(test_dbi_evolution_oracle)"
   ]
  },
  {
   "cell_type": "code",
   "execution_count": null,
   "id": "69456994",
   "metadata": {},
   "outputs": [],
   "source": [
    "test_dbi_evolution_oracle(backend,nqubits,1 ,1e-2)"
   ]
  },
  {
   "cell_type": "markdown",
   "id": "392a7c7c",
   "metadata": {},
   "source": [
    "This was just a check to see if using the circuit method works. Then covering the numerical and text flag."
   ]
  },
  {
   "cell_type": "code",
   "execution_count": null,
   "id": "e20f72df",
   "metadata": {},
   "outputs": [],
   "source": [
    "t_step = 1\n",
    "def check_hs_eps(eps):\n",
    "    evolution_oracle_hamiltonian_simulation.eps_trottersuzuki = eps\n",
    "    U_hamiltonian_simulation = evolution_oracle_hamiltonian_simulation.circuit(t_step).unitary()\n",
    "    V_target = h_input.exp(t_step)\n",
    "    print(eps,norm(U_hamiltonian_simulation-V_target))"
   ]
  },
  {
   "cell_type": "code",
   "execution_count": null,
   "id": "32f515a0",
   "metadata": {},
   "outputs": [],
   "source": [
    "check_hs_eps(0.1)"
   ]
  },
  {
   "cell_type": "code",
   "execution_count": null,
   "id": "3640b862",
   "metadata": {},
   "outputs": [],
   "source": [
    "check_hs_eps(.001)"
   ]
  },
  {
   "cell_type": "code",
   "execution_count": null,
   "id": "51de5892",
   "metadata": {},
   "outputs": [],
   "source": [
    "check_hs_eps(1e-4)"
   ]
  },
  {
   "cell_type": "code",
   "execution_count": null,
   "id": "acb49e83",
   "metadata": {},
   "outputs": [],
   "source": []
  },
  {
   "cell_type": "code",
   "execution_count": null,
   "id": "da441e93",
   "metadata": {},
   "outputs": [],
   "source": [
    "\n",
    "gci = GroupCommutatorIterationWithEvolutionOracles( deepcopy(evolution_oracle_hamiltonian_simulation ))\n",
    "gci.mode_double_bracket_rotation = DoubleBracketRotationType.group_commutator_other_sorting\n"
   ]
  },
  {
   "cell_type": "code",
   "execution_count": null,
   "id": "26b4c66a",
   "metadata": {},
   "outputs": [],
   "source": [
    "gci.iterated_hamiltonian_evolution_oracle.h"
   ]
  },
  {
   "cell_type": "code",
   "execution_count": null,
   "id": "72bdc7a7",
   "metadata": {},
   "outputs": [],
   "source": [
    "unitary_gc_from_oracles = gci.group_commutator( np.sqrt(t_step),\n",
    "           diagonal_association_evolution_oracle = evolution_oracle_diagonal_target )"
   ]
  },
  {
   "cell_type": "code",
   "execution_count": null,
   "id": "6635da98",
   "metadata": {},
   "outputs": [],
   "source": [
    "for a in DoubleBracketRotationType:\n",
    "    print(a.name)"
   ]
  },
  {
   "cell_type": "code",
   "execution_count": null,
   "id": "d4407257",
   "metadata": {},
   "outputs": [],
   "source": [
    "def test_gc_numerical_vs_circuit(eps):\n",
    "    gci.iterated_hamiltonian_evolution_oracle.eps_trottersuzuki = eps\n",
    "    evolution_oracle_diagonal_target.eps_trottersuzuki = eps\n",
    "    \n",
    "    gci.iterated_hamiltonian_evolution_oracle.please_be_verbose = False\n",
    "    evolution_oracle_diagonal_target.please_be_verbose = False\n",
    "    \n",
    "\n",
    "    gci.mode_double_bracket_rotation = DoubleBracketRotationType.group_commutator_reduced\n",
    "\n",
    "    gci.iterated_hamiltonian_evolution_oracle.mode_evolution_oracle = EvolutionOracleType.numerical\n",
    "    evolution_oracle_diagonal_target.mode_evolution_oracle  = EvolutionOracleType.numerical\n",
    "\n",
    "    unitary_gc_from_oracles = gci.group_commutator( np.sqrt(t_step),\n",
    "           diagonal_association_evolution_oracle = evolution_oracle_diagonal_target )\n",
    "\n",
    "    unitary_gc_existing = wrapper_gc(dbi, np.sqrt(t_step),d_0.dense.matrix)\n",
    "\n",
    "    bckwd = unitary_gc_from_oracles['backwards']\n",
    "    fwd = unitary_gc_from_oracles['forwards']\n",
    "\n",
    "    e1 = gci.iterated_hamiltonian_evolution_oracle.circuit(np.sqrt(t_step))\n",
    "    e2 = evolution_oracle_diagonal_target.circuit(np.sqrt(t_step))\n",
    "\n",
    "    gci.iterated_hamiltonian_evolution_oracle.mode_evolution_oracle = EvolutionOracleType.hamiltonian_simulation\n",
    "    evolution_oracle_diagonal_target.mode_evolution_oracle  = EvolutionOracleType.hamiltonian_simulation\n",
    "\n",
    "    unitary_gc_from_oracles = gci.group_commutator( np.sqrt(t_step),\n",
    "           diagonal_association = evolution_oracle_diagonal_target )\n",
    "\n",
    "    unitary_gc_existing = wrapper_gc(dbi, np.sqrt(t_step),d_0.dense.matrix)\n",
    "\n",
    "    bckwdhs = unitary_gc_from_oracles['backwards'].unitary()\n",
    "    fwdhs = unitary_gc_from_oracles['forwards'].unitary()\n",
    "\n",
    "    e1hs = gci.iterated_hamiltonian_evolution_oracle.circuit(np.sqrt(t_step)).unitary()\n",
    "    e2hs = evolution_oracle_diagonal_target.circuit(np.sqrt(t_step)).unitary()\n",
    "\n",
    "    print(\"e1:\", norm( e1hs-e1))\n",
    "    print(\"e2:\", norm(e2hs-e2))\n",
    "    print(\"Testing inversion forwards:\", norm(bckwd-bckwdhs))\n",
    "    print(\"Testing inversion backwards:\", norm(fwd - fwdhs))\n",
    "\n",
    "test_gc_numerical_vs_circuit(0.1)\n",
    "\n",
    "test_gc_numerical_vs_circuit(0.0001)"
   ]
  },
  {
   "cell_type": "code",
   "execution_count": null,
   "id": "2a173296",
   "metadata": {},
   "outputs": [],
   "source": [
    "def test_group_commutator_against_itself(gci, evolution_diagonal,eps = 0.0001):\n",
    "    gci.iterated_hamiltonian_evolution_oracle.eps_trottersuzuki = eps\n",
    "    evolution_oracle_diagonal_target.eps_trottersuzuki = eps\n",
    "    for s in np.linspace(0,1,5):\n",
    "        gci.iterated_hamiltonian_evolution_oracle.mode_evolution_oracle = EvolutionOracleType.hamiltonian_simulation\n",
    "        evolution_diagonal.mode_evolution_oracle = EvolutionOracleType.hamiltonian_simulation\n",
    "        gc_hs = gci.group_commutator(s,evolution_diagonal)\n",
    "        gci.iterated_hamiltonian_evolution_oracle.mode_evolution_oracle = EvolutionOracleType.numerical\n",
    "        evolution_diagonal.mode_evolution_oracle = EvolutionOracleType.numerical\n",
    "        gc_np = gci.group_commutator(s,evolution_diagonal)\n",
    "        print(norm(gc_np['forwards']-gc_hs['forwards'].unitary()))\n",
    "        print(norm(gc_np['backwards']-gc_hs['backwards'].unitary()))\n",
    "\n",
    "gci.mode_double_bracket_rotation = DoubleBracketRotationType.group_commutator        \n",
    "test_group_commutator_against_itself(gci, evolution_oracle_diagonal_target)\n",
    "\n",
    "gci.mode_double_bracket_rotation = DoubleBracketRotationType.group_commutator_other_sorting        \n",
    "test_group_commutator_against_itself(gci, evolution_oracle_diagonal_target)\n",
    "\n",
    "gci.mode_double_bracket_rotation = DoubleBracketRotationType.group_commutator_reduced      \n",
    "test_group_commutator_against_itself(gci, evolution_oracle_diagonal_target)"
   ]
  },
  {
   "cell_type": "code",
   "execution_count": null,
   "id": "93ee9d5e",
   "metadata": {},
   "outputs": [],
   "source": [
    "def test_gc_numerical_vs_bracket(eps = 0.3):\n",
    "    gci.iterated_hamiltonian_evolution_oracle.eps_trottersuzuki = eps\n",
    "    evolution_oracle_diagonal_target.eps_trottersuzuki = eps\n",
    "    \n",
    "    gci.iterated_hamiltonian_evolution_oracle.please_be_verbose = False\n",
    "    evolution_oracle_diagonal_target.please_be_verbose = False\n",
    "    \n",
    "\n",
    "    gci.mode_double_bracket_rotation = DoubleBracketRotationType.group_commutator\n",
    "\n",
    "    gci.iterated_hamiltonian_evolution_oracle.mode_evolution_oracle = EvolutionOracleType.numerical\n",
    "    evolution_oracle_diagonal_target.mode_evolution_oracle  = EvolutionOracleType.numerical\n",
    "\n",
    "    unitary_gc_from_oracles = gci.group_commutator( np.sqrt(t_step),\n",
    "           diagonal_association_evolution_oracle = evolution_oracle_diagonal_target )\n",
    "\n",
    "    import scipy\n",
    "    unitary_gc_existing1 = scipy.linalg.expm( t_step * (d_0.dense.matrix @ h_x.dense.matrix\n",
    "                                         -h_x.dense.matrix@d_0.dense.matrix))\n",
    "\n",
    "    bckwd = unitary_gc_from_oracles['backwards']\n",
    "    fwd = unitary_gc_from_oracles['forwards']\n",
    "\n",
    "    e1 = gci.iterated_hamiltonian_evolution_oracle.circuit(np.sqrt(t_step))\n",
    "    e2 = evolution_oracle_diagonal_target.circuit(np.sqrt(t_step))\n",
    "\n",
    "    gci.iterated_hamiltonian_evolution_oracle.mode_evolution_oracle = EvolutionOracleType.hamiltonian_simulation\n",
    "    evolution_oracle_diagonal_target.mode_evolution_oracle  = EvolutionOracleType.hamiltonian_simulation\n",
    "\n",
    "    unitary_gc_from_oracles = gci.group_commutator( np.sqrt(t_step),\n",
    "           diagonal_association_evolution_oracle = evolution_oracle_diagonal_target )\n",
    "\n",
    "    unitary_gc_existing = wrapper_gc(dbi, np.sqrt(t_step),-d_0.dense.matrix)\n",
    "\n",
    "    bckwdhs = unitary_gc_from_oracles['backwards'].unitary()\n",
    "    fwdhs = unitary_gc_from_oracles['forwards'].unitary()\n",
    "\n",
    "    e1hs = gci.iterated_hamiltonian_evolution_oracle.circuit(np.sqrt(t_step)).unitary()\n",
    "    e2hs = evolution_oracle_diagonal_target.circuit(np.sqrt(t_step)).unitary()\n",
    "    print(\"Test:\", norm(unitary_gc_existing-unitary_gc_existing1))\n",
    "    print(\"e1:\", norm( e1hs-e1))\n",
    "    print(\"e2:\", norm(e2hs-e2))\n",
    "    print(\"Testing inversion forwards:\", norm(bckwd-bckwdhs))\n",
    "    print(\"Testing inversion backwards:\", norm(fwd - fwdhs))\n",
    "\n",
    "test_gc_numerical_vs_bracket(0.1)\n",
    "\n",
    "test_gc_numerical_vs_bracket(0.0001)"
   ]
  },
  {
   "cell_type": "code",
   "execution_count": null,
   "id": "d2f19ef9",
   "metadata": {},
   "outputs": [],
   "source": [
    "def gc_hs_eps(eps):\n",
    "    gci.iterated_hamiltonian_evolution_oracle.eps_trottersuzuki = eps\n",
    "    evolution_oracle_diagonal_target.eps_trottersuzuki = eps\n",
    "    \n",
    "    gci.iterated_hamiltonian_evolution_oracle.please_be_verbose = True\n",
    "    evolution_oracle_diagonal_target.please_be_verbose = False\n",
    "    \n",
    "    gci.iterated_hamiltonian_evolution_oracle.mode_evolution_oracle = EvolutionOracleType.numerical\n",
    "    evolution_oracle_diagonal_target.mode_evolution_oracle  = EvolutionOracleType.numerical\n",
    "\n",
    "    gci.mode_double_bracket_rotation = DoubleBracketRotationType.group_commutator\n",
    "    \n",
    "    unitary_gc_from_oracles = gci.group_commutator( np.sqrt(t_step),\n",
    "               diagonal_association_evolution_oracle = evolution_oracle_diagonal_target )\n",
    "    \n",
    "    unitary_gc_existing = wrapper_gc(dbi, np.sqrt(t_step),-d_0.dense.matrix)\n",
    "    \n",
    "    bckwd = unitary_gc_from_oracles['backwards']\n",
    "    fwd = unitary_gc_from_oracles['forwards']\n",
    "    \n",
    "    e1 = gci.iterated_hamiltonian_evolution_oracle.circuit(np.sqrt(t_step))\n",
    "    e2 = evolution_oracle_diagonal_target.circuit(np.sqrt(t_step))\n",
    "    \n",
    "    print(\"Backwards:\", norm( bckwd - unitary_gc_existing))\n",
    "    print(\"Forwards:\", norm(fwd - unitary_gc_existing))\n",
    "    print(\"Testing inversion forwards:\", norm(fwd - e2.conj().T @ e1.conj().T @ e2 @e1))\n",
    "    print(\"Testing inversion backwards:\", norm(bckwd - e2.conj().T @ e1.conj().T @ e2 @e1))\n",
    "    print(\"Testing inversion forwards:\", norm(fwd - e1.conj().T @ e2.conj().T @  e1 @e2))\n",
    "    print(\"Testing inversion backwards:\", norm(bckwd - e1.conj().T @ e2.conj().T @  e1 @e2))\n",
    "    print(\"Testing inversion forwards:\", norm(fwd - e1@e2@ e1.conj().T @ e2.conj().T ))\n",
    "    print(\"Testing inversion backwards:\", norm(bckwd - e1@e2@e1.conj().T @ e2.conj().T ))\n",
    "    print(\"Testing inversion forwards:\", norm(fwd - e1.conj().T@e2@ e1 @ e2.conj().T ))\n",
    "    print(\"Testing inversion backwards:\", norm(bckwd - e1.conj().T@e2@e1 @ e2.conj().T ))\n",
    "    print(\"Testing reversal:\", norm(bckwd@fwd - unitary_gc_existing @unitary_gc_existing.T.conj() ))\n",
    "    print(\"Testing reversal:\", norm(bckwd@fwd - e1@e1.conj().T ))"
   ]
  },
  {
   "cell_type": "code",
   "execution_count": null,
   "id": "ae8e83bf",
   "metadata": {},
   "outputs": [],
   "source": [
    "gc_hs_eps(0.1)"
   ]
  },
  {
   "cell_type": "markdown",
   "id": "5dcc9f04",
   "metadata": {},
   "source": [
    "We may improve the discrepancy by setting smaller eps"
   ]
  },
  {
   "cell_type": "code",
   "execution_count": null,
   "id": "b1bf92e2",
   "metadata": {},
   "outputs": [],
   "source": [
    "gc_hs_eps(0.0001)"
   ]
  },
  {
   "cell_type": "code",
   "execution_count": null,
   "id": "f12288b0",
   "metadata": {},
   "outputs": [],
   "source": [
    "norm(unitary_gc_from_oracles['forwards'].unitary() - unitary_gc_existing)"
   ]
  },
  {
   "cell_type": "code",
   "execution_count": null,
   "id": "77579bc5",
   "metadata": {},
   "outputs": [],
   "source": [
    "norm(unitary_gc_from_oracles['backwards'].unitary() - unitary_gc_existing)"
   ]
  },
  {
   "cell_type": "code",
   "execution_count": null,
   "id": "0128e99d",
   "metadata": {},
   "outputs": [],
   "source": [
    "stop"
   ]
  },
  {
   "cell_type": "markdown",
   "id": "a3504871",
   "metadata": {},
   "source": [
    "#### Test more explicitly\n"
   ]
  },
  {
   "cell_type": "code",
   "execution_count": null,
   "id": "642cbce1",
   "metadata": {},
   "outputs": [],
   "source": [
    "u_h = gci.iterated_hamiltonian_evolution_oracle.circuit( np.sqrt(t_step)).unitary()\n",
    "u_d = evolution_oracle_diagonal_target.circuit( np.sqrt(t_step)).unitary()\n",
    "u_h_reversed = gci.iterated_hamiltonian_evolution_oracle.circuit( -np.sqrt(t_step)).unitary()\n",
    "u_d_reversed = evolution_oracle_diagonal_target.circuit( -np.sqrt(t_step)).unitary()\n",
    "norm( u_h_reversed @ u_d_reversed @ u_h @ u_d - unitary_gc_existing)"
   ]
  },
  {
   "cell_type": "code",
   "execution_count": null,
   "id": "6edaa7bb",
   "metadata": {},
   "outputs": [],
   "source": [
    "u_h = gci.iterated_hamiltonian_evolution_oracle.circuit( np.sqrt(t_step))\n",
    "u_d = evolution_oracle_diagonal_target.circuit( np.sqrt(t_step))\n",
    "u_h_reversed = gci.iterated_hamiltonian_evolution_oracle.circuit( -np.sqrt(t_step))\n",
    "u_d_reversed = evolution_oracle_diagonal_target.circuit( -np.sqrt(t_step))\n",
    "norm( (u_h_reversed + u_d_reversed + u_h + u_d).unitary() - unitary_gc_existing)"
   ]
  },
  {
   "cell_type": "markdown",
   "id": "b56f305f",
   "metadata": {},
   "source": [
    "#### 3. Evolution oracle numpy\n"
   ]
  },
  {
   "cell_type": "code",
   "execution_count": null,
   "id": "1b6f6c17",
   "metadata": {},
   "outputs": [],
   "source": [
    "evolution_oracle_numerical = EvolutionOracle(deepcopy(h_input), \"ZX\",\n",
    "                               mode_evolution_oracle = EvolutionOracleType.numerical)\n",
    "\n",
    "gci = GroupCommutatorIterationWithEvolutionOracles( deepcopy(evolution_oracle_numerical ))"
   ]
  },
  {
   "cell_type": "code",
   "execution_count": null,
   "id": "e3bec576",
   "metadata": {},
   "outputs": [],
   "source": [
    "evolution_oracle_diagonal_target =  EvolutionOracle(d_0, \"D0\",\n",
    "               mode_evolution_oracle=EvolutionOracleType.numerical)\n"
   ]
  },
  {
   "cell_type": "code",
   "execution_count": null,
   "id": "f14d3133",
   "metadata": {},
   "outputs": [],
   "source": [
    "unitary_gc_from_oracles = gci.group_commutator( np.sqrt(t_step),\n",
    "           diagonal_association_evolution_oracle = evolution_oracle_diagonal_target )"
   ]
  },
  {
   "cell_type": "markdown",
   "id": "6256dc33",
   "metadata": {},
   "source": [
    "Compared to the group commutator using Hamiltonian simulation there will be small deviations that arise from Trotter-Suzuki decomposition"
   ]
  },
  {
   "cell_type": "code",
   "execution_count": null,
   "id": "5ab01c82",
   "metadata": {
    "scrolled": true
   },
   "outputs": [],
   "source": [
    "norm(unitary_gc_from_oracles['backwards'] - unitary_gc_existing)"
   ]
  },
  {
   "cell_type": "code",
   "execution_count": null,
   "id": "5d3354a8",
   "metadata": {},
   "outputs": [],
   "source": [
    "norm(unitary_gc_from_oracles['forwards'] - unitary_gc_existing)"
   ]
  },
  {
   "cell_type": "markdown",
   "id": "26dfc6ac",
   "metadata": {},
   "source": [
    "We may check by switching the group commutator flag that the difference comes from ordering and inversions"
   ]
  },
  {
   "cell_type": "code",
   "execution_count": null,
   "id": "2e43555b",
   "metadata": {},
   "outputs": [],
   "source": [
    "gci.mode_double_bracket_rotation = DoubleBracketRotationType.group_commutator_other_sorting\n",
    "\n",
    "unitary_gc_from_oracles = gci.group_commutator( np.sqrt(t_step),\n",
    "           diagonal_association_evolution_oracle = evolution_oracle_diagonal_target )\n",
    "norm(unitary_gc_from_oracles['forwards'] - unitary_gc_existing)"
   ]
  },
  {
   "cell_type": "markdown",
   "id": "d6a735d4",
   "metadata": {},
   "source": [
    "#### 4. Check gci rotation"
   ]
  },
  {
   "cell_type": "code",
   "execution_count": null,
   "id": "5471e516",
   "metadata": {},
   "outputs": [],
   "source": [
    "evolution_oracle_hamiltonian_simulation = EvolutionOracle(deepcopy(h_input), \"ZX\",\n",
    "                               mode_evolution_oracle = EvolutionOracleType.hamiltonian_simulation)\n",
    "evolution_oracle_diagonal_target =  EvolutionOracle(d_0, \"D0\",\n",
    "               mode_evolution_oracle=EvolutionOracleType.hamiltonian_simulation)\n",
    "gci = GroupCommutatorIterationWithEvolutionOracles( deepcopy(evolution_oracle_hamiltonian_simulation ))"
   ]
  },
  {
   "cell_type": "code",
   "execution_count": null,
   "id": "7a7ac8f4",
   "metadata": {},
   "outputs": [],
   "source": [
    "type(gci.iterated_hamiltonian_evolution_oracle)"
   ]
  },
  {
   "cell_type": "code",
   "execution_count": null,
   "id": "d30c7558",
   "metadata": {},
   "outputs": [],
   "source": [
    "gci(t_step, diagonal_association=evolution_oracle_diagonal_target)"
   ]
  },
  {
   "cell_type": "code",
   "execution_count": null,
   "id": "1fe303d2",
   "metadata": {},
   "outputs": [],
   "source": [
    "type(gci.iterated_hamiltonian_evolution_oracle)"
   ]
  },
  {
   "cell_type": "code",
   "execution_count": null,
   "id": "6ab13137",
   "metadata": {},
   "outputs": [],
   "source": [
    "gci.iterated_hamiltonian_evolution_oracle.mode_evolution_oracle"
   ]
  },
  {
   "cell_type": "code",
   "execution_count": null,
   "id": "ca82a687",
   "metadata": {},
   "outputs": [],
   "source": [
    "u_frame_shifted = gci.iterated_hamiltonian_evolution_oracle.circuit(t_step).unitary()"
   ]
  },
  {
   "cell_type": "code",
   "execution_count": null,
   "id": "cd4f541d",
   "metadata": {},
   "outputs": [],
   "source": [
    "norm( dbi.h.exp(t_step) - u_frame_shifted)"
   ]
  },
  {
   "cell_type": "code",
   "execution_count": null,
   "id": "67257043",
   "metadata": {},
   "outputs": [],
   "source": [
    "gci.iterated_hamiltonian_evolution_oracle.mode_evolution_oracle\n"
   ]
  },
  {
   "cell_type": "code",
   "execution_count": null,
   "id": "feb5fde9",
   "metadata": {},
   "outputs": [],
   "source": [
    "gci(t_step, diagonal_association=evolution_oracle_diagonal_target)"
   ]
  },
  {
   "cell_type": "code",
   "execution_count": null,
   "id": "95de4c31",
   "metadata": {},
   "outputs": [],
   "source": [
    "dbi(t_step, d = evolution_oracle_diagonal_target.h.dense.matrix)"
   ]
  },
  {
   "cell_type": "code",
   "execution_count": null,
   "id": "2bcc8f07",
   "metadata": {},
   "outputs": [],
   "source": [
    "u_frame_shifted = gci.iterated_hamiltonian_evolution_oracle.circuit(t_step).unitary()\n"
   ]
  },
  {
   "cell_type": "code",
   "execution_count": null,
   "id": "eafa1770",
   "metadata": {},
   "outputs": [],
   "source": [
    "norm( dbi.h.exp(t_step) - u_frame_shifted)"
   ]
  },
  {
   "cell_type": "code",
   "execution_count": null,
   "id": "05e94ce8",
   "metadata": {},
   "outputs": [],
   "source": []
  },
  {
   "cell_type": "code",
   "execution_count": null,
   "id": "ed2b81e1",
   "metadata": {},
   "outputs": [],
   "source": [
    "for k in range(3):\n",
    "    gci(t_step, diagonal_association=evolution_oracle_diagonal_target)\n",
    "    dbi(t_step, d = evolution_oracle_diagonal_target.h.dense.matrix)\n",
    "    print(norm( dbi.h.exp(t_step) - u_frame_shifted))"
   ]
  },
  {
   "cell_type": "code",
   "execution_count": null,
   "id": "15d96e82",
   "metadata": {},
   "outputs": [],
   "source": []
  },
  {
   "cell_type": "code",
   "execution_count": null,
   "id": "3fdf49bd",
   "metadata": {},
   "outputs": [],
   "source": []
  },
  {
   "cell_type": "code",
   "execution_count": null,
   "id": "9130482b",
   "metadata": {},
   "outputs": [],
   "source": [
    "gci.iterated_hamiltonian_evolution_oracle.mode_evolution_oracle = EvolutionOracleType.hamiltonian_simulation"
   ]
  },
  {
   "cell_type": "code",
   "execution_count": null,
   "id": "de46b823",
   "metadata": {},
   "outputs": [],
   "source": [
    "gci.iterated_hamiltonian_evolution_oracle.mode_evolution_oracle = EvolutionOracleType.numerical\n",
    "gc_numpy = gci.group_commutator( np.sqrt(t_step),\n",
    "                                             diagonal_association_evolution_oracle= EvolutionOracle(d_0, \"D0\",mode_evolution_oracle=EvolutionOracleType.numerical))"
   ]
  },
  {
   "cell_type": "code",
   "execution_count": null,
   "id": "d4f78e3a",
   "metadata": {},
   "outputs": [],
   "source": []
  },
  {
   "cell_type": "code",
   "execution_count": null,
   "id": "e4d23962",
   "metadata": {},
   "outputs": [],
   "source": [
    "## Test more fancy functionalities\n",
    "input_hamiltonian_evolution_oracle_hamiltonian_simulation.please_be_verbose = False\n",
    "gci = GroupCommutatorIterationWithEvolutionOracles( deepcopy(input_hamiltonian_evolution_oracle_hamiltonian_simulation ))\n",
    "d_ev =  EvolutionOracle(d_0, \"D0\",mode_evolution_oracle=EvolutionOracleType.hamiltonian_simulation)\n",
    "\n",
    "gci.iterated_hamiltonian_evolution_oracle.mode_evolution_oracle = EvolutionOracleType.hamiltonian_simulation\n",
    "query_list = gci.group_commutator( np.sqrt(t_step),\n",
    "                                             diagonal_association_evolution_oracle= d_ev )\n",
    "\n",
    "norm(query_list['forwards'].unitary() -query_list['backwards'].unitary().conj().T)\n",
    "\n",
    "\n"
   ]
  },
  {
   "cell_type": "code",
   "execution_count": null,
   "id": "2e69dc0b",
   "metadata": {},
   "outputs": [],
   "source": [
    "norm(query_list['forwards'] -query_list['backwards'].T.conj())"
   ]
  },
  {
   "cell_type": "code",
   "execution_count": null,
   "id": "bfee7994",
   "metadata": {},
   "outputs": [],
   "source": [
    "#Test file entry\n",
    "u = gci.iterated_hamiltonian_evolution_oracle.circuit( np.sqrt(t_step)).unitary()\n",
    "u2 = gci.iterated_hamiltonian_evolution_oracle.circuit( -np.sqrt(t_step)).unitary()\n",
    "norm(u-u2.T.conj())"
   ]
  },
  {
   "cell_type": "code",
   "execution_count": null,
   "id": "527bb789",
   "metadata": {},
   "outputs": [],
   "source": [
    "d_0.mode_evolution_oracle = EvolutionOracleType.text_strings\n",
    "gci.iterated_hamiltonian_evolution_oracle.mode_evolution_oracle = EvolutionOracleType.text_strings\n",
    "query_list = gci.group_commutator( np.sqrt(t_step*2),\n",
    "             diagonal_association_evolution_oracle= EvolutionOracle(d_0, \"D0\"))\n",
    "\n",
    "\n",
    "query_list['forwards']"
   ]
  },
  {
   "cell_type": "code",
   "execution_count": null,
   "id": "a149d57c",
   "metadata": {},
   "outputs": [],
   "source": []
  }
 ],
 "metadata": {
  "kernelspec": {
   "display_name": "Python 3 (ipykernel)",
   "language": "python",
   "name": "python3"
  },
  "language_info": {
   "codemirror_mode": {
    "name": "ipython",
    "version": 3
   },
   "file_extension": ".py",
   "mimetype": "text/x-python",
   "name": "python",
   "nbconvert_exporter": "python",
   "pygments_lexer": "ipython3",
   "version": "3.10.12"
  }
 },
 "nbformat": 4,
 "nbformat_minor": 5
}
