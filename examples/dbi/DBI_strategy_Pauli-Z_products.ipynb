{
 "cells": [
  {
   "cell_type": "markdown",
   "metadata": {},
   "source": [
    "# Double-Bracket Iteration Strategy: Pauli-Z products\n",
    "\n",
    "In this example, we demonstrate the usage of a DBI strategy, where the diagonal operators for double bracket iterations are variationally chosen from all possible local Pauli-Z operators."
   ]
  },
  {
   "cell_type": "markdown",
   "metadata": {},
   "source": [
    "### Initial setup"
   ]
  },
  {
   "cell_type": "code",
   "execution_count": null,
   "metadata": {},
   "outputs": [],
   "source": [
    "!python -m pip install seaborn # plotting library\n",
    "!python -m pip install hyperopt # required to optimize the DBF step"
   ]
  },
  {
   "cell_type": "code",
   "execution_count": null,
   "metadata": {},
   "outputs": [],
   "source": [
    "from copy import copy, deepcopy\n",
    "\n",
    "import numpy as np\n",
    "import matplotlib.pyplot as plt\n",
    "import seaborn as sns\n",
    "\n",
    "from qibo import hamiltonians, set_backend\n",
    "from qibo.models.dbi.double_bracket import DoubleBracketGeneratorType, DoubleBracketIteration\n",
    "from qibo.models.dbi.utils import *"
   ]
  },
  {
   "cell_type": "markdown",
   "metadata": {},
   "source": [
    "Below are some useful functions to visualize the diagonalization process."
   ]
  },
  {
   "cell_type": "code",
   "execution_count": null,
   "metadata": {},
   "outputs": [],
   "source": [
    "def visualize_matrix(matrix, title=\"\"):\n",
    "    \"\"\"Visualize absolute values of a matrix in a heatmap form.\"\"\"\n",
    "    fig, ax = plt.subplots(figsize=(5, 5))\n",
    "    ax.set_title(title)\n",
    "    try:\n",
    "        im = ax.imshow(np.absolute(matrix), cmap=\"inferno\")\n",
    "    except TypeError:\n",
    "        im = ax.imshow(np.absolute(matrix.get()), cmap=\"inferno\")\n",
    "    fig.colorbar(im, ax=ax)\n",
    "\n",
    "\n",
    "def visualize_drift(h0, h):\n",
    "    \"\"\"Visualize drift of the evolved hamiltonian w.r.t. h0.\"\"\"\n",
    "    fig, ax = plt.subplots(figsize=(5, 5))\n",
    "    ax.set_title(r\"Drift: $|\\hat{H}_0 - \\hat{H}_{1}|$\")\n",
    "    try:\n",
    "        im = ax.imshow(np.absolute(h0 - h), cmap=\"inferno\")\n",
    "    except TypeError:\n",
    "        im = ax.imshow(np.absolute((h0 - h).get()), cmap=\"inferno\")\n",
    "\n",
    "    fig.colorbar(im, ax=ax)\n",
    "\n",
    "\n",
    "def plot_histories(loss_histories: list, steps: list, labels: list = None):\n",
    "    \"\"\"Plot off-diagonal norm histories over a sequential evolution.\"\"\"\n",
    "    plt.figure(figsize=(5, 5 * 6 / 8))\n",
    "    if len(steps) == 1:\n",
    "        # fixed_step\n",
    "        x_axis = [i * steps[0] for i in range(len(loss_histories))]\n",
    "    else:\n",
    "        x_axis = [sum(steps[:k]) for k in range(1, len(steps) + 1)]\n",
    "    plt.plot(x_axis, loss_histories, \"-o\")\n",
    "\n",
    "    x_labels_rounded = [round(x, 2) for x in x_axis]\n",
    "    x_labels_rounded = [0] + x_labels_rounded[0:5] + [max(x_labels_rounded)]\n",
    "    x_labels_rounded.pop(3)\n",
    "    plt.xticks(x_labels_rounded)\n",
    "\n",
    "    y_labels_rounded = [round(y, 1) for y in loss_histories]\n",
    "    y_labels_rounded = y_labels_rounded[0:5] + [min(y_labels_rounded)]\n",
    "    plt.yticks(y_labels_rounded)\n",
    "\n",
    "    if labels is not None:\n",
    "        labels_copy = copy(labels)\n",
    "        labels_copy.insert(0, \"Initial\")\n",
    "        for i, label in enumerate(labels_copy):\n",
    "            plt.text(x_axis[i], loss_histories[i], label)\n",
    "\n",
    "    plt.grid()\n",
    "    plt.xlabel(r\"Flow duration $s$\")\n",
    "    plt.title(\"Loss function histories\")"
   ]
  },
  {
   "cell_type": "markdown",
   "metadata": {},
   "source": [
    "# Example: TFIM\n",
    "\n",
    "As an example, we consider the Transverse Field Ising Model (TFIM):\n",
    "$$ H_{\\rm TFIM} = - \\sum_{i=1}^{N}\\bigl( Z_i Z_{i+1} + h X_i \\bigr),$$\n",
    "which is already implemented in `Qibo`. For this tutorial we set $N=5$ and $h=3$."
   ]
  },
  {
   "cell_type": "code",
   "execution_count": null,
   "metadata": {},
   "outputs": [],
   "source": [
    "# set the qibo backend (we suggest qibojit if N >= 20)\n",
    "# alternatives: tensorflow (not optimized), numpy (when CPU not supported by jit)\n",
    "set_backend(\"qibojit\", \"numba\")\n",
    "\n",
    "# hamiltonian parameters\n",
    "nqubits = 5\n",
    "h = 3\n",
    "\n",
    "# define the hamiltonian\n",
    "H_TFIM = hamiltonians.TFIM(nqubits=nqubits, h=h)\n",
    "\n",
    "# initialize class\n",
    "# Note: use deepcopy to prevent h being edited\n",
    "dbi = DoubleBracketIteration(deepcopy(H_TFIM),mode=DoubleBracketGeneratorType.single_commutator)\n",
    "print(\"Initial off diagonal norm\", dbi.off_diagonal_norm)"
   ]
  },
  {
   "cell_type": "code",
   "execution_count": null,
   "metadata": {},
   "outputs": [],
   "source": [
    "print(H_TFIM.matrix)"
   ]
  },
  {
   "cell_type": "markdown",
   "metadata": {},
   "source": [
    "### Generate local Pauli-Z operators"
   ]
  },
  {
   "cell_type": "code",
   "execution_count": null,
   "metadata": {},
   "outputs": [],
   "source": [
    "generate_local_Z = generate_Z_operators(nqubits)\n",
    "Z_ops = list(generate_local_Z.values())\n",
    "Z_names = list(generate_local_Z.keys())"
   ]
  },
  {
   "cell_type": "markdown",
   "metadata": {},
   "source": [
    "## Iteration from a list of operators\n",
    "The idea of this strategy is to chose the Z operator that reduces the off-diagonal norm of the hamiltonian most efficiently. Given a list of operators (np.array), the function `select_best_dbr_generator_and_run` searches for the maximum decrease in off-diagonal norm for each operator and runs one double bracket rotation using the optimal operator from the list.\n",
    "\n",
    "Note that the hyperopt settings can be set as positional arguments."
   ]
  },
  {
   "cell_type": "code",
   "execution_count": null,
   "metadata": {},
   "outputs": [],
   "source": [
    "NSTEPS = 15\n",
    "max_evals = 100\n",
    "step_max = 1\n",
    "Z_optimal = []\n",
    "# add in initial values for plotting\n",
    "off_diagonal_norm_history = [dbi.off_diagonal_norm]\n",
    "steps = [0]\n",
    "scheduling = DoubleBracketScheduling.use_hyperopt\n",
    "for _ in range(NSTEPS):\n",
    "    dbi, idx, step, flip_sign = select_best_dbr_generator(dbi, Z_ops, scheduling=scheduling, compare_canonical=False, max_evals=max_evals, step_max=step_max)\n",
    "    off_diagonal_norm_history.append(dbi.off_diagonal_norm)\n",
    "    steps.append(steps[-1]+step)\n",
    "    if flip_sign < 0:\n",
    "        Z_optimal.append('-' + Z_names[idx])\n",
    "    else:\n",
    "        Z_optimal.append(Z_names[idx])\n",
    "    print(f\"New optimized step at iteration {_+1}/{NSTEPS}: {step} with operator {Z_optimal[-1]}, loss {dbi.off_diagonal_norm}\")"
   ]
  },
  {
   "cell_type": "code",
   "execution_count": null,
   "metadata": {},
   "outputs": [],
   "source": [
    "plot_histories(off_diagonal_norm_history, steps, Z_optimal)"
   ]
  },
  {
   "cell_type": "markdown",
   "metadata": {},
   "source": [
    "It is worth noting that due to the nature of `hyperopt`, the iterations may be unstable and multiple runs may be required for the optimal result (alternatively, we can perform a grid search on the optimal step). Hence, it is sometimes needed to adjust its parameters including the following:\n",
    "\n",
    "- step_min\n",
    "- step_max\n",
    "- max_evals"
   ]
  },
  {
   "cell_type": "markdown",
   "metadata": {},
   "source": [
    "### Compare with canonical\n",
    "\n",
    "We compare the effectiveness at diagonalzation between the Pauli-Z operators and the canonical generator:\n",
    "\n",
    "$$ d = [H,\\sigma(H)]$$"
   ]
  },
  {
   "cell_type": "code",
   "execution_count": null,
   "metadata": {},
   "outputs": [],
   "source": [
    "# set the qibo backend (we suggest qibojit if N >= 20)\n",
    "# alternatives: tensorflow (not optimized), numpy (when CPU not supported by jit)\n",
    "set_backend(\"qibojit\", \"numba\")\n",
    "\n",
    "\n",
    "# initialize class|\n",
    "# Note: use deepcopy to prevent h being edited\n",
    "dbi_canonical = DoubleBracketIteration(deepcopy(H_TFIM),mode=DoubleBracketGeneratorType.canonical)\n",
    "print(\"Initial off diagonal norm\", dbi_canonical.off_diagonal_norm)"
   ]
  },
  {
   "cell_type": "code",
   "execution_count": null,
   "metadata": {},
   "outputs": [],
   "source": [
    "off_diagonal_norm_history_canonical = [dbi_canonical.off_diagonal_norm]\n",
    "steps_canonical = [0]\n",
    "steps_canonical_plot = [0]\n",
    "for s in range(NSTEPS):\n",
    "    # same settings as iteration from list\n",
    "    step = dbi_canonical.hyperopt_step(\n",
    "        step_min = 1e-5,\n",
    "        step_max = 1,\n",
    "        space = hp.uniform,\n",
    "        optimizer = tpe,\n",
    "    )\n",
    "    dbi_canonical(step=step)\n",
    "    print(f\"New optimized step at iteration {s+1}/{NSTEPS}: {step}, loss {dbi_canonical.off_diagonal_norm}\")\n",
    "    off_diagonal_norm_history_canonical.append(dbi_canonical.off_diagonal_norm)\n",
    "    steps_canonical.append(step)\n",
    "    steps_canonical_plot.append(steps_canonical_plot[-1]+step)"
   ]
  },
  {
   "cell_type": "code",
   "execution_count": null,
   "metadata": {},
   "outputs": [],
   "source": [
    "plt.figure()\n",
    "# plt.plot(steps, off_diagonal_norm_history, label=\"Pauli-Z\")\n",
    "# plt.plot(steps_canonical, off_diagonal_norm_history_canonical, label=\"Canonical\")\n",
    "plt.plot(off_diagonal_norm_history, label=\"Pauli-Z\")\n",
    "plt.plot(off_diagonal_norm_history_canonical, label=\"Canonical\")\n",
    "plt.xlabel(\"Iterations\")\n",
    "plt.ylabel(\"Norm off-diagonal restriction\")\n",
    "plt.title(\"Compare Variational Pauli-Z with Canonical\")\n",
    "plt.legend()"
   ]
  },
  {
   "cell_type": "code",
   "execution_count": null,
   "metadata": {},
   "outputs": [],
   "source": [
    "print(off_diagonal_norm_history)\n",
    "print(off_diagonal_norm_history_canonical)"
   ]
  },
  {
   "cell_type": "markdown",
   "metadata": {},
   "source": [
    "Here, we make 2 observations:\n",
    "\n",
    "1. The canonical strategy has a steeper decrease at the beginning than Pauli-Z operators.\n",
    "2. However, the canonical strategy is also prone to getting stuck at a local minimum and hence resultting in a lesser degree of diagonalization.\n",
    "\n",
    "Therefore, we explore the possibility of mixing the two strategies by including the canonical generator in the list."
   ]
  },
  {
   "cell_type": "markdown",
   "metadata": {},
   "source": [
    "## Mixed strategy: optimal at each step"
   ]
  },
  {
   "cell_type": "code",
   "execution_count": null,
   "metadata": {},
   "outputs": [],
   "source": [
    "dbi_mixed = DoubleBracketIteration(deepcopy(H_TFIM),mode=DoubleBracketGeneratorType.single_commutator)\n",
    "print(\"Initial off diagonal norm\", dbi_mixed.off_diagonal_norm)"
   ]
  },
  {
   "cell_type": "code",
   "execution_count": null,
   "metadata": {},
   "outputs": [],
   "source": [
    "dbi_eval = deepcopy(dbi_mixed)\n",
    "dbi_eval.mode = DoubleBracketGeneratorType.canonical\n",
    "if step is None:\n",
    "    step = dbi_eval.hyperopt_step(\n",
    "        step_max=step_max,\n",
    "        space=hp.uniform,\n",
    "        optimizer=tpe,\n",
    "        max_evals=max_evals,\n",
    "    )\n",
    "dbi_eval(step=step)\n",
    "print('canonical norm', dbi_eval.off_diagonal_norm, 'step', step)"
   ]
  },
  {
   "cell_type": "code",
   "execution_count": null,
   "metadata": {},
   "outputs": [],
   "source": [
    "Z_optimal_mixed = []\n",
    "# add in initial values for plotting\n",
    "off_diagonal_norm_history_mixed = [dbi_mixed.off_diagonal_norm]\n",
    "steps = [0]\n",
    "for _ in range(NSTEPS):\n",
    "    dbi_mixed, idx, step, flip_sign = select_best_dbr_generator(dbi_mixed, Z_ops, scheduling=scheduling, compare_canonical=True, max_evals=max_evals, step_max=step_max)\n",
    "    off_diagonal_norm_history_mixed.append(dbi_mixed.off_diagonal_norm)\n",
    "    steps.append(steps[-1]+step)\n",
    "    if idx == len(Z_ops):\n",
    "        Z_optimal_mixed.append('Canonical')\n",
    "    elif flip_sign < 0:\n",
    "        Z_optimal_mixed.append('-' + Z_names[idx])\n",
    "    else:\n",
    "        Z_optimal_mixed.append(Z_names[idx])\n",
    "    print(f\"New optimized step at iteration {_+1}/{NSTEPS}: {step} with operator {Z_optimal_mixed[-1]}, loss {dbi_mixed.off_diagonal_norm}\")"
   ]
  },
  {
   "cell_type": "code",
   "execution_count": null,
   "metadata": {},
   "outputs": [],
   "source": [
    "plt.figure()\n",
    "# plt.plot(steps, off_diagonal_norm_history, label=\"Pauli-Z\")\n",
    "# plt.plot(steps_canonical, off_diagonal_norm_history_canonical, label=\"Canonical\")\n",
    "plt.plot(off_diagonal_norm_history, label=\"Pauli-Z\")\n",
    "plt.plot(off_diagonal_norm_history_canonical, label=\"Canonical\")\n",
    "plt.plot(off_diagonal_norm_history_mixed, label=\"Mixed\")\n",
    "plt.xlabel(\"Iterations\")\n",
    "plt.ylabel(\"Norm off-diagonal restriction\")\n",
    "plt.title(\"Compare Variational Pauli-Z with Canonical\")\n",
    "plt.legend()"
   ]
  },
  {
   "cell_type": "markdown",
   "metadata": {},
   "source": [
    "After a few tests, we realize that the mixed strategy does not always outperform just using Pauli-Z operators. This could be caused by 2 reasons: \n",
    "\n",
    "1. Unstability of hyperopt\n",
    "2. Tendency of canonical operator to get stuck at a near local minimum"
   ]
  },
  {
   "cell_type": "markdown",
   "metadata": {},
   "source": [
    "## Mixed strategy: initial canonical\n",
    "\n",
    "Since the canonical double bracket iteration performs better at the initial steps, we attempt to combine the two strategies: iterate a few steps using the canonical bracket before switching to the variational Z-operators."
   ]
  },
  {
   "cell_type": "code",
   "execution_count": null,
   "metadata": {},
   "outputs": [],
   "source": [
    "dbi_mixed_can= DoubleBracketIteration(deepcopy(H_TFIM),mode=DoubleBracketGeneratorType.canonical)\n",
    "print(\"Initial off diagonal norm\", dbi_mixed_can.off_diagonal_norm)"
   ]
  },
  {
   "cell_type": "code",
   "execution_count": null,
   "metadata": {},
   "outputs": [],
   "source": [
    "# Run the initial iterations using canonical iterations\n",
    "off_diagonal_norm_history_mixed_can = [dbi_mixed_can.off_diagonal_norm]\n",
    "steps_mixed_can = [0]\n",
    "cannonical_NSTEPS = 2\n",
    "for i in range(cannonical_NSTEPS):\n",
    "    step = steps_canonical[i+1]\n",
    "    dbi_mixed_can(step=step)\n",
    "    off_diagonal_norm_history_mixed_can.append(dbi_mixed_can.off_diagonal_norm)\n",
    "    steps_mixed_can.append(step)\n",
    "    \n",
    "print(\"After 2 steps, off diagonal norm:\", dbi_mixed_can.off_diagonal_norm)\n",
    "print(\"By comparison, the Pauli-Z:\", off_diagonal_norm_history[2])"
   ]
  },
  {
   "cell_type": "code",
   "execution_count": null,
   "metadata": {},
   "outputs": [],
   "source": [
    "# Continue the remaining steps with Pauli-Z operators\n",
    "Z_optimal_mixed_can = [\"Cannonical\" for _ in range(cannonical_NSTEPS)]\n",
    "remaining_NSTEPS = NSTEPS - cannonical_NSTEPS\n",
    "dbi_mixed_can.mode = DoubleBracketGeneratorType.single_commutator\n",
    "for _ in range(remaining_NSTEPS):\n",
    "    dbi_mixed_can, idx, step, flip_sign = select_best_dbr_generator(dbi_mixed_can, Z_ops, scheduling=scheduling, compare_canonical=False, max_evals=max_evals, step_max=step_max)\n",
    "    off_diagonal_norm_history_mixed_can.append(dbi_mixed_can.off_diagonal_norm)\n",
    "    steps_mixed_can.append(step)\n",
    "    if idx == len(Z_ops):\n",
    "        Z_optimal_mixed.append('Canonical')\n",
    "    elif flip_sign < 0:\n",
    "        Z_optimal_mixed.append('-' + Z_names[idx])\n",
    "    else:\n",
    "        Z_optimal_mixed.append(Z_names[idx])\n",
    "    print(f\"New optimized step at iteration {_+1}/{remaining_NSTEPS}: {step} with operator {Z_optimal_mixed_can[-1]}\")"
   ]
  },
  {
   "cell_type": "code",
   "execution_count": null,
   "metadata": {},
   "outputs": [],
   "source": [
    "plt.figure()\n",
    "# plt.plot(steps, off_diagonal_norm_history, label=\"Pauli-Z\")\n",
    "# plt.plot(steps_canonical, off_diagonal_norm_history_canonical, label=\"Canonical\")\n",
    "plt.plot(off_diagonal_norm_history, label=\"Pauli-Z\")\n",
    "plt.plot(off_diagonal_norm_history_canonical, label=\"Canonical\")\n",
    "plt.plot(off_diagonal_norm_history_mixed, label=\"Mixed: optimal steps\")\n",
    "plt.plot(off_diagonal_norm_history_mixed_can, label=\"Mixed: initial canonical\")\n",
    "plt.xlabel(\"Iterations\")\n",
    "plt.ylabel(\"Norm off-diagonal restriction\")\n",
    "plt.title(\"Compare Variational Pauli-Z with Canonical\")\n",
    "plt.legend()"
   ]
  },
  {
   "cell_type": "markdown",
   "metadata": {},
   "source": [
    "This example also shows that the canonical generator is more likely to drive the model into a local minimum than variationally assigned diagonal operator, and that it is hard to get it unstuck even with the Pauli-Z operators."
   ]
  }
 ],
 "metadata": {
  "kernelspec": {
   "display_name": "Python 3 (ipykernel)",
   "language": "python",
   "name": "python3"
  },
  "language_info": {
   "codemirror_mode": {
    "name": "ipython",
    "version": 3
   },
   "file_extension": ".py",
   "mimetype": "text/x-python",
   "name": "python",
   "nbconvert_exporter": "python",
   "pygments_lexer": "ipython3",
   "version": "3.11.7"
  }
 },
 "nbformat": 4,
 "nbformat_minor": 2
}
