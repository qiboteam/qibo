{
 "cells": [
  {
   "cell_type": "markdown",
   "id": "2dae9ffe",
   "metadata": {},
   "source": [
    "## This compares to DoubleBracketIteration whenever possible\n",
    "\n",
    "Note that we are not using the reduced group commutator so just 4 steps of the iteration using circuit representations uses quite a lot of time (several seconds)"
   ]
  },
  {
   "cell_type": "code",
   "execution_count": 1,
   "id": "b161521d",
   "metadata": {},
   "outputs": [
    {
     "name": "stderr",
     "output_type": "stream",
     "text": [
      "[Qibo 0.2.7|INFO|2024-04-30 09:44:18]: Using numpy backend on /CPU:0\n"
     ]
    }
   ],
   "source": [
    "import inspect\n",
    "import sys\n",
    "sys.path.append(\"../../tests\")\n",
    "from test_models_dbi import *\n",
    "def print_function_source_code( func ):\n",
    "    out = inspect.getsourcelines(func)  \n",
    "    from functools import reduce\n",
    "    print(reduce(str.__add__, out[0]))\n",
    "import qibo\n",
    "backend = qibo.backends.construct_backend(\"numpy\")\n",
    "qibo.set_backend(\"numpy\")\n",
    "nqubits = 3"
   ]
  },
  {
   "cell_type": "code",
   "execution_count": 2,
   "id": "d8eac22c",
   "metadata": {},
   "outputs": [
    {
     "name": "stderr",
     "output_type": "stream",
     "text": [
      "[Qibo 0.2.7|WARNING|2024-04-30 09:44:18]: Calculating the dense form of a symbolic Hamiltonian. This operation is memory inefficient.\n",
      "[Qibo 0.2.7|WARNING|2024-04-30 09:44:18]: Calculating the dense form of a symbolic Hamiltonian. This operation is memory inefficient.\n"
     ]
    }
   ],
   "source": [
    "r=0.1\n",
    "mode_evolution_oracle = EvolutionOracleType.hamiltonian_simulation\n",
    "h_x = SymbolicHamiltonian(\n",
    "        symbols.X(0)\n",
    "    + symbols.Z(0) * symbols.X(1)\n",
    "    + symbols.Y(2)\n",
    "    + symbols.Y(1) * symbols.Y(2),\n",
    "nqubits=3,\n",
    ")\n",
    "d_0 = SymbolicHamiltonian(symbols.Z(0), nqubits=3)\n",
    "h_input = h_x + d_0\n",
    "\n",
    "dbi = DoubleBracketIteration(deepcopy(h_input.dense))\n",
    "\n",
    "evolution_oracle = EvolutionOracle(h_input, \"ZX\", mode_evolution_oracle)   \n",
    "gci = GroupCommutatorIterationWithEvolutionOracles( deepcopy(evolution_oracle ))\n",
    "\n",
    "evolution_oracle_diagonal_target =  EvolutionOracle(d_0, \"D0\",\n",
    "   mode_evolution_oracle)\n",
    "\n",
    "from numpy.linalg import norm\n",
    "\n",
    "for _ in range(4):\n",
    "    dbi(r, d = d_0.dense.matrix, mode = DoubleBracketGeneratorType.group_commutator )\n",
    "    gci(r, diagonal_association= evolution_oracle_diagonal_target )\n",
    "\n",
    "k_r = dbi.h.matrix\n",
    "j_r = gci.h.matrix\n",
    "\n",
    "\n"
   ]
  },
  {
   "cell_type": "code",
   "execution_count": 3,
   "id": "cad5fe99",
   "metadata": {},
   "outputs": [],
   "source": [
    "u = gci.iterated_hamiltonian_evolution_oracle.get_composed_circuit()"
   ]
  },
  {
   "cell_type": "code",
   "execution_count": 4,
   "id": "1d8388e6",
   "metadata": {},
   "outputs": [
    {
     "ename": "AttributeError",
     "evalue": "'Circuit' object has no attribute 'conj'",
     "output_type": "error",
     "traceback": [
      "\u001b[0;31m---------------------------------------------------------------------------\u001b[0m",
      "\u001b[0;31mAttributeError\u001b[0m                            Traceback (most recent call last)",
      "\u001b[0;32m/tmp/ipykernel_143211/1837199151.py\u001b[0m in \u001b[0;36m<module>\u001b[0;34m\u001b[0m\n\u001b[1;32m      1\u001b[0m \u001b[0mh0\u001b[0m \u001b[0;34m=\u001b[0m \u001b[0mh_input\u001b[0m\u001b[0;34m.\u001b[0m\u001b[0mdense\u001b[0m\u001b[0;34m.\u001b[0m\u001b[0mmatrix\u001b[0m\u001b[0;34m\u001b[0m\u001b[0;34m\u001b[0m\u001b[0m\n\u001b[0;32m----> 2\u001b[0;31m \u001b[0mh_end\u001b[0m \u001b[0;34m=\u001b[0m \u001b[0mu\u001b[0m\u001b[0;34m.\u001b[0m\u001b[0mconj\u001b[0m\u001b[0;34m(\u001b[0m\u001b[0;34m)\u001b[0m\u001b[0;34m.\u001b[0m\u001b[0mT\u001b[0m \u001b[0;34m@\u001b[0m \u001b[0mh0\u001b[0m \u001b[0;34m@\u001b[0m \u001b[0mu\u001b[0m\u001b[0;34m\u001b[0m\u001b[0;34m\u001b[0m\u001b[0m\n\u001b[0m",
      "\u001b[0;31mAttributeError\u001b[0m: 'Circuit' object has no attribute 'conj'"
     ]
    }
   ],
   "source": [
    "h0 = h_input.dense.matrix\n",
    "h_end = u.conj().T @ h0 @ u"
   ]
  },
  {
   "cell_type": "code",
   "execution_count": null,
   "id": "fc364e18",
   "metadata": {},
   "outputs": [],
   "source": [
    "norm(h_end - dbi.h.matrix)"
   ]
  },
  {
   "cell_type": "code",
   "execution_count": null,
   "id": "14dbec14",
   "metadata": {},
   "outputs": [],
   "source": [
    "gci.input_hamiltonian_evolution_oracle.eps_trottersuzuki"
   ]
  },
  {
   "cell_type": "code",
   "execution_count": null,
   "id": "dfce7a1b",
   "metadata": {},
   "outputs": [],
   "source": [
    "norm(h_end - dbi.h.matrix)/gci.input_hamiltonian_evolution_oracle.eps_trottersuzuki"
   ]
  },
  {
   "cell_type": "markdown",
   "id": "e3459bcb",
   "metadata": {},
   "source": [
    "We conclude that this is fine. Feel free to change to the numerical mode where the error will start piling up merely from the floating point operations and will build up from the double digit precision."
   ]
  },
  {
   "cell_type": "code",
   "execution_count": null,
   "id": "3a9ea4c1",
   "metadata": {},
   "outputs": [],
   "source": []
  }
 ],
 "metadata": {
  "kernelspec": {
   "display_name": "Python 3 (ipykernel)",
   "language": "python",
   "name": "python3"
  },
  "language_info": {
   "codemirror_mode": {
    "name": "ipython",
    "version": 3
   },
   "file_extension": ".py",
   "mimetype": "text/x-python",
   "name": "python",
   "nbconvert_exporter": "python",
   "pygments_lexer": "ipython3",
   "version": "3.10.12"
  }
 },
 "nbformat": 4,
 "nbformat_minor": 5
}
