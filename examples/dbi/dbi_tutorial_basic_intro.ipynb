{
 "cells": [
  {
   "cell_type": "markdown",
   "id": "2a33581d",
   "metadata": {},
   "source": [
    "## Double-Bracket Iteration diagonalization algorithm\n",
    "\n",
    "In this example we present the `Qibo`'s implementation of the Double-Bracket Iteration (DBI) algorithm, which can be used to prepare the eigenstates of a quantum system. \n",
    "\n",
    "#### The initial setup\n",
    "\n",
    "At first we import some useful packages."
   ]
  },
  {
   "cell_type": "code",
   "execution_count": null,
   "id": "62d9723f",
   "metadata": {},
   "outputs": [],
   "source": [
    "# uncomment this line if seaborn is not installed\n",
    "# !python -m pip install seaborn"
   ]
  },
  {
   "cell_type": "code",
   "execution_count": null,
   "id": "b80b4738",
   "metadata": {},
   "outputs": [],
   "source": [
    "from copy import deepcopy\n",
    "\n",
    "import numpy as np\n",
    "import matplotlib.pyplot as plt\n",
    "import seaborn as sns\n",
    "\n",
    "from hyperopt import hp, tpe\n",
    "\n",
    "from qibo import hamiltonians, set_backend\n",
    "from qibo.models.dbi.double_bracket import DoubleBracketGeneratorType, DoubleBracketIteration, DoubleBracketScheduling"
   ]
  },
  {
   "cell_type": "markdown",
   "id": "a5e25f51",
   "metadata": {},
   "source": [
    "Here we define a simple plotting function useful to keep track of the diagonalization process."
   ]
  },
  {
   "cell_type": "code",
   "execution_count": null,
   "id": "933d9a00",
   "metadata": {},
   "outputs": [],
   "source": [
    "def visualize_matrix(matrix, title=\"\"):\n",
    "    \"\"\"Visualize hamiltonian in a heatmap form.\"\"\"\n",
    "    fig, ax = plt.subplots(figsize=(5,5))\n",
    "    ax.set_title(title)\n",
    "    try:\n",
    "        im = ax.imshow(np.absolute(matrix), cmap=\"inferno\")\n",
    "    except TypeError:\n",
    "        im = ax.imshow(np.absolute(matrix.get()), cmap=\"inferno\")\n",
    "    fig.colorbar(im, ax=ax)\n",
    "\n",
    "def visualize_drift(h0, h):\n",
    "    \"\"\"Visualize drift of the evolved hamiltonian w.r.t. h0.\"\"\"\n",
    "    fig, ax = plt.subplots(figsize=(5,5))\n",
    "    ax.set_title(r\"Drift: $|\\hat{H}_0 - \\hat{H}_{\\ell}|$\")\n",
    "    try:\n",
    "        im = ax.imshow(np.absolute(h0 - h), cmap=\"inferno\")\n",
    "    except TypeError:\n",
    "        im = ax.imshow(np.absolute((h0 - h).get()), cmap=\"inferno\")\n",
    "\n",
    "    fig.colorbar(im, ax=ax)\n",
    "\n",
    "def plot_histories(histories, labels):\n",
    "    \"\"\"Plot off-diagonal norm histories over a sequential evolution.\"\"\"\n",
    "    colors = sns.color_palette(\"inferno\", n_colors=len(histories)).as_hex()\n",
    "    plt.figure(figsize=(5,5*6/8))\n",
    "    for i, (h, l) in enumerate(zip(histories, labels)):\n",
    "        plt.plot(h, lw=2, color=colors[i], label=l, marker='.')\n",
    "    plt.legend()\n",
    "    plt.xlabel(\"Iterations\")\n",
    "    plt.ylabel(r\"$\\| \\sigma(\\hat{H}) \\|^2$\")\n",
    "    plt.title(\"Loss function histories\")\n",
    "    plt.grid(True)\n",
    "    plt.show()"
   ]
  },
  {
   "cell_type": "markdown",
   "id": "4efd4a97",
   "metadata": {},
   "source": [
    "We need to define a target hamiltonian which we aim to diagonalize. As an example, we consider the Transverse Field Ising Model (TFIM):\n",
    "$$ H_{\\rm TFIM} = - \\sum_{q=0}^{N}\\bigl( Z_i Z_{i+1} + h X_i \\bigr),$$\n",
    "which is already implemented in `Qibo`. For this tutorial we set $N=6$ and $h=3$."
   ]
  },
  {
   "cell_type": "code",
   "execution_count": null,
   "id": "7125940f",
   "metadata": {},
   "outputs": [],
   "source": [
    "# set the qibo backend (we suggest qibojit if N >= 20)\n",
    "set_backend(\"qibojit\", platform=\"numba\")\n",
    "\n",
    "# hamiltonian parameters\n",
    "nqubits = 5\n",
    "h = 3\n",
    "\n",
    "# define the hamiltonian\n",
    "h = hamiltonians.TFIM(nqubits=nqubits, h=h)\n",
    "\n",
    "# vosualize the matrix\n",
    "visualize_matrix(h.matrix, title=\"Target hamiltonian\")"
   ]
  },
  {
   "cell_type": "markdown",
   "id": "c2ca8392",
   "metadata": {},
   "source": [
    "#### The generator of the evolution\n",
    "\n",
    "The model is implemented following the procedure presented in [1], and the first practical step is to define the generator of the iteration $\\hat{\\mathcal{U}}_{\\ell}$, which executes one diagonalization step $$\\hat{H}_{\\ell} = \\hat{\\mathcal{U}}_{\\ell}^{\\dagger} \\hat{H} \\hat{\\mathcal{U}}_{\\ell}.$$\n",
    "In `Qibo`, we define the iteration type through a `DoubleBracketGeneratorType` object, which can be chosen between one of the following:\n",
    "- `canonical`: the generator of the iteration at step $k+1$ is defined using the commutator between the off diagonal part $\\sigma(\\hat{H_k})$ and the diagonal part $\\Delta(\\hat{H}_k)$ of the target evolved hamiltonian:\n",
    "  $$\\hat{\\mathcal{U}}_{k+1}=\\exp\\bigl\\{s[\\Delta(\\hat{H}_k), \\sigma(\\hat{H}_k)]\\bigr\\}.$$ \n",
    "- `single_commutator`: the evolution follows a similar procedure of the previous point in this list, but any additional matrix $D_k$ can be used to control the evolution at each step:\n",
    "    $$ \\hat{\\mathcal{U}}_{k+1}=\\exp\\bigl\\{s[D_k, \\hat{H}_k]\\bigr\\}. $$\n",
    "- `group_commutator`: the following group commutator is used to compute the evolution:\n",
    "  $$  \\hat{\\mathcal{U}}_{k+1}= e^{is\\hat{H_k}} e^{isD_k} e^{-is\\hat{H_k}} e^{-isD_k}, $$\n",
    "which approximates the canonical commutator for small $s$.\n",
    "\n",
    "In order to set one of this evolution generators one can do as follow:"
   ]
  },
  {
   "cell_type": "code",
   "execution_count": null,
   "id": "1adafc19",
   "metadata": {},
   "outputs": [],
   "source": [
    "# we have a look inside the DoubleBracketGeneratorType class\n",
    "for generator in DoubleBracketGeneratorType:\n",
    "    print(generator)"
   ]
  },
  {
   "cell_type": "code",
   "execution_count": null,
   "id": "8a4d0e9d",
   "metadata": {},
   "outputs": [],
   "source": [
    "# here we set the canonical generator\n",
    "iterationtype = DoubleBracketGeneratorType.canonical"
   ]
  },
  {
   "cell_type": "markdown",
   "id": "a5527622",
   "metadata": {},
   "source": [
    "#### The `DoubleBracketIteration` class\n",
    "\n",
    "A `DoubleBracketIteration` object can be initialize by calling the `qibo.models.double_braket.DoubleBracketIteration` model and passing the target hamiltonian and the generator type we want to use to perform the evolutionary steps."
   ]
  },
  {
   "cell_type": "code",
   "execution_count": null,
   "id": "9521c464",
   "metadata": {},
   "outputs": [],
   "source": [
    "dbf = DoubleBracketIteration(hamiltonian=deepcopy(h), mode=iterationtype)"
   ]
  },
  {
   "cell_type": "markdown",
   "id": "a262c69f",
   "metadata": {},
   "source": [
    "#### `DoubleBracketIteration` features"
   ]
  },
  {
   "cell_type": "code",
   "execution_count": null,
   "id": "290e5828",
   "metadata": {},
   "outputs": [],
   "source": [
    "# on which qibo backend am I running the algorithm?\n",
    "print(f\"Backend: {dbf.backend}\")"
   ]
  },
  {
   "cell_type": "code",
   "execution_count": null,
   "id": "3e2b9950",
   "metadata": {},
   "outputs": [],
   "source": [
    "# the initial target hamiltonian is a qibo hamiltonian\n",
    "# thus the matrix can be accessed typing h.matrix\n",
    "print(f\"Initial form of the target hamiltonian:\\n{dbf.h0.matrix}\")"
   ]
  },
  {
   "cell_type": "code",
   "execution_count": null,
   "id": "638ba4b5",
   "metadata": {},
   "outputs": [],
   "source": [
    "# let's visualize it in a more graphical way\n",
    "visualize_matrix(dbf.h0.matrix, r\"$H_0$\")"
   ]
  },
  {
   "cell_type": "code",
   "execution_count": null,
   "id": "08f0c466",
   "metadata": {},
   "outputs": [],
   "source": [
    "# since we didn't perform yet any evolutionary step they are the same\n",
    "visualize_drift(dbf.h0.matrix, dbf.h.matrix)"
   ]
  },
  {
   "cell_type": "markdown",
   "id": "bb5f10da",
   "metadata": {},
   "source": [
    "which shows $\\hat{H}$ is now identical to $\\hat{H}_0$ since no evolution step has been performed yet."
   ]
  },
  {
   "cell_type": "code",
   "execution_count": null,
   "id": "90e6fdff",
   "metadata": {},
   "outputs": [],
   "source": [
    "# diagonal part of the H target\n",
    "visualize_matrix(dbf.diagonal_h_matrix)"
   ]
  },
  {
   "cell_type": "markdown",
   "id": "a0101ae0",
   "metadata": {},
   "source": [
    "The Hilbert-Schmidt norm of a Hamiltonian is defined as:\n",
    "\n",
    "$\\lang A\\rang_{HS}=\\sqrt{A^\\dagger A}$"
   ]
  },
  {
   "cell_type": "code",
   "execution_count": null,
   "id": "0d90c8b5",
   "metadata": {},
   "outputs": [],
   "source": [
    "# Hilbert-Schmidt norm of the off-diagonal part\n",
    "# which we want to bring to be close to zero\n",
    "print(f\"HS norm of the off diagonal part of H: {dbf.off_diagonal_norm}\")"
   ]
  },
  {
   "cell_type": "markdown",
   "id": "a1d1eb77",
   "metadata": {},
   "source": [
    "Finally, the energy fluctuation of the system at step $k$ over a given state $\\mu$\n",
    "\n",
    "$$ \\Xi(\\mu) = \\sqrt{\\langle \\mu | \\hat{H}_k^2 | \\mu \\rangle - \\langle \\mu | \\hat{H}_k | \\mu \\rangle^2} $$\n",
    "\n",
    "can be computed:"
   ]
  },
  {
   "cell_type": "code",
   "execution_count": null,
   "id": "13710cc2",
   "metadata": {},
   "outputs": [],
   "source": [
    "# define a quantum state\n",
    "# for example the ground state of a multi-qubit Z hamiltonian\n",
    "Z = hamiltonians.Z(nqubits=nqubits)\n",
    "state = Z.ground_state()\n",
    "\n",
    "# compute energy fluctuations using current H and given state\n",
    "dbf.energy_fluctuation(state)"
   ]
  },
  {
   "cell_type": "markdown",
   "id": "4d34e1e3",
   "metadata": {},
   "source": [
    "#### Call the `DoubleBracketIteration` to perform a DBF iteration\n",
    "\n",
    "If the DBF object is called, a Double Bracket Iteration iteration is performed. This can be done customizing the iteration by setting the iteration step and the desired `DoubleBracketGeneratorType`. If no generator is provided, the one passed at the initialization time is used (default is `DoubleBracketGeneratorType.canonical`)."
   ]
  },
  {
   "cell_type": "code",
   "execution_count": null,
   "id": "a7749a96",
   "metadata": {},
   "outputs": [],
   "source": [
    "# perform one evolution step\n",
    "\n",
    "# initial value of the off-diagonal norm\n",
    "print(f\"Initial value of the off-diagonal norm: {dbf.off_diagonal_norm}\")\n",
    "\n",
    "dbf(step=0.01, mode=iterationtype)\n",
    "\n",
    "# after one step\n",
    "print(f\"One step later off-diagonal norm: {dbf.off_diagonal_norm}\")"
   ]
  },
  {
   "cell_type": "markdown",
   "id": "dab441bb",
   "metadata": {},
   "source": [
    "We can check now if something happened by plotting the drift:"
   ]
  },
  {
   "cell_type": "code",
   "execution_count": null,
   "id": "fc01baa4",
   "metadata": {},
   "outputs": [],
   "source": [
    "visualize_drift(dbf.h0.matrix, dbf.h.matrix)"
   ]
  },
  {
   "cell_type": "markdown",
   "id": "9223433b",
   "metadata": {},
   "source": [
    "The set step can be good, but maybe not the best one. In order to do this choice in a wiser way, we can call the DBF hyperoptimization routine to search for a better initial step. The `dbf.hyperopt_step` method is built on top of the [`hyperopt`](https://hyperopt.github.io/hyperopt/) package. Any algorithm or sampling space provided by the official package can be used. We are going to use the default options (we sample new steps from a uniform space following a _Tree of Parzen estimators algorithm_)."
   ]
  },
  {
   "cell_type": "code",
   "execution_count": null,
   "id": "0d7b86d3",
   "metadata": {},
   "outputs": [],
   "source": [
    "# restart\n",
    "dbf.h = dbf.h0\n",
    "\n",
    "# optimization of the step, we allow to search in [1e-5, 1]\n",
    "step = dbf.choose_step(\n",
    "    scheduling=DoubleBracketScheduling.hyperopt,\n",
    "    step_min = 1e-5,\n",
    "    step_max = 1,\n",
    "    space = hp.uniform,\n",
    "    optimizer = tpe,\n",
    "    max_evals = 1000,\n",
    ")"
   ]
  },
  {
   "cell_type": "code",
   "execution_count": null,
   "id": "1b9b1431",
   "metadata": {},
   "outputs": [],
   "source": [
    "visualize_matrix(dbf.h.matrix)"
   ]
  },
  {
   "cell_type": "code",
   "execution_count": null,
   "id": "52fa3599",
   "metadata": {},
   "outputs": [],
   "source": [
    "visualize_drift(dbf.h0.matrix, dbf.h.matrix)"
   ]
  },
  {
   "cell_type": "markdown",
   "id": "084c3bcb",
   "metadata": {},
   "source": [
    "#### Let's evolve the model for `NSTEPS`\n",
    "\n",
    "We know recover the initial hamiltonian, and we perform a sequence of DBF iteration steps, in order to show how this mechanism can lead to a proper diagonalization of the target hamiltonian.\n",
    "\n",
    "#### Method 1: fixed step"
   ]
  },
  {
   "cell_type": "code",
   "execution_count": null,
   "id": "d1f197b1",
   "metadata": {},
   "outputs": [],
   "source": [
    "# restart\n",
    "dbf_1 = DoubleBracketIteration(hamiltonian=deepcopy(h), mode=iterationtype)\n",
    "off_diagonal_norm_history = [dbf_1.off_diagonal_norm]\n",
    "histories, labels = [], [\"Fixed step\"]\n",
    "\n",
    "# set the number of evolution steps\n",
    "NSTEPS = 20\n",
    "step = 0.005\n",
    "\n",
    "for s in range(NSTEPS):\n",
    "    dbf_1(step=step)\n",
    "    off_diagonal_norm_history.append(dbf_1.off_diagonal_norm)\n",
    "\n",
    "histories.append(off_diagonal_norm_history)"
   ]
  },
  {
   "cell_type": "code",
   "execution_count": null,
   "id": "c115c222",
   "metadata": {},
   "outputs": [],
   "source": [
    "plot_histories(histories, labels)"
   ]
  },
  {
   "cell_type": "markdown",
   "id": "233ba431",
   "metadata": {},
   "source": [
    "#### Method 2: optimizing the step"
   ]
  },
  {
   "cell_type": "code",
   "execution_count": null,
   "id": "4e0fc1c2",
   "metadata": {},
   "outputs": [],
   "source": [
    "# restart\n",
    "dbf_2 = DoubleBracketIteration(hamiltonian=deepcopy(h), mode=iterationtype, scheduling=DoubleBracketScheduling.hyperopt)\n",
    "off_diagonal_norm_history = [dbf_2.off_diagonal_norm]\n",
    "\n",
    "# set the number of evolution steps\n",
    "NSTEPS = 20\n",
    "\n",
    "# optimize first step\n",
    "step = dbf_2.choose_step(\n",
    "    step_min = 1e-5,\n",
    "    step_max = 1,\n",
    "    space = hp.uniform,\n",
    "    optimizer = tpe,\n",
    "    max_evals = 500,\n",
    ")\n",
    "\n",
    "for s in range(NSTEPS):\n",
    "    if s != 0:\n",
    "        step = dbf_2.choose_step(\n",
    "            step_min = 1e-5,\n",
    "            step_max = 1,\n",
    "            space = hp.uniform,\n",
    "            optimizer = tpe,\n",
    "            max_evals = 100,\n",
    "        )\n",
    "        print(f\"New optimized step at iteration {s}/{NSTEPS}: {step}\")\n",
    "    dbf_2(step=step)\n",
    "    off_diagonal_norm_history.append(dbf_2.off_diagonal_norm)\n",
    "\n",
    "histories.append(off_diagonal_norm_history)\n",
    "labels.append(\"Optimizing step\")"
   ]
  },
  {
   "cell_type": "code",
   "execution_count": null,
   "id": "40e31e97",
   "metadata": {},
   "outputs": [],
   "source": [
    "plot_histories(histories, labels)"
   ]
  },
  {
   "cell_type": "markdown",
   "id": "0de78acd",
   "metadata": {},
   "source": [
    "The hyperoptimization can lead to a faster convergence of the algorithm."
   ]
  },
  {
   "cell_type": "code",
   "execution_count": null,
   "id": "baab0ab5",
   "metadata": {},
   "outputs": [],
   "source": [
    "visualize_matrix(dbf_1.h.matrix)"
   ]
  },
  {
   "cell_type": "code",
   "execution_count": null,
   "id": "2bc9ac69",
   "metadata": {},
   "outputs": [],
   "source": [
    "visualize_matrix(dbf_2.h.matrix)"
   ]
  },
  {
   "cell_type": "code",
   "execution_count": null,
   "id": "0bed191d",
   "metadata": {},
   "outputs": [],
   "source": []
  }
 ],
 "metadata": {},
 "nbformat": 4,
 "nbformat_minor": 5
}
