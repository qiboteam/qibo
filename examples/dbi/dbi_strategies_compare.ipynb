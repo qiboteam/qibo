{
 "cells": [
  {
   "cell_type": "markdown",
   "metadata": {},
   "source": [
    "# DBI strategies comparison\n",
    "\n",
    "This notebook is a comparison of the so-far developed diagonalization strategies for DBI, including the canonical, Pauli-Z, and magnetic field strategies. On top of these, we also show case the use of invariant DBI generators such as 'BHMM'."
   ]
  },
  {
   "cell_type": "code",
   "execution_count": null,
   "metadata": {},
   "outputs": [],
   "source": [
    "\n",
    "from copy import deepcopy\n",
    "\n",
    "import numpy as np\n",
    "import matplotlib.pyplot as plt\n",
    "\n",
    "from qibo import hamiltonians, set_backend\n",
    "from qibo.hamiltonians import Hamiltonian, SymbolicHamiltonian\n",
    "from qibo.quantum_info import random_hermitian\n",
    "from qibo.models.dbi.double_bracket import DoubleBracketGeneratorType, DoubleBracketScheduling, DoubleBracketIteration, DoubleBracketCostFunction\n",
    "from qibo.models.dbi.utils import *\n",
    "from qibo.models.dbi.utils_scheduling import *\n",
    "from qibo.models.dbi.utils_strategies import *"
   ]
  },
  {
   "cell_type": "code",
   "execution_count": null,
   "metadata": {},
   "outputs": [],
   "source": [
    "def visualize_matrix(matrix, title=\"\"):\n",
    "    \"\"\"Visualize hamiltonian in a heatmap form.\"\"\"\n",
    "    fig, ax = plt.subplots(figsize=(5,5))\n",
    "    ax.set_title(title)\n",
    "    try:\n",
    "        im = ax.imshow(np.absolute(matrix), cmap=\"inferno\")\n",
    "    except TypeError:\n",
    "        im = ax.imshow(np.absolute(matrix.get()), cmap=\"inferno\")\n",
    "    fig.colorbar(im, ax=ax)\n"
   ]
  },
  {
   "cell_type": "markdown",
   "metadata": {},
   "source": [
    "## Test on random Hamiltonian\n"
   ]
  },
  {
   "cell_type": "code",
   "execution_count": null,
   "metadata": {},
   "outputs": [],
   "source": [
    "# backend\n",
    "set_backend(\"qibojit\", platform=\"numba\")\n",
    "# initialize dbi object\n",
    "nqubits = 5\n",
    "h0 = random_hermitian(2**nqubits, seed=2)\n",
    "dbi = DoubleBracketIteration(Hamiltonian(nqubits=nqubits, matrix=h0))\n",
    "cost = DoubleBracketCostFunction.off_diagonal_norm\n",
    "print(\"Initial loss\", dbi.least_squares(d=dbi.diagonal_h_matrix))\n",
    "visualize_matrix(dbi.h.matrix, title=f'Random hamiltonian with L={nqubits}')"
   ]
  },
  {
   "cell_type": "code",
   "execution_count": null,
   "metadata": {},
   "outputs": [],
   "source": [
    "# iterations steps\n",
    "NSTEPS = 15\n",
    "# choose polynomial scheduling\n",
    "scheduling = DoubleBracketScheduling.simulated_annealing"
   ]
  },
  {
   "cell_type": "markdown",
   "metadata": {},
   "source": [
    "### Canonical"
   ]
  },
  {
   "cell_type": "code",
   "execution_count": null,
   "metadata": {},
   "outputs": [],
   "source": [
    "# initialize DBI class for the canonical case\n",
    "dbi_canonical = DoubleBracketIteration(Hamiltonian(nqubits=nqubits, matrix=h0), mode=DoubleBracketGeneratorType.canonical, scheduling=scheduling, cost=cost)"
   ]
  },
  {
   "cell_type": "code",
   "execution_count": null,
   "metadata": {},
   "outputs": [],
   "source": [
    "# Canonical\n",
    "loss_history_canonical = [dbi_canonical.off_diagonal_norm]\n",
    "steps_canonical_plot = [0]\n",
    "for s in range(NSTEPS):\n",
    "    # same settings as iteration from list\n",
    "    d = dbi.diagonal_h_matrix\n",
    "    step = dbi_canonical.choose_step(d=d)\n",
    "    dbi_canonical(step=step)\n",
    "    print(f\"New optimized step at iteration {s+1}/{NSTEPS}: {step}, loss {dbi_canonical.off_diagonal_norm}\")\n",
    "    loss_history_canonical.append(dbi_canonical.off_diagonal_norm)\n",
    "    steps_canonical_plot.append(steps_canonical_plot[-1]+step)"
   ]
  },
  {
   "cell_type": "markdown",
   "metadata": {},
   "source": [
    "### Pauli-Z"
   ]
  },
  {
   "cell_type": "code",
   "execution_count": null,
   "metadata": {},
   "outputs": [],
   "source": [
    "# initialize DBI class for the Pauli-Z strategy\n",
    "set_backend(\"pytorch\", platform=\"numba\")\n",
    "dbi_pauli = DoubleBracketIteration(Hamiltonian(nqubits=nqubits, matrix=h0), mode=DoubleBracketGeneratorType.single_commutator, scheduling=scheduling, cost=cost)"
   ]
  },
  {
   "cell_type": "code",
   "execution_count": null,
   "metadata": {},
   "outputs": [],
   "source": [
    "generate_local_Z = generate_Z_operators(nqubits)\n",
    "Z_ops = list(generate_local_Z.values())\n",
    "Z_names = list(generate_local_Z.keys())\n",
    "Z_optimal = []\n",
    "# add in initial values for plotting\n",
    "loss_history_pauli = [dbi_pauli.off_diagonal_norm]\n",
    "steps_pauli_plot = [0]\n",
    "scheduling = DoubleBracketScheduling.simulated_annealing\n",
    "for _ in range(NSTEPS):\n",
    "    dbi_pauli, idx, step, flip_sign = select_best_dbr_generator(dbi_pauli, Z_ops, scheduling=scheduling, compare_canonical=False)\n",
    "    d = Z_ops[idx]\n",
    "    loss_history_pauli.append(dbi_pauli.off_diagonal_norm)\n",
    "    steps_pauli_plot.append(steps_pauli_plot[-1]+step)\n",
    "    if flip_sign < 0:\n",
    "        Z_optimal.append('-' + Z_names[idx])\n",
    "    else:\n",
    "        Z_optimal.append(Z_names[idx])\n",
    "    print(f\"New optimized step at iteration {_+1}/{NSTEPS}: {step} with operator {Z_optimal[-1]}, loss {dbi_pauli.off_diagonal_norm}\")"
   ]
  },
  {
   "cell_type": "markdown",
   "metadata": {},
   "source": [
    "### Magnetic field"
   ]
  },
  {
   "cell_type": "code",
   "execution_count": null,
   "metadata": {},
   "outputs": [],
   "source": [
    "# initialize DBI class for the canonical case\n",
    "dbi_gradient = DoubleBracketIteration(Hamiltonian(nqubits=nqubits, matrix=h0), mode=DoubleBracketGeneratorType.single_commutator, scheduling=scheduling, cost=cost)"
   ]
  },
  {
   "cell_type": "code",
   "execution_count": null,
   "metadata": {},
   "outputs": [],
   "source": [
    "pauli_operator_dict = generate_pauli_operator_dict(nqubits=nqubits, parameterization_order=2)\n",
    "d_coef = decompose_into_Pauli_basis(dbi.h.matrix, list(pauli_operator_dict.values()))\n",
    "d = sum([d_coef[i] * list(pauli_operator_dict.values())[i] for i in range(nqubits)])"
   ]
  },
  {
   "cell_type": "code",
   "execution_count": null,
   "metadata": {},
   "outputs": [],
   "source": [
    "loss_history_gradient = [dbi_gradient.off_diagonal_norm]\n",
    "steps_gradient_plot= [0]\n",
    "for _ in range(NSTEPS):\n",
    "    step, d_coef, d = gradient_descent_pauli(dbi_gradient, d_coef, d, pauli_operator_dict=pauli_operator_dict)\n",
    "    dbi_gradient(d=d,step=step)\n",
    "    loss_history_gradient.append(dbi_gradient.off_diagonal_norm)\n",
    "    print(f\"New optimized step at iteration {_+1}/{NSTEPS}: {step} with d_coef {d_coef}, loss {dbi_gradient.off_diagonal_norm}\")\n",
    "    steps_gradient_plot.append(steps_gradient_plot[-1]+step)"
   ]
  },
  {
   "cell_type": "code",
   "execution_count": null,
   "metadata": {},
   "outputs": [],
   "source": [
    "plt.title(str(nqubits) + ' random Hamiltonian diagonalization')\n",
    "plt.plot(loss_history_canonical, label='canonical')\n",
    "plt.plot(loss_history_pauli, label='Pauli-Z')\n",
    "plt.plot(loss_history_gradient, label='gradient')\n",
    "plt.legend()\n",
    "plt.xlabel('Iteration')\n",
    "plt.ylabel(r'$|| \\sigma(e^{sW}He^{-sW}) || $')"
   ]
  },
  {
   "cell_type": "code",
   "execution_count": null,
   "metadata": {},
   "outputs": [],
   "source": [
    "plt.title(str(nqubits) + ' random Hamiltonian diagonalization')\n",
    "plt.plot(steps_canonical_plot, loss_history_canonical, marker='o', label='canonical')\n",
    "plt.plot(steps_pauli_plot, loss_history_pauli, marker='o', label='Pauli-Z')\n",
    "plt.plot(steps_gradient_plot,loss_history_gradient, marker='o', label='gradient')\n",
    "plt.legend()\n",
    "plt.xlabel('Iteration')\n",
    "plt.ylabel(r'$|| \\sigma(e^{sW}He^{-sW}) || $')"
   ]
  },
  {
   "cell_type": "markdown",
   "metadata": {},
   "source": [
    "## Test on TFIM\n"
   ]
  },
  {
   "cell_type": "code",
   "execution_count": null,
   "metadata": {},
   "outputs": [],
   "source": [
    "# backend\n",
    "set_backend(\"qibojit\", platform=\"numba\")\n",
    "# initialize dbi object\n",
    "# hamiltonian parameters\n",
    "# define the hamiltonian\n",
    "nqubits = 5\n",
    "h = 1\n",
    "H_TFIM = SymbolicHamiltonian( - h*symbols.Z(nqubits-1), nqubits=nqubits)\n",
    "# add linear interaction terms\n",
    "for i in range(nqubits-1):\n",
    "    H_TFIM -= SymbolicHamiltonian(symbols.X(i)*symbols.X(i+1) + h*symbols.Z(i), nqubits=nqubits)\n",
    "H_TFIM = H_TFIM.dense\n",
    "\n",
    "# initialize class\n",
    "dbi = DoubleBracketIteration(deepcopy(H_TFIM),mode=DoubleBracketGeneratorType.canonical)\n",
    "print(\"Initial off diagonal norm\", dbi.off_diagonal_norm)\n",
    "visualize_matrix(dbi.h.matrix, title=f'Random hamiltonian with L={nqubits}')"
   ]
  },
  {
   "cell_type": "code",
   "execution_count": null,
   "metadata": {},
   "outputs": [],
   "source": [
    "# iterations steps\n",
    "NSTEPS = 15\n",
    "# choose polynomial scheduling\n",
    "scheduling = DoubleBracketScheduling.simulated_annealing"
   ]
  },
  {
   "cell_type": "markdown",
   "metadata": {},
   "source": [
    "### Canonical"
   ]
  },
  {
   "cell_type": "code",
   "execution_count": null,
   "metadata": {},
   "outputs": [],
   "source": [
    "# initialize DBI class for the canonical case\n",
    "dbi_canonical = DoubleBracketIteration(deepcopy(H_TFIM), mode=DoubleBracketGeneratorType.canonical, scheduling=scheduling)"
   ]
  },
  {
   "cell_type": "code",
   "execution_count": null,
   "metadata": {},
   "outputs": [],
   "source": [
    "# Canonical\n",
    "off_diagonal_norm_history_canonical = [dbi_canonical.off_diagonal_norm]\n",
    "steps_canonical_plot = [0]\n",
    "for s in range(NSTEPS):\n",
    "    # same settings as iteration from list\n",
    "    step = dbi_canonical.choose_step(d=dbi.diagonal_h_matrix)\n",
    "    dbi_canonical(step=step)\n",
    "    print(f\"New optimized step at iteration {s+1}/{NSTEPS}: {step}, loss {dbi_canonical.off_diagonal_norm}\")\n",
    "    off_diagonal_norm_history_canonical.append(dbi_canonical.off_diagonal_norm)\n",
    "    steps_canonical_plot.append(steps_canonical_plot[-1]+step)"
   ]
  },
  {
   "cell_type": "markdown",
   "metadata": {},
   "source": [
    "### Pauli-Z"
   ]
  },
  {
   "cell_type": "code",
   "execution_count": null,
   "metadata": {},
   "outputs": [],
   "source": [
    "# initialize DBI class for the Pauli-Z strategy\n",
    "dbi_pauli = DoubleBracketIteration(deepcopy(H_TFIM), mode=DoubleBracketGeneratorType.single_commutator, scheduling=scheduling)"
   ]
  },
  {
   "cell_type": "code",
   "execution_count": null,
   "metadata": {},
   "outputs": [],
   "source": [
    "generate_local_Z = generate_Z_operators(nqubits)\n",
    "Z_ops = list(generate_local_Z.values())\n",
    "Z_names = list(generate_local_Z.keys())\n",
    "Z_optimal = []\n",
    "# add in initial values for plotting\n",
    "off_diagonal_norm_history_pauli = [dbi_pauli.off_diagonal_norm]\n",
    "steps_pauli_plot = [0]\n",
    "scheduling = DoubleBracketScheduling.simulated_annealing\n",
    "for _ in range(NSTEPS):\n",
    "    dbi_pauli, idx, step, flip_sign = select_best_dbr_generator(dbi_pauli, Z_ops, scheduling=scheduling, compare_canonical=False)\n",
    "    off_diagonal_norm_history_pauli.append(dbi_pauli.off_diagonal_norm)\n",
    "    steps_pauli_plot.append(steps_pauli_plot[-1]+step)\n",
    "    if flip_sign < 0:\n",
    "        Z_optimal.append('-' + Z_names[idx])\n",
    "    else:\n",
    "        Z_optimal.append(Z_names[idx])\n",
    "    print(f\"New optimized step at iteration {_+1}/{NSTEPS}: {step} with operator {Z_optimal[-1]}, loss {dbi_pauli.off_diagonal_norm}\")"
   ]
  },
  {
   "cell_type": "markdown",
   "metadata": {},
   "source": [
    "### Magnetic field"
   ]
  },
  {
   "cell_type": "code",
   "execution_count": null,
   "metadata": {},
   "outputs": [],
   "source": [
    "# initialize DBI class for the canonical case\n",
    "dbi_gradient = DoubleBracketIteration(deepcopy(H_TFIM), mode=DoubleBracketGeneratorType.single_commutator, scheduling=scheduling)"
   ]
  },
  {
   "cell_type": "code",
   "execution_count": null,
   "metadata": {},
   "outputs": [],
   "source": [
    "pauli_operator_dict = generate_pauli_operator_dict(nqubits=nqubits, parameterization_order=2)\n",
    "d_coef = decompose_into_Pauli_basis(dbi.h.matrix, list(pauli_operator_dict.values()))\n",
    "d = sum([d_coef[i] * list(pauli_operator_dict.values())[i] for i in range(nqubits)])"
   ]
  },
  {
   "cell_type": "code",
   "execution_count": null,
   "metadata": {},
   "outputs": [],
   "source": [
    "initial_s = polynomial_step(dbi_object=dbi, d=d, n=4)\n",
    "print(initial_s)"
   ]
  },
  {
   "cell_type": "code",
   "execution_count": null,
   "metadata": {},
   "outputs": [],
   "source": [
    "off_diagonal_norm_history_gradient = [dbi_gradient.off_diagonal_norm]\n",
    "steps_gradient_plot= [0]\n",
    "for _ in range(NSTEPS):\n",
    "    step, d_coef, d = gradient_descent_pauli(dbi_gradient, d_coef, d, pauli_operator_dict=pauli_operator_dict)\n",
    "    dbi_gradient(d=d,step=step)\n",
    "    off_diagonal_norm_history_gradient.append(dbi_gradient.off_diagonal_norm)\n",
    "    print(f\"New optimized step at iteration {_+1}/{NSTEPS}: {step} with d_coef {d_coef}, loss {dbi_gradient.off_diagonal_norm}\")\n",
    "    steps_gradient_plot.append(steps_gradient_plot[-1]+step)"
   ]
  },
  {
   "cell_type": "code",
   "execution_count": null,
   "metadata": {},
   "outputs": [],
   "source": [
    "plt.title(str(nqubits) + ' random Hamiltonian diagonalization')\n",
    "plt.plot(off_diagonal_norm_history_canonical, label='canonical', marker='o')\n",
    "plt.plot(off_diagonal_norm_history_pauli, label='Pauli-Z', marker='o')\n",
    "plt.plot(off_diagonal_norm_history_gradient, label='gradient', marker='o')\n",
    "plt.legend()\n",
    "plt.xlabel('Iteration')\n",
    "plt.ylabel(r'$|| \\sigma(e^{sW}He^{-sW}) || $')"
   ]
  },
  {
   "cell_type": "code",
   "execution_count": null,
   "metadata": {},
   "outputs": [],
   "source": [
    "plt.title(str(nqubits) + ' random Hamiltonian diagonalization')\n",
    "plt.plot(steps_canonical_plot, off_diagonal_norm_history_canonical, marker='o', label='canonical')\n",
    "plt.plot(steps_pauli_plot, off_diagonal_norm_history_pauli, marker='o', label='Pauli-Z')\n",
    "plt.plot(steps_gradient_plot,off_diagonal_norm_history_gradient, marker='o', label='gradient')\n",
    "plt.legend()\n",
    "plt.xlabel('Duration')\n",
    "plt.ylabel(r'$|| \\sigma(e^{sW}He^{-sW}) || $')"
   ]
  }
 ],
 "metadata": {
  "kernelspec": {
   "display_name": "DBF_qibo",
   "language": "python",
   "name": "python3"
  },
  "language_info": {
   "codemirror_mode": {
    "name": "ipython",
    "version": 3
   },
   "file_extension": ".py",
   "mimetype": "text/x-python",
   "name": "python",
   "nbconvert_exporter": "python",
   "pygments_lexer": "ipython3",
   "version": "3.11.7"
  }
 },
 "nbformat": 4,
 "nbformat_minor": 2
}
